{
  "nbformat": 4,
  "nbformat_minor": 0,
  "metadata": {
    "colab": {
      "name": "Movie Lens 100K.ipynb",
      "provenance": [],
      "collapsed_sections": [],
      "include_colab_link": true
    },
    "kernelspec": {
      "display_name": "Python 3",
      "language": "python",
      "name": "python3"
    },
    "language_info": {
      "codemirror_mode": {
        "name": "ipython",
        "version": 3
      },
      "file_extension": ".py",
      "mimetype": "text/x-python",
      "name": "python",
      "nbconvert_exporter": "python",
      "pygments_lexer": "ipython3",
      "version": "3.7.0"
    }
  },
  "cells": [
    {
      "cell_type": "markdown",
      "metadata": {
        "id": "view-in-github",
        "colab_type": "text"
      },
      "source": [
        "<a href=\"https://colab.research.google.com/github/v1docq/ML-projects/blob/master/Movie_Lens_100K.ipynb\" target=\"_parent\"><img src=\"https://colab.research.google.com/assets/colab-badge.svg\" alt=\"Open In Colab\"/></a>"
      ]
    },
    {
      "cell_type": "code",
      "metadata": {
        "colab_type": "code",
        "id": "5K9Uj4cIwDuv",
        "colab": {}
      },
      "source": [
        "import pandas as pd\n",
        "import numpy as np\n",
        "import matplotlib.pyplot as plt"
      ],
      "execution_count": 0,
      "outputs": []
    },
    {
      "cell_type": "markdown",
      "metadata": {
        "colab_type": "text",
        "id": "oAoWD2_PwcMh"
      },
      "source": [
        "Task 1: Exploratory analysis (5 points).\n",
        "\n",
        "Perform EDA:\n",
        "- number of users\n",
        "- number of items\n",
        "- number of tags\n",
        "- number of ratings\n",
        "- summary statistics of number of ratings per user (mean, median, quantiles)\n",
        "- rating sparcity\n",
        "- summary statistics of number of tags per use"
      ]
    },
    {
      "cell_type": "markdown",
      "metadata": {
        "colab_type": "text",
        "id": "VBzSSxgG3RD4"
      },
      "source": [
        "### Загружаем датасеты"
      ]
    },
    {
      "cell_type": "code",
      "metadata": {
        "colab_type": "code",
        "id": "JnLOCi6LwGNp",
        "colab": {},
        "outputId": "4cc57f66-3088-432b-8cdb-4a79e06692c6"
      },
      "source": [
        "column_movies = ['movie_id', 'title', 'genres']\n",
        "movies = pd.read_csv(r'C:\\Users\\Илья\\Desktop\\ml-latest-small\\ml-latest-small\\movies.csv', engine = 'python', delimiter = ',', names = column_movies,\n",
        "                     header = 0)\n",
        "movies.head()\n"
      ],
      "execution_count": 0,
      "outputs": [
        {
          "output_type": "execute_result",
          "data": {
            "text/html": [
              "<div>\n",
              "<style scoped>\n",
              "    .dataframe tbody tr th:only-of-type {\n",
              "        vertical-align: middle;\n",
              "    }\n",
              "\n",
              "    .dataframe tbody tr th {\n",
              "        vertical-align: top;\n",
              "    }\n",
              "\n",
              "    .dataframe thead th {\n",
              "        text-align: right;\n",
              "    }\n",
              "</style>\n",
              "<table border=\"1\" class=\"dataframe\">\n",
              "  <thead>\n",
              "    <tr style=\"text-align: right;\">\n",
              "      <th></th>\n",
              "      <th>movie_id</th>\n",
              "      <th>title</th>\n",
              "      <th>genres</th>\n",
              "    </tr>\n",
              "  </thead>\n",
              "  <tbody>\n",
              "    <tr>\n",
              "      <th>0</th>\n",
              "      <td>1</td>\n",
              "      <td>Toy Story (1995)</td>\n",
              "      <td>Adventure|Animation|Children|Comedy|Fantasy</td>\n",
              "    </tr>\n",
              "    <tr>\n",
              "      <th>1</th>\n",
              "      <td>2</td>\n",
              "      <td>Jumanji (1995)</td>\n",
              "      <td>Adventure|Children|Fantasy</td>\n",
              "    </tr>\n",
              "    <tr>\n",
              "      <th>2</th>\n",
              "      <td>3</td>\n",
              "      <td>Grumpier Old Men (1995)</td>\n",
              "      <td>Comedy|Romance</td>\n",
              "    </tr>\n",
              "    <tr>\n",
              "      <th>3</th>\n",
              "      <td>4</td>\n",
              "      <td>Waiting to Exhale (1995)</td>\n",
              "      <td>Comedy|Drama|Romance</td>\n",
              "    </tr>\n",
              "    <tr>\n",
              "      <th>4</th>\n",
              "      <td>5</td>\n",
              "      <td>Father of the Bride Part II (1995)</td>\n",
              "      <td>Comedy</td>\n",
              "    </tr>\n",
              "  </tbody>\n",
              "</table>\n",
              "</div>"
            ],
            "text/plain": [
              "   movie_id                               title  \\\n",
              "0         1                    Toy Story (1995)   \n",
              "1         2                      Jumanji (1995)   \n",
              "2         3             Grumpier Old Men (1995)   \n",
              "3         4            Waiting to Exhale (1995)   \n",
              "4         5  Father of the Bride Part II (1995)   \n",
              "\n",
              "                                        genres  \n",
              "0  Adventure|Animation|Children|Comedy|Fantasy  \n",
              "1                   Adventure|Children|Fantasy  \n",
              "2                               Comedy|Romance  \n",
              "3                         Comedy|Drama|Romance  \n",
              "4                                       Comedy  "
            ]
          },
          "metadata": {
            "tags": []
          },
          "execution_count": 114
        }
      ]
    },
    {
      "cell_type": "code",
      "metadata": {
        "colab_type": "code",
        "id": "b1LtMHanyRDr",
        "colab": {},
        "outputId": "4b516782-9fe8-4c0f-8009-978313d16d97"
      },
      "source": [
        "column_ratings = ['user_id', 'movie_id', 'rating', 'timestamp']\n",
        "ratings = pd.read_csv(r'C:\\Users\\Илья\\Desktop\\ml-latest-small\\ml-latest-small\\ratings.csv', engine = 'python', delimiter = ',', names= column_ratings\n",
        "                      , header = 0)\n",
        "ratings.head()"
      ],
      "execution_count": 0,
      "outputs": [
        {
          "output_type": "execute_result",
          "data": {
            "text/html": [
              "<div>\n",
              "<style scoped>\n",
              "    .dataframe tbody tr th:only-of-type {\n",
              "        vertical-align: middle;\n",
              "    }\n",
              "\n",
              "    .dataframe tbody tr th {\n",
              "        vertical-align: top;\n",
              "    }\n",
              "\n",
              "    .dataframe thead th {\n",
              "        text-align: right;\n",
              "    }\n",
              "</style>\n",
              "<table border=\"1\" class=\"dataframe\">\n",
              "  <thead>\n",
              "    <tr style=\"text-align: right;\">\n",
              "      <th></th>\n",
              "      <th>user_id</th>\n",
              "      <th>movie_id</th>\n",
              "      <th>rating</th>\n",
              "      <th>timestamp</th>\n",
              "    </tr>\n",
              "  </thead>\n",
              "  <tbody>\n",
              "    <tr>\n",
              "      <th>0</th>\n",
              "      <td>1</td>\n",
              "      <td>1</td>\n",
              "      <td>4.0</td>\n",
              "      <td>964982703</td>\n",
              "    </tr>\n",
              "    <tr>\n",
              "      <th>1</th>\n",
              "      <td>1</td>\n",
              "      <td>3</td>\n",
              "      <td>4.0</td>\n",
              "      <td>964981247</td>\n",
              "    </tr>\n",
              "    <tr>\n",
              "      <th>2</th>\n",
              "      <td>1</td>\n",
              "      <td>6</td>\n",
              "      <td>4.0</td>\n",
              "      <td>964982224</td>\n",
              "    </tr>\n",
              "    <tr>\n",
              "      <th>3</th>\n",
              "      <td>1</td>\n",
              "      <td>47</td>\n",
              "      <td>5.0</td>\n",
              "      <td>964983815</td>\n",
              "    </tr>\n",
              "    <tr>\n",
              "      <th>4</th>\n",
              "      <td>1</td>\n",
              "      <td>50</td>\n",
              "      <td>5.0</td>\n",
              "      <td>964982931</td>\n",
              "    </tr>\n",
              "  </tbody>\n",
              "</table>\n",
              "</div>"
            ],
            "text/plain": [
              "   user_id  movie_id  rating  timestamp\n",
              "0        1         1     4.0  964982703\n",
              "1        1         3     4.0  964981247\n",
              "2        1         6     4.0  964982224\n",
              "3        1        47     5.0  964983815\n",
              "4        1        50     5.0  964982931"
            ]
          },
          "metadata": {
            "tags": []
          },
          "execution_count": 115
        }
      ]
    },
    {
      "cell_type": "code",
      "metadata": {
        "colab_type": "code",
        "id": "3RDfokDQ05mW",
        "colab": {},
        "outputId": "b890720d-e188-4599-a959-9d384be2c09a"
      },
      "source": [
        "column_users = ['user_id', 'movie_id', 'tag', 'timestamp']\n",
        "users = pd.read_csv(r'C:\\Users\\Илья\\Desktop\\ml-latest-small\\ml-latest-small\\tags.csv', engine = 'python', delimiter = ',', names= column_users\n",
        "                    , header = 0)\n",
        "users.head(5)"
      ],
      "execution_count": 0,
      "outputs": [
        {
          "output_type": "execute_result",
          "data": {
            "text/html": [
              "<div>\n",
              "<style scoped>\n",
              "    .dataframe tbody tr th:only-of-type {\n",
              "        vertical-align: middle;\n",
              "    }\n",
              "\n",
              "    .dataframe tbody tr th {\n",
              "        vertical-align: top;\n",
              "    }\n",
              "\n",
              "    .dataframe thead th {\n",
              "        text-align: right;\n",
              "    }\n",
              "</style>\n",
              "<table border=\"1\" class=\"dataframe\">\n",
              "  <thead>\n",
              "    <tr style=\"text-align: right;\">\n",
              "      <th></th>\n",
              "      <th>user_id</th>\n",
              "      <th>movie_id</th>\n",
              "      <th>tag</th>\n",
              "      <th>timestamp</th>\n",
              "    </tr>\n",
              "  </thead>\n",
              "  <tbody>\n",
              "    <tr>\n",
              "      <th>0</th>\n",
              "      <td>2</td>\n",
              "      <td>60756</td>\n",
              "      <td>funny</td>\n",
              "      <td>1445714994</td>\n",
              "    </tr>\n",
              "    <tr>\n",
              "      <th>1</th>\n",
              "      <td>2</td>\n",
              "      <td>60756</td>\n",
              "      <td>Highly quotable</td>\n",
              "      <td>1445714996</td>\n",
              "    </tr>\n",
              "    <tr>\n",
              "      <th>2</th>\n",
              "      <td>2</td>\n",
              "      <td>60756</td>\n",
              "      <td>will ferrell</td>\n",
              "      <td>1445714992</td>\n",
              "    </tr>\n",
              "    <tr>\n",
              "      <th>3</th>\n",
              "      <td>2</td>\n",
              "      <td>89774</td>\n",
              "      <td>Boxing story</td>\n",
              "      <td>1445715207</td>\n",
              "    </tr>\n",
              "    <tr>\n",
              "      <th>4</th>\n",
              "      <td>2</td>\n",
              "      <td>89774</td>\n",
              "      <td>MMA</td>\n",
              "      <td>1445715200</td>\n",
              "    </tr>\n",
              "  </tbody>\n",
              "</table>\n",
              "</div>"
            ],
            "text/plain": [
              "   user_id  movie_id              tag   timestamp\n",
              "0        2     60756            funny  1445714994\n",
              "1        2     60756  Highly quotable  1445714996\n",
              "2        2     60756     will ferrell  1445714992\n",
              "3        2     89774     Boxing story  1445715207\n",
              "4        2     89774              MMA  1445715200"
            ]
          },
          "metadata": {
            "tags": []
          },
          "execution_count": 6
        }
      ]
    },
    {
      "cell_type": "markdown",
      "metadata": {
        "colab_type": "text",
        "id": "ho8mCITH3aGJ"
      },
      "source": [
        "### Проверяем на наличие пропущенных значений"
      ]
    },
    {
      "cell_type": "code",
      "metadata": {
        "colab_type": "code",
        "id": "I8hQc7yawGQQ",
        "colab": {},
        "outputId": "67ca5f67-65df-4fae-eb97-f90e828064c0"
      },
      "source": [
        "print (\"Number of movies Null values: \", movies.isnull().sum())\n",
        "print (\"Number of ratings Null values: \", ratings.isnull().sum())\n"
      ],
      "execution_count": 0,
      "outputs": [
        {
          "output_type": "stream",
          "text": [
            "Number of movies Null values:  movie_id    0\n",
            "title       0\n",
            "genres      0\n",
            "dtype: int64\n",
            "Number of ratings Null values:  user_id      0\n",
            "movie_id     0\n",
            "rating       0\n",
            "timestamp    0\n",
            "dtype: int64\n"
          ],
          "name": "stdout"
        }
      ]
    },
    {
      "cell_type": "code",
      "metadata": {
        "colab_type": "code",
        "id": "w9eGJk2xwGSw",
        "colab": {},
        "outputId": "8692b663-935c-405b-d3b0-f4dc24a43b2a"
      },
      "source": [
        "movies.dropna(inplace=True)\n",
        "print (\"Number of movies Null values: \", movies.isnull().sum())"
      ],
      "execution_count": 0,
      "outputs": [
        {
          "output_type": "stream",
          "text": [
            "Number of movies Null values:  movie_id    0\n",
            "title       0\n",
            "genres      0\n",
            "year        0\n",
            "dtype: int64\n"
          ],
          "name": "stdout"
        }
      ]
    },
    {
      "cell_type": "code",
      "metadata": {
        "colab_type": "code",
        "id": "8tynCxyhwGVY",
        "colab": {},
        "outputId": "2d69c056-f148-4402-b8ac-3f81d5794a1c"
      },
      "source": [
        "movies.info()"
      ],
      "execution_count": 0,
      "outputs": [
        {
          "output_type": "stream",
          "text": [
            "<class 'pandas.core.frame.DataFrame'>\n",
            "Int64Index: 9742 entries, 0 to 9741\n",
            "Data columns (total 3 columns):\n",
            "movie_id    9742 non-null int64\n",
            "title       9742 non-null object\n",
            "genres      9742 non-null object\n",
            "dtypes: int64(1), object(2)\n",
            "memory usage: 304.4+ KB\n"
          ],
          "name": "stdout"
        }
      ]
    },
    {
      "cell_type": "code",
      "metadata": {
        "colab_type": "code",
        "id": "bd2vshLezzo9",
        "colab": {},
        "outputId": "995442b3-4cb1-484a-9b4f-117eee19d3a3"
      },
      "source": [
        "ratings.info()"
      ],
      "execution_count": 0,
      "outputs": [
        {
          "output_type": "stream",
          "text": [
            "<class 'pandas.core.frame.DataFrame'>\n",
            "RangeIndex: 100836 entries, 0 to 100835\n",
            "Data columns (total 4 columns):\n",
            "user_id      100836 non-null int64\n",
            "movie_id     100836 non-null int64\n",
            "rating       100836 non-null float64\n",
            "timestamp    100836 non-null int64\n",
            "dtypes: float64(1), int64(3)\n",
            "memory usage: 3.1 MB\n"
          ],
          "name": "stdout"
        }
      ]
    },
    {
      "cell_type": "code",
      "metadata": {
        "colab_type": "code",
        "id": "WUuZbCJKzzr6",
        "colab": {},
        "outputId": "2984a46f-380d-4cfc-93e2-0232c7793486"
      },
      "source": [
        "movies['year'] = movies.title.str.extract(\"\\((\\d{4})\\)\", expand=True)\n",
        "movies.head()"
      ],
      "execution_count": 0,
      "outputs": [
        {
          "output_type": "execute_result",
          "data": {
            "text/html": [
              "<div>\n",
              "<style scoped>\n",
              "    .dataframe tbody tr th:only-of-type {\n",
              "        vertical-align: middle;\n",
              "    }\n",
              "\n",
              "    .dataframe tbody tr th {\n",
              "        vertical-align: top;\n",
              "    }\n",
              "\n",
              "    .dataframe thead th {\n",
              "        text-align: right;\n",
              "    }\n",
              "</style>\n",
              "<table border=\"1\" class=\"dataframe\">\n",
              "  <thead>\n",
              "    <tr style=\"text-align: right;\">\n",
              "      <th></th>\n",
              "      <th>movie_id</th>\n",
              "      <th>title</th>\n",
              "      <th>genres</th>\n",
              "      <th>year</th>\n",
              "    </tr>\n",
              "  </thead>\n",
              "  <tbody>\n",
              "    <tr>\n",
              "      <th>0</th>\n",
              "      <td>1</td>\n",
              "      <td>Toy Story (1995)</td>\n",
              "      <td>Adventure|Animation|Children|Comedy|Fantasy</td>\n",
              "      <td>1995</td>\n",
              "    </tr>\n",
              "    <tr>\n",
              "      <th>1</th>\n",
              "      <td>2</td>\n",
              "      <td>Jumanji (1995)</td>\n",
              "      <td>Adventure|Children|Fantasy</td>\n",
              "      <td>1995</td>\n",
              "    </tr>\n",
              "    <tr>\n",
              "      <th>2</th>\n",
              "      <td>3</td>\n",
              "      <td>Grumpier Old Men (1995)</td>\n",
              "      <td>Comedy|Romance</td>\n",
              "      <td>1995</td>\n",
              "    </tr>\n",
              "    <tr>\n",
              "      <th>3</th>\n",
              "      <td>4</td>\n",
              "      <td>Waiting to Exhale (1995)</td>\n",
              "      <td>Comedy|Drama|Romance</td>\n",
              "      <td>1995</td>\n",
              "    </tr>\n",
              "    <tr>\n",
              "      <th>4</th>\n",
              "      <td>5</td>\n",
              "      <td>Father of the Bride Part II (1995)</td>\n",
              "      <td>Comedy</td>\n",
              "      <td>1995</td>\n",
              "    </tr>\n",
              "  </tbody>\n",
              "</table>\n",
              "</div>"
            ],
            "text/plain": [
              "   movie_id                               title  \\\n",
              "0         1                    Toy Story (1995)   \n",
              "1         2                      Jumanji (1995)   \n",
              "2         3             Grumpier Old Men (1995)   \n",
              "3         4            Waiting to Exhale (1995)   \n",
              "4         5  Father of the Bride Part II (1995)   \n",
              "\n",
              "                                        genres  year  \n",
              "0  Adventure|Animation|Children|Comedy|Fantasy  1995  \n",
              "1                   Adventure|Children|Fantasy  1995  \n",
              "2                               Comedy|Romance  1995  \n",
              "3                         Comedy|Drama|Romance  1995  \n",
              "4                                       Comedy  1995  "
            ]
          },
          "metadata": {
            "tags": []
          },
          "execution_count": 14
        }
      ]
    },
    {
      "cell_type": "code",
      "metadata": {
        "colab_type": "code",
        "id": "T4AhIwhBzzu4",
        "colab": {}
      },
      "source": [
        "year_asint = movies['year'].astype(int)"
      ],
      "execution_count": 0,
      "outputs": []
    },
    {
      "cell_type": "code",
      "metadata": {
        "colab_type": "code",
        "id": "2Q6Nftlqzzxz",
        "colab": {},
        "outputId": "61bba315-c40b-40ec-8af9-559f568f030e"
      },
      "source": [
        "movies.drop(['year'], inplace = True, axis = 1)\n",
        "movies['year'] = year_asint\n",
        "movies.head()"
      ],
      "execution_count": 0,
      "outputs": [
        {
          "output_type": "execute_result",
          "data": {
            "text/html": [
              "<div>\n",
              "<style scoped>\n",
              "    .dataframe tbody tr th:only-of-type {\n",
              "        vertical-align: middle;\n",
              "    }\n",
              "\n",
              "    .dataframe tbody tr th {\n",
              "        vertical-align: top;\n",
              "    }\n",
              "\n",
              "    .dataframe thead th {\n",
              "        text-align: right;\n",
              "    }\n",
              "</style>\n",
              "<table border=\"1\" class=\"dataframe\">\n",
              "  <thead>\n",
              "    <tr style=\"text-align: right;\">\n",
              "      <th></th>\n",
              "      <th>movie_id</th>\n",
              "      <th>title</th>\n",
              "      <th>genres</th>\n",
              "      <th>year</th>\n",
              "    </tr>\n",
              "  </thead>\n",
              "  <tbody>\n",
              "    <tr>\n",
              "      <th>0</th>\n",
              "      <td>1</td>\n",
              "      <td>Toy Story (1995)</td>\n",
              "      <td>Adventure|Animation|Children|Comedy|Fantasy</td>\n",
              "      <td>1995</td>\n",
              "    </tr>\n",
              "    <tr>\n",
              "      <th>1</th>\n",
              "      <td>2</td>\n",
              "      <td>Jumanji (1995)</td>\n",
              "      <td>Adventure|Children|Fantasy</td>\n",
              "      <td>1995</td>\n",
              "    </tr>\n",
              "    <tr>\n",
              "      <th>2</th>\n",
              "      <td>3</td>\n",
              "      <td>Grumpier Old Men (1995)</td>\n",
              "      <td>Comedy|Romance</td>\n",
              "      <td>1995</td>\n",
              "    </tr>\n",
              "    <tr>\n",
              "      <th>3</th>\n",
              "      <td>4</td>\n",
              "      <td>Waiting to Exhale (1995)</td>\n",
              "      <td>Comedy|Drama|Romance</td>\n",
              "      <td>1995</td>\n",
              "    </tr>\n",
              "    <tr>\n",
              "      <th>4</th>\n",
              "      <td>5</td>\n",
              "      <td>Father of the Bride Part II (1995)</td>\n",
              "      <td>Comedy</td>\n",
              "      <td>1995</td>\n",
              "    </tr>\n",
              "  </tbody>\n",
              "</table>\n",
              "</div>"
            ],
            "text/plain": [
              "   movie_id                               title  \\\n",
              "0         1                    Toy Story (1995)   \n",
              "1         2                      Jumanji (1995)   \n",
              "2         3             Grumpier Old Men (1995)   \n",
              "3         4            Waiting to Exhale (1995)   \n",
              "4         5  Father of the Bride Part II (1995)   \n",
              "\n",
              "                                        genres  year  \n",
              "0  Adventure|Animation|Children|Comedy|Fantasy  1995  \n",
              "1                   Adventure|Children|Fantasy  1995  \n",
              "2                               Comedy|Romance  1995  \n",
              "3                         Comedy|Drama|Romance  1995  \n",
              "4                                       Comedy  1995  "
            ]
          },
          "metadata": {
            "tags": []
          },
          "execution_count": 18
        }
      ]
    },
    {
      "cell_type": "code",
      "metadata": {
        "colab_type": "code",
        "id": "jXTodM2Jzz02",
        "colab": {},
        "outputId": "6085c9a3-db8e-4a28-eaca-8b9c71eb4995"
      },
      "source": [
        "date = pd.to_datetime(ratings['timestamp']).astype(str)\n",
        "ratings['date'] = date\n",
        "ratings.head()"
      ],
      "execution_count": 0,
      "outputs": [
        {
          "output_type": "execute_result",
          "data": {
            "text/html": [
              "<div>\n",
              "<style scoped>\n",
              "    .dataframe tbody tr th:only-of-type {\n",
              "        vertical-align: middle;\n",
              "    }\n",
              "\n",
              "    .dataframe tbody tr th {\n",
              "        vertical-align: top;\n",
              "    }\n",
              "\n",
              "    .dataframe thead th {\n",
              "        text-align: right;\n",
              "    }\n",
              "</style>\n",
              "<table border=\"1\" class=\"dataframe\">\n",
              "  <thead>\n",
              "    <tr style=\"text-align: right;\">\n",
              "      <th></th>\n",
              "      <th>user_id</th>\n",
              "      <th>movie_id</th>\n",
              "      <th>rating</th>\n",
              "      <th>timestamp</th>\n",
              "      <th>date</th>\n",
              "    </tr>\n",
              "  </thead>\n",
              "  <tbody>\n",
              "    <tr>\n",
              "      <th>0</th>\n",
              "      <td>1</td>\n",
              "      <td>1</td>\n",
              "      <td>4.0</td>\n",
              "      <td>964982703</td>\n",
              "      <td>1970-01-01 00:00:00.964982703</td>\n",
              "    </tr>\n",
              "    <tr>\n",
              "      <th>1</th>\n",
              "      <td>1</td>\n",
              "      <td>3</td>\n",
              "      <td>4.0</td>\n",
              "      <td>964981247</td>\n",
              "      <td>1970-01-01 00:00:00.964981247</td>\n",
              "    </tr>\n",
              "    <tr>\n",
              "      <th>2</th>\n",
              "      <td>1</td>\n",
              "      <td>6</td>\n",
              "      <td>4.0</td>\n",
              "      <td>964982224</td>\n",
              "      <td>1970-01-01 00:00:00.964982224</td>\n",
              "    </tr>\n",
              "    <tr>\n",
              "      <th>3</th>\n",
              "      <td>1</td>\n",
              "      <td>47</td>\n",
              "      <td>5.0</td>\n",
              "      <td>964983815</td>\n",
              "      <td>1970-01-01 00:00:00.964983815</td>\n",
              "    </tr>\n",
              "    <tr>\n",
              "      <th>4</th>\n",
              "      <td>1</td>\n",
              "      <td>50</td>\n",
              "      <td>5.0</td>\n",
              "      <td>964982931</td>\n",
              "      <td>1970-01-01 00:00:00.964982931</td>\n",
              "    </tr>\n",
              "  </tbody>\n",
              "</table>\n",
              "</div>"
            ],
            "text/plain": [
              "   user_id  movie_id  rating  timestamp                           date\n",
              "0        1         1     4.0  964982703  1970-01-01 00:00:00.964982703\n",
              "1        1         3     4.0  964981247  1970-01-01 00:00:00.964981247\n",
              "2        1         6     4.0  964982224  1970-01-01 00:00:00.964982224\n",
              "3        1        47     5.0  964983815  1970-01-01 00:00:00.964983815\n",
              "4        1        50     5.0  964982931  1970-01-01 00:00:00.964982931"
            ]
          },
          "metadata": {
            "tags": []
          },
          "execution_count": 19
        }
      ]
    },
    {
      "cell_type": "code",
      "metadata": {
        "colab_type": "code",
        "id": "jH3vP8Smzz3r",
        "colab": {},
        "outputId": "017e0c0a-8eed-4ece-89bc-20ae35a2bd0e"
      },
      "source": [
        "ratings['date'] = [time[:10] for time in ratings['date']]\n",
        "ratings.drop(['timestamp'], inplace = True, axis = 1)\n",
        "ratings.head()"
      ],
      "execution_count": 0,
      "outputs": [
        {
          "output_type": "execute_result",
          "data": {
            "text/html": [
              "<div>\n",
              "<style scoped>\n",
              "    .dataframe tbody tr th:only-of-type {\n",
              "        vertical-align: middle;\n",
              "    }\n",
              "\n",
              "    .dataframe tbody tr th {\n",
              "        vertical-align: top;\n",
              "    }\n",
              "\n",
              "    .dataframe thead th {\n",
              "        text-align: right;\n",
              "    }\n",
              "</style>\n",
              "<table border=\"1\" class=\"dataframe\">\n",
              "  <thead>\n",
              "    <tr style=\"text-align: right;\">\n",
              "      <th></th>\n",
              "      <th>user_id</th>\n",
              "      <th>movie_id</th>\n",
              "      <th>rating</th>\n",
              "      <th>date</th>\n",
              "    </tr>\n",
              "  </thead>\n",
              "  <tbody>\n",
              "    <tr>\n",
              "      <th>0</th>\n",
              "      <td>1</td>\n",
              "      <td>1</td>\n",
              "      <td>4.0</td>\n",
              "      <td>1970-01-01</td>\n",
              "    </tr>\n",
              "    <tr>\n",
              "      <th>1</th>\n",
              "      <td>1</td>\n",
              "      <td>3</td>\n",
              "      <td>4.0</td>\n",
              "      <td>1970-01-01</td>\n",
              "    </tr>\n",
              "    <tr>\n",
              "      <th>2</th>\n",
              "      <td>1</td>\n",
              "      <td>6</td>\n",
              "      <td>4.0</td>\n",
              "      <td>1970-01-01</td>\n",
              "    </tr>\n",
              "    <tr>\n",
              "      <th>3</th>\n",
              "      <td>1</td>\n",
              "      <td>47</td>\n",
              "      <td>5.0</td>\n",
              "      <td>1970-01-01</td>\n",
              "    </tr>\n",
              "    <tr>\n",
              "      <th>4</th>\n",
              "      <td>1</td>\n",
              "      <td>50</td>\n",
              "      <td>5.0</td>\n",
              "      <td>1970-01-01</td>\n",
              "    </tr>\n",
              "  </tbody>\n",
              "</table>\n",
              "</div>"
            ],
            "text/plain": [
              "   user_id  movie_id  rating        date\n",
              "0        1         1     4.0  1970-01-01\n",
              "1        1         3     4.0  1970-01-01\n",
              "2        1         6     4.0  1970-01-01\n",
              "3        1        47     5.0  1970-01-01\n",
              "4        1        50     5.0  1970-01-01"
            ]
          },
          "metadata": {
            "tags": []
          },
          "execution_count": 20
        }
      ]
    },
    {
      "cell_type": "code",
      "metadata": {
        "colab_type": "code",
        "id": "NCIF9SZezz6o",
        "colab": {},
        "outputId": "37ee26b9-6162-458b-f3f1-740bd0ceb2a2"
      },
      "source": [
        "movies.describe()"
      ],
      "execution_count": 0,
      "outputs": [
        {
          "output_type": "execute_result",
          "data": {
            "text/html": [
              "<div>\n",
              "<style scoped>\n",
              "    .dataframe tbody tr th:only-of-type {\n",
              "        vertical-align: middle;\n",
              "    }\n",
              "\n",
              "    .dataframe tbody tr th {\n",
              "        vertical-align: top;\n",
              "    }\n",
              "\n",
              "    .dataframe thead th {\n",
              "        text-align: right;\n",
              "    }\n",
              "</style>\n",
              "<table border=\"1\" class=\"dataframe\">\n",
              "  <thead>\n",
              "    <tr style=\"text-align: right;\">\n",
              "      <th></th>\n",
              "      <th>movie_id</th>\n",
              "      <th>year</th>\n",
              "    </tr>\n",
              "  </thead>\n",
              "  <tbody>\n",
              "    <tr>\n",
              "      <th>count</th>\n",
              "      <td>9729.00000</td>\n",
              "      <td>9729.000000</td>\n",
              "    </tr>\n",
              "    <tr>\n",
              "      <th>mean</th>\n",
              "      <td>42054.09004</td>\n",
              "      <td>1994.613629</td>\n",
              "    </tr>\n",
              "    <tr>\n",
              "      <th>std</th>\n",
              "      <td>52026.56424</td>\n",
              "      <td>18.535219</td>\n",
              "    </tr>\n",
              "    <tr>\n",
              "      <th>min</th>\n",
              "      <td>1.00000</td>\n",
              "      <td>1902.000000</td>\n",
              "    </tr>\n",
              "    <tr>\n",
              "      <th>25%</th>\n",
              "      <td>3244.00000</td>\n",
              "      <td>1988.000000</td>\n",
              "    </tr>\n",
              "    <tr>\n",
              "      <th>50%</th>\n",
              "      <td>7282.00000</td>\n",
              "      <td>1999.000000</td>\n",
              "    </tr>\n",
              "    <tr>\n",
              "      <th>75%</th>\n",
              "      <td>76030.00000</td>\n",
              "      <td>2008.000000</td>\n",
              "    </tr>\n",
              "    <tr>\n",
              "      <th>max</th>\n",
              "      <td>193609.00000</td>\n",
              "      <td>2018.000000</td>\n",
              "    </tr>\n",
              "  </tbody>\n",
              "</table>\n",
              "</div>"
            ],
            "text/plain": [
              "           movie_id         year\n",
              "count    9729.00000  9729.000000\n",
              "mean    42054.09004  1994.613629\n",
              "std     52026.56424    18.535219\n",
              "min         1.00000  1902.000000\n",
              "25%      3244.00000  1988.000000\n",
              "50%      7282.00000  1999.000000\n",
              "75%     76030.00000  2008.000000\n",
              "max    193609.00000  2018.000000"
            ]
          },
          "metadata": {
            "tags": []
          },
          "execution_count": 21
        }
      ]
    },
    {
      "cell_type": "code",
      "metadata": {
        "colab_type": "code",
        "id": "RX8eiafTzz9t",
        "colab": {},
        "outputId": "e07ef951-9d66-4612-ca85-adddcee3c83f"
      },
      "source": [
        "ratings.describe()"
      ],
      "execution_count": 0,
      "outputs": [
        {
          "output_type": "execute_result",
          "data": {
            "text/html": [
              "<div>\n",
              "<style scoped>\n",
              "    .dataframe tbody tr th:only-of-type {\n",
              "        vertical-align: middle;\n",
              "    }\n",
              "\n",
              "    .dataframe tbody tr th {\n",
              "        vertical-align: top;\n",
              "    }\n",
              "\n",
              "    .dataframe thead th {\n",
              "        text-align: right;\n",
              "    }\n",
              "</style>\n",
              "<table border=\"1\" class=\"dataframe\">\n",
              "  <thead>\n",
              "    <tr style=\"text-align: right;\">\n",
              "      <th></th>\n",
              "      <th>user_id</th>\n",
              "      <th>movie_id</th>\n",
              "      <th>rating</th>\n",
              "    </tr>\n",
              "  </thead>\n",
              "  <tbody>\n",
              "    <tr>\n",
              "      <th>count</th>\n",
              "      <td>100836.000000</td>\n",
              "      <td>100836.000000</td>\n",
              "      <td>100836.000000</td>\n",
              "    </tr>\n",
              "    <tr>\n",
              "      <th>mean</th>\n",
              "      <td>326.127564</td>\n",
              "      <td>19435.295718</td>\n",
              "      <td>3.501557</td>\n",
              "    </tr>\n",
              "    <tr>\n",
              "      <th>std</th>\n",
              "      <td>182.618491</td>\n",
              "      <td>35530.987199</td>\n",
              "      <td>1.042529</td>\n",
              "    </tr>\n",
              "    <tr>\n",
              "      <th>min</th>\n",
              "      <td>1.000000</td>\n",
              "      <td>1.000000</td>\n",
              "      <td>0.500000</td>\n",
              "    </tr>\n",
              "    <tr>\n",
              "      <th>25%</th>\n",
              "      <td>177.000000</td>\n",
              "      <td>1199.000000</td>\n",
              "      <td>3.000000</td>\n",
              "    </tr>\n",
              "    <tr>\n",
              "      <th>50%</th>\n",
              "      <td>325.000000</td>\n",
              "      <td>2991.000000</td>\n",
              "      <td>3.500000</td>\n",
              "    </tr>\n",
              "    <tr>\n",
              "      <th>75%</th>\n",
              "      <td>477.000000</td>\n",
              "      <td>8122.000000</td>\n",
              "      <td>4.000000</td>\n",
              "    </tr>\n",
              "    <tr>\n",
              "      <th>max</th>\n",
              "      <td>610.000000</td>\n",
              "      <td>193609.000000</td>\n",
              "      <td>5.000000</td>\n",
              "    </tr>\n",
              "  </tbody>\n",
              "</table>\n",
              "</div>"
            ],
            "text/plain": [
              "             user_id       movie_id         rating\n",
              "count  100836.000000  100836.000000  100836.000000\n",
              "mean      326.127564   19435.295718       3.501557\n",
              "std       182.618491   35530.987199       1.042529\n",
              "min         1.000000       1.000000       0.500000\n",
              "25%       177.000000    1199.000000       3.000000\n",
              "50%       325.000000    2991.000000       3.500000\n",
              "75%       477.000000    8122.000000       4.000000\n",
              "max       610.000000  193609.000000       5.000000"
            ]
          },
          "metadata": {
            "tags": []
          },
          "execution_count": 22
        }
      ]
    },
    {
      "cell_type": "code",
      "metadata": {
        "colab_type": "code",
        "id": "U4sdliWXz0AZ",
        "colab": {},
        "outputId": "342f92c5-cd4f-4910-959e-cf09554a28e7"
      },
      "source": [
        "df = pd.merge(movies,ratings,on='movie_id')\n",
        "df.head()"
      ],
      "execution_count": 0,
      "outputs": [
        {
          "output_type": "execute_result",
          "data": {
            "text/html": [
              "<div>\n",
              "<style scoped>\n",
              "    .dataframe tbody tr th:only-of-type {\n",
              "        vertical-align: middle;\n",
              "    }\n",
              "\n",
              "    .dataframe tbody tr th {\n",
              "        vertical-align: top;\n",
              "    }\n",
              "\n",
              "    .dataframe thead th {\n",
              "        text-align: right;\n",
              "    }\n",
              "</style>\n",
              "<table border=\"1\" class=\"dataframe\">\n",
              "  <thead>\n",
              "    <tr style=\"text-align: right;\">\n",
              "      <th></th>\n",
              "      <th>movie_id</th>\n",
              "      <th>title</th>\n",
              "      <th>genres</th>\n",
              "      <th>year</th>\n",
              "      <th>user_id</th>\n",
              "      <th>rating</th>\n",
              "      <th>date</th>\n",
              "    </tr>\n",
              "  </thead>\n",
              "  <tbody>\n",
              "    <tr>\n",
              "      <th>0</th>\n",
              "      <td>1</td>\n",
              "      <td>Toy Story (1995)</td>\n",
              "      <td>Adventure|Animation|Children|Comedy|Fantasy</td>\n",
              "      <td>1995</td>\n",
              "      <td>1</td>\n",
              "      <td>4.0</td>\n",
              "      <td>1970-01-01</td>\n",
              "    </tr>\n",
              "    <tr>\n",
              "      <th>1</th>\n",
              "      <td>1</td>\n",
              "      <td>Toy Story (1995)</td>\n",
              "      <td>Adventure|Animation|Children|Comedy|Fantasy</td>\n",
              "      <td>1995</td>\n",
              "      <td>5</td>\n",
              "      <td>4.0</td>\n",
              "      <td>1970-01-01</td>\n",
              "    </tr>\n",
              "    <tr>\n",
              "      <th>2</th>\n",
              "      <td>1</td>\n",
              "      <td>Toy Story (1995)</td>\n",
              "      <td>Adventure|Animation|Children|Comedy|Fantasy</td>\n",
              "      <td>1995</td>\n",
              "      <td>7</td>\n",
              "      <td>4.5</td>\n",
              "      <td>1970-01-01</td>\n",
              "    </tr>\n",
              "    <tr>\n",
              "      <th>3</th>\n",
              "      <td>1</td>\n",
              "      <td>Toy Story (1995)</td>\n",
              "      <td>Adventure|Animation|Children|Comedy|Fantasy</td>\n",
              "      <td>1995</td>\n",
              "      <td>15</td>\n",
              "      <td>2.5</td>\n",
              "      <td>1970-01-01</td>\n",
              "    </tr>\n",
              "    <tr>\n",
              "      <th>4</th>\n",
              "      <td>1</td>\n",
              "      <td>Toy Story (1995)</td>\n",
              "      <td>Adventure|Animation|Children|Comedy|Fantasy</td>\n",
              "      <td>1995</td>\n",
              "      <td>17</td>\n",
              "      <td>4.5</td>\n",
              "      <td>1970-01-01</td>\n",
              "    </tr>\n",
              "  </tbody>\n",
              "</table>\n",
              "</div>"
            ],
            "text/plain": [
              "   movie_id             title                                       genres  \\\n",
              "0         1  Toy Story (1995)  Adventure|Animation|Children|Comedy|Fantasy   \n",
              "1         1  Toy Story (1995)  Adventure|Animation|Children|Comedy|Fantasy   \n",
              "2         1  Toy Story (1995)  Adventure|Animation|Children|Comedy|Fantasy   \n",
              "3         1  Toy Story (1995)  Adventure|Animation|Children|Comedy|Fantasy   \n",
              "4         1  Toy Story (1995)  Adventure|Animation|Children|Comedy|Fantasy   \n",
              "\n",
              "   year  user_id  rating        date  \n",
              "0  1995        1     4.0  1970-01-01  \n",
              "1  1995        5     4.0  1970-01-01  \n",
              "2  1995        7     4.5  1970-01-01  \n",
              "3  1995       15     2.5  1970-01-01  \n",
              "4  1995       17     4.5  1970-01-01  "
            ]
          },
          "metadata": {
            "tags": []
          },
          "execution_count": 23
        }
      ]
    },
    {
      "cell_type": "code",
      "metadata": {
        "colab_type": "code",
        "id": "D_-h8Kuqz0Dt",
        "colab": {},
        "outputId": "d835da56-a27e-42b0-bf1b-ef060e1971a6"
      },
      "source": [
        "df.info()"
      ],
      "execution_count": 0,
      "outputs": [
        {
          "output_type": "stream",
          "text": [
            "<class 'pandas.core.frame.DataFrame'>\n",
            "Int64Index: 100818 entries, 0 to 100817\n",
            "Data columns (total 7 columns):\n",
            "movie_id    100818 non-null int64\n",
            "title       100818 non-null object\n",
            "genres      100818 non-null object\n",
            "year        100818 non-null int32\n",
            "user_id     100818 non-null int64\n",
            "rating      100818 non-null float64\n",
            "date        100818 non-null object\n",
            "dtypes: float64(1), int32(1), int64(2), object(3)\n",
            "memory usage: 5.8+ MB\n"
          ],
          "name": "stdout"
        }
      ]
    },
    {
      "cell_type": "markdown",
      "metadata": {
        "colab_type": "text",
        "id": "9rYByUtF3nK0"
      },
      "source": [
        "### Создаем саб-сеты для визуализации"
      ]
    },
    {
      "cell_type": "code",
      "metadata": {
        "colab_type": "code",
        "id": "9X1vJ8Ojz0F9",
        "colab": {},
        "outputId": "b658d6f6-2a6d-4a18-d107-785b3097e23c"
      },
      "source": [
        "df[df['rating'] >= 4.5]['movie_id'].count() # Фильмы с рейтингом 4,5 или выше"
      ],
      "execution_count": 0,
      "outputs": [
        {
          "output_type": "execute_result",
          "data": {
            "text/plain": [
              "21755"
            ]
          },
          "metadata": {
            "tags": []
          },
          "execution_count": 136
        }
      ]
    },
    {
      "cell_type": "code",
      "metadata": {
        "colab_type": "code",
        "id": "Zi9lrvVpz0I9",
        "colab": {},
        "outputId": "b778657d-2d54-447a-945d-0faf6b6222cf"
      },
      "source": [
        "df[df['rating'] >= 4.5]['movie_id'].count() / ratings['rating'].count() # Процент фильмов с рейтингом 4,5 или выше"
      ],
      "execution_count": 0,
      "outputs": [
        {
          "output_type": "execute_result",
          "data": {
            "text/plain": [
              "0.21574636042683168"
            ]
          },
          "metadata": {
            "tags": []
          },
          "execution_count": 137
        }
      ]
    },
    {
      "cell_type": "code",
      "metadata": {
        "colab_type": "code",
        "id": "1EC39V6Kz0MF",
        "colab": {},
        "outputId": "3323af29-e14a-4b29-eac0-17011d0fef44"
      },
      "source": [
        "df[df['rating'] == 5]['movie_id'].count() # Фильмы с рейтингом 5"
      ],
      "execution_count": 0,
      "outputs": [
        {
          "output_type": "execute_result",
          "data": {
            "text/plain": [
              "13206"
            ]
          },
          "metadata": {
            "tags": []
          },
          "execution_count": 138
        }
      ]
    },
    {
      "cell_type": "code",
      "metadata": {
        "colab_type": "code",
        "id": "1dbHDlJpz0Om",
        "colab": {},
        "outputId": "d1c88601-47b4-4b4f-fa62-7eaf219a1498"
      },
      "source": [
        "df[df['rating'] == 5]['movie_id'].count() / ratings['rating'].count() # Процент фильмов с рейтингом 5"
      ],
      "execution_count": 0,
      "outputs": [
        {
          "output_type": "execute_result",
          "data": {
            "text/plain": [
              "0.13096513150065453"
            ]
          },
          "metadata": {
            "tags": []
          },
          "execution_count": 139
        }
      ]
    },
    {
      "cell_type": "code",
      "metadata": {
        "colab_type": "code",
        "id": "nySGiChQ1nom",
        "colab": {},
        "outputId": "bc9f6c4b-89e8-4037-a466-4fc9d958d6fb"
      },
      "source": [
        "df.groupby('title')['rating'].count().sort_values(ascending=False).head() # Топ фильмов по рейтингу"
      ],
      "execution_count": 0,
      "outputs": [
        {
          "output_type": "execute_result",
          "data": {
            "text/plain": [
              "title\n",
              "Forrest Gump (1994)                 329\n",
              "Shawshank Redemption, The (1994)    317\n",
              "Pulp Fiction (1994)                 307\n",
              "Silence of the Lambs, The (1991)    279\n",
              "Matrix, The (1999)                  278\n",
              "Name: rating, dtype: int64"
            ]
          },
          "metadata": {
            "tags": []
          },
          "execution_count": 140
        }
      ]
    },
    {
      "cell_type": "code",
      "metadata": {
        "colab_type": "code",
        "id": "Uchg7jgU1nrb",
        "colab": {},
        "outputId": "b7db81d5-7274-40d3-8deb-f7b2d88be01c"
      },
      "source": [
        "# количество оценок \n",
        "df_RateCount = pd.DataFrame(df.groupby('title', as_index = False)['rating'].count()\n",
        "                              .rename(columns={'rating' : 'RateCount'}))\n",
        "df_RateCount.sort_values('RateCount',ascending=False).head(5)"
      ],
      "execution_count": 0,
      "outputs": [
        {
          "output_type": "execute_result",
          "data": {
            "text/html": [
              "<div>\n",
              "<style scoped>\n",
              "    .dataframe tbody tr th:only-of-type {\n",
              "        vertical-align: middle;\n",
              "    }\n",
              "\n",
              "    .dataframe tbody tr th {\n",
              "        vertical-align: top;\n",
              "    }\n",
              "\n",
              "    .dataframe thead th {\n",
              "        text-align: right;\n",
              "    }\n",
              "</style>\n",
              "<table border=\"1\" class=\"dataframe\">\n",
              "  <thead>\n",
              "    <tr style=\"text-align: right;\">\n",
              "      <th></th>\n",
              "      <th>title</th>\n",
              "      <th>RateCount</th>\n",
              "    </tr>\n",
              "  </thead>\n",
              "  <tbody>\n",
              "    <tr>\n",
              "      <th>3154</th>\n",
              "      <td>Forrest Gump (1994)</td>\n",
              "      <td>329</td>\n",
              "    </tr>\n",
              "    <tr>\n",
              "      <th>7582</th>\n",
              "      <td>Shawshank Redemption, The (1994)</td>\n",
              "      <td>317</td>\n",
              "    </tr>\n",
              "    <tr>\n",
              "      <th>6855</th>\n",
              "      <td>Pulp Fiction (1994)</td>\n",
              "      <td>307</td>\n",
              "    </tr>\n",
              "    <tr>\n",
              "      <th>7669</th>\n",
              "      <td>Silence of the Lambs, The (1991)</td>\n",
              "      <td>279</td>\n",
              "    </tr>\n",
              "    <tr>\n",
              "      <th>5505</th>\n",
              "      <td>Matrix, The (1999)</td>\n",
              "      <td>278</td>\n",
              "    </tr>\n",
              "  </tbody>\n",
              "</table>\n",
              "</div>"
            ],
            "text/plain": [
              "                                 title  RateCount\n",
              "3154               Forrest Gump (1994)        329\n",
              "7582  Shawshank Redemption, The (1994)        317\n",
              "6855               Pulp Fiction (1994)        307\n",
              "7669  Silence of the Lambs, The (1991)        279\n",
              "5505                Matrix, The (1999)        278"
            ]
          },
          "metadata": {
            "tags": []
          },
          "execution_count": 141
        }
      ]
    },
    {
      "cell_type": "code",
      "metadata": {
        "colab_type": "code",
        "id": "eVXL8RCt1nu5",
        "colab": {},
        "outputId": "b07ab2ee-c62c-499f-f5a6-3771260715ab"
      },
      "source": [
        "# средняя оценка фильма\n",
        "df_RateMean = pd.DataFrame(df.groupby('title', as_index = False)['rating'].mean()\n",
        "                              .rename(columns={'rating' : 'RateMean'}))\n",
        "df_RateMean.sort_values('RateMean',ascending=False).head(5)"
      ],
      "execution_count": 0,
      "outputs": [
        {
          "output_type": "execute_result",
          "data": {
            "text/html": [
              "<div>\n",
              "<style scoped>\n",
              "    .dataframe tbody tr th:only-of-type {\n",
              "        vertical-align: middle;\n",
              "    }\n",
              "\n",
              "    .dataframe tbody tr th {\n",
              "        vertical-align: top;\n",
              "    }\n",
              "\n",
              "    .dataframe thead th {\n",
              "        text-align: right;\n",
              "    }\n",
              "</style>\n",
              "<table border=\"1\" class=\"dataframe\">\n",
              "  <thead>\n",
              "    <tr style=\"text-align: right;\">\n",
              "      <th></th>\n",
              "      <th>title</th>\n",
              "      <th>RateMean</th>\n",
              "    </tr>\n",
              "  </thead>\n",
              "  <tbody>\n",
              "    <tr>\n",
              "      <th>7381</th>\n",
              "      <td>Saving Santa (2013)</td>\n",
              "      <td>5.0</td>\n",
              "    </tr>\n",
              "    <tr>\n",
              "      <th>5433</th>\n",
              "      <td>Maniac Cop 2 (1990)</td>\n",
              "      <td>5.0</td>\n",
              "    </tr>\n",
              "    <tr>\n",
              "      <th>9557</th>\n",
              "      <td>Wonder Woman (2009)</td>\n",
              "      <td>5.0</td>\n",
              "    </tr>\n",
              "    <tr>\n",
              "      <th>4512</th>\n",
              "      <td>Jane Eyre (1944)</td>\n",
              "      <td>5.0</td>\n",
              "    </tr>\n",
              "    <tr>\n",
              "      <th>3262</th>\n",
              "      <td>Front of the Class (2008)</td>\n",
              "      <td>5.0</td>\n",
              "    </tr>\n",
              "  </tbody>\n",
              "</table>\n",
              "</div>"
            ],
            "text/plain": [
              "                          title  RateMean\n",
              "7381        Saving Santa (2013)       5.0\n",
              "5433        Maniac Cop 2 (1990)       5.0\n",
              "9557        Wonder Woman (2009)       5.0\n",
              "4512           Jane Eyre (1944)       5.0\n",
              "3262  Front of the Class (2008)       5.0"
            ]
          },
          "metadata": {
            "tags": []
          },
          "execution_count": 142
        }
      ]
    },
    {
      "cell_type": "code",
      "metadata": {
        "colab_type": "code",
        "id": "R1IP8gH51nxY",
        "colab": {},
        "outputId": "d389311b-3a07-441e-f3b6-78b570182cf7"
      },
      "source": [
        "# мержим саб-сеты\n",
        "df_movie_rate = pd.merge(df_RateCount,df_RateMean, on='title')\n",
        "df_movie_rate.sort_values('RateCount',ascending=False).head(5)"
      ],
      "execution_count": 0,
      "outputs": [
        {
          "output_type": "execute_result",
          "data": {
            "text/html": [
              "<div>\n",
              "<style scoped>\n",
              "    .dataframe tbody tr th:only-of-type {\n",
              "        vertical-align: middle;\n",
              "    }\n",
              "\n",
              "    .dataframe tbody tr th {\n",
              "        vertical-align: top;\n",
              "    }\n",
              "\n",
              "    .dataframe thead th {\n",
              "        text-align: right;\n",
              "    }\n",
              "</style>\n",
              "<table border=\"1\" class=\"dataframe\">\n",
              "  <thead>\n",
              "    <tr style=\"text-align: right;\">\n",
              "      <th></th>\n",
              "      <th>title</th>\n",
              "      <th>RateCount</th>\n",
              "      <th>RateMean</th>\n",
              "    </tr>\n",
              "  </thead>\n",
              "  <tbody>\n",
              "    <tr>\n",
              "      <th>3154</th>\n",
              "      <td>Forrest Gump (1994)</td>\n",
              "      <td>329</td>\n",
              "      <td>4.164134</td>\n",
              "    </tr>\n",
              "    <tr>\n",
              "      <th>7582</th>\n",
              "      <td>Shawshank Redemption, The (1994)</td>\n",
              "      <td>317</td>\n",
              "      <td>4.429022</td>\n",
              "    </tr>\n",
              "    <tr>\n",
              "      <th>6855</th>\n",
              "      <td>Pulp Fiction (1994)</td>\n",
              "      <td>307</td>\n",
              "      <td>4.197068</td>\n",
              "    </tr>\n",
              "    <tr>\n",
              "      <th>7669</th>\n",
              "      <td>Silence of the Lambs, The (1991)</td>\n",
              "      <td>279</td>\n",
              "      <td>4.161290</td>\n",
              "    </tr>\n",
              "    <tr>\n",
              "      <th>5505</th>\n",
              "      <td>Matrix, The (1999)</td>\n",
              "      <td>278</td>\n",
              "      <td>4.192446</td>\n",
              "    </tr>\n",
              "  </tbody>\n",
              "</table>\n",
              "</div>"
            ],
            "text/plain": [
              "                                 title  RateCount  RateMean\n",
              "3154               Forrest Gump (1994)        329  4.164134\n",
              "7582  Shawshank Redemption, The (1994)        317  4.429022\n",
              "6855               Pulp Fiction (1994)        307  4.197068\n",
              "7669  Silence of the Lambs, The (1991)        279  4.161290\n",
              "5505                Matrix, The (1999)        278  4.192446"
            ]
          },
          "metadata": {
            "tags": []
          },
          "execution_count": 143
        }
      ]
    },
    {
      "cell_type": "code",
      "metadata": {
        "colab_type": "code",
        "id": "Pvzdv33j1n0H",
        "colab": {},
        "outputId": "6053cb38-c2a5-4fa3-d2cd-480f1208bfb2"
      },
      "source": [
        "# распределение оценок по пользователям\n",
        "df_distrib_of_ratings= pd.DataFrame(ratings.groupby('rating', as_index = False)['user_id'].count()\n",
        "                         .rename(columns={'user_id' : 'RateCount'}))\n",
        "df_distrib_of_ratings.head(10)"
      ],
      "execution_count": 0,
      "outputs": [
        {
          "output_type": "execute_result",
          "data": {
            "text/html": [
              "<div>\n",
              "<style scoped>\n",
              "    .dataframe tbody tr th:only-of-type {\n",
              "        vertical-align: middle;\n",
              "    }\n",
              "\n",
              "    .dataframe tbody tr th {\n",
              "        vertical-align: top;\n",
              "    }\n",
              "\n",
              "    .dataframe thead th {\n",
              "        text-align: right;\n",
              "    }\n",
              "</style>\n",
              "<table border=\"1\" class=\"dataframe\">\n",
              "  <thead>\n",
              "    <tr style=\"text-align: right;\">\n",
              "      <th></th>\n",
              "      <th>rating</th>\n",
              "      <th>RateCount</th>\n",
              "    </tr>\n",
              "  </thead>\n",
              "  <tbody>\n",
              "    <tr>\n",
              "      <th>0</th>\n",
              "      <td>0.5</td>\n",
              "      <td>1370</td>\n",
              "    </tr>\n",
              "    <tr>\n",
              "      <th>1</th>\n",
              "      <td>1.0</td>\n",
              "      <td>2811</td>\n",
              "    </tr>\n",
              "    <tr>\n",
              "      <th>2</th>\n",
              "      <td>1.5</td>\n",
              "      <td>1791</td>\n",
              "    </tr>\n",
              "    <tr>\n",
              "      <th>3</th>\n",
              "      <td>2.0</td>\n",
              "      <td>7551</td>\n",
              "    </tr>\n",
              "    <tr>\n",
              "      <th>4</th>\n",
              "      <td>2.5</td>\n",
              "      <td>5550</td>\n",
              "    </tr>\n",
              "    <tr>\n",
              "      <th>5</th>\n",
              "      <td>3.0</td>\n",
              "      <td>20047</td>\n",
              "    </tr>\n",
              "    <tr>\n",
              "      <th>6</th>\n",
              "      <td>3.5</td>\n",
              "      <td>13136</td>\n",
              "    </tr>\n",
              "    <tr>\n",
              "      <th>7</th>\n",
              "      <td>4.0</td>\n",
              "      <td>26818</td>\n",
              "    </tr>\n",
              "    <tr>\n",
              "      <th>8</th>\n",
              "      <td>4.5</td>\n",
              "      <td>8551</td>\n",
              "    </tr>\n",
              "    <tr>\n",
              "      <th>9</th>\n",
              "      <td>5.0</td>\n",
              "      <td>13211</td>\n",
              "    </tr>\n",
              "  </tbody>\n",
              "</table>\n",
              "</div>"
            ],
            "text/plain": [
              "   rating  RateCount\n",
              "0     0.5       1370\n",
              "1     1.0       2811\n",
              "2     1.5       1791\n",
              "3     2.0       7551\n",
              "4     2.5       5550\n",
              "5     3.0      20047\n",
              "6     3.5      13136\n",
              "7     4.0      26818\n",
              "8     4.5       8551\n",
              "9     5.0      13211"
            ]
          },
          "metadata": {
            "tags": []
          },
          "execution_count": 144
        }
      ]
    },
    {
      "cell_type": "code",
      "metadata": {
        "colab_type": "code",
        "id": "jud5PS1q1n3B",
        "colab": {},
        "outputId": "dee067a2-f8e9-4d5f-9ab4-3b71e9f4b2e0"
      },
      "source": [
        "# the users with most ratings\n",
        "users_rate = ratings[['user_id', 'movie_id']].groupby('user_id').count()\n",
        "users_rate = users_rate.rename(columns={'movie_id' : 'Total'})\n",
        "users_rate.sort_values('Total',ascending=False).head()"
      ],
      "execution_count": 0,
      "outputs": [
        {
          "output_type": "execute_result",
          "data": {
            "text/html": [
              "<div>\n",
              "<style scoped>\n",
              "    .dataframe tbody tr th:only-of-type {\n",
              "        vertical-align: middle;\n",
              "    }\n",
              "\n",
              "    .dataframe tbody tr th {\n",
              "        vertical-align: top;\n",
              "    }\n",
              "\n",
              "    .dataframe thead th {\n",
              "        text-align: right;\n",
              "    }\n",
              "</style>\n",
              "<table border=\"1\" class=\"dataframe\">\n",
              "  <thead>\n",
              "    <tr style=\"text-align: right;\">\n",
              "      <th></th>\n",
              "      <th>Total</th>\n",
              "    </tr>\n",
              "    <tr>\n",
              "      <th>user_id</th>\n",
              "      <th></th>\n",
              "    </tr>\n",
              "  </thead>\n",
              "  <tbody>\n",
              "    <tr>\n",
              "      <th>414</th>\n",
              "      <td>2698</td>\n",
              "    </tr>\n",
              "    <tr>\n",
              "      <th>599</th>\n",
              "      <td>2478</td>\n",
              "    </tr>\n",
              "    <tr>\n",
              "      <th>474</th>\n",
              "      <td>2108</td>\n",
              "    </tr>\n",
              "    <tr>\n",
              "      <th>448</th>\n",
              "      <td>1864</td>\n",
              "    </tr>\n",
              "    <tr>\n",
              "      <th>274</th>\n",
              "      <td>1346</td>\n",
              "    </tr>\n",
              "  </tbody>\n",
              "</table>\n",
              "</div>"
            ],
            "text/plain": [
              "         Total\n",
              "user_id       \n",
              "414       2698\n",
              "599       2478\n",
              "474       2108\n",
              "448       1864\n",
              "274       1346"
            ]
          },
          "metadata": {
            "tags": []
          },
          "execution_count": 145
        }
      ]
    },
    {
      "cell_type": "code",
      "metadata": {
        "colab_type": "code",
        "id": "nxYgC4qU1n_e",
        "colab": {},
        "outputId": "60085b8e-a5d8-4285-f8c3-b2c62ed081eb"
      },
      "source": [
        "# наиболее популярные жанры\n",
        "MP_genre = df.groupby('genres', as_index = False)['user_id'].count()\n",
        "MP_genre = MP_genre.rename(columns={'user_id' : 'Total ratings'})\n",
        "MP_genre.sort_values('Total ratings',ascending=False).head(10)"
      ],
      "execution_count": 0,
      "outputs": [
        {
          "output_type": "execute_result",
          "data": {
            "text/html": [
              "<div>\n",
              "<style scoped>\n",
              "    .dataframe tbody tr th:only-of-type {\n",
              "        vertical-align: middle;\n",
              "    }\n",
              "\n",
              "    .dataframe tbody tr th {\n",
              "        vertical-align: top;\n",
              "    }\n",
              "\n",
              "    .dataframe thead th {\n",
              "        text-align: right;\n",
              "    }\n",
              "</style>\n",
              "<table border=\"1\" class=\"dataframe\">\n",
              "  <thead>\n",
              "    <tr style=\"text-align: right;\">\n",
              "      <th></th>\n",
              "      <th>genres</th>\n",
              "      <th>Total ratings</th>\n",
              "    </tr>\n",
              "  </thead>\n",
              "  <tbody>\n",
              "    <tr>\n",
              "      <th>634</th>\n",
              "      <td>Comedy</td>\n",
              "      <td>7196</td>\n",
              "    </tr>\n",
              "    <tr>\n",
              "      <th>812</th>\n",
              "      <td>Drama</td>\n",
              "      <td>6290</td>\n",
              "    </tr>\n",
              "    <tr>\n",
              "      <th>732</th>\n",
              "      <td>Comedy|Romance</td>\n",
              "      <td>3967</td>\n",
              "    </tr>\n",
              "    <tr>\n",
              "      <th>687</th>\n",
              "      <td>Comedy|Drama|Romance</td>\n",
              "      <td>3000</td>\n",
              "    </tr>\n",
              "    <tr>\n",
              "      <th>670</th>\n",
              "      <td>Comedy|Drama</td>\n",
              "      <td>2851</td>\n",
              "    </tr>\n",
              "    <tr>\n",
              "      <th>868</th>\n",
              "      <td>Drama|Romance</td>\n",
              "      <td>2838</td>\n",
              "    </tr>\n",
              "    <tr>\n",
              "      <th>127</th>\n",
              "      <td>Action|Adventure|Sci-Fi</td>\n",
              "      <td>2361</td>\n",
              "    </tr>\n",
              "    <tr>\n",
              "      <th>747</th>\n",
              "      <td>Crime|Drama</td>\n",
              "      <td>2315</td>\n",
              "    </tr>\n",
              "    <tr>\n",
              "      <th>260</th>\n",
              "      <td>Action|Crime|Thriller</td>\n",
              "      <td>1554</td>\n",
              "    </tr>\n",
              "    <tr>\n",
              "      <th>133</th>\n",
              "      <td>Action|Adventure|Thriller</td>\n",
              "      <td>1455</td>\n",
              "    </tr>\n",
              "  </tbody>\n",
              "</table>\n",
              "</div>"
            ],
            "text/plain": [
              "                        genres  Total ratings\n",
              "634                     Comedy           7196\n",
              "812                      Drama           6290\n",
              "732             Comedy|Romance           3967\n",
              "687       Comedy|Drama|Romance           3000\n",
              "670               Comedy|Drama           2851\n",
              "868              Drama|Romance           2838\n",
              "127    Action|Adventure|Sci-Fi           2361\n",
              "747                Crime|Drama           2315\n",
              "260      Action|Crime|Thriller           1554\n",
              "133  Action|Adventure|Thriller           1455"
            ]
          },
          "metadata": {
            "tags": []
          },
          "execution_count": 146
        }
      ]
    },
    {
      "cell_type": "code",
      "metadata": {
        "colab_type": "code",
        "id": "06ukI_NS1oCd",
        "colab": {},
        "outputId": "e2af8559-e474-4e80-b32b-6299c279e432"
      },
      "source": [
        "# распределение фильмов по жанрам\n",
        "genres_of_movies = movies.groupby('genres', as_index = False)['movie_id'].count()\n",
        "genres_of_movies = genres_of_movies.rename(columns={'movie_id' : 'Total ratings'})\n",
        "genres_of_movies.sort_values('Total ratings',ascending=False).head(10)"
      ],
      "execution_count": 0,
      "outputs": [
        {
          "output_type": "execute_result",
          "data": {
            "text/html": [
              "<div>\n",
              "<style scoped>\n",
              "    .dataframe tbody tr th:only-of-type {\n",
              "        vertical-align: middle;\n",
              "    }\n",
              "\n",
              "    .dataframe tbody tr th {\n",
              "        vertical-align: top;\n",
              "    }\n",
              "\n",
              "    .dataframe thead th {\n",
              "        text-align: right;\n",
              "    }\n",
              "</style>\n",
              "<table border=\"1\" class=\"dataframe\">\n",
              "  <thead>\n",
              "    <tr style=\"text-align: right;\">\n",
              "      <th></th>\n",
              "      <th>genres</th>\n",
              "      <th>Total ratings</th>\n",
              "    </tr>\n",
              "  </thead>\n",
              "  <tbody>\n",
              "    <tr>\n",
              "      <th>812</th>\n",
              "      <td>Drama</td>\n",
              "      <td>1053</td>\n",
              "    </tr>\n",
              "    <tr>\n",
              "      <th>634</th>\n",
              "      <td>Comedy</td>\n",
              "      <td>946</td>\n",
              "    </tr>\n",
              "    <tr>\n",
              "      <th>670</th>\n",
              "      <td>Comedy|Drama</td>\n",
              "      <td>435</td>\n",
              "    </tr>\n",
              "    <tr>\n",
              "      <th>732</th>\n",
              "      <td>Comedy|Romance</td>\n",
              "      <td>363</td>\n",
              "    </tr>\n",
              "    <tr>\n",
              "      <th>868</th>\n",
              "      <td>Drama|Romance</td>\n",
              "      <td>349</td>\n",
              "    </tr>\n",
              "    <tr>\n",
              "      <th>799</th>\n",
              "      <td>Documentary</td>\n",
              "      <td>339</td>\n",
              "    </tr>\n",
              "    <tr>\n",
              "      <th>687</th>\n",
              "      <td>Comedy|Drama|Romance</td>\n",
              "      <td>276</td>\n",
              "    </tr>\n",
              "    <tr>\n",
              "      <th>881</th>\n",
              "      <td>Drama|Thriller</td>\n",
              "      <td>168</td>\n",
              "    </tr>\n",
              "    <tr>\n",
              "      <th>910</th>\n",
              "      <td>Horror</td>\n",
              "      <td>167</td>\n",
              "    </tr>\n",
              "    <tr>\n",
              "      <th>922</th>\n",
              "      <td>Horror|Thriller</td>\n",
              "      <td>135</td>\n",
              "    </tr>\n",
              "  </tbody>\n",
              "</table>\n",
              "</div>"
            ],
            "text/plain": [
              "                   genres  Total ratings\n",
              "812                 Drama           1053\n",
              "634                Comedy            946\n",
              "670          Comedy|Drama            435\n",
              "732        Comedy|Romance            363\n",
              "868         Drama|Romance            349\n",
              "799           Documentary            339\n",
              "687  Comedy|Drama|Romance            276\n",
              "881        Drama|Thriller            168\n",
              "910                Horror            167\n",
              "922       Horror|Thriller            135"
            ]
          },
          "metadata": {
            "tags": []
          },
          "execution_count": 147
        }
      ]
    },
    {
      "cell_type": "markdown",
      "metadata": {
        "colab_type": "text",
        "id": "vObooxcQ3o1F"
      },
      "source": [
        "### Визуализация"
      ]
    },
    {
      "cell_type": "code",
      "metadata": {
        "colab_type": "code",
        "id": "ZscNF7SM1oH6",
        "colab": {}
      },
      "source": [
        "plt.style.use('ggplot')\n",
        "\n",
        "import matplotlib.pyplot as plt\n",
        "import seaborn as sns\n",
        "sns.set_style('white')\n",
        "%matplotlib inline"
      ],
      "execution_count": 0,
      "outputs": []
    },
    {
      "cell_type": "markdown",
      "metadata": {
        "colab_type": "text",
        "id": "Azgbh1dy5Nrl"
      },
      "source": [
        "#### Распределение оценок для количества фильмов (минимальное значение 50)"
      ]
    },
    {
      "cell_type": "code",
      "metadata": {
        "colab_type": "code",
        "id": "47oV74b41oK9",
        "colab": {},
        "outputId": "d4183c3e-89d7-477a-bb12-8abd8f7cb080"
      },
      "source": [
        "plt.figure(figsize=(12,6))\n",
        "df_movie_rate[df_movie_rate['RateCount'] > 50]['RateCount'].hist(bins=100)\n",
        "plt.title('Количество оценок/количество фильмов')\n",
        "plt.xlabel('Количество оценок')\n",
        "plt.ylabel('Количество фильмов')"
      ],
      "execution_count": 0,
      "outputs": [
        {
          "output_type": "execute_result",
          "data": {
            "text/plain": [
              "Text(0,0.5,'Количество фильмов')"
            ]
          },
          "metadata": {
            "tags": []
          },
          "execution_count": 40
        },
        {
          "output_type": "display_data",
          "data": {
            "image/png": "[encoded data removed]",
            "text/plain": [
              "<Figure size 864x432 with 1 Axes>"
            ]
          },
          "metadata": {
            "tags": [],
            "needs_background": "light"
          }
        }
      ]
    },
    {
      "cell_type": "markdown",
      "metadata": {
        "colab_type": "text",
        "id": "C5CdZnPP5Ou3"
      },
      "source": [
        "#### Количество фильмов по годам начиная с 1960"
      ]
    },
    {
      "cell_type": "code",
      "metadata": {
        "colab_type": "code",
        "id": "pDeM8aSg1oN_",
        "colab": {},
        "outputId": "175ee371-ae13-4a92-c8a3-908f3467f8d7"
      },
      "source": [
        "plt.figure(figsize=(12,8))\n",
        "movies[movies['year'] > 1960]['year'].hist(bins=150)\n",
        "plt.title('Распределение количества фильмов по годам')\n",
        "plt.xlabel('Год')\n",
        "plt.ylabel('Количество фильмов')"
      ],
      "execution_count": 0,
      "outputs": [
        {
          "output_type": "execute_result",
          "data": {
            "text/plain": [
              "Text(0,0.5,'Количество фильмов')"
            ]
          },
          "metadata": {
            "tags": []
          },
          "execution_count": 35
        },
        {
          "output_type": "display_data",
          "data": {
            "image/png": "[encoded data removed]",
            "text/plain": [
              "<Figure size 864x576 with 1 Axes>"
            ]
          },
          "metadata": {
            "tags": [],
            "needs_background": "light"
          }
        }
      ]
    },
    {
      "cell_type": "markdown",
      "metadata": {
        "colab_type": "text",
        "id": "luFojZMR5QLl"
      },
      "source": [
        "#### Распределение шкалы оценок"
      ]
    },
    {
      "cell_type": "code",
      "metadata": {
        "colab_type": "code",
        "id": "bxDFG_nz5M4-",
        "colab": {},
        "outputId": "da93f225-713f-4806-cd7e-d1f83d67cff0"
      },
      "source": [
        "sns.jointplot(x='rating',y='RateCount',data=df_distrib_of_ratings,alpha=0.5)"
      ],
      "execution_count": 0,
      "outputs": [
        {
          "output_type": "stream",
          "text": [
            "D:\\anaconda\\lib\\site-packages\\scipy\\stats\\stats.py:1713: FutureWarning: Using a non-tuple sequence for multidimensional indexing is deprecated; use `arr[tuple(seq)]` instead of `arr[seq]`. In the future this will be interpreted as an array index, `arr[np.array(seq)]`, which will result either in an error or a different result.\n",
            "  return np.add.reduce(sorted[indexer] * weights, axis=axis) / sumval\n"
          ],
          "name": "stderr"
        },
        {
          "output_type": "execute_result",
          "data": {
            "text/plain": [
              "<seaborn.axisgrid.JointGrid at 0x1fa857b14e0>"
            ]
          },
          "metadata": {
            "tags": []
          },
          "execution_count": 36
        },
        {
          "output_type": "display_data",
          "data": {
            "image/png": "[encoded data removed]",
            "text/plain": [
              "<Figure size 432x432 with 3 Axes>"
            ]
          },
          "metadata": {
            "tags": [],
            "needs_background": "light"
          }
        }
      ]
    },
    {
      "cell_type": "markdown",
      "metadata": {
        "colab_type": "text",
        "id": "jacDwvqM5ltg"
      },
      "source": [
        "#### Зависимость количества оценок от средней оценки"
      ]
    },
    {
      "cell_type": "code",
      "metadata": {
        "colab_type": "code",
        "id": "azZvSpjo5M75",
        "colab": {},
        "outputId": "0e87dfd1-3add-4cc7-b9f8-5a79e1cb7a78"
      },
      "source": [
        "sns.jointplot(x='RateMean',y='RateCount',data= df_movie_rate,alpha=0.5)"
      ],
      "execution_count": 0,
      "outputs": [
        {
          "output_type": "stream",
          "text": [
            "D:\\anaconda\\lib\\site-packages\\scipy\\stats\\stats.py:1713: FutureWarning: Using a non-tuple sequence for multidimensional indexing is deprecated; use `arr[tuple(seq)]` instead of `arr[seq]`. In the future this will be interpreted as an array index, `arr[np.array(seq)]`, which will result either in an error or a different result.\n",
            "  return np.add.reduce(sorted[indexer] * weights, axis=axis) / sumval\n"
          ],
          "name": "stderr"
        },
        {
          "output_type": "execute_result",
          "data": {
            "text/plain": [
              "<seaborn.axisgrid.JointGrid at 0x1fa85b34dd8>"
            ]
          },
          "metadata": {
            "tags": []
          },
          "execution_count": 37
        },
        {
          "output_type": "display_data",
          "data": {
            "image/png": "[encoded data removed]",
            "text/plain": [
              "<Figure size 432x432 with 3 Axes>"
            ]
          },
          "metadata": {
            "tags": [],
            "needs_background": "light"
          }
        }
      ]
    },
    {
      "cell_type": "markdown",
      "metadata": {
        "colab_type": "text",
        "id": "rqgsQT225mlN"
      },
      "source": [
        "#### Количество оценок пользователей"
      ]
    },
    {
      "cell_type": "code",
      "metadata": {
        "colab_type": "code",
        "id": "jYi1au3S5M-y",
        "colab": {},
        "outputId": "100b46fb-d1d6-4498-e67c-0be61fac63fb"
      },
      "source": [
        "plt.figure(figsize=(12,8))\n",
        "users_rate['Total'].hist(bins=100, edgecolor='black', log=True)\n",
        "plt.title('Количество оценок пользователей')\n",
        "plt.xlabel('Число оценок')\n",
        "plt.ylabel('Число пользователей')\n",
        "plt.xlim(0,)\n",
        "plt.xticks(np.arange(0,1000,100))\n",
        "plt.show()"
      ],
      "execution_count": 0,
      "outputs": [
        {
          "output_type": "display_data",
          "data": {
            "image/png": "[encoded data removed]",
            "text/plain": [
              "<Figure size 864x576 with 1 Axes>"
            ]
          },
          "metadata": {
            "tags": [],
            "needs_background": "light"
          }
        }
      ]
    },
    {
      "cell_type": "markdown",
      "metadata": {
        "colab_type": "text",
        "id": "kqg2eme7z7-h"
      },
      "source": [
        "Выводы:\n",
        "1. Большая часть фильмов имеет менее 4000 оценок\n",
        "2. Пик развиия киноиндустрии пришелся на начало 90-х\n",
        "3. Большая часть оценок равна или больше 3\n",
        "4. Большое число оценок завышает рейтинг фильма\n",
        "5. Большая часть пользователей имеет диапозон от 0 до 200  оценок"
      ]
    },
    {
      "cell_type": "markdown",
      "metadata": {
        "id": "nT3PLED4DAIW",
        "colab_type": "text"
      },
      "source": [
        "### Metrics"
      ]
    },
    {
      "cell_type": "markdown",
      "metadata": {
        "colab_type": "text",
        "id": "gnVEAFRVwThC"
      },
      "source": [
        "Task 2: Evaluation metrics report (5 points)\n",
        "\n",
        "Implement evaluation metrics to assess recommender performance\n",
        "- MAP score\n",
        "- Precision@k\n",
        "- Mean percentage ranking"
      ]
    },
    {
      "cell_type": "code",
      "metadata": {
        "colab_type": "code",
        "id": "baX6fK2cwGYJ",
        "colab": {}
      },
      "source": [
        "class Metric(object):\n",
        "    def __call__(self, true_values, pred_values, gids=None):\n",
        "        if gids is None:\n",
        "            gids = np.zeros(len(true_values))\n",
        "        raise NotImplementedError()\n",
        "\n",
        "\n",
        "def _precision(true_relevance):\n",
        "    return true_relevance.sum() / len(true_relevance)\n",
        "\n",
        "\n",
        "def average_precision_at_k(k, true_values, pred_values):\n",
        "    true_values_top = _get_true_values_top(k, true_values, pred_values)\n",
        "    return np.sum([\n",
        "        true_values_top[:(ind + 1)].sum() * 1. / (ind + 1)\n",
        "        for ind in range(len(true_values_top))\n",
        "        if true_values_top[ind] > 0\n",
        "    ]) / len(true_values_top)\n",
        "\n",
        "\n",
        "def _get_true_values_top(k, true_values, pred_values):\n",
        "    true_values_top = true_values[np.argsort(pred_values)[:-k - 1:-1]]\n",
        "    return true_values_top\n",
        "\n",
        "\n",
        "def precision_at_k(k, true_values, pred_values):\n",
        "    return _get_true_values_top(k, true_values, pred_values).sum() * 1. / k\n",
        "\n",
        "\n",
        "def PR(k, true_values, pred_values):\n",
        "    for ind, true_values in enumerate(_get_true_values_top(k, true_values, pred_values)):\n",
        "        if true_values > 0:\n",
        "            return 1.0 / (ind + 1)\n",
        "    return 0.\n",
        "\n",
        "\n",
        "class MeanMetric(Metric):\n",
        "    def _group_metric(self, true_values, pred_values):\n",
        "        raise NotImplementedError()\n",
        "\n",
        "    def __call__(self, true_values, pred_values, gids=None):\n",
        "        return pd.DataFrame({\n",
        "            \"true_values\": true_values,\n",
        "            \"pred_values\": pred_values,\n",
        "            \"gid\": gids\n",
        "        }).groupby(\"gid\").apply(lambda df: self._group_metric(df.true_values.values, df.pred_values.values)).mean()\n",
        "\n",
        "\n",
        "class MeanPrecision(MeanMetric):\n",
        "    def __init__(self, k=10):\n",
        "        self.k = k\n",
        "\n",
        "    def _group_metric(self, true_values, pred_values):\n",
        "        return precision_at_k(self.k, true_values, pred_values)\n",
        "\n",
        "    def __str__(self):\n",
        "        return \"mean_precision@{}\".format(self.k)\n",
        "\n",
        "\n",
        "class MeanAveragePrecision(MeanMetric):\n",
        "    def __init__(self, k=10):\n",
        "        self.k = k\n",
        "\n",
        "    def _group_metric(self, true_values, pred_values):\n",
        "        return average_precision_at_k(self.k, true_values, pred_values)\n",
        "\n",
        "    def __str__(self):\n",
        "        return \"mean_average_precision@{}\".format(self.k)\n",
        "    \n",
        "class MPR(MeanMetric):\n",
        "    def __init__(self, k=10):\n",
        "        self.k = k\n",
        "\n",
        "    def _group_metric(self, true_values, pred_values):\n",
        "        return PR(self.k, true_values, pred_values)\n",
        "\n",
        "    def __str__(self):\n",
        "        return \"mean_percintale_rank@{}\".format(self.k)\n"
      ],
      "execution_count": 0,
      "outputs": []
    },
    {
      "cell_type": "code",
      "metadata": {
        "id": "wZoIHTGUDAIY",
        "colab_type": "code",
        "colab": {}
      },
      "source": [
        "y = np.array([3, 1, 0, 1, 0, 10, 1, 0, 0])\n",
        "y_pred = np.array([0.1, 0.5, 0.1, 0, 1, 0.1, 1, 10, 1])\n",
        "gids = np.array([1, 1, 1, 2, 2, 3, 3, 3, 3])"
      ],
      "execution_count": 0,
      "outputs": []
    },
    {
      "cell_type": "code",
      "metadata": {
        "id": "ElbGF0gkDAIa",
        "colab_type": "code",
        "colab": {}
      },
      "source": [
        "ltr_metrics = [MeanPrecision(),\n",
        "               MeanPrecision(3),\n",
        "               MeanPrecision(1),\n",
        "               MeanAveragePrecision(),\n",
        "               MeanAveragePrecision(3),\n",
        "               MeanAveragePrecision(1),\n",
        "               MPR(),\n",
        "               MPR(3),\n",
        "               MPR(1)\n",
        "               ]"
      ],
      "execution_count": 0,
      "outputs": []
    },
    {
      "cell_type": "code",
      "metadata": {
        "id": "CqerDDLXDAIb",
        "colab_type": "code",
        "colab": {},
        "outputId": "c688df70-5f92-4cc2-f683-074564c5d6c8"
      },
      "source": [
        " for metric in ltr_metrics:\n",
        "     print(metric, metric(y, y_pred, gids))"
      ],
      "execution_count": 0,
      "outputs": [
        {
          "output_type": "stream",
          "text": [
            "mean_precision@10 0.5333333333333333\n",
            "mean_precision@3 0.6666666666666666\n",
            "mean_precision@1 0.3333333333333333\n",
            "mean_average_precision@10 0.5995370370370371\n",
            "mean_average_precision@3 0.3796296296296296\n",
            "mean_average_precision@1 0.3333333333333333\n",
            "mean_percintale_rank@10 0.611111111111111\n",
            "mean_percintale_rank@3 0.611111111111111\n",
            "mean_percintale_rank@1 0.3333333333333333\n"
          ],
          "name": "stdout"
        }
      ]
    },
    {
      "cell_type": "markdown",
      "metadata": {
        "colab_type": "text",
        "id": "WY_inVK40Bg7"
      },
      "source": [
        "## Collaborative filtering based recommenders "
      ]
    },
    {
      "cell_type": "markdown",
      "metadata": {
        "id": "knW8Pp5KDAIe",
        "colab_type": "text"
      },
      "source": [
        "#### Most popular items (MP) recommender"
      ]
    },
    {
      "cell_type": "markdown",
      "metadata": {
        "id": "Ja6JZSGTDAIf",
        "colab_type": "text"
      },
      "source": [
        "Сделаем систему которая будет предлагать топ-х фильмов, похожих на фильм который предложил пользователя. Так же сделаем отсев по минимальному числу оценок"
      ]
    },
    {
      "cell_type": "code",
      "metadata": {
        "id": "M9zPDYDaDAIg",
        "colab_type": "code",
        "colab": {},
        "outputId": "3b9cc0fa-603e-47cd-ee16-dbf9f92431e4"
      },
      "source": [
        "MP_movie = df.pivot_table(index='user_id',columns='title',values='rating')\n",
        "MP_movie.head(5)"
      ],
      "execution_count": 0,
      "outputs": [
        {
          "output_type": "execute_result",
          "data": {
            "text/html": [
              "<div>\n",
              "<style scoped>\n",
              "    .dataframe tbody tr th:only-of-type {\n",
              "        vertical-align: middle;\n",
              "    }\n",
              "\n",
              "    .dataframe tbody tr th {\n",
              "        vertical-align: top;\n",
              "    }\n",
              "\n",
              "    .dataframe thead th {\n",
              "        text-align: right;\n",
              "    }\n",
              "</style>\n",
              "<table border=\"1\" class=\"dataframe\">\n",
              "  <thead>\n",
              "    <tr style=\"text-align: right;\">\n",
              "      <th>title</th>\n",
              "      <th>'71 (2014)</th>\n",
              "      <th>'Hellboy': The Seeds of Creation (2004)</th>\n",
              "      <th>'Round Midnight (1986)</th>\n",
              "      <th>'Salem's Lot (2004)</th>\n",
              "      <th>'Til There Was You (1997)</th>\n",
              "      <th>'Tis the Season for Love (2015)</th>\n",
              "      <th>'burbs, The (1989)</th>\n",
              "      <th>'night Mother (1986)</th>\n",
              "      <th>(500) Days of Summer (2009)</th>\n",
              "      <th>*batteries not included (1987)</th>\n",
              "      <th>...</th>\n",
              "      <th>Zulu (2013)</th>\n",
              "      <th>[REC] (2007)</th>\n",
              "      <th>[REC]ВІ (2009)</th>\n",
              "      <th>[REC]Ві 3 GГ©nesis (2012)</th>\n",
              "      <th>anohana: The Flower We Saw That Day - The Movie (2013)</th>\n",
              "      <th>eXistenZ (1999)</th>\n",
              "      <th>xXx (2002)</th>\n",
              "      <th>xXx: State of the Union (2005)</th>\n",
              "      <th>ВЎThree Amigos! (1986)</th>\n",
              "      <th>ГЂ nous la libertГ© (Freedom for Us) (1931)</th>\n",
              "    </tr>\n",
              "    <tr>\n",
              "      <th>user_id</th>\n",
              "      <th></th>\n",
              "      <th></th>\n",
              "      <th></th>\n",
              "      <th></th>\n",
              "      <th></th>\n",
              "      <th></th>\n",
              "      <th></th>\n",
              "      <th></th>\n",
              "      <th></th>\n",
              "      <th></th>\n",
              "      <th></th>\n",
              "      <th></th>\n",
              "      <th></th>\n",
              "      <th></th>\n",
              "      <th></th>\n",
              "      <th></th>\n",
              "      <th></th>\n",
              "      <th></th>\n",
              "      <th></th>\n",
              "      <th></th>\n",
              "      <th></th>\n",
              "    </tr>\n",
              "  </thead>\n",
              "  <tbody>\n",
              "    <tr>\n",
              "      <th>1</th>\n",
              "      <td>NaN</td>\n",
              "      <td>NaN</td>\n",
              "      <td>NaN</td>\n",
              "      <td>NaN</td>\n",
              "      <td>NaN</td>\n",
              "      <td>NaN</td>\n",
              "      <td>NaN</td>\n",
              "      <td>NaN</td>\n",
              "      <td>NaN</td>\n",
              "      <td>NaN</td>\n",
              "      <td>...</td>\n",
              "      <td>NaN</td>\n",
              "      <td>NaN</td>\n",
              "      <td>NaN</td>\n",
              "      <td>NaN</td>\n",
              "      <td>NaN</td>\n",
              "      <td>NaN</td>\n",
              "      <td>NaN</td>\n",
              "      <td>NaN</td>\n",
              "      <td>4.0</td>\n",
              "      <td>NaN</td>\n",
              "    </tr>\n",
              "    <tr>\n",
              "      <th>2</th>\n",
              "      <td>NaN</td>\n",
              "      <td>NaN</td>\n",
              "      <td>NaN</td>\n",
              "      <td>NaN</td>\n",
              "      <td>NaN</td>\n",
              "      <td>NaN</td>\n",
              "      <td>NaN</td>\n",
              "      <td>NaN</td>\n",
              "      <td>NaN</td>\n",
              "      <td>NaN</td>\n",
              "      <td>...</td>\n",
              "      <td>NaN</td>\n",
              "      <td>NaN</td>\n",
              "      <td>NaN</td>\n",
              "      <td>NaN</td>\n",
              "      <td>NaN</td>\n",
              "      <td>NaN</td>\n",
              "      <td>NaN</td>\n",
              "      <td>NaN</td>\n",
              "      <td>NaN</td>\n",
              "      <td>NaN</td>\n",
              "    </tr>\n",
              "    <tr>\n",
              "      <th>3</th>\n",
              "      <td>NaN</td>\n",
              "      <td>NaN</td>\n",
              "      <td>NaN</td>\n",
              "      <td>NaN</td>\n",
              "      <td>NaN</td>\n",
              "      <td>NaN</td>\n",
              "      <td>NaN</td>\n",
              "      <td>NaN</td>\n",
              "      <td>NaN</td>\n",
              "      <td>NaN</td>\n",
              "      <td>...</td>\n",
              "      <td>NaN</td>\n",
              "      <td>NaN</td>\n",
              "      <td>NaN</td>\n",
              "      <td>NaN</td>\n",
              "      <td>NaN</td>\n",
              "      <td>NaN</td>\n",
              "      <td>NaN</td>\n",
              "      <td>NaN</td>\n",
              "      <td>NaN</td>\n",
              "      <td>NaN</td>\n",
              "    </tr>\n",
              "    <tr>\n",
              "      <th>4</th>\n",
              "      <td>NaN</td>\n",
              "      <td>NaN</td>\n",
              "      <td>NaN</td>\n",
              "      <td>NaN</td>\n",
              "      <td>NaN</td>\n",
              "      <td>NaN</td>\n",
              "      <td>NaN</td>\n",
              "      <td>NaN</td>\n",
              "      <td>NaN</td>\n",
              "      <td>NaN</td>\n",
              "      <td>...</td>\n",
              "      <td>NaN</td>\n",
              "      <td>NaN</td>\n",
              "      <td>NaN</td>\n",
              "      <td>NaN</td>\n",
              "      <td>NaN</td>\n",
              "      <td>NaN</td>\n",
              "      <td>NaN</td>\n",
              "      <td>NaN</td>\n",
              "      <td>NaN</td>\n",
              "      <td>NaN</td>\n",
              "    </tr>\n",
              "    <tr>\n",
              "      <th>5</th>\n",
              "      <td>NaN</td>\n",
              "      <td>NaN</td>\n",
              "      <td>NaN</td>\n",
              "      <td>NaN</td>\n",
              "      <td>NaN</td>\n",
              "      <td>NaN</td>\n",
              "      <td>NaN</td>\n",
              "      <td>NaN</td>\n",
              "      <td>NaN</td>\n",
              "      <td>NaN</td>\n",
              "      <td>...</td>\n",
              "      <td>NaN</td>\n",
              "      <td>NaN</td>\n",
              "      <td>NaN</td>\n",
              "      <td>NaN</td>\n",
              "      <td>NaN</td>\n",
              "      <td>NaN</td>\n",
              "      <td>NaN</td>\n",
              "      <td>NaN</td>\n",
              "      <td>NaN</td>\n",
              "      <td>NaN</td>\n",
              "    </tr>\n",
              "  </tbody>\n",
              "</table>\n",
              "<p>5 rows × 9706 columns</p>\n",
              "</div>"
            ],
            "text/plain": [
              "title    '71 (2014)  'Hellboy': The Seeds of Creation (2004)  \\\n",
              "user_id                                                        \n",
              "1               NaN                                      NaN   \n",
              "2               NaN                                      NaN   \n",
              "3               NaN                                      NaN   \n",
              "4               NaN                                      NaN   \n",
              "5               NaN                                      NaN   \n",
              "\n",
              "title    'Round Midnight (1986)  'Salem's Lot (2004)  \\\n",
              "user_id                                                \n",
              "1                           NaN                  NaN   \n",
              "2                           NaN                  NaN   \n",
              "3                           NaN                  NaN   \n",
              "4                           NaN                  NaN   \n",
              "5                           NaN                  NaN   \n",
              "\n",
              "title    'Til There Was You (1997)  'Tis the Season for Love (2015)  \\\n",
              "user_id                                                               \n",
              "1                              NaN                              NaN   \n",
              "2                              NaN                              NaN   \n",
              "3                              NaN                              NaN   \n",
              "4                              NaN                              NaN   \n",
              "5                              NaN                              NaN   \n",
              "\n",
              "title    'burbs, The (1989)  'night Mother (1986)  \\\n",
              "user_id                                             \n",
              "1                       NaN                   NaN   \n",
              "2                       NaN                   NaN   \n",
              "3                       NaN                   NaN   \n",
              "4                       NaN                   NaN   \n",
              "5                       NaN                   NaN   \n",
              "\n",
              "title    (500) Days of Summer (2009)  *batteries not included (1987)  \\\n",
              "user_id                                                                \n",
              "1                                NaN                             NaN   \n",
              "2                                NaN                             NaN   \n",
              "3                                NaN                             NaN   \n",
              "4                                NaN                             NaN   \n",
              "5                                NaN                             NaN   \n",
              "\n",
              "title                       ...                       Zulu (2013)  \\\n",
              "user_id                     ...                                     \n",
              "1                           ...                               NaN   \n",
              "2                           ...                               NaN   \n",
              "3                           ...                               NaN   \n",
              "4                           ...                               NaN   \n",
              "5                           ...                               NaN   \n",
              "\n",
              "title    [REC] (2007)  [REC]ВІ (2009)  [REC]Ві 3 GГ©nesis (2012)  \\\n",
              "user_id                                                            \n",
              "1                 NaN             NaN                        NaN   \n",
              "2                 NaN             NaN                        NaN   \n",
              "3                 NaN             NaN                        NaN   \n",
              "4                 NaN             NaN                        NaN   \n",
              "5                 NaN             NaN                        NaN   \n",
              "\n",
              "title    anohana: The Flower We Saw That Day - The Movie (2013)  \\\n",
              "user_id                                                           \n",
              "1                                                      NaN        \n",
              "2                                                      NaN        \n",
              "3                                                      NaN        \n",
              "4                                                      NaN        \n",
              "5                                                      NaN        \n",
              "\n",
              "title    eXistenZ (1999)  xXx (2002)  xXx: State of the Union (2005)  \\\n",
              "user_id                                                                \n",
              "1                    NaN         NaN                             NaN   \n",
              "2                    NaN         NaN                             NaN   \n",
              "3                    NaN         NaN                             NaN   \n",
              "4                    NaN         NaN                             NaN   \n",
              "5                    NaN         NaN                             NaN   \n",
              "\n",
              "title    ВЎThree Amigos! (1986)  ГЂ nous la libertГ© (Freedom for Us) (1931)  \n",
              "user_id                                                                       \n",
              "1                           4.0                                          NaN  \n",
              "2                           NaN                                          NaN  \n",
              "3                           NaN                                          NaN  \n",
              "4                           NaN                                          NaN  \n",
              "5                           NaN                                          NaN  \n",
              "\n",
              "[5 rows x 9706 columns]"
            ]
          },
          "metadata": {
            "tags": []
          },
          "execution_count": 160
        }
      ]
    },
    {
      "cell_type": "code",
      "metadata": {
        "id": "dg_URPGJDAIl",
        "colab_type": "code",
        "colab": {}
      },
      "source": [
        "def MP_recomenders(movie_name, movie_df, rating_and_title_df,number_of_ratings, top_similar):\n",
        "    \n",
        "    MP_user_ratings = movie_df[movie_name]\n",
        "    similar_to_MP = MP_movie.corrwith(MP_user_ratings)\n",
        "    MP_recomender = pd.DataFrame(similar_to_MP,columns=['Correlation'])\n",
        "    MP_recomender.dropna(inplace=True)\n",
        "    ratings = pd.DataFrame(rating_and_title_df.groupby('title')['rating'].mean())\n",
        "    ratings['num of ratings'] = pd.DataFrame(rating_and_title_df.groupby('title')['rating'].count())\n",
        "    MP_recomender = MP_recomender.join(ratings['num of ratings'])\n",
        "    sorted_MP = MP_recomender[(MP_recomender['num of ratings']>50)&(MP_recomender['num of ratings']<number_of_ratings)].sort_values('Correlation',ascending=False).head(top_similar)\n",
        "    \n",
        "    return sorted_MP"
      ],
      "execution_count": 0,
      "outputs": []
    },
    {
      "cell_type": "code",
      "metadata": {
        "id": "wfLX0nQHDAIo",
        "colab_type": "code",
        "colab": {}
      },
      "source": [
        "user_film = '(500) Days of Summer (2009)'"
      ],
      "execution_count": 0,
      "outputs": []
    },
    {
      "cell_type": "code",
      "metadata": {
        "id": "xG8Lk9auDAIp",
        "colab_type": "code",
        "colab": {},
        "outputId": "bb230e07-03e6-4ed7-820d-411cd541cb5a"
      },
      "source": [
        "MP_recomenders(user_film,MP_movie,df,200, 5)"
      ],
      "execution_count": 0,
      "outputs": [
        {
          "output_type": "stream",
          "text": [
            "D:\\anaconda\\lib\\site-packages\\numpy\\lib\\function_base.py:2526: RuntimeWarning: Degrees of freedom <= 0 for slice\n",
            "  c = cov(x, y, rowvar)\n",
            "D:\\anaconda\\lib\\site-packages\\numpy\\lib\\function_base.py:2455: RuntimeWarning: divide by zero encountered in true_divide\n",
            "  c *= np.true_divide(1, fact)\n"
          ],
          "name": "stderr"
        },
        {
          "output_type": "execute_result",
          "data": {
            "text/html": [
              "<div>\n",
              "<style scoped>\n",
              "    .dataframe tbody tr th:only-of-type {\n",
              "        vertical-align: middle;\n",
              "    }\n",
              "\n",
              "    .dataframe tbody tr th {\n",
              "        vertical-align: top;\n",
              "    }\n",
              "\n",
              "    .dataframe thead th {\n",
              "        text-align: right;\n",
              "    }\n",
              "</style>\n",
              "<table border=\"1\" class=\"dataframe\">\n",
              "  <thead>\n",
              "    <tr style=\"text-align: right;\">\n",
              "      <th></th>\n",
              "      <th>Correlation</th>\n",
              "      <th>num of ratings</th>\n",
              "    </tr>\n",
              "    <tr>\n",
              "      <th>title</th>\n",
              "      <th></th>\n",
              "      <th></th>\n",
              "    </tr>\n",
              "  </thead>\n",
              "  <tbody>\n",
              "    <tr>\n",
              "      <th>Star Trek II: The Wrath of Khan (1982)</th>\n",
              "      <td>0.981991</td>\n",
              "      <td>62</td>\n",
              "    </tr>\n",
              "    <tr>\n",
              "      <th>Piano, The (1993)</th>\n",
              "      <td>0.944911</td>\n",
              "      <td>61</td>\n",
              "    </tr>\n",
              "    <tr>\n",
              "      <th>Desperado (1995)</th>\n",
              "      <td>0.891042</td>\n",
              "      <td>66</td>\n",
              "    </tr>\n",
              "    <tr>\n",
              "      <th>Dances with Wolves (1990)</th>\n",
              "      <td>0.879955</td>\n",
              "      <td>164</td>\n",
              "    </tr>\n",
              "    <tr>\n",
              "      <th>Crow, The (1994)</th>\n",
              "      <td>0.857493</td>\n",
              "      <td>64</td>\n",
              "    </tr>\n",
              "  </tbody>\n",
              "</table>\n",
              "</div>"
            ],
            "text/plain": [
              "                                        Correlation  num of ratings\n",
              "title                                                              \n",
              "Star Trek II: The Wrath of Khan (1982)     0.981991              62\n",
              "Piano, The (1993)                          0.944911              61\n",
              "Desperado (1995)                           0.891042              66\n",
              "Dances with Wolves (1990)                  0.879955             164\n",
              "Crow, The (1994)                           0.857493              64"
            ]
          },
          "metadata": {
            "tags": []
          },
          "execution_count": 142
        }
      ]
    },
    {
      "cell_type": "markdown",
      "metadata": {
        "id": "lqjw11RPDAIu",
        "colab_type": "text"
      },
      "source": [
        "### Matrix factorization"
      ]
    },
    {
      "cell_type": "markdown",
      "metadata": {
        "id": "X5jH4r9tDAIu",
        "colab_type": "text"
      },
      "source": [
        "#### Collaborative filtering using sklearn SVD"
      ]
    },
    {
      "cell_type": "code",
      "metadata": {
        "id": "JPtwMdHEDAIv",
        "colab_type": "code",
        "colab": {},
        "outputId": "49fd7a2a-1a29-40c8-b514-8c0f75f190d7"
      },
      "source": [
        "R_df = ratings.pivot(index = 'user_id', columns ='movie_id', values = 'rating').fillna(0)\n",
        "R_df.head()"
      ],
      "execution_count": 0,
      "outputs": [
        {
          "output_type": "execute_result",
          "data": {
            "text/html": [
              "<div>\n",
              "<style scoped>\n",
              "    .dataframe tbody tr th:only-of-type {\n",
              "        vertical-align: middle;\n",
              "    }\n",
              "\n",
              "    .dataframe tbody tr th {\n",
              "        vertical-align: top;\n",
              "    }\n",
              "\n",
              "    .dataframe thead th {\n",
              "        text-align: right;\n",
              "    }\n",
              "</style>\n",
              "<table border=\"1\" class=\"dataframe\">\n",
              "  <thead>\n",
              "    <tr style=\"text-align: right;\">\n",
              "      <th>movie_id</th>\n",
              "      <th>1</th>\n",
              "      <th>2</th>\n",
              "      <th>3</th>\n",
              "      <th>4</th>\n",
              "      <th>5</th>\n",
              "      <th>6</th>\n",
              "      <th>7</th>\n",
              "      <th>8</th>\n",
              "      <th>9</th>\n",
              "      <th>10</th>\n",
              "      <th>...</th>\n",
              "      <th>193565</th>\n",
              "      <th>193567</th>\n",
              "      <th>193571</th>\n",
              "      <th>193573</th>\n",
              "      <th>193579</th>\n",
              "      <th>193581</th>\n",
              "      <th>193583</th>\n",
              "      <th>193585</th>\n",
              "      <th>193587</th>\n",
              "      <th>193609</th>\n",
              "    </tr>\n",
              "    <tr>\n",
              "      <th>user_id</th>\n",
              "      <th></th>\n",
              "      <th></th>\n",
              "      <th></th>\n",
              "      <th></th>\n",
              "      <th></th>\n",
              "      <th></th>\n",
              "      <th></th>\n",
              "      <th></th>\n",
              "      <th></th>\n",
              "      <th></th>\n",
              "      <th></th>\n",
              "      <th></th>\n",
              "      <th></th>\n",
              "      <th></th>\n",
              "      <th></th>\n",
              "      <th></th>\n",
              "      <th></th>\n",
              "      <th></th>\n",
              "      <th></th>\n",
              "      <th></th>\n",
              "      <th></th>\n",
              "    </tr>\n",
              "  </thead>\n",
              "  <tbody>\n",
              "    <tr>\n",
              "      <th>1</th>\n",
              "      <td>4.0</td>\n",
              "      <td>0.0</td>\n",
              "      <td>4.0</td>\n",
              "      <td>0.0</td>\n",
              "      <td>0.0</td>\n",
              "      <td>4.0</td>\n",
              "      <td>0.0</td>\n",
              "      <td>0.0</td>\n",
              "      <td>0.0</td>\n",
              "      <td>0.0</td>\n",
              "      <td>...</td>\n",
              "      <td>0.0</td>\n",
              "      <td>0.0</td>\n",
              "      <td>0.0</td>\n",
              "      <td>0.0</td>\n",
              "      <td>0.0</td>\n",
              "      <td>0.0</td>\n",
              "      <td>0.0</td>\n",
              "      <td>0.0</td>\n",
              "      <td>0.0</td>\n",
              "      <td>0.0</td>\n",
              "    </tr>\n",
              "    <tr>\n",
              "      <th>2</th>\n",
              "      <td>0.0</td>\n",
              "      <td>0.0</td>\n",
              "      <td>0.0</td>\n",
              "      <td>0.0</td>\n",
              "      <td>0.0</td>\n",
              "      <td>0.0</td>\n",
              "      <td>0.0</td>\n",
              "      <td>0.0</td>\n",
              "      <td>0.0</td>\n",
              "      <td>0.0</td>\n",
              "      <td>...</td>\n",
              "      <td>0.0</td>\n",
              "      <td>0.0</td>\n",
              "      <td>0.0</td>\n",
              "      <td>0.0</td>\n",
              "      <td>0.0</td>\n",
              "      <td>0.0</td>\n",
              "      <td>0.0</td>\n",
              "      <td>0.0</td>\n",
              "      <td>0.0</td>\n",
              "      <td>0.0</td>\n",
              "    </tr>\n",
              "    <tr>\n",
              "      <th>3</th>\n",
              "      <td>0.0</td>\n",
              "      <td>0.0</td>\n",
              "      <td>0.0</td>\n",
              "      <td>0.0</td>\n",
              "      <td>0.0</td>\n",
              "      <td>0.0</td>\n",
              "      <td>0.0</td>\n",
              "      <td>0.0</td>\n",
              "      <td>0.0</td>\n",
              "      <td>0.0</td>\n",
              "      <td>...</td>\n",
              "      <td>0.0</td>\n",
              "      <td>0.0</td>\n",
              "      <td>0.0</td>\n",
              "      <td>0.0</td>\n",
              "      <td>0.0</td>\n",
              "      <td>0.0</td>\n",
              "      <td>0.0</td>\n",
              "      <td>0.0</td>\n",
              "      <td>0.0</td>\n",
              "      <td>0.0</td>\n",
              "    </tr>\n",
              "    <tr>\n",
              "      <th>4</th>\n",
              "      <td>0.0</td>\n",
              "      <td>0.0</td>\n",
              "      <td>0.0</td>\n",
              "      <td>0.0</td>\n",
              "      <td>0.0</td>\n",
              "      <td>0.0</td>\n",
              "      <td>0.0</td>\n",
              "      <td>0.0</td>\n",
              "      <td>0.0</td>\n",
              "      <td>0.0</td>\n",
              "      <td>...</td>\n",
              "      <td>0.0</td>\n",
              "      <td>0.0</td>\n",
              "      <td>0.0</td>\n",
              "      <td>0.0</td>\n",
              "      <td>0.0</td>\n",
              "      <td>0.0</td>\n",
              "      <td>0.0</td>\n",
              "      <td>0.0</td>\n",
              "      <td>0.0</td>\n",
              "      <td>0.0</td>\n",
              "    </tr>\n",
              "    <tr>\n",
              "      <th>5</th>\n",
              "      <td>4.0</td>\n",
              "      <td>0.0</td>\n",
              "      <td>0.0</td>\n",
              "      <td>0.0</td>\n",
              "      <td>0.0</td>\n",
              "      <td>0.0</td>\n",
              "      <td>0.0</td>\n",
              "      <td>0.0</td>\n",
              "      <td>0.0</td>\n",
              "      <td>0.0</td>\n",
              "      <td>...</td>\n",
              "      <td>0.0</td>\n",
              "      <td>0.0</td>\n",
              "      <td>0.0</td>\n",
              "      <td>0.0</td>\n",
              "      <td>0.0</td>\n",
              "      <td>0.0</td>\n",
              "      <td>0.0</td>\n",
              "      <td>0.0</td>\n",
              "      <td>0.0</td>\n",
              "      <td>0.0</td>\n",
              "    </tr>\n",
              "  </tbody>\n",
              "</table>\n",
              "<p>5 rows × 9724 columns</p>\n",
              "</div>"
            ],
            "text/plain": [
              "movie_id  1       2       3       4       5       6       7       8       \\\n",
              "user_id                                                                    \n",
              "1            4.0     0.0     4.0     0.0     0.0     4.0     0.0     0.0   \n",
              "2            0.0     0.0     0.0     0.0     0.0     0.0     0.0     0.0   \n",
              "3            0.0     0.0     0.0     0.0     0.0     0.0     0.0     0.0   \n",
              "4            0.0     0.0     0.0     0.0     0.0     0.0     0.0     0.0   \n",
              "5            4.0     0.0     0.0     0.0     0.0     0.0     0.0     0.0   \n",
              "\n",
              "movie_id  9       10       ...    193565  193567  193571  193573  193579  \\\n",
              "user_id                    ...                                             \n",
              "1            0.0     0.0   ...       0.0     0.0     0.0     0.0     0.0   \n",
              "2            0.0     0.0   ...       0.0     0.0     0.0     0.0     0.0   \n",
              "3            0.0     0.0   ...       0.0     0.0     0.0     0.0     0.0   \n",
              "4            0.0     0.0   ...       0.0     0.0     0.0     0.0     0.0   \n",
              "5            0.0     0.0   ...       0.0     0.0     0.0     0.0     0.0   \n",
              "\n",
              "movie_id  193581  193583  193585  193587  193609  \n",
              "user_id                                           \n",
              "1            0.0     0.0     0.0     0.0     0.0  \n",
              "2            0.0     0.0     0.0     0.0     0.0  \n",
              "3            0.0     0.0     0.0     0.0     0.0  \n",
              "4            0.0     0.0     0.0     0.0     0.0  \n",
              "5            0.0     0.0     0.0     0.0     0.0  \n",
              "\n",
              "[5 rows x 9724 columns]"
            ]
          },
          "metadata": {
            "tags": []
          },
          "execution_count": 165
        }
      ]
    },
    {
      "cell_type": "code",
      "metadata": {
        "id": "rGLdwsVgDAIx",
        "colab_type": "code",
        "colab": {},
        "outputId": "66e748b7-fa59-49a2-f71a-4e32ead3a053"
      },
      "source": [
        "R = R_df.as_matrix()\n",
        "\n",
        "Z = R>0\n",
        "m, n = R.shape\n",
        "Ymean = np.zeros(m)\n",
        "Ynorm = np.zeros(R.shape)\n",
        "\n",
        "for i in range(m):\n",
        "    idx = Z[i, :] == 1\n",
        "    Ymean[i] = np.mean(R[i, idx])\n",
        "    Ynorm[i, idx] = R[i, idx] - Ymean[i]    "
      ],
      "execution_count": 0,
      "outputs": [
        {
          "output_type": "stream",
          "text": [
            "D:\\anaconda\\lib\\site-packages\\ipykernel_launcher.py:1: FutureWarning: Method .as_matrix will be removed in a future version. Use .values instead.\n",
            "  \"\"\"Entry point for launching an IPython kernel.\n"
          ],
          "name": "stderr"
        }
      ]
    },
    {
      "cell_type": "code",
      "metadata": {
        "id": "JwABcXxnDAIz",
        "colab_type": "code",
        "colab": {}
      },
      "source": [
        "R_demeaned = R - Ymean[:,np.newaxis]"
      ],
      "execution_count": 0,
      "outputs": []
    },
    {
      "cell_type": "code",
      "metadata": {
        "id": "_cHdsUf0DAI0",
        "colab_type": "code",
        "colab": {}
      },
      "source": [
        "from scipy.sparse.linalg import svds\n",
        "K = 10\n",
        "U, sigma, Vt = svds(R_demeaned, k = 10)"
      ],
      "execution_count": 0,
      "outputs": []
    },
    {
      "cell_type": "code",
      "metadata": {
        "id": "uwBS8kaHDAI2",
        "colab_type": "code",
        "colab": {},
        "outputId": "5927f922-fb64-494b-8e29-ccd7565a7bb7"
      },
      "source": [
        "column_movies = ['movie_id', 'title', 'genres']\n",
        "movies = pd.read_csv(r'C:\\Users\\Илья\\Desktop\\ml-latest-small\\ml-latest-small\\movies.csv', engine = 'python', delimiter = ',', names = column_movies,\n",
        "                     header = 0)\n",
        "movies.head()"
      ],
      "execution_count": 0,
      "outputs": [
        {
          "output_type": "execute_result",
          "data": {
            "text/html": [
              "<div>\n",
              "<style scoped>\n",
              "    .dataframe tbody tr th:only-of-type {\n",
              "        vertical-align: middle;\n",
              "    }\n",
              "\n",
              "    .dataframe tbody tr th {\n",
              "        vertical-align: top;\n",
              "    }\n",
              "\n",
              "    .dataframe thead th {\n",
              "        text-align: right;\n",
              "    }\n",
              "</style>\n",
              "<table border=\"1\" class=\"dataframe\">\n",
              "  <thead>\n",
              "    <tr style=\"text-align: right;\">\n",
              "      <th></th>\n",
              "      <th>movie_id</th>\n",
              "      <th>title</th>\n",
              "      <th>genres</th>\n",
              "    </tr>\n",
              "  </thead>\n",
              "  <tbody>\n",
              "    <tr>\n",
              "      <th>0</th>\n",
              "      <td>1</td>\n",
              "      <td>Toy Story (1995)</td>\n",
              "      <td>Adventure|Animation|Children|Comedy|Fantasy</td>\n",
              "    </tr>\n",
              "    <tr>\n",
              "      <th>1</th>\n",
              "      <td>2</td>\n",
              "      <td>Jumanji (1995)</td>\n",
              "      <td>Adventure|Children|Fantasy</td>\n",
              "    </tr>\n",
              "    <tr>\n",
              "      <th>2</th>\n",
              "      <td>3</td>\n",
              "      <td>Grumpier Old Men (1995)</td>\n",
              "      <td>Comedy|Romance</td>\n",
              "    </tr>\n",
              "    <tr>\n",
              "      <th>3</th>\n",
              "      <td>4</td>\n",
              "      <td>Waiting to Exhale (1995)</td>\n",
              "      <td>Comedy|Drama|Romance</td>\n",
              "    </tr>\n",
              "    <tr>\n",
              "      <th>4</th>\n",
              "      <td>5</td>\n",
              "      <td>Father of the Bride Part II (1995)</td>\n",
              "      <td>Comedy</td>\n",
              "    </tr>\n",
              "  </tbody>\n",
              "</table>\n",
              "</div>"
            ],
            "text/plain": [
              "   movie_id                               title  \\\n",
              "0         1                    Toy Story (1995)   \n",
              "1         2                      Jumanji (1995)   \n",
              "2         3             Grumpier Old Men (1995)   \n",
              "3         4            Waiting to Exhale (1995)   \n",
              "4         5  Father of the Bride Part II (1995)   \n",
              "\n",
              "                                        genres  \n",
              "0  Adventure|Animation|Children|Comedy|Fantasy  \n",
              "1                   Adventure|Children|Fantasy  \n",
              "2                               Comedy|Romance  \n",
              "3                         Comedy|Drama|Romance  \n",
              "4                                       Comedy  "
            ]
          },
          "metadata": {
            "tags": []
          },
          "execution_count": 169
        }
      ]
    },
    {
      "cell_type": "code",
      "metadata": {
        "id": "jyAdHXaFDAI4",
        "colab_type": "code",
        "colab": {}
      },
      "source": [
        "sigma = np.diag(sigma)"
      ],
      "execution_count": 0,
      "outputs": []
    },
    {
      "cell_type": "code",
      "metadata": {
        "id": "9eoyvGZ8DAI5",
        "colab_type": "code",
        "colab": {},
        "outputId": "523184e2-0e8c-43ee-e4ff-c9a7843751d6"
      },
      "source": [
        "pd.DataFrame(np.dot(np.dot(U, sigma), Vt)).head()"
      ],
      "execution_count": 0,
      "outputs": [
        {
          "output_type": "execute_result",
          "data": {
            "text/html": [
              "<div>\n",
              "<style scoped>\n",
              "    .dataframe tbody tr th:only-of-type {\n",
              "        vertical-align: middle;\n",
              "    }\n",
              "\n",
              "    .dataframe tbody tr th {\n",
              "        vertical-align: top;\n",
              "    }\n",
              "\n",
              "    .dataframe thead th {\n",
              "        text-align: right;\n",
              "    }\n",
              "</style>\n",
              "<table border=\"1\" class=\"dataframe\">\n",
              "  <thead>\n",
              "    <tr style=\"text-align: right;\">\n",
              "      <th></th>\n",
              "      <th>0</th>\n",
              "      <th>1</th>\n",
              "      <th>2</th>\n",
              "      <th>3</th>\n",
              "      <th>4</th>\n",
              "      <th>5</th>\n",
              "      <th>6</th>\n",
              "      <th>7</th>\n",
              "      <th>8</th>\n",
              "      <th>9</th>\n",
              "      <th>...</th>\n",
              "      <th>9714</th>\n",
              "      <th>9715</th>\n",
              "      <th>9716</th>\n",
              "      <th>9717</th>\n",
              "      <th>9718</th>\n",
              "      <th>9719</th>\n",
              "      <th>9720</th>\n",
              "      <th>9721</th>\n",
              "      <th>9722</th>\n",
              "      <th>9723</th>\n",
              "    </tr>\n",
              "  </thead>\n",
              "  <tbody>\n",
              "    <tr>\n",
              "      <th>0</th>\n",
              "      <td>-1.518367</td>\n",
              "      <td>-3.453123</td>\n",
              "      <td>-3.416975</td>\n",
              "      <td>-4.398655</td>\n",
              "      <td>-4.155210</td>\n",
              "      <td>-2.694267</td>\n",
              "      <td>-4.172392</td>\n",
              "      <td>-4.378190</td>\n",
              "      <td>-4.185228</td>\n",
              "      <td>-2.353858</td>\n",
              "      <td>...</td>\n",
              "      <td>-4.385732</td>\n",
              "      <td>-4.384681</td>\n",
              "      <td>-4.386783</td>\n",
              "      <td>-4.386783</td>\n",
              "      <td>-4.385732</td>\n",
              "      <td>-4.386783</td>\n",
              "      <td>-4.385732</td>\n",
              "      <td>-4.385732</td>\n",
              "      <td>-4.385732</td>\n",
              "      <td>-4.402181</td>\n",
              "    </tr>\n",
              "    <tr>\n",
              "      <th>1</th>\n",
              "      <td>-3.513796</td>\n",
              "      <td>-4.051175</td>\n",
              "      <td>-3.917915</td>\n",
              "      <td>-3.953420</td>\n",
              "      <td>-3.863439</td>\n",
              "      <td>-3.980198</td>\n",
              "      <td>-3.868783</td>\n",
              "      <td>-3.926645</td>\n",
              "      <td>-3.865414</td>\n",
              "      <td>-4.027184</td>\n",
              "      <td>...</td>\n",
              "      <td>-3.929739</td>\n",
              "      <td>-3.932176</td>\n",
              "      <td>-3.927303</td>\n",
              "      <td>-3.927303</td>\n",
              "      <td>-3.929739</td>\n",
              "      <td>-3.927303</td>\n",
              "      <td>-3.929739</td>\n",
              "      <td>-3.929739</td>\n",
              "      <td>-3.929739</td>\n",
              "      <td>-3.932312</td>\n",
              "    </tr>\n",
              "    <tr>\n",
              "      <th>2</th>\n",
              "      <td>-2.128695</td>\n",
              "      <td>-2.490092</td>\n",
              "      <td>-2.338354</td>\n",
              "      <td>-2.436129</td>\n",
              "      <td>-2.378523</td>\n",
              "      <td>-2.451450</td>\n",
              "      <td>-2.352165</td>\n",
              "      <td>-2.415745</td>\n",
              "      <td>-2.344068</td>\n",
              "      <td>-2.380065</td>\n",
              "      <td>...</td>\n",
              "      <td>-2.417738</td>\n",
              "      <td>-2.418958</td>\n",
              "      <td>-2.416519</td>\n",
              "      <td>-2.416519</td>\n",
              "      <td>-2.417738</td>\n",
              "      <td>-2.416519</td>\n",
              "      <td>-2.417738</td>\n",
              "      <td>-2.417738</td>\n",
              "      <td>-2.417738</td>\n",
              "      <td>-2.424740</td>\n",
              "    </tr>\n",
              "    <tr>\n",
              "      <th>3</th>\n",
              "      <td>-1.914691</td>\n",
              "      <td>-3.344993</td>\n",
              "      <td>-3.191223</td>\n",
              "      <td>-3.518725</td>\n",
              "      <td>-3.308834</td>\n",
              "      <td>-3.331828</td>\n",
              "      <td>-3.210956</td>\n",
              "      <td>-3.596535</td>\n",
              "      <td>-3.556721</td>\n",
              "      <td>-3.524609</td>\n",
              "      <td>...</td>\n",
              "      <td>-3.569183</td>\n",
              "      <td>-3.569433</td>\n",
              "      <td>-3.568932</td>\n",
              "      <td>-3.568932</td>\n",
              "      <td>-3.569183</td>\n",
              "      <td>-3.568932</td>\n",
              "      <td>-3.569183</td>\n",
              "      <td>-3.569183</td>\n",
              "      <td>-3.569183</td>\n",
              "      <td>-3.576138</td>\n",
              "    </tr>\n",
              "    <tr>\n",
              "      <th>4</th>\n",
              "      <td>-2.317730</td>\n",
              "      <td>-2.668194</td>\n",
              "      <td>-3.194695</td>\n",
              "      <td>-3.517354</td>\n",
              "      <td>-3.080919</td>\n",
              "      <td>-2.906204</td>\n",
              "      <td>-2.973126</td>\n",
              "      <td>-3.517717</td>\n",
              "      <td>-3.503757</td>\n",
              "      <td>-2.481201</td>\n",
              "      <td>...</td>\n",
              "      <td>-3.637479</td>\n",
              "      <td>-3.638044</td>\n",
              "      <td>-3.636914</td>\n",
              "      <td>-3.636914</td>\n",
              "      <td>-3.637479</td>\n",
              "      <td>-3.636914</td>\n",
              "      <td>-3.637479</td>\n",
              "      <td>-3.637479</td>\n",
              "      <td>-3.637479</td>\n",
              "      <td>-3.640545</td>\n",
              "    </tr>\n",
              "  </tbody>\n",
              "</table>\n",
              "<p>5 rows × 9724 columns</p>\n",
              "</div>"
            ],
            "text/plain": [
              "       0         1         2         3         4         5         6     \\\n",
              "0 -1.518367 -3.453123 -3.416975 -4.398655 -4.155210 -2.694267 -4.172392   \n",
              "1 -3.513796 -4.051175 -3.917915 -3.953420 -3.863439 -3.980198 -3.868783   \n",
              "2 -2.128695 -2.490092 -2.338354 -2.436129 -2.378523 -2.451450 -2.352165   \n",
              "3 -1.914691 -3.344993 -3.191223 -3.518725 -3.308834 -3.331828 -3.210956   \n",
              "4 -2.317730 -2.668194 -3.194695 -3.517354 -3.080919 -2.906204 -2.973126   \n",
              "\n",
              "       7         8         9       ...         9714      9715      9716  \\\n",
              "0 -4.378190 -4.185228 -2.353858    ...    -4.385732 -4.384681 -4.386783   \n",
              "1 -3.926645 -3.865414 -4.027184    ...    -3.929739 -3.932176 -3.927303   \n",
              "2 -2.415745 -2.344068 -2.380065    ...    -2.417738 -2.418958 -2.416519   \n",
              "3 -3.596535 -3.556721 -3.524609    ...    -3.569183 -3.569433 -3.568932   \n",
              "4 -3.517717 -3.503757 -2.481201    ...    -3.637479 -3.638044 -3.636914   \n",
              "\n",
              "       9717      9718      9719      9720      9721      9722      9723  \n",
              "0 -4.386783 -4.385732 -4.386783 -4.385732 -4.385732 -4.385732 -4.402181  \n",
              "1 -3.927303 -3.929739 -3.927303 -3.929739 -3.929739 -3.929739 -3.932312  \n",
              "2 -2.416519 -2.417738 -2.416519 -2.417738 -2.417738 -2.417738 -2.424740  \n",
              "3 -3.568932 -3.569183 -3.568932 -3.569183 -3.569183 -3.569183 -3.576138  \n",
              "4 -3.636914 -3.637479 -3.636914 -3.637479 -3.637479 -3.637479 -3.640545  \n",
              "\n",
              "[5 rows x 9724 columns]"
            ]
          },
          "metadata": {
            "tags": []
          },
          "execution_count": 171
        }
      ]
    },
    {
      "cell_type": "code",
      "metadata": {
        "id": "zv96C9JRDAI7",
        "colab_type": "code",
        "colab": {}
      },
      "source": [
        "all_user_predicted_ratings = np.dot(np.dot(U, sigma), Vt) "
      ],
      "execution_count": 0,
      "outputs": []
    },
    {
      "cell_type": "code",
      "metadata": {
        "id": "0p3FPWw0DAI8",
        "colab_type": "code",
        "colab": {},
        "outputId": "8e4fa1d5-617c-4e22-c8bd-73857a38a406"
      },
      "source": [
        "Ymean[:,np.newaxis].shape"
      ],
      "execution_count": 0,
      "outputs": [
        {
          "output_type": "execute_result",
          "data": {
            "text/plain": [
              "(610, 1)"
            ]
          },
          "metadata": {
            "tags": []
          },
          "execution_count": 173
        }
      ]
    },
    {
      "cell_type": "code",
      "metadata": {
        "id": "r_eTiClEDAI9",
        "colab_type": "code",
        "colab": {},
        "outputId": "4bcbc313-0c7b-4d67-ed1c-cc09221652ab"
      },
      "source": [
        "preds_df = pd.DataFrame(all_user_predicted_ratings, columns = R_df.columns)\n",
        "print(preds_df.shape)"
      ],
      "execution_count": 0,
      "outputs": [
        {
          "output_type": "stream",
          "text": [
            "(610, 9724)\n"
          ],
          "name": "stdout"
        }
      ]
    },
    {
      "cell_type": "code",
      "metadata": {
        "id": "V7x6D8Y9DAI_",
        "colab_type": "code",
        "colab": {}
      },
      "source": [
        "def recommend_movies(predictions_df, userID, movies_df, original_ratings_df, num_recommendations=5):\n",
        "\n",
        "    user_row_number = userID -1\n",
        "    sorted_user_predictions = predictions_df.iloc[user_row_number].sort_values(ascending=False)\n",
        "\n",
        "    user_data = original_ratings_df[original_ratings_df.user_id == userID]\n",
        "    user_full = (user_data.merge(movies_df, how = 'left', left_on = 'movie_id', right_on = 'movie_id').\n",
        "                     sort_values(['rating'], ascending=False))\n",
        "\n",
        "    print ('Пользователь с id  №{0} на данный момент оценил {1} фильмов.'.format(userID, user_full.shape[0]))\n",
        "    print ('Предложнено топ-{0} фильмов ждущих оценки.'.format(num_recommendations))\n",
        "    \n",
        "    recommendations = (movies_df[~movies_df['movie_id'].isin(user_full['movie_id'])].\n",
        "         merge(pd.DataFrame(sorted_user_predictions).reset_index(), how = 'left',\n",
        "               left_on = 'movie_id',\n",
        "               right_on = 'movie_id').\n",
        "         rename(columns = {user_row_number: 'Predictions'}).\n",
        "         sort_values('Predictions', ascending = False).\n",
        "                       iloc[:num_recommendations, :-1]\n",
        "                      )\n",
        "\n",
        "    return user_full, recommendations"
      ],
      "execution_count": 0,
      "outputs": []
    },
    {
      "cell_type": "code",
      "metadata": {
        "id": "fMW0Jan2DAJA",
        "colab_type": "code",
        "colab": {},
        "outputId": "6f7d85bc-f226-4f26-8ac0-cbcb576a07f3"
      },
      "source": [
        "already_rated, predictions = recommend_movies(preds_df, 47, movies, ratings, 10)"
      ],
      "execution_count": 0,
      "outputs": [
        {
          "output_type": "stream",
          "text": [
            "Пользователь с id  №47 на данный момент оценил 140 фильмов.\n",
            "Предложнено топ-10 фильмов ждущих оценки.\n"
          ],
          "name": "stdout"
        }
      ]
    },
    {
      "cell_type": "code",
      "metadata": {
        "id": "gpI9w5YyDAJB",
        "colab_type": "code",
        "colab": {},
        "outputId": "a4b73003-9265-4a26-fe2a-9f8365b1c35b"
      },
      "source": [
        "already_rated.head(10)"
      ],
      "execution_count": 0,
      "outputs": [
        {
          "output_type": "execute_result",
          "data": {
            "text/html": [
              "<div>\n",
              "<style scoped>\n",
              "    .dataframe tbody tr th:only-of-type {\n",
              "        vertical-align: middle;\n",
              "    }\n",
              "\n",
              "    .dataframe tbody tr th {\n",
              "        vertical-align: top;\n",
              "    }\n",
              "\n",
              "    .dataframe thead th {\n",
              "        text-align: right;\n",
              "    }\n",
              "</style>\n",
              "<table border=\"1\" class=\"dataframe\">\n",
              "  <thead>\n",
              "    <tr style=\"text-align: right;\">\n",
              "      <th></th>\n",
              "      <th>user_id</th>\n",
              "      <th>movie_id</th>\n",
              "      <th>rating</th>\n",
              "      <th>timestamp</th>\n",
              "      <th>title</th>\n",
              "      <th>genres</th>\n",
              "    </tr>\n",
              "  </thead>\n",
              "  <tbody>\n",
              "    <tr>\n",
              "      <th>123</th>\n",
              "      <td>47</td>\n",
              "      <td>112804</td>\n",
              "      <td>5.0</td>\n",
              "      <td>1496205128</td>\n",
              "      <td>I Origins (2014)</td>\n",
              "      <td>Drama|Sci-Fi</td>\n",
              "    </tr>\n",
              "    <tr>\n",
              "      <th>79</th>\n",
              "      <td>47</td>\n",
              "      <td>47423</td>\n",
              "      <td>5.0</td>\n",
              "      <td>1496205761</td>\n",
              "      <td>Half Nelson (2006)</td>\n",
              "      <td>Drama</td>\n",
              "    </tr>\n",
              "    <tr>\n",
              "      <th>40</th>\n",
              "      <td>47</td>\n",
              "      <td>3147</td>\n",
              "      <td>5.0</td>\n",
              "      <td>1496205029</td>\n",
              "      <td>Green Mile, The (1999)</td>\n",
              "      <td>Crime|Drama</td>\n",
              "    </tr>\n",
              "    <tr>\n",
              "      <th>121</th>\n",
              "      <td>47</td>\n",
              "      <td>112552</td>\n",
              "      <td>5.0</td>\n",
              "      <td>1496205226</td>\n",
              "      <td>Whiplash (2014)</td>\n",
              "      <td>Drama</td>\n",
              "    </tr>\n",
              "    <tr>\n",
              "      <th>84</th>\n",
              "      <td>47</td>\n",
              "      <td>51931</td>\n",
              "      <td>5.0</td>\n",
              "      <td>1496205747</td>\n",
              "      <td>Reign Over Me (2007)</td>\n",
              "      <td>Drama</td>\n",
              "    </tr>\n",
              "    <tr>\n",
              "      <th>8</th>\n",
              "      <td>47</td>\n",
              "      <td>391</td>\n",
              "      <td>4.5</td>\n",
              "      <td>1496206564</td>\n",
              "      <td>Jason's Lyric (1994)</td>\n",
              "      <td>Crime|Drama</td>\n",
              "    </tr>\n",
              "    <tr>\n",
              "      <th>75</th>\n",
              "      <td>47</td>\n",
              "      <td>33166</td>\n",
              "      <td>4.5</td>\n",
              "      <td>1496206497</td>\n",
              "      <td>Crash (2004)</td>\n",
              "      <td>Crime|Drama</td>\n",
              "    </tr>\n",
              "    <tr>\n",
              "      <th>102</th>\n",
              "      <td>47</td>\n",
              "      <td>84152</td>\n",
              "      <td>4.5</td>\n",
              "      <td>1496208763</td>\n",
              "      <td>Limitless (2011)</td>\n",
              "      <td>Sci-Fi|Thriller</td>\n",
              "    </tr>\n",
              "    <tr>\n",
              "      <th>7</th>\n",
              "      <td>47</td>\n",
              "      <td>356</td>\n",
              "      <td>4.5</td>\n",
              "      <td>1496206696</td>\n",
              "      <td>Forrest Gump (1994)</td>\n",
              "      <td>Comedy|Drama|Romance|War</td>\n",
              "    </tr>\n",
              "    <tr>\n",
              "      <th>89</th>\n",
              "      <td>47</td>\n",
              "      <td>63082</td>\n",
              "      <td>4.0</td>\n",
              "      <td>1496205289</td>\n",
              "      <td>Slumdog Millionaire (2008)</td>\n",
              "      <td>Crime|Drama|Romance</td>\n",
              "    </tr>\n",
              "  </tbody>\n",
              "</table>\n",
              "</div>"
            ],
            "text/plain": [
              "     user_id  movie_id  rating   timestamp                       title  \\\n",
              "123       47    112804     5.0  1496205128            I Origins (2014)   \n",
              "79        47     47423     5.0  1496205761          Half Nelson (2006)   \n",
              "40        47      3147     5.0  1496205029      Green Mile, The (1999)   \n",
              "121       47    112552     5.0  1496205226             Whiplash (2014)   \n",
              "84        47     51931     5.0  1496205747        Reign Over Me (2007)   \n",
              "8         47       391     4.5  1496206564        Jason's Lyric (1994)   \n",
              "75        47     33166     4.5  1496206497                Crash (2004)   \n",
              "102       47     84152     4.5  1496208763            Limitless (2011)   \n",
              "7         47       356     4.5  1496206696         Forrest Gump (1994)   \n",
              "89        47     63082     4.0  1496205289  Slumdog Millionaire (2008)   \n",
              "\n",
              "                       genres  \n",
              "123              Drama|Sci-Fi  \n",
              "79                      Drama  \n",
              "40                Crime|Drama  \n",
              "121                     Drama  \n",
              "84                      Drama  \n",
              "8                 Crime|Drama  \n",
              "75                Crime|Drama  \n",
              "102           Sci-Fi|Thriller  \n",
              "7    Comedy|Drama|Romance|War  \n",
              "89        Crime|Drama|Romance  "
            ]
          },
          "metadata": {
            "tags": []
          },
          "execution_count": 177
        }
      ]
    },
    {
      "cell_type": "code",
      "metadata": {
        "id": "hnNlhfzmDAJG",
        "colab_type": "code",
        "colab": {},
        "outputId": "ad610e25-239e-48b6-dc41-dc275215746f"
      },
      "source": [
        "predictions"
      ],
      "execution_count": 0,
      "outputs": [
        {
          "output_type": "execute_result",
          "data": {
            "text/html": [
              "<div>\n",
              "<style scoped>\n",
              "    .dataframe tbody tr th:only-of-type {\n",
              "        vertical-align: middle;\n",
              "    }\n",
              "\n",
              "    .dataframe tbody tr th {\n",
              "        vertical-align: top;\n",
              "    }\n",
              "\n",
              "    .dataframe thead th {\n",
              "        text-align: right;\n",
              "    }\n",
              "</style>\n",
              "<table border=\"1\" class=\"dataframe\">\n",
              "  <thead>\n",
              "    <tr style=\"text-align: right;\">\n",
              "      <th></th>\n",
              "      <th>movie_id</th>\n",
              "      <th>title</th>\n",
              "      <th>genres</th>\n",
              "    </tr>\n",
              "  </thead>\n",
              "  <tbody>\n",
              "    <tr>\n",
              "      <th>251</th>\n",
              "      <td>296</td>\n",
              "      <td>Pulp Fiction (1994)</td>\n",
              "      <td>Comedy|Crime|Drama|Thriller</td>\n",
              "    </tr>\n",
              "    <tr>\n",
              "      <th>450</th>\n",
              "      <td>527</td>\n",
              "      <td>Schindler's List (1993)</td>\n",
              "      <td>Drama|War</td>\n",
              "    </tr>\n",
              "    <tr>\n",
              "      <th>1259</th>\n",
              "      <td>1704</td>\n",
              "      <td>Good Will Hunting (1997)</td>\n",
              "      <td>Drama|Romance</td>\n",
              "    </tr>\n",
              "    <tr>\n",
              "      <th>7275</th>\n",
              "      <td>79132</td>\n",
              "      <td>Inception (2010)</td>\n",
              "      <td>Action|Crime|Drama|Mystery|Sci-Fi|Thriller|IMAX</td>\n",
              "    </tr>\n",
              "    <tr>\n",
              "      <th>44</th>\n",
              "      <td>50</td>\n",
              "      <td>Usual Suspects, The (1995)</td>\n",
              "      <td>Crime|Mystery|Thriller</td>\n",
              "    </tr>\n",
              "    <tr>\n",
              "      <th>2108</th>\n",
              "      <td>2858</td>\n",
              "      <td>American Beauty (1999)</td>\n",
              "      <td>Drama|Romance</td>\n",
              "    </tr>\n",
              "    <tr>\n",
              "      <th>1905</th>\n",
              "      <td>2571</td>\n",
              "      <td>Matrix, The (1999)</td>\n",
              "      <td>Action|Sci-Fi|Thriller</td>\n",
              "    </tr>\n",
              "    <tr>\n",
              "      <th>6622</th>\n",
              "      <td>58559</td>\n",
              "      <td>Dark Knight, The (2008)</td>\n",
              "      <td>Action|Crime|Drama|IMAX</td>\n",
              "    </tr>\n",
              "    <tr>\n",
              "      <th>3587</th>\n",
              "      <td>4995</td>\n",
              "      <td>Beautiful Mind, A (2001)</td>\n",
              "      <td>Drama|Romance</td>\n",
              "    </tr>\n",
              "    <tr>\n",
              "      <th>94</th>\n",
              "      <td>110</td>\n",
              "      <td>Braveheart (1995)</td>\n",
              "      <td>Action|Drama|War</td>\n",
              "    </tr>\n",
              "  </tbody>\n",
              "</table>\n",
              "</div>"
            ],
            "text/plain": [
              "      movie_id                       title  \\\n",
              "251        296         Pulp Fiction (1994)   \n",
              "450        527     Schindler's List (1993)   \n",
              "1259      1704    Good Will Hunting (1997)   \n",
              "7275     79132            Inception (2010)   \n",
              "44          50  Usual Suspects, The (1995)   \n",
              "2108      2858      American Beauty (1999)   \n",
              "1905      2571          Matrix, The (1999)   \n",
              "6622     58559     Dark Knight, The (2008)   \n",
              "3587      4995    Beautiful Mind, A (2001)   \n",
              "94         110           Braveheart (1995)   \n",
              "\n",
              "                                               genres  \n",
              "251                       Comedy|Crime|Drama|Thriller  \n",
              "450                                         Drama|War  \n",
              "1259                                    Drama|Romance  \n",
              "7275  Action|Crime|Drama|Mystery|Sci-Fi|Thriller|IMAX  \n",
              "44                             Crime|Mystery|Thriller  \n",
              "2108                                    Drama|Romance  \n",
              "1905                           Action|Sci-Fi|Thriller  \n",
              "6622                          Action|Crime|Drama|IMAX  \n",
              "3587                                    Drama|Romance  \n",
              "94                                   Action|Drama|War  "
            ]
          },
          "metadata": {
            "tags": []
          },
          "execution_count": 178
        }
      ]
    },
    {
      "cell_type": "markdown",
      "metadata": {
        "id": "WogMubuKDAJI",
        "colab_type": "text"
      },
      "source": [
        "### Посчитаем метрики"
      ]
    },
    {
      "cell_type": "code",
      "metadata": {
        "id": "p-n-FB3gDAJJ",
        "colab_type": "code",
        "colab": {},
        "outputId": "fae90061-463b-4298-ef0e-77f259b2cdbe"
      },
      "source": [
        "# количество оценок \n",
        "df_RateCount = pd.DataFrame(df.groupby('movie_id', as_index = False)['rating'].count()\n",
        "                              .rename(columns={'rating' : 'RateCount'}))\n",
        "df_RateCount.sort_values('RateCount',ascending=False).head(5)"
      ],
      "execution_count": 0,
      "outputs": [
        {
          "output_type": "execute_result",
          "data": {
            "text/html": [
              "<div>\n",
              "<style scoped>\n",
              "    .dataframe tbody tr th:only-of-type {\n",
              "        vertical-align: middle;\n",
              "    }\n",
              "\n",
              "    .dataframe tbody tr th {\n",
              "        vertical-align: top;\n",
              "    }\n",
              "\n",
              "    .dataframe thead th {\n",
              "        text-align: right;\n",
              "    }\n",
              "</style>\n",
              "<table border=\"1\" class=\"dataframe\">\n",
              "  <thead>\n",
              "    <tr style=\"text-align: right;\">\n",
              "      <th></th>\n",
              "      <th>movie_id</th>\n",
              "      <th>RateCount</th>\n",
              "    </tr>\n",
              "  </thead>\n",
              "  <tbody>\n",
              "    <tr>\n",
              "      <th>314</th>\n",
              "      <td>356</td>\n",
              "      <td>329</td>\n",
              "    </tr>\n",
              "    <tr>\n",
              "      <th>277</th>\n",
              "      <td>318</td>\n",
              "      <td>317</td>\n",
              "    </tr>\n",
              "    <tr>\n",
              "      <th>257</th>\n",
              "      <td>296</td>\n",
              "      <td>307</td>\n",
              "    </tr>\n",
              "    <tr>\n",
              "      <th>510</th>\n",
              "      <td>593</td>\n",
              "      <td>279</td>\n",
              "    </tr>\n",
              "    <tr>\n",
              "      <th>1938</th>\n",
              "      <td>2571</td>\n",
              "      <td>278</td>\n",
              "    </tr>\n",
              "  </tbody>\n",
              "</table>\n",
              "</div>"
            ],
            "text/plain": [
              "      movie_id  RateCount\n",
              "314        356        329\n",
              "277        318        317\n",
              "257        296        307\n",
              "510        593        279\n",
              "1938      2571        278"
            ]
          },
          "metadata": {
            "tags": []
          },
          "execution_count": 153
        }
      ]
    },
    {
      "cell_type": "code",
      "metadata": {
        "id": "310GlGYjDAJL",
        "colab_type": "code",
        "colab": {},
        "outputId": "932fbcda-c94b-493d-8156-b529f54196df"
      },
      "source": [
        "df_RateMean = pd.DataFrame(df.groupby('movie_id', as_index = False)['rating'].mean()\n",
        "                              .rename(columns={'rating' : 'RateMean'}))\n",
        "df_RateMean.sort_values('RateMean',ascending=False).head(5)"
      ],
      "execution_count": 0,
      "outputs": [
        {
          "output_type": "execute_result",
          "data": {
            "text/html": [
              "<div>\n",
              "<style scoped>\n",
              "    .dataframe tbody tr th:only-of-type {\n",
              "        vertical-align: middle;\n",
              "    }\n",
              "\n",
              "    .dataframe tbody tr th {\n",
              "        vertical-align: top;\n",
              "    }\n",
              "\n",
              "    .dataframe thead th {\n",
              "        text-align: right;\n",
              "    }\n",
              "</style>\n",
              "<table border=\"1\" class=\"dataframe\">\n",
              "  <thead>\n",
              "    <tr style=\"text-align: right;\">\n",
              "      <th></th>\n",
              "      <th>movie_id</th>\n",
              "      <th>RateMean</th>\n",
              "    </tr>\n",
              "  </thead>\n",
              "  <tbody>\n",
              "    <tr>\n",
              "      <th>7617</th>\n",
              "      <td>87834</td>\n",
              "      <td>5.0</td>\n",
              "    </tr>\n",
              "    <tr>\n",
              "      <th>8917</th>\n",
              "      <td>136359</td>\n",
              "      <td>5.0</td>\n",
              "    </tr>\n",
              "    <tr>\n",
              "      <th>2232</th>\n",
              "      <td>2969</td>\n",
              "      <td>5.0</td>\n",
              "    </tr>\n",
              "    <tr>\n",
              "      <th>8854</th>\n",
              "      <td>134004</td>\n",
              "      <td>5.0</td>\n",
              "    </tr>\n",
              "    <tr>\n",
              "      <th>4759</th>\n",
              "      <td>7096</td>\n",
              "      <td>5.0</td>\n",
              "    </tr>\n",
              "  </tbody>\n",
              "</table>\n",
              "</div>"
            ],
            "text/plain": [
              "      movie_id  RateMean\n",
              "7617     87834       5.0\n",
              "8917    136359       5.0\n",
              "2232      2969       5.0\n",
              "8854    134004       5.0\n",
              "4759      7096       5.0"
            ]
          },
          "metadata": {
            "tags": []
          },
          "execution_count": 154
        }
      ]
    },
    {
      "cell_type": "code",
      "metadata": {
        "id": "vnG1MwbcDAJN",
        "colab_type": "code",
        "colab": {},
        "outputId": "6cf11b7a-519a-4d21-851a-060e5de0f359"
      },
      "source": [
        "df_movie_rate = pd.merge(df_RateCount,df_RateMean, on='movie_id')\n",
        "df_movie_rate = df_movie_rate.sort_values('RateCount',ascending=False)\n",
        "df_movie_rate.head(10)"
      ],
      "execution_count": 0,
      "outputs": [
        {
          "output_type": "execute_result",
          "data": {
            "text/html": [
              "<div>\n",
              "<style scoped>\n",
              "    .dataframe tbody tr th:only-of-type {\n",
              "        vertical-align: middle;\n",
              "    }\n",
              "\n",
              "    .dataframe tbody tr th {\n",
              "        vertical-align: top;\n",
              "    }\n",
              "\n",
              "    .dataframe thead th {\n",
              "        text-align: right;\n",
              "    }\n",
              "</style>\n",
              "<table border=\"1\" class=\"dataframe\">\n",
              "  <thead>\n",
              "    <tr style=\"text-align: right;\">\n",
              "      <th></th>\n",
              "      <th>movie_id</th>\n",
              "      <th>RateCount</th>\n",
              "      <th>RateMean</th>\n",
              "    </tr>\n",
              "  </thead>\n",
              "  <tbody>\n",
              "    <tr>\n",
              "      <th>314</th>\n",
              "      <td>356</td>\n",
              "      <td>329</td>\n",
              "      <td>4.164134</td>\n",
              "    </tr>\n",
              "    <tr>\n",
              "      <th>277</th>\n",
              "      <td>318</td>\n",
              "      <td>317</td>\n",
              "      <td>4.429022</td>\n",
              "    </tr>\n",
              "    <tr>\n",
              "      <th>257</th>\n",
              "      <td>296</td>\n",
              "      <td>307</td>\n",
              "      <td>4.197068</td>\n",
              "    </tr>\n",
              "    <tr>\n",
              "      <th>510</th>\n",
              "      <td>593</td>\n",
              "      <td>279</td>\n",
              "      <td>4.161290</td>\n",
              "    </tr>\n",
              "    <tr>\n",
              "      <th>1938</th>\n",
              "      <td>2571</td>\n",
              "      <td>278</td>\n",
              "      <td>4.192446</td>\n",
              "    </tr>\n",
              "    <tr>\n",
              "      <th>224</th>\n",
              "      <td>260</td>\n",
              "      <td>251</td>\n",
              "      <td>4.231076</td>\n",
              "    </tr>\n",
              "    <tr>\n",
              "      <th>418</th>\n",
              "      <td>480</td>\n",
              "      <td>238</td>\n",
              "      <td>3.750000</td>\n",
              "    </tr>\n",
              "    <tr>\n",
              "      <th>97</th>\n",
              "      <td>110</td>\n",
              "      <td>237</td>\n",
              "      <td>4.031646</td>\n",
              "    </tr>\n",
              "    <tr>\n",
              "      <th>507</th>\n",
              "      <td>589</td>\n",
              "      <td>224</td>\n",
              "      <td>3.970982</td>\n",
              "    </tr>\n",
              "    <tr>\n",
              "      <th>461</th>\n",
              "      <td>527</td>\n",
              "      <td>220</td>\n",
              "      <td>4.225000</td>\n",
              "    </tr>\n",
              "  </tbody>\n",
              "</table>\n",
              "</div>"
            ],
            "text/plain": [
              "      movie_id  RateCount  RateMean\n",
              "314        356        329  4.164134\n",
              "277        318        317  4.429022\n",
              "257        296        307  4.197068\n",
              "510        593        279  4.161290\n",
              "1938      2571        278  4.192446\n",
              "224        260        251  4.231076\n",
              "418        480        238  3.750000\n",
              "97         110        237  4.031646\n",
              "507        589        224  3.970982\n",
              "461        527        220  4.225000"
            ]
          },
          "metadata": {
            "tags": []
          },
          "execution_count": 155
        }
      ]
    },
    {
      "cell_type": "code",
      "metadata": {
        "id": "U3RCpqOlDAJO",
        "colab_type": "code",
        "colab": {}
      },
      "source": [
        "y = df_movie_rate['movie_id'].iloc[:10].values\n",
        "y_pred = predictions['movie_id'].values\n",
        "gids = np.zeros(len(y))"
      ],
      "execution_count": 0,
      "outputs": []
    },
    {
      "cell_type": "code",
      "metadata": {
        "id": "eRjp1AX2DAJQ",
        "colab_type": "code",
        "colab": {}
      },
      "source": [
        "ltr_metrics = [MeanPrecision(),\n",
        "               MeanPrecision(3),\n",
        "               MeanPrecision(1),\n",
        "               MeanAveragePrecision(),\n",
        "               MeanAveragePrecision(3),\n",
        "               MeanAveragePrecision(1),\n",
        "               MPR(),\n",
        "               MPR(3),\n",
        "               MPR(1)\n",
        "               ]"
      ],
      "execution_count": 0,
      "outputs": []
    },
    {
      "cell_type": "code",
      "metadata": {
        "id": "rlmBqcq0DAJS",
        "colab_type": "code",
        "colab": {},
        "outputId": "70c6041b-210b-4c66-883b-0f305e24c118"
      },
      "source": [
        "for metric in ltr_metrics:\n",
        "    print(metric, metric(y, y_pred, gids))"
      ],
      "execution_count": 0,
      "outputs": [
        {
          "output_type": "stream",
          "text": [
            "mean_precision@10 610.0\n",
            "mean_precision@3 430.6666666666667\n",
            "mean_precision@1 593.0\n",
            "mean_average_precision@10 431.2927777777778\n",
            "mean_average_precision@3 458.3888888888889\n",
            "mean_average_precision@1 593.0\n",
            "mean_percintale_rank@10 1.0\n",
            "mean_percintale_rank@3 1.0\n",
            "mean_percintale_rank@1 1.0\n"
          ],
          "name": "stdout"
        }
      ]
    },
    {
      "cell_type": "markdown",
      "metadata": {
        "id": "ckg8gsV-DAJU",
        "colab_type": "text"
      },
      "source": [
        "#### Collaborative filtering using sklearn surprise lib"
      ]
    },
    {
      "cell_type": "code",
      "metadata": {
        "colab_type": "code",
        "id": "_uddAqNi0A2L",
        "colab": {}
      },
      "source": [
        "#!pip install scikit-surprise\n",
        "from surprise import Reader\n",
        "from surprise import Dataset\n",
        "from surprise.model_selection import cross_validate\n",
        "from surprise import NormalPredictor\n",
        "from surprise import KNNBasic\n",
        "from surprise import KNNBaseline\n",
        "from surprise import SVD\n",
        "from surprise import BaselineOnly\n",
        "from surprise import SVDpp\n",
        "from surprise import CoClustering\n",
        "from surprise.accuracy import rmse\n",
        "from surprise import accuracy\n",
        "from surprise.model_selection import train_test_split"
      ],
      "execution_count": 0,
      "outputs": []
    },
    {
      "cell_type": "code",
      "metadata": {
        "id": "o0qjwbKrDAJV",
        "colab_type": "code",
        "colab": {},
        "outputId": "b963550e-5c06-45e8-ebbe-179ddfc80d70"
      },
      "source": [
        "movies_cols = ['movie_id', 'title', 'genres']\n",
        "movies = pd.read_csv(r'C:\\Users\\Илья\\Desktop\\ml-latest-small\\ml-latest-small\\movies.csv', \n",
        "                     engine = 'python',names=movies_cols, sep=',',header=None, skiprows=[0,], encoding='latin-1')\n",
        "movies.drop([0], inplace=True)\n",
        "movies.drop('genres', axis = 1, inplace = True)\n",
        "movies.head()"
      ],
      "execution_count": 0,
      "outputs": [
        {
          "output_type": "execute_result",
          "data": {
            "text/html": [
              "<div>\n",
              "<style scoped>\n",
              "    .dataframe tbody tr th:only-of-type {\n",
              "        vertical-align: middle;\n",
              "    }\n",
              "\n",
              "    .dataframe tbody tr th {\n",
              "        vertical-align: top;\n",
              "    }\n",
              "\n",
              "    .dataframe thead th {\n",
              "        text-align: right;\n",
              "    }\n",
              "</style>\n",
              "<table border=\"1\" class=\"dataframe\">\n",
              "  <thead>\n",
              "    <tr style=\"text-align: right;\">\n",
              "      <th></th>\n",
              "      <th>movie_id</th>\n",
              "      <th>title</th>\n",
              "    </tr>\n",
              "  </thead>\n",
              "  <tbody>\n",
              "    <tr>\n",
              "      <th>1</th>\n",
              "      <td>2</td>\n",
              "      <td>Jumanji (1995)</td>\n",
              "    </tr>\n",
              "    <tr>\n",
              "      <th>2</th>\n",
              "      <td>3</td>\n",
              "      <td>Grumpier Old Men (1995)</td>\n",
              "    </tr>\n",
              "    <tr>\n",
              "      <th>3</th>\n",
              "      <td>4</td>\n",
              "      <td>Waiting to Exhale (1995)</td>\n",
              "    </tr>\n",
              "    <tr>\n",
              "      <th>4</th>\n",
              "      <td>5</td>\n",
              "      <td>Father of the Bride Part II (1995)</td>\n",
              "    </tr>\n",
              "    <tr>\n",
              "      <th>5</th>\n",
              "      <td>6</td>\n",
              "      <td>Heat (1995)</td>\n",
              "    </tr>\n",
              "  </tbody>\n",
              "</table>\n",
              "</div>"
            ],
            "text/plain": [
              "   movie_id                               title\n",
              "1         2                      Jumanji (1995)\n",
              "2         3             Grumpier Old Men (1995)\n",
              "3         4            Waiting to Exhale (1995)\n",
              "4         5  Father of the Bride Part II (1995)\n",
              "5         6                         Heat (1995)"
            ]
          },
          "metadata": {
            "tags": []
          },
          "execution_count": 44
        }
      ]
    },
    {
      "cell_type": "code",
      "metadata": {
        "id": "CWDrmS2QDAJX",
        "colab_type": "code",
        "colab": {}
      },
      "source": [
        "df_ML = ratings.merge(movies, on='movie_id')\n",
        "df_ML.rating = df_ML.rating.astype(float)\n",
        "df_ML.user_id = df_ML.user_id.astype(int)\n",
        "df_ML.movie_id = df_ML.movie_id.astype(int)"
      ],
      "execution_count": 0,
      "outputs": []
    },
    {
      "cell_type": "code",
      "metadata": {
        "id": "HzGkS9IjDAJX",
        "colab_type": "code",
        "colab": {},
        "outputId": "dccae49e-6fe1-4fee-87bc-596040750733"
      },
      "source": [
        "df_ML.head()"
      ],
      "execution_count": 0,
      "outputs": [
        {
          "output_type": "execute_result",
          "data": {
            "text/html": [
              "<div>\n",
              "<style scoped>\n",
              "    .dataframe tbody tr th:only-of-type {\n",
              "        vertical-align: middle;\n",
              "    }\n",
              "\n",
              "    .dataframe tbody tr th {\n",
              "        vertical-align: top;\n",
              "    }\n",
              "\n",
              "    .dataframe thead th {\n",
              "        text-align: right;\n",
              "    }\n",
              "</style>\n",
              "<table border=\"1\" class=\"dataframe\">\n",
              "  <thead>\n",
              "    <tr style=\"text-align: right;\">\n",
              "      <th></th>\n",
              "      <th>user_id</th>\n",
              "      <th>movie_id</th>\n",
              "      <th>rating</th>\n",
              "      <th>date</th>\n",
              "      <th>title</th>\n",
              "    </tr>\n",
              "  </thead>\n",
              "  <tbody>\n",
              "    <tr>\n",
              "      <th>0</th>\n",
              "      <td>1</td>\n",
              "      <td>3</td>\n",
              "      <td>4.0</td>\n",
              "      <td>1970-01-01</td>\n",
              "      <td>Grumpier Old Men (1995)</td>\n",
              "    </tr>\n",
              "    <tr>\n",
              "      <th>1</th>\n",
              "      <td>6</td>\n",
              "      <td>3</td>\n",
              "      <td>5.0</td>\n",
              "      <td>1970-01-01</td>\n",
              "      <td>Grumpier Old Men (1995)</td>\n",
              "    </tr>\n",
              "    <tr>\n",
              "      <th>2</th>\n",
              "      <td>19</td>\n",
              "      <td>3</td>\n",
              "      <td>3.0</td>\n",
              "      <td>1970-01-01</td>\n",
              "      <td>Grumpier Old Men (1995)</td>\n",
              "    </tr>\n",
              "    <tr>\n",
              "      <th>3</th>\n",
              "      <td>32</td>\n",
              "      <td>3</td>\n",
              "      <td>3.0</td>\n",
              "      <td>1970-01-01</td>\n",
              "      <td>Grumpier Old Men (1995)</td>\n",
              "    </tr>\n",
              "    <tr>\n",
              "      <th>4</th>\n",
              "      <td>42</td>\n",
              "      <td>3</td>\n",
              "      <td>4.0</td>\n",
              "      <td>1970-01-01</td>\n",
              "      <td>Grumpier Old Men (1995)</td>\n",
              "    </tr>\n",
              "  </tbody>\n",
              "</table>\n",
              "</div>"
            ],
            "text/plain": [
              "   user_id  movie_id  rating        date                    title\n",
              "0        1         3     4.0  1970-01-01  Grumpier Old Men (1995)\n",
              "1        6         3     5.0  1970-01-01  Grumpier Old Men (1995)\n",
              "2       19         3     3.0  1970-01-01  Grumpier Old Men (1995)\n",
              "3       32         3     3.0  1970-01-01  Grumpier Old Men (1995)\n",
              "4       42         3     4.0  1970-01-01  Grumpier Old Men (1995)"
            ]
          },
          "metadata": {
            "tags": []
          },
          "execution_count": 46
        }
      ]
    },
    {
      "cell_type": "code",
      "metadata": {
        "colab_type": "code",
        "id": "WvPvP-qy-YDA",
        "colab": {},
        "outputId": "9df8335a-4884-45bd-e4c0-3611ed057eca"
      },
      "source": [
        "min_item_clicks = 25\n",
        "filter_items = df_ML['movie_id'].value_counts() > min_item_clicks\n",
        "filter_items = filter_items[filter_items].index.tolist()\n",
        "\n",
        "min_user_clicks = 25\n",
        "filter_users = df_ML['user_id'].value_counts() > min_user_clicks\n",
        "filter_users = filter_users[filter_users].index.tolist()\n",
        "\n",
        "df_filtered = df_ML[(df_ML['movie_id'].isin(filter_items)) & (df_ML['user_id'].isin(filter_users))]\n",
        "print('Размер оригинального сета:\\t{}'.format(df.shape))\n",
        "print('Размер очищенного сета:\\t{}'.format(df_filtered.shape))"
      ],
      "execution_count": 0,
      "outputs": [
        {
          "output_type": "stream",
          "text": [
            "Размер оригинального сета:\t(100818, 7)\n",
            "Размер очищенного сета:\t(60115, 5)\n"
          ],
          "name": "stdout"
        }
      ]
    },
    {
      "cell_type": "code",
      "metadata": {
        "colab_type": "code",
        "id": "uO5IoM8R-YGX",
        "colab": {}
      },
      "source": [
        "reader = Reader(rating_scale=(1, 5))\n",
        "data = Dataset.load_from_df(df_filtered[['user_id', 'movie_id', 'rating']], reader)"
      ],
      "execution_count": 0,
      "outputs": []
    },
    {
      "cell_type": "code",
      "metadata": {
        "colab_type": "code",
        "id": "D1haJrDz-YMW",
        "colab": {},
        "outputId": "529f164b-2e85-4740-f661-93f1f1c3cd8b"
      },
      "source": [
        "benchmark = []\n",
        "\n",
        "for algo in [SVD(),SVDpp(), KNNBaseline(), KNNBasic(), BaselineOnly(), NormalPredictor(), CoClustering()]:\n",
        "\n",
        "    print('Начало кросс-валидации для {}'.format(algo))\n",
        "    results = cross_validate(algo, data, measures=['RMSE'], cv=5, verbose=False)\n",
        "    \n",
        "    tmp = pd.DataFrame.from_dict(results).mean(axis=0)\n",
        "    tmp = tmp.append(pd.Series([str(algo).split(' ')[0].split('.')[-1]], index=['Algorithm']))\n",
        "    benchmark.append(tmp)"
      ],
      "execution_count": 0,
      "outputs": [
        {
          "output_type": "stream",
          "text": [
            "Начало кросс-валидации для <surprise.prediction_algorithms.matrix_factorization.SVD object at 0x000001E33162E3C8>\n",
            "Начало кросс-валидации для <surprise.prediction_algorithms.matrix_factorization.SVDpp object at 0x000001E33162E358>\n",
            "Начало кросс-валидации для <surprise.prediction_algorithms.knns.KNNBaseline object at 0x000001E33162E320>\n",
            "Estimating biases using als...\n",
            "Computing the msd similarity matrix...\n",
            "Done computing similarity matrix.\n",
            "Estimating biases using als...\n",
            "Computing the msd similarity matrix...\n",
            "Done computing similarity matrix.\n",
            "Estimating biases using als...\n",
            "Computing the msd similarity matrix...\n",
            "Done computing similarity matrix.\n",
            "Estimating biases using als...\n",
            "Computing the msd similarity matrix...\n",
            "Done computing similarity matrix.\n",
            "Estimating biases using als...\n",
            "Computing the msd similarity matrix...\n",
            "Done computing similarity matrix.\n",
            "Начало кросс-валидации для <surprise.prediction_algorithms.knns.KNNBasic object at 0x000001E33162E2E8>\n",
            "Computing the msd similarity matrix...\n",
            "Done computing similarity matrix.\n",
            "Computing the msd similarity matrix...\n",
            "Done computing similarity matrix.\n",
            "Computing the msd similarity matrix...\n",
            "Done computing similarity matrix.\n",
            "Computing the msd similarity matrix...\n",
            "Done computing similarity matrix.\n",
            "Computing the msd similarity matrix...\n",
            "Done computing similarity matrix.\n",
            "Начало кросс-валидации для <surprise.prediction_algorithms.baseline_only.BaselineOnly object at 0x000001E33162E278>\n",
            "Estimating biases using als...\n",
            "Estimating biases using als...\n",
            "Estimating biases using als...\n",
            "Estimating biases using als...\n",
            "Estimating biases using als...\n",
            "Начало кросс-валидации для <surprise.prediction_algorithms.random_pred.NormalPredictor object at 0x000001E33162E240>\n",
            "Начало кросс-валидации для <surprise.prediction_algorithms.co_clustering.CoClustering object at 0x000001E33162E208>\n"
          ],
          "name": "stdout"
        }
      ]
    },
    {
      "cell_type": "code",
      "metadata": {
        "colab_type": "code",
        "id": "vUmMHi7d-YSN",
        "colab": {},
        "outputId": "a6e0411c-82f7-4fe8-9524-bdd5fc8c0f33"
      },
      "source": [
        "surprise_results = pd.DataFrame(benchmark).set_index('Algorithm').sort_values('test_rmse')\n",
        "surprise_results"
      ],
      "execution_count": 0,
      "outputs": [
        {
          "output_type": "execute_result",
          "data": {
            "text/html": [
              "<div>\n",
              "<style scoped>\n",
              "    .dataframe tbody tr th:only-of-type {\n",
              "        vertical-align: middle;\n",
              "    }\n",
              "\n",
              "    .dataframe tbody tr th {\n",
              "        vertical-align: top;\n",
              "    }\n",
              "\n",
              "    .dataframe thead th {\n",
              "        text-align: right;\n",
              "    }\n",
              "</style>\n",
              "<table border=\"1\" class=\"dataframe\">\n",
              "  <thead>\n",
              "    <tr style=\"text-align: right;\">\n",
              "      <th></th>\n",
              "      <th>test_rmse</th>\n",
              "      <th>fit_time</th>\n",
              "      <th>test_time</th>\n",
              "    </tr>\n",
              "    <tr>\n",
              "      <th>Algorithm</th>\n",
              "      <th></th>\n",
              "      <th></th>\n",
              "      <th></th>\n",
              "    </tr>\n",
              "  </thead>\n",
              "  <tbody>\n",
              "    <tr>\n",
              "      <th>SVDpp</th>\n",
              "      <td>0.826538</td>\n",
              "      <td>117.260212</td>\n",
              "      <td>2.284955</td>\n",
              "    </tr>\n",
              "    <tr>\n",
              "      <th>KNNBaseline</th>\n",
              "      <td>0.831032</td>\n",
              "      <td>0.239671</td>\n",
              "      <td>1.577111</td>\n",
              "    </tr>\n",
              "    <tr>\n",
              "      <th>SVD</th>\n",
              "      <td>0.839528</td>\n",
              "      <td>2.879407</td>\n",
              "      <td>0.100670</td>\n",
              "    </tr>\n",
              "    <tr>\n",
              "      <th>BaselineOnly</th>\n",
              "      <td>0.841158</td>\n",
              "      <td>0.095872</td>\n",
              "      <td>0.063113</td>\n",
              "    </tr>\n",
              "    <tr>\n",
              "      <th>CoClustering</th>\n",
              "      <td>0.881809</td>\n",
              "      <td>1.112122</td>\n",
              "      <td>0.080681</td>\n",
              "    </tr>\n",
              "    <tr>\n",
              "      <th>KNNBasic</th>\n",
              "      <td>0.890763</td>\n",
              "      <td>0.159790</td>\n",
              "      <td>1.120898</td>\n",
              "    </tr>\n",
              "    <tr>\n",
              "      <th>NormalPredictor</th>\n",
              "      <td>1.356649</td>\n",
              "      <td>0.067900</td>\n",
              "      <td>0.091090</td>\n",
              "    </tr>\n",
              "  </tbody>\n",
              "</table>\n",
              "</div>"
            ],
            "text/plain": [
              "                 test_rmse    fit_time  test_time\n",
              "Algorithm                                        \n",
              "SVDpp             0.826538  117.260212   2.284955\n",
              "KNNBaseline       0.831032    0.239671   1.577111\n",
              "SVD               0.839528    2.879407   0.100670\n",
              "BaselineOnly      0.841158    0.095872   0.063113\n",
              "CoClustering      0.881809    1.112122   0.080681\n",
              "KNNBasic          0.890763    0.159790   1.120898\n",
              "NormalPredictor   1.356649    0.067900   0.091090"
            ]
          },
          "metadata": {
            "tags": []
          },
          "execution_count": 50
        }
      ]
    },
    {
      "cell_type": "code",
      "metadata": {
        "colab_type": "code",
        "id": "Dqm4x_mu-YVh",
        "colab": {},
        "outputId": "bc8f5be8-51ad-4378-89c2-90d23bf0e7d3"
      },
      "source": [
        "benchmark = []\n",
        "\n",
        "methods = 'als'\n",
        "n_epochs = [10,15,20,40]\n",
        "reg_us = [2, 5 ,10]\n",
        "reg_is = [2, 5, 10]\n",
        "\n",
        "for n_epoch in n_epochs:\n",
        "  for reg_u in reg_us:\n",
        "    for reg_i in reg_is:\n",
        "      bsl_options = {'method': 'als',\n",
        "                     'n_epochs': n_epoch,\n",
        "                     'reg_u': reg_u,\n",
        "                     'reg_i': reg_i}\n",
        "\n",
        "      algo = BaselineOnly(bsl_options=bsl_options)\n",
        "      results = cross_validate(algo, data, measures=['RMSE'], cv=5, verbose=False)\n",
        "\n",
        "      tmp = pd.DataFrame.from_dict(results).mean(axis=0)\n",
        "      tmp = tmp.append(pd.Series([str(algo).split(' ')[0].split('.')[-1]], index=['Algorithm']))\n",
        "      tmp['n_epochs'] = n_epoch\n",
        "      tmp['reg_u'] = reg_u\n",
        "      tmp['reg_i'] = reg_i\n",
        "      benchmark.append(tmp)\n"
      ],
      "execution_count": 0,
      "outputs": [
        {
          "output_type": "stream",
          "text": [
            "Estimating biases using als...\n",
            "Estimating biases using als...\n",
            "Estimating biases using als...\n",
            "Estimating biases using als...\n",
            "Estimating biases using als...\n",
            "Estimating biases using als...\n",
            "Estimating biases using als...\n",
            "Estimating biases using als...\n",
            "Estimating biases using als...\n",
            "Estimating biases using als...\n",
            "Estimating biases using als...\n",
            "Estimating biases using als...\n",
            "Estimating biases using als...\n",
            "Estimating biases using als...\n",
            "Estimating biases using als...\n",
            "Estimating biases using als...\n",
            "Estimating biases using als...\n",
            "Estimating biases using als...\n",
            "Estimating biases using als...\n",
            "Estimating biases using als...\n",
            "Estimating biases using als...\n",
            "Estimating biases using als...\n",
            "Estimating biases using als...\n",
            "Estimating biases using als...\n",
            "Estimating biases using als...\n",
            "Estimating biases using als...\n",
            "Estimating biases using als...\n",
            "Estimating biases using als...\n",
            "Estimating biases using als...\n",
            "Estimating biases using als...\n",
            "Estimating biases using als...\n",
            "Estimating biases using als...\n",
            "Estimating biases using als...\n",
            "Estimating biases using als...\n",
            "Estimating biases using als...\n",
            "Estimating biases using als...\n",
            "Estimating biases using als...\n",
            "Estimating biases using als...\n",
            "Estimating biases using als...\n",
            "Estimating biases using als...\n",
            "Estimating biases using als...\n",
            "Estimating biases using als...\n",
            "Estimating biases using als...\n",
            "Estimating biases using als...\n",
            "Estimating biases using als...\n",
            "Estimating biases using als...\n",
            "Estimating biases using als...\n",
            "Estimating biases using als...\n",
            "Estimating biases using als...\n",
            "Estimating biases using als...\n",
            "Estimating biases using als...\n",
            "Estimating biases using als...\n",
            "Estimating biases using als...\n",
            "Estimating biases using als...\n",
            "Estimating biases using als...\n",
            "Estimating biases using als...\n",
            "Estimating biases using als...\n",
            "Estimating biases using als...\n",
            "Estimating biases using als...\n",
            "Estimating biases using als...\n",
            "Estimating biases using als...\n",
            "Estimating biases using als...\n",
            "Estimating biases using als...\n",
            "Estimating biases using als...\n",
            "Estimating biases using als...\n",
            "Estimating biases using als...\n",
            "Estimating biases using als...\n",
            "Estimating biases using als...\n",
            "Estimating biases using als...\n",
            "Estimating biases using als...\n",
            "Estimating biases using als...\n",
            "Estimating biases using als...\n",
            "Estimating biases using als...\n",
            "Estimating biases using als...\n",
            "Estimating biases using als...\n",
            "Estimating biases using als...\n",
            "Estimating biases using als...\n",
            "Estimating biases using als...\n",
            "Estimating biases using als...\n",
            "Estimating biases using als...\n",
            "Estimating biases using als...\n",
            "Estimating biases using als...\n",
            "Estimating biases using als...\n",
            "Estimating biases using als...\n",
            "Estimating biases using als...\n",
            "Estimating biases using als...\n",
            "Estimating biases using als...\n",
            "Estimating biases using als...\n",
            "Estimating biases using als...\n",
            "Estimating biases using als...\n",
            "Estimating biases using als...\n",
            "Estimating biases using als...\n",
            "Estimating biases using als...\n",
            "Estimating biases using als...\n",
            "Estimating biases using als...\n",
            "Estimating biases using als...\n",
            "Estimating biases using als...\n",
            "Estimating biases using als...\n",
            "Estimating biases using als...\n",
            "Estimating biases using als...\n",
            "Estimating biases using als...\n",
            "Estimating biases using als...\n",
            "Estimating biases using als...\n",
            "Estimating biases using als...\n",
            "Estimating biases using als...\n",
            "Estimating biases using als...\n",
            "Estimating biases using als...\n",
            "Estimating biases using als...\n",
            "Estimating biases using als...\n",
            "Estimating biases using als...\n",
            "Estimating biases using als...\n",
            "Estimating biases using als...\n",
            "Estimating biases using als...\n",
            "Estimating biases using als...\n",
            "Estimating biases using als...\n",
            "Estimating biases using als...\n",
            "Estimating biases using als...\n",
            "Estimating biases using als...\n",
            "Estimating biases using als...\n",
            "Estimating biases using als...\n",
            "Estimating biases using als...\n",
            "Estimating biases using als...\n",
            "Estimating biases using als...\n",
            "Estimating biases using als...\n",
            "Estimating biases using als...\n",
            "Estimating biases using als...\n",
            "Estimating biases using als...\n",
            "Estimating biases using als...\n",
            "Estimating biases using als...\n",
            "Estimating biases using als...\n",
            "Estimating biases using als...\n",
            "Estimating biases using als...\n",
            "Estimating biases using als...\n",
            "Estimating biases using als...\n",
            "Estimating biases using als...\n",
            "Estimating biases using als...\n",
            "Estimating biases using als...\n",
            "Estimating biases using als...\n",
            "Estimating biases using als...\n",
            "Estimating biases using als...\n",
            "Estimating biases using als...\n",
            "Estimating biases using als...\n",
            "Estimating biases using als...\n",
            "Estimating biases using als...\n",
            "Estimating biases using als...\n",
            "Estimating biases using als...\n",
            "Estimating biases using als...\n",
            "Estimating biases using als...\n",
            "Estimating biases using als...\n",
            "Estimating biases using als...\n",
            "Estimating biases using als...\n",
            "Estimating biases using als...\n",
            "Estimating biases using als...\n",
            "Estimating biases using als...\n",
            "Estimating biases using als...\n",
            "Estimating biases using als...\n",
            "Estimating biases using als...\n",
            "Estimating biases using als...\n",
            "Estimating biases using als...\n",
            "Estimating biases using als...\n",
            "Estimating biases using als...\n",
            "Estimating biases using als...\n",
            "Estimating biases using als...\n",
            "Estimating biases using als...\n",
            "Estimating biases using als...\n",
            "Estimating biases using als...\n",
            "Estimating biases using als...\n",
            "Estimating biases using als...\n",
            "Estimating biases using als...\n",
            "Estimating biases using als...\n",
            "Estimating biases using als...\n",
            "Estimating biases using als...\n",
            "Estimating biases using als...\n",
            "Estimating biases using als...\n",
            "Estimating biases using als...\n",
            "Estimating biases using als...\n",
            "Estimating biases using als...\n",
            "Estimating biases using als...\n",
            "Estimating biases using als...\n",
            "Estimating biases using als...\n"
          ],
          "name": "stdout"
        }
      ]
    },
    {
      "cell_type": "code",
      "metadata": {
        "colab_type": "code",
        "id": "MuqJO-xH-YPi",
        "colab": {},
        "outputId": "e643459a-e603-47b7-8bc2-14a963767215"
      },
      "source": [
        "surprise_results = pd.DataFrame(benchmark).set_index('Algorithm').sort_values('test_rmse')\n",
        "surprise_results"
      ],
      "execution_count": 0,
      "outputs": [
        {
          "output_type": "execute_result",
          "data": {
            "text/html": [
              "<div>\n",
              "<style scoped>\n",
              "    .dataframe tbody tr th:only-of-type {\n",
              "        vertical-align: middle;\n",
              "    }\n",
              "\n",
              "    .dataframe tbody tr th {\n",
              "        vertical-align: top;\n",
              "    }\n",
              "\n",
              "    .dataframe thead th {\n",
              "        text-align: right;\n",
              "    }\n",
              "</style>\n",
              "<table border=\"1\" class=\"dataframe\">\n",
              "  <thead>\n",
              "    <tr style=\"text-align: right;\">\n",
              "      <th></th>\n",
              "      <th>test_rmse</th>\n",
              "      <th>fit_time</th>\n",
              "      <th>test_time</th>\n",
              "      <th>n_epochs</th>\n",
              "      <th>reg_u</th>\n",
              "      <th>reg_i</th>\n",
              "    </tr>\n",
              "    <tr>\n",
              "      <th>Algorithm</th>\n",
              "      <th></th>\n",
              "      <th></th>\n",
              "      <th></th>\n",
              "      <th></th>\n",
              "      <th></th>\n",
              "      <th></th>\n",
              "    </tr>\n",
              "  </thead>\n",
              "  <tbody>\n",
              "    <tr>\n",
              "      <th>BaselineOnly</th>\n",
              "      <td>0.838056</td>\n",
              "      <td>0.257259</td>\n",
              "      <td>0.063107</td>\n",
              "      <td>40</td>\n",
              "      <td>5</td>\n",
              "      <td>5</td>\n",
              "    </tr>\n",
              "    <tr>\n",
              "      <th>BaselineOnly</th>\n",
              "      <td>0.838681</td>\n",
              "      <td>0.230902</td>\n",
              "      <td>0.054336</td>\n",
              "      <td>40</td>\n",
              "      <td>2</td>\n",
              "      <td>2</td>\n",
              "    </tr>\n",
              "    <tr>\n",
              "      <th>BaselineOnly</th>\n",
              "      <td>0.838880</td>\n",
              "      <td>0.107062</td>\n",
              "      <td>0.052718</td>\n",
              "      <td>15</td>\n",
              "      <td>5</td>\n",
              "      <td>5</td>\n",
              "    </tr>\n",
              "    <tr>\n",
              "      <th>BaselineOnly</th>\n",
              "      <td>0.838886</td>\n",
              "      <td>0.079889</td>\n",
              "      <td>0.065501</td>\n",
              "      <td>10</td>\n",
              "      <td>2</td>\n",
              "      <td>5</td>\n",
              "    </tr>\n",
              "    <tr>\n",
              "      <th>BaselineOnly</th>\n",
              "      <td>0.838947</td>\n",
              "      <td>0.131823</td>\n",
              "      <td>0.051934</td>\n",
              "      <td>20</td>\n",
              "      <td>2</td>\n",
              "      <td>5</td>\n",
              "    </tr>\n",
              "    <tr>\n",
              "      <th>BaselineOnly</th>\n",
              "      <td>0.838975</td>\n",
              "      <td>0.119058</td>\n",
              "      <td>0.064706</td>\n",
              "      <td>15</td>\n",
              "      <td>5</td>\n",
              "      <td>2</td>\n",
              "    </tr>\n",
              "    <tr>\n",
              "      <th>BaselineOnly</th>\n",
              "      <td>0.838989</td>\n",
              "      <td>0.110268</td>\n",
              "      <td>0.054327</td>\n",
              "      <td>15</td>\n",
              "      <td>2</td>\n",
              "      <td>5</td>\n",
              "    </tr>\n",
              "    <tr>\n",
              "      <th>BaselineOnly</th>\n",
              "      <td>0.839027</td>\n",
              "      <td>0.258044</td>\n",
              "      <td>0.066302</td>\n",
              "      <td>40</td>\n",
              "      <td>5</td>\n",
              "      <td>2</td>\n",
              "    </tr>\n",
              "    <tr>\n",
              "      <th>BaselineOnly</th>\n",
              "      <td>0.839054</td>\n",
              "      <td>0.230898</td>\n",
              "      <td>0.055109</td>\n",
              "      <td>40</td>\n",
              "      <td>2</td>\n",
              "      <td>5</td>\n",
              "    </tr>\n",
              "    <tr>\n",
              "      <th>BaselineOnly</th>\n",
              "      <td>0.839242</td>\n",
              "      <td>0.131848</td>\n",
              "      <td>0.050311</td>\n",
              "      <td>20</td>\n",
              "      <td>2</td>\n",
              "      <td>2</td>\n",
              "    </tr>\n",
              "    <tr>\n",
              "      <th>BaselineOnly</th>\n",
              "      <td>0.839270</td>\n",
              "      <td>0.077483</td>\n",
              "      <td>0.063132</td>\n",
              "      <td>10</td>\n",
              "      <td>5</td>\n",
              "      <td>5</td>\n",
              "    </tr>\n",
              "    <tr>\n",
              "      <th>BaselineOnly</th>\n",
              "      <td>0.839380</td>\n",
              "      <td>0.079113</td>\n",
              "      <td>0.055112</td>\n",
              "      <td>10</td>\n",
              "      <td>5</td>\n",
              "      <td>2</td>\n",
              "    </tr>\n",
              "    <tr>\n",
              "      <th>BaselineOnly</th>\n",
              "      <td>0.839421</td>\n",
              "      <td>0.087073</td>\n",
              "      <td>0.062319</td>\n",
              "      <td>10</td>\n",
              "      <td>2</td>\n",
              "      <td>2</td>\n",
              "    </tr>\n",
              "    <tr>\n",
              "      <th>BaselineOnly</th>\n",
              "      <td>0.839438</td>\n",
              "      <td>0.102257</td>\n",
              "      <td>0.057527</td>\n",
              "      <td>15</td>\n",
              "      <td>10</td>\n",
              "      <td>5</td>\n",
              "    </tr>\n",
              "    <tr>\n",
              "      <th>BaselineOnly</th>\n",
              "      <td>0.839457</td>\n",
              "      <td>0.130229</td>\n",
              "      <td>0.051930</td>\n",
              "      <td>20</td>\n",
              "      <td>5</td>\n",
              "      <td>5</td>\n",
              "    </tr>\n",
              "    <tr>\n",
              "      <th>BaselineOnly</th>\n",
              "      <td>0.839562</td>\n",
              "      <td>0.114240</td>\n",
              "      <td>0.063119</td>\n",
              "      <td>15</td>\n",
              "      <td>2</td>\n",
              "      <td>2</td>\n",
              "    </tr>\n",
              "    <tr>\n",
              "      <th>BaselineOnly</th>\n",
              "      <td>0.839624</td>\n",
              "      <td>0.142223</td>\n",
              "      <td>0.059905</td>\n",
              "      <td>20</td>\n",
              "      <td>10</td>\n",
              "      <td>5</td>\n",
              "    </tr>\n",
              "    <tr>\n",
              "      <th>BaselineOnly</th>\n",
              "      <td>0.839798</td>\n",
              "      <td>0.128612</td>\n",
              "      <td>0.059129</td>\n",
              "      <td>20</td>\n",
              "      <td>10</td>\n",
              "      <td>2</td>\n",
              "    </tr>\n",
              "    <tr>\n",
              "      <th>BaselineOnly</th>\n",
              "      <td>0.839816</td>\n",
              "      <td>0.105474</td>\n",
              "      <td>0.052758</td>\n",
              "      <td>15</td>\n",
              "      <td>2</td>\n",
              "      <td>10</td>\n",
              "    </tr>\n",
              "    <tr>\n",
              "      <th>BaselineOnly</th>\n",
              "      <td>0.839816</td>\n",
              "      <td>0.132629</td>\n",
              "      <td>0.049529</td>\n",
              "      <td>20</td>\n",
              "      <td>5</td>\n",
              "      <td>2</td>\n",
              "    </tr>\n",
              "    <tr>\n",
              "      <th>BaselineOnly</th>\n",
              "      <td>0.839978</td>\n",
              "      <td>0.104661</td>\n",
              "      <td>0.058332</td>\n",
              "      <td>15</td>\n",
              "      <td>10</td>\n",
              "      <td>2</td>\n",
              "    </tr>\n",
              "    <tr>\n",
              "      <th>BaselineOnly</th>\n",
              "      <td>0.840115</td>\n",
              "      <td>0.299610</td>\n",
              "      <td>0.059112</td>\n",
              "      <td>40</td>\n",
              "      <td>10</td>\n",
              "      <td>2</td>\n",
              "    </tr>\n",
              "    <tr>\n",
              "      <th>BaselineOnly</th>\n",
              "      <td>0.840211</td>\n",
              "      <td>0.075098</td>\n",
              "      <td>0.054318</td>\n",
              "      <td>10</td>\n",
              "      <td>5</td>\n",
              "      <td>10</td>\n",
              "    </tr>\n",
              "    <tr>\n",
              "      <th>BaselineOnly</th>\n",
              "      <td>0.840233</td>\n",
              "      <td>0.079099</td>\n",
              "      <td>0.059106</td>\n",
              "      <td>10</td>\n",
              "      <td>10</td>\n",
              "      <td>5</td>\n",
              "    </tr>\n",
              "    <tr>\n",
              "      <th>BaselineOnly</th>\n",
              "      <td>0.840498</td>\n",
              "      <td>0.107067</td>\n",
              "      <td>0.059109</td>\n",
              "      <td>15</td>\n",
              "      <td>10</td>\n",
              "      <td>10</td>\n",
              "    </tr>\n",
              "    <tr>\n",
              "      <th>BaselineOnly</th>\n",
              "      <td>0.840509</td>\n",
              "      <td>0.264418</td>\n",
              "      <td>0.059142</td>\n",
              "      <td>40</td>\n",
              "      <td>10</td>\n",
              "      <td>5</td>\n",
              "    </tr>\n",
              "    <tr>\n",
              "      <th>BaselineOnly</th>\n",
              "      <td>0.840557</td>\n",
              "      <td>0.079094</td>\n",
              "      <td>0.053523</td>\n",
              "      <td>10</td>\n",
              "      <td>10</td>\n",
              "      <td>2</td>\n",
              "    </tr>\n",
              "    <tr>\n",
              "      <th>BaselineOnly</th>\n",
              "      <td>0.840564</td>\n",
              "      <td>0.130240</td>\n",
              "      <td>0.058311</td>\n",
              "      <td>20</td>\n",
              "      <td>5</td>\n",
              "      <td>10</td>\n",
              "    </tr>\n",
              "    <tr>\n",
              "      <th>BaselineOnly</th>\n",
              "      <td>0.840572</td>\n",
              "      <td>0.079881</td>\n",
              "      <td>0.055927</td>\n",
              "      <td>10</td>\n",
              "      <td>2</td>\n",
              "      <td>10</td>\n",
              "    </tr>\n",
              "    <tr>\n",
              "      <th>BaselineOnly</th>\n",
              "      <td>0.840642</td>\n",
              "      <td>0.127030</td>\n",
              "      <td>0.052733</td>\n",
              "      <td>20</td>\n",
              "      <td>10</td>\n",
              "      <td>10</td>\n",
              "    </tr>\n",
              "    <tr>\n",
              "      <th>BaselineOnly</th>\n",
              "      <td>0.840664</td>\n",
              "      <td>0.107058</td>\n",
              "      <td>0.055912</td>\n",
              "      <td>15</td>\n",
              "      <td>5</td>\n",
              "      <td>10</td>\n",
              "    </tr>\n",
              "    <tr>\n",
              "      <th>BaselineOnly</th>\n",
              "      <td>0.840810</td>\n",
              "      <td>0.076701</td>\n",
              "      <td>0.060705</td>\n",
              "      <td>10</td>\n",
              "      <td>10</td>\n",
              "      <td>10</td>\n",
              "    </tr>\n",
              "    <tr>\n",
              "      <th>BaselineOnly</th>\n",
              "      <td>0.841040</td>\n",
              "      <td>0.320354</td>\n",
              "      <td>0.068713</td>\n",
              "      <td>40</td>\n",
              "      <td>2</td>\n",
              "      <td>10</td>\n",
              "    </tr>\n",
              "    <tr>\n",
              "      <th>BaselineOnly</th>\n",
              "      <td>0.841107</td>\n",
              "      <td>0.274848</td>\n",
              "      <td>0.064690</td>\n",
              "      <td>40</td>\n",
              "      <td>10</td>\n",
              "      <td>10</td>\n",
              "    </tr>\n",
              "    <tr>\n",
              "      <th>BaselineOnly</th>\n",
              "      <td>0.841332</td>\n",
              "      <td>0.133417</td>\n",
              "      <td>0.055926</td>\n",
              "      <td>20</td>\n",
              "      <td>2</td>\n",
              "      <td>10</td>\n",
              "    </tr>\n",
              "    <tr>\n",
              "      <th>BaselineOnly</th>\n",
              "      <td>0.841580</td>\n",
              "      <td>0.269254</td>\n",
              "      <td>0.063904</td>\n",
              "      <td>40</td>\n",
              "      <td>5</td>\n",
              "      <td>10</td>\n",
              "    </tr>\n",
              "  </tbody>\n",
              "</table>\n",
              "</div>"
            ],
            "text/plain": [
              "              test_rmse  fit_time  test_time  n_epochs  reg_u  reg_i\n",
              "Algorithm                                                           \n",
              "BaselineOnly   0.838056  0.257259   0.063107        40      5      5\n",
              "BaselineOnly   0.838681  0.230902   0.054336        40      2      2\n",
              "BaselineOnly   0.838880  0.107062   0.052718        15      5      5\n",
              "BaselineOnly   0.838886  0.079889   0.065501        10      2      5\n",
              "BaselineOnly   0.838947  0.131823   0.051934        20      2      5\n",
              "BaselineOnly   0.838975  0.119058   0.064706        15      5      2\n",
              "BaselineOnly   0.838989  0.110268   0.054327        15      2      5\n",
              "BaselineOnly   0.839027  0.258044   0.066302        40      5      2\n",
              "BaselineOnly   0.839054  0.230898   0.055109        40      2      5\n",
              "BaselineOnly   0.839242  0.131848   0.050311        20      2      2\n",
              "BaselineOnly   0.839270  0.077483   0.063132        10      5      5\n",
              "BaselineOnly   0.839380  0.079113   0.055112        10      5      2\n",
              "BaselineOnly   0.839421  0.087073   0.062319        10      2      2\n",
              "BaselineOnly   0.839438  0.102257   0.057527        15     10      5\n",
              "BaselineOnly   0.839457  0.130229   0.051930        20      5      5\n",
              "BaselineOnly   0.839562  0.114240   0.063119        15      2      2\n",
              "BaselineOnly   0.839624  0.142223   0.059905        20     10      5\n",
              "BaselineOnly   0.839798  0.128612   0.059129        20     10      2\n",
              "BaselineOnly   0.839816  0.105474   0.052758        15      2     10\n",
              "BaselineOnly   0.839816  0.132629   0.049529        20      5      2\n",
              "BaselineOnly   0.839978  0.104661   0.058332        15     10      2\n",
              "BaselineOnly   0.840115  0.299610   0.059112        40     10      2\n",
              "BaselineOnly   0.840211  0.075098   0.054318        10      5     10\n",
              "BaselineOnly   0.840233  0.079099   0.059106        10     10      5\n",
              "BaselineOnly   0.840498  0.107067   0.059109        15     10     10\n",
              "BaselineOnly   0.840509  0.264418   0.059142        40     10      5\n",
              "BaselineOnly   0.840557  0.079094   0.053523        10     10      2\n",
              "BaselineOnly   0.840564  0.130240   0.058311        20      5     10\n",
              "BaselineOnly   0.840572  0.079881   0.055927        10      2     10\n",
              "BaselineOnly   0.840642  0.127030   0.052733        20     10     10\n",
              "BaselineOnly   0.840664  0.107058   0.055912        15      5     10\n",
              "BaselineOnly   0.840810  0.076701   0.060705        10     10     10\n",
              "BaselineOnly   0.841040  0.320354   0.068713        40      2     10\n",
              "BaselineOnly   0.841107  0.274848   0.064690        40     10     10\n",
              "BaselineOnly   0.841332  0.133417   0.055926        20      2     10\n",
              "BaselineOnly   0.841580  0.269254   0.063904        40      5     10"
            ]
          },
          "metadata": {
            "tags": []
          },
          "execution_count": 53
        }
      ]
    },
    {
      "cell_type": "code",
      "metadata": {
        "colab_type": "code",
        "id": "MCQzpglm-YJy",
        "colab": {},
        "outputId": "a2fa4562-593c-4e78-d122-e123d4118d89"
      },
      "source": [
        "trainset, testset = train_test_split(data, test_size=0.25)\n",
        "bsl_options = {'method': 'als',\n",
        "               'n_epochs': 40,\n",
        "               'reg_u': 5,\n",
        "               'reg_i': 5}\n",
        "\n",
        "algo = BaselineOnly(bsl_options=bsl_options)\n",
        "predictions = algo.fit(trainset).test(testset)\n",
        "accuracy.rmse(predictions)"
      ],
      "execution_count": 0,
      "outputs": [
        {
          "output_type": "stream",
          "text": [
            "Estimating biases using als...\n",
            "RMSE: 0.8397\n"
          ],
          "name": "stdout"
        },
        {
          "output_type": "execute_result",
          "data": {
            "text/plain": [
              "0.8397395248689495"
            ]
          },
          "metadata": {
            "tags": []
          },
          "execution_count": 54
        }
      ]
    },
    {
      "cell_type": "markdown",
      "metadata": {
        "id": "mSNf9fOdDAJk",
        "colab_type": "text"
      },
      "source": [
        "### Bonus task"
      ]
    },
    {
      "cell_type": "markdown",
      "metadata": {
        "colab_type": "text",
        "id": "kIsj0qVUFBRI"
      },
      "source": [
        "Implement a class to return a given number of recommendations for a given user\n",
        "- get user and item vectors via matrix factorization\n",
        "- use kd-tree from sklearn.neighbors to implement nearest neighbor search of recommender items for a given user vector\n",
        "- run performance test to compare the speed of kd-tree implementation versus naive brute force search\n",
        "(e.g. query top-10 items for 100 users, repeat simulations several times and plot query execution time summary statistics)"
      ]
    },
    {
      "cell_type": "code",
      "metadata": {
        "id": "SsX6jfMMDAJm",
        "colab_type": "code",
        "colab": {}
      },
      "source": [
        "class Matrix_Recomender(object):\n",
        "    def __init__(self):\n",
        "        pass\n",
        "        \n",
        "\n",
        "    def get_Iu(uid):\n",
        "        \"\"\" число фильмов рекомендованных пользователем\n",
        "          uid: id пользователя\n",
        "        \"\"\"\n",
        "        try:\n",
        "            return len(trainset.ur[trainset.to_inner_uid(uid)])\n",
        "        except ValueError: \n",
        "            return 0\n",
        "    \n",
        "    def get_Ui(iid):\n",
        "        \"\"\" число пользователей которые оценили конкретный фильм\n",
        "          iid: id фильма\n",
        "        \"\"\"\n",
        "        try: \n",
        "            return len(trainset.ir[trainset.to_inner_iid(iid)])\n",
        "        except ValueError:\n",
        "            return 0\n",
        "\n",
        "    def SVD_recomender(df_with_matrix_predictions, movie_df,top_predictions, chosen_user):\n",
        "\n",
        "        new_matrix_df = pd.DataFrame(df_with_matrix_predictions, columns=['uid', 'iid', 'rui', 'est', 'details'])\n",
        "        new_matrix_df['Iu'] = new_matrix_df.uid.apply(get_Iu)\n",
        "        new_matrix_df['Ui'] = new_matrix_df.iid.apply(get_Ui)\n",
        "        new_matrix_df['err'] = abs(new_matrix_df.est - new_matrix_df.rui)\n",
        "    \n",
        "        df_to_merge =  movie_df\n",
        "        df_to_merge =  df_filtered[['movie_id','title','user_id','rating']]\n",
        "        df_to_merge.rename(columns={'movie_id': 'iid'}, inplace=True)\n",
        "        new_matrix_df = new_matrix_df.merge(df_to_merge, on='iid', how='left' )\n",
        "        new_matrix_df = new_matrix_df.sort_values(by='err')\n",
        "    \n",
        "        print ('Количество пользователей для которых есть рекоменадции-{0}'.format(len(new_matrix_df['uid'].unique())))\n",
        "        print ('ID выбранного пользователя-{0}'.format(chosen_user))\n",
        "        print ('Топ {0} фильмов для выбранного пользователя'.format(top_predictions))\n",
        "    \n",
        "        return new_matrix_df[new_matrix_df['uid'] == chosen_user]['title'].unique()[:top_predictions]\n",
        "    \n",
        "    def residual_analysis():\n",
        "            \n",
        "        df_residuals_1 = new_matrix_df.loc[:,('title', 'err')].groupby('title').mean().sort_values(by = 'err')\n",
        "        df_residuals_2 = new_matrix_df['title'].value_counts()\n",
        "        df_residuals_3 = df_residuals_1.join(df_residuals_2, on = 'title',  how='left', lsuffix='_caller')\n",
        "        df_residuals_3.rename(columns={'err': 'error_rate', 'title': 'number_of_ratings'}, inplace=True)\n",
        "\n",
        "        return sns.scatterplot(data = df_residuals_3, x ='error_rate' , y = 'number_of_ratings', alpha= 0.6)\n",
        "            \n"
      ],
      "execution_count": 0,
      "outputs": []
    },
    {
      "cell_type": "code",
      "metadata": {
        "id": "RNv0HO0yDAJo",
        "colab_type": "code",
        "colab": {},
        "outputId": "21dad849-9d2f-450c-d375-d7967eef4a85"
      },
      "source": [
        "Matrix_Recomender.SVD_recomender(predictions, movies,3,33)"
      ],
      "execution_count": 0,
      "outputs": [
        {
          "output_type": "stream",
          "text": [
            "D:\\anaconda\\lib\\site-packages\\pandas\\core\\frame.py:3781: SettingWithCopyWarning: \n",
            "A value is trying to be set on a copy of a slice from a DataFrame\n",
            "\n",
            "See the caveats in the documentation: http://pandas.pydata.org/pandas-docs/stable/indexing.html#indexing-view-versus-copy\n",
            "  return super(DataFrame, self).rename(**kwargs)\n"
          ],
          "name": "stderr"
        },
        {
          "output_type": "stream",
          "text": [
            "Количество пользователей для которых есть рекоменадции-538\n",
            "ID выбранного пользователя-33\n",
            "Топ 3 фильмов для выбранного пользователя\n"
          ],
          "name": "stdout"
        },
        {
          "output_type": "execute_result",
          "data": {
            "text/plain": [
              "array(['Adventures of Priscilla, Queen of the Desert, The (1994)',\n",
              "       'Lock, Stock & Two Smoking Barrels (1998)',\n",
              "       'Shakespeare in Love (1998)'], dtype=object)"
            ]
          },
          "metadata": {
            "tags": []
          },
          "execution_count": 125
        }
      ]
    },
    {
      "cell_type": "markdown",
      "metadata": {
        "id": "k09j443ZDAJr",
        "colab_type": "text"
      },
      "source": [
        "#### Проверка на гетероскедаксичность остатков"
      ]
    },
    {
      "cell_type": "code",
      "metadata": {
        "colab_type": "code",
        "id": "ft_GlvOVwGzC",
        "colab": {},
        "outputId": "271d8f10-70d4-4d2e-db94-b84afe3638e6"
      },
      "source": [
        "df.corr().sort_values(by = 'err').loc[:,'err']"
      ],
      "execution_count": 0,
      "outputs": [
        {
          "output_type": "execute_result",
          "data": {
            "text/plain": [
              "rui       -0.330209\n",
              "est       -0.177742\n",
              "Iu        -0.063353\n",
              "Ui        -0.040428\n",
              "uid       -0.038140\n",
              "rating    -0.033947\n",
              "iid       -0.009013\n",
              "user_id    0.001768\n",
              "err        1.000000\n",
              "Name: err, dtype: float64"
            ]
          },
          "metadata": {
            "tags": []
          },
          "execution_count": 139
        }
      ]
    },
    {
      "cell_type": "markdown",
      "metadata": {
        "id": "ZVZoj6NXDAJt",
        "colab_type": "text"
      },
      "source": [
        "остатки линейно не коррелированы с остальными переменными"
      ]
    },
    {
      "cell_type": "code",
      "metadata": {
        "colab_type": "code",
        "id": "3uVAxBxJwG5J",
        "colab": {},
        "outputId": "4130fe69-5714-417b-d027-5a9940656be0"
      },
      "source": [
        "df.hist('err', bins = 30)"
      ],
      "execution_count": 0,
      "outputs": [
        {
          "output_type": "execute_result",
          "data": {
            "text/plain": [
              "array([[<matplotlib.axes._subplots.AxesSubplot object at 0x000001FA86097518>]],\n",
              "      dtype=object)"
            ]
          },
          "metadata": {
            "tags": []
          },
          "execution_count": 65
        },
        {
          "output_type": "display_data",
          "data": {
            "image/png": "[encoded data removed]",
            "text/plain": [
              "<Figure size 432x288 with 1 Axes>"
            ]
          },
          "metadata": {
            "tags": [],
            "needs_background": "light"
          }
        }
      ]
    },
    {
      "cell_type": "code",
      "metadata": {
        "colab_type": "code",
        "id": "FJD0royxwG87",
        "colab": {}
      },
      "source": [
        "# next steps:\n",
        "# merge with movie title\n",
        "# try to understand most predictive movies\n",
        "# try to understand number on rating per movie as a threshhold\n",
        "# bulid mini recommandation system"
      ],
      "execution_count": 0,
      "outputs": []
    },
    {
      "cell_type": "markdown",
      "metadata": {
        "id": "fnxHunimDAJw",
        "colab_type": "text"
      },
      "source": [
        "### Tenzor factorization"
      ]
    },
    {
      "cell_type": "code",
      "metadata": {
        "id": "tDf-nWojDAJw",
        "colab_type": "code",
        "colab": {}
      },
      "source": [
        "import tensorly as tl\n",
        "from tensorly.decomposition import parafac"
      ],
      "execution_count": 0,
      "outputs": []
    },
    {
      "cell_type": "code",
      "metadata": {
        "id": "t_GtJGHkDAJz",
        "colab_type": "code",
        "colab": {},
        "outputId": "95f57bb0-41a5-4bed-a92a-3d30d9bd92dd"
      },
      "source": [
        "\n",
        "R_users_film = ratings.pivot(index = 'user_id', columns ='movie_id', values = 'rating').fillna(0)\n",
        "R_users_film.head(5)"
      ],
      "execution_count": 0,
      "outputs": [
        {
          "output_type": "execute_result",
          "data": {
            "text/html": [
              "<div>\n",
              "<style scoped>\n",
              "    .dataframe tbody tr th:only-of-type {\n",
              "        vertical-align: middle;\n",
              "    }\n",
              "\n",
              "    .dataframe tbody tr th {\n",
              "        vertical-align: top;\n",
              "    }\n",
              "\n",
              "    .dataframe thead th {\n",
              "        text-align: right;\n",
              "    }\n",
              "</style>\n",
              "<table border=\"1\" class=\"dataframe\">\n",
              "  <thead>\n",
              "    <tr style=\"text-align: right;\">\n",
              "      <th>movie_id</th>\n",
              "      <th>1</th>\n",
              "      <th>2</th>\n",
              "      <th>3</th>\n",
              "      <th>4</th>\n",
              "      <th>5</th>\n",
              "      <th>6</th>\n",
              "      <th>7</th>\n",
              "      <th>8</th>\n",
              "      <th>9</th>\n",
              "      <th>10</th>\n",
              "      <th>...</th>\n",
              "      <th>193565</th>\n",
              "      <th>193567</th>\n",
              "      <th>193571</th>\n",
              "      <th>193573</th>\n",
              "      <th>193579</th>\n",
              "      <th>193581</th>\n",
              "      <th>193583</th>\n",
              "      <th>193585</th>\n",
              "      <th>193587</th>\n",
              "      <th>193609</th>\n",
              "    </tr>\n",
              "    <tr>\n",
              "      <th>user_id</th>\n",
              "      <th></th>\n",
              "      <th></th>\n",
              "      <th></th>\n",
              "      <th></th>\n",
              "      <th></th>\n",
              "      <th></th>\n",
              "      <th></th>\n",
              "      <th></th>\n",
              "      <th></th>\n",
              "      <th></th>\n",
              "      <th></th>\n",
              "      <th></th>\n",
              "      <th></th>\n",
              "      <th></th>\n",
              "      <th></th>\n",
              "      <th></th>\n",
              "      <th></th>\n",
              "      <th></th>\n",
              "      <th></th>\n",
              "      <th></th>\n",
              "      <th></th>\n",
              "    </tr>\n",
              "  </thead>\n",
              "  <tbody>\n",
              "    <tr>\n",
              "      <th>1</th>\n",
              "      <td>4.0</td>\n",
              "      <td>0.0</td>\n",
              "      <td>4.0</td>\n",
              "      <td>0.0</td>\n",
              "      <td>0.0</td>\n",
              "      <td>4.0</td>\n",
              "      <td>0.0</td>\n",
              "      <td>0.0</td>\n",
              "      <td>0.0</td>\n",
              "      <td>0.0</td>\n",
              "      <td>...</td>\n",
              "      <td>0.0</td>\n",
              "      <td>0.0</td>\n",
              "      <td>0.0</td>\n",
              "      <td>0.0</td>\n",
              "      <td>0.0</td>\n",
              "      <td>0.0</td>\n",
              "      <td>0.0</td>\n",
              "      <td>0.0</td>\n",
              "      <td>0.0</td>\n",
              "      <td>0.0</td>\n",
              "    </tr>\n",
              "    <tr>\n",
              "      <th>2</th>\n",
              "      <td>0.0</td>\n",
              "      <td>0.0</td>\n",
              "      <td>0.0</td>\n",
              "      <td>0.0</td>\n",
              "      <td>0.0</td>\n",
              "      <td>0.0</td>\n",
              "      <td>0.0</td>\n",
              "      <td>0.0</td>\n",
              "      <td>0.0</td>\n",
              "      <td>0.0</td>\n",
              "      <td>...</td>\n",
              "      <td>0.0</td>\n",
              "      <td>0.0</td>\n",
              "      <td>0.0</td>\n",
              "      <td>0.0</td>\n",
              "      <td>0.0</td>\n",
              "      <td>0.0</td>\n",
              "      <td>0.0</td>\n",
              "      <td>0.0</td>\n",
              "      <td>0.0</td>\n",
              "      <td>0.0</td>\n",
              "    </tr>\n",
              "    <tr>\n",
              "      <th>3</th>\n",
              "      <td>0.0</td>\n",
              "      <td>0.0</td>\n",
              "      <td>0.0</td>\n",
              "      <td>0.0</td>\n",
              "      <td>0.0</td>\n",
              "      <td>0.0</td>\n",
              "      <td>0.0</td>\n",
              "      <td>0.0</td>\n",
              "      <td>0.0</td>\n",
              "      <td>0.0</td>\n",
              "      <td>...</td>\n",
              "      <td>0.0</td>\n",
              "      <td>0.0</td>\n",
              "      <td>0.0</td>\n",
              "      <td>0.0</td>\n",
              "      <td>0.0</td>\n",
              "      <td>0.0</td>\n",
              "      <td>0.0</td>\n",
              "      <td>0.0</td>\n",
              "      <td>0.0</td>\n",
              "      <td>0.0</td>\n",
              "    </tr>\n",
              "    <tr>\n",
              "      <th>4</th>\n",
              "      <td>0.0</td>\n",
              "      <td>0.0</td>\n",
              "      <td>0.0</td>\n",
              "      <td>0.0</td>\n",
              "      <td>0.0</td>\n",
              "      <td>0.0</td>\n",
              "      <td>0.0</td>\n",
              "      <td>0.0</td>\n",
              "      <td>0.0</td>\n",
              "      <td>0.0</td>\n",
              "      <td>...</td>\n",
              "      <td>0.0</td>\n",
              "      <td>0.0</td>\n",
              "      <td>0.0</td>\n",
              "      <td>0.0</td>\n",
              "      <td>0.0</td>\n",
              "      <td>0.0</td>\n",
              "      <td>0.0</td>\n",
              "      <td>0.0</td>\n",
              "      <td>0.0</td>\n",
              "      <td>0.0</td>\n",
              "    </tr>\n",
              "    <tr>\n",
              "      <th>5</th>\n",
              "      <td>4.0</td>\n",
              "      <td>0.0</td>\n",
              "      <td>0.0</td>\n",
              "      <td>0.0</td>\n",
              "      <td>0.0</td>\n",
              "      <td>0.0</td>\n",
              "      <td>0.0</td>\n",
              "      <td>0.0</td>\n",
              "      <td>0.0</td>\n",
              "      <td>0.0</td>\n",
              "      <td>...</td>\n",
              "      <td>0.0</td>\n",
              "      <td>0.0</td>\n",
              "      <td>0.0</td>\n",
              "      <td>0.0</td>\n",
              "      <td>0.0</td>\n",
              "      <td>0.0</td>\n",
              "      <td>0.0</td>\n",
              "      <td>0.0</td>\n",
              "      <td>0.0</td>\n",
              "      <td>0.0</td>\n",
              "    </tr>\n",
              "  </tbody>\n",
              "</table>\n",
              "<p>5 rows × 9724 columns</p>\n",
              "</div>"
            ],
            "text/plain": [
              "movie_id  1       2       3       4       5       6       7       8       \\\n",
              "user_id                                                                    \n",
              "1            4.0     0.0     4.0     0.0     0.0     4.0     0.0     0.0   \n",
              "2            0.0     0.0     0.0     0.0     0.0     0.0     0.0     0.0   \n",
              "3            0.0     0.0     0.0     0.0     0.0     0.0     0.0     0.0   \n",
              "4            0.0     0.0     0.0     0.0     0.0     0.0     0.0     0.0   \n",
              "5            4.0     0.0     0.0     0.0     0.0     0.0     0.0     0.0   \n",
              "\n",
              "movie_id  9       10       ...    193565  193567  193571  193573  193579  \\\n",
              "user_id                    ...                                             \n",
              "1            0.0     0.0   ...       0.0     0.0     0.0     0.0     0.0   \n",
              "2            0.0     0.0   ...       0.0     0.0     0.0     0.0     0.0   \n",
              "3            0.0     0.0   ...       0.0     0.0     0.0     0.0     0.0   \n",
              "4            0.0     0.0   ...       0.0     0.0     0.0     0.0     0.0   \n",
              "5            0.0     0.0   ...       0.0     0.0     0.0     0.0     0.0   \n",
              "\n",
              "movie_id  193581  193583  193585  193587  193609  \n",
              "user_id                                           \n",
              "1            0.0     0.0     0.0     0.0     0.0  \n",
              "2            0.0     0.0     0.0     0.0     0.0  \n",
              "3            0.0     0.0     0.0     0.0     0.0  \n",
              "4            0.0     0.0     0.0     0.0     0.0  \n",
              "5            0.0     0.0     0.0     0.0     0.0  \n",
              "\n",
              "[5 rows x 9724 columns]"
            ]
          },
          "metadata": {
            "tags": []
          },
          "execution_count": 54
        }
      ]
    },
    {
      "cell_type": "code",
      "metadata": {
        "id": "6FQQ_OT5DAJ1",
        "colab_type": "code",
        "colab": {},
        "outputId": "7716f257-655f-4772-e59c-8d63cbaf6e5f"
      },
      "source": [
        "R1 = R_users_film.as_matrix()"
      ],
      "execution_count": 0,
      "outputs": [
        {
          "output_type": "stream",
          "text": [
            "D:\\anaconda\\lib\\site-packages\\ipykernel_launcher.py:1: FutureWarning: Method .as_matrix will be removed in a future version. Use .values instead.\n",
            "  \"\"\"Entry point for launching an IPython kernel.\n"
          ],
          "name": "stderr"
        }
      ]
    },
    {
      "cell_type": "code",
      "metadata": {
        "id": "gIDl9_IvDAJ3",
        "colab_type": "code",
        "colab": {}
      },
      "source": [
        "x=np.array( [0.5, 1.0, 1.5, 2.0, 2.5, 3.0, 3.5, 4.0, 4.5, 5.0])"
      ],
      "execution_count": 0,
      "outputs": []
    },
    {
      "cell_type": "code",
      "metadata": {
        "id": "8nBmOE5nDAJ4",
        "colab_type": "code",
        "colab": {},
        "outputId": "b5c11e3a-c81f-4de4-d8f0-b620902a5c5e"
      },
      "source": [
        "R1 = tl.tensor(R1.reshape((610, 9724,1)))\n",
        "print(R1.shape)"
      ],
      "execution_count": 0,
      "outputs": [
        {
          "output_type": "stream",
          "text": [
            "(610, 9724, 1)\n"
          ],
          "name": "stdout"
        }
      ]
    },
    {
      "cell_type": "code",
      "metadata": {
        "id": "iUxmiLZqDAJ9",
        "colab_type": "code",
        "colab": {},
        "outputId": "cbdd37c6-6563-4cab-fe2e-4b9f8c571748"
      },
      "source": [
        "x = tl.tensor(x.reshape((10, 1)))\n",
        "print(x.shape)"
      ],
      "execution_count": 0,
      "outputs": [
        {
          "output_type": "stream",
          "text": [
            "(10, 1)\n"
          ],
          "name": "stdout"
        }
      ]
    },
    {
      "cell_type": "code",
      "metadata": {
        "id": "UPhpihBuDAJ_",
        "colab_type": "code",
        "colab": {}
      },
      "source": [
        "res = tl.tenalg.mode_dot(R1, x, mode=2)"
      ],
      "execution_count": 0,
      "outputs": []
    },
    {
      "cell_type": "code",
      "metadata": {
        "id": "bA7Gc0TTDAKA",
        "colab_type": "code",
        "colab": {},
        "outputId": "72a975b7-4ef1-4f09-d56f-d9c157fa248a"
      },
      "source": [
        "res.shape"
      ],
      "execution_count": 0,
      "outputs": [
        {
          "output_type": "execute_result",
          "data": {
            "text/plain": [
              "(610, 9724, 10)"
            ]
          },
          "metadata": {
            "tags": []
          },
          "execution_count": 81
        }
      ]
    },
    {
      "cell_type": "code",
      "metadata": {
        "id": "y-ypWjKODAKC",
        "colab_type": "code",
        "colab": {}
      },
      "source": [
        "from tensorly.decomposition import parafac"
      ],
      "execution_count": 0,
      "outputs": []
    },
    {
      "cell_type": "code",
      "metadata": {
        "id": "WsaLIqYDDAKD",
        "colab_type": "code",
        "colab": {}
      },
      "source": [
        "\n",
        "weights, factors = parafac(res, rank=10)"
      ],
      "execution_count": 0,
      "outputs": []
    },
    {
      "cell_type": "code",
      "metadata": {
        "id": "wfqnwPTMDAKE",
        "colab_type": "code",
        "colab": {},
        "outputId": "2ef750cb-2595-4846-8597-fef8e317b45b"
      },
      "source": [
        "\n",
        "len(factors)"
      ],
      "execution_count": 0,
      "outputs": [
        {
          "output_type": "execute_result",
          "data": {
            "text/plain": [
              "3"
            ]
          },
          "metadata": {
            "tags": []
          },
          "execution_count": 87
        }
      ]
    },
    {
      "cell_type": "code",
      "metadata": {
        "id": "l4wwnV4jDAKG",
        "colab_type": "code",
        "colab": {},
        "outputId": "45a8dbc4-b30f-470d-d839-097ad5f4bbf2"
      },
      "source": [
        "\n",
        "[f.shape for f in factors]"
      ],
      "execution_count": 0,
      "outputs": [
        {
          "output_type": "execute_result",
          "data": {
            "text/plain": [
              "[(610, 10), (9724, 10), (10, 10)]"
            ]
          },
          "metadata": {
            "tags": []
          },
          "execution_count": 88
        }
      ]
    },
    {
      "cell_type": "code",
      "metadata": {
        "id": "qeZ0Cw8uDAKH",
        "colab_type": "code",
        "colab": {}
      },
      "source": [
        "Ui = factors[0]"
      ],
      "execution_count": 0,
      "outputs": []
    },
    {
      "cell_type": "code",
      "metadata": {
        "id": "zK0krnlZDAKI",
        "colab_type": "code",
        "colab": {}
      },
      "source": [
        "Ii = factors[1]"
      ],
      "execution_count": 0,
      "outputs": []
    },
    {
      "cell_type": "code",
      "metadata": {
        "id": "7YYXKSf-DAKM",
        "colab_type": "code",
        "colab": {}
      },
      "source": [
        "sigma_tens = factors[2]"
      ],
      "execution_count": 0,
      "outputs": []
    },
    {
      "cell_type": "code",
      "metadata": {
        "id": "ErsDneJBDAKN",
        "colab_type": "code",
        "colab": {}
      },
      "source": [
        "Ii=Ii.reshape(10,9724)"
      ],
      "execution_count": 0,
      "outputs": []
    },
    {
      "cell_type": "code",
      "metadata": {
        "id": "VAlc-AWMDAKO",
        "colab_type": "code",
        "colab": {}
      },
      "source": [
        "user_item= np.dot(Ui,Ii)"
      ],
      "execution_count": 0,
      "outputs": []
    },
    {
      "cell_type": "code",
      "metadata": {
        "id": "eJwnKDCIDAKQ",
        "colab_type": "code",
        "colab": {},
        "outputId": "8c5145ef-a90a-470a-a3ba-dae1607820e5"
      },
      "source": [
        "user_item"
      ],
      "execution_count": 0,
      "outputs": [
        {
          "output_type": "execute_result",
          "data": {
            "text/plain": [
              "array([[-2.27361800e+01,  8.88022896e+00, -1.13964872e+01, ...,\n",
              "         1.21845072e+00,  3.06927700e+00, -5.07879209e+00],\n",
              "       [-2.89975748e+00,  1.13257857e+00, -1.45350050e+00, ...,\n",
              "         1.55400405e-01,  3.91453574e-01, -6.47745811e-01],\n",
              "       [-4.38049166e-01,  1.71091929e-01, -2.19571701e-01, ...,\n",
              "         2.34754177e-02,  5.91345701e-02, -9.78511183e-02],\n",
              "       ...,\n",
              "       [-4.42176845e+01,  1.72704105e+01, -2.21640696e+01, ...,\n",
              "         2.36966234e+00,  5.96917873e+00, -9.87731564e+00],\n",
              "       [-1.74052605e+00,  6.79809443e-01, -8.72436924e-01, ...,\n",
              "         9.32762330e-02,  2.34962803e-01, -3.88797500e-01],\n",
              "       [-4.73263235e+01,  1.84845734e+01, -2.37222718e+01, ...,\n",
              "         2.53625688e+00,  6.38883032e+00, -1.05717213e+01]])"
            ]
          },
          "metadata": {
            "tags": []
          },
          "execution_count": 215
        }
      ]
    },
    {
      "cell_type": "code",
      "metadata": {
        "id": "AD7eSCPXDAKS",
        "colab_type": "code",
        "colab": {},
        "outputId": "8791485a-b5d7-494a-a947-946499f977dd"
      },
      "source": [
        "preds_tensor = pd.DataFrame(user_item, columns = R_users_film.columns)\n",
        "print(preds_tensor.shape)"
      ],
      "execution_count": 0,
      "outputs": [
        {
          "output_type": "stream",
          "text": [
            "(610, 9724)\n"
          ],
          "name": "stdout"
        }
      ]
    },
    {
      "cell_type": "code",
      "metadata": {
        "id": "kPQa2uG0DAKT",
        "colab_type": "code",
        "colab": {},
        "outputId": "3afc409d-c5a5-4dd5-9597-a1bcdb99f4f5"
      },
      "source": [
        "already_rated, predictions = recommend_movies(preds_tensor, 47, movies, ratings, 10)"
      ],
      "execution_count": 0,
      "outputs": [
        {
          "output_type": "stream",
          "text": [
            "Пользователь с id  №47 на данный момент оценил 140 фильмов.\n",
            "Предложнено топ-10 фильмов ждущих оценки.\n"
          ],
          "name": "stdout"
        }
      ]
    },
    {
      "cell_type": "code",
      "metadata": {
        "id": "e31_ZUlODAKU",
        "colab_type": "code",
        "colab": {},
        "outputId": "e1cd23e1-1089-4b01-f245-f6ccaa418ba3"
      },
      "source": [
        "already_rated.head(10)"
      ],
      "execution_count": 0,
      "outputs": [
        {
          "output_type": "execute_result",
          "data": {
            "text/html": [
              "<div>\n",
              "<style scoped>\n",
              "    .dataframe tbody tr th:only-of-type {\n",
              "        vertical-align: middle;\n",
              "    }\n",
              "\n",
              "    .dataframe tbody tr th {\n",
              "        vertical-align: top;\n",
              "    }\n",
              "\n",
              "    .dataframe thead th {\n",
              "        text-align: right;\n",
              "    }\n",
              "</style>\n",
              "<table border=\"1\" class=\"dataframe\">\n",
              "  <thead>\n",
              "    <tr style=\"text-align: right;\">\n",
              "      <th></th>\n",
              "      <th>user_id</th>\n",
              "      <th>movie_id</th>\n",
              "      <th>rating</th>\n",
              "      <th>timestamp</th>\n",
              "      <th>title</th>\n",
              "      <th>genres</th>\n",
              "    </tr>\n",
              "  </thead>\n",
              "  <tbody>\n",
              "    <tr>\n",
              "      <th>123</th>\n",
              "      <td>47</td>\n",
              "      <td>112804</td>\n",
              "      <td>5.0</td>\n",
              "      <td>1496205128</td>\n",
              "      <td>I Origins (2014)</td>\n",
              "      <td>Drama|Sci-Fi</td>\n",
              "    </tr>\n",
              "    <tr>\n",
              "      <th>79</th>\n",
              "      <td>47</td>\n",
              "      <td>47423</td>\n",
              "      <td>5.0</td>\n",
              "      <td>1496205761</td>\n",
              "      <td>Half Nelson (2006)</td>\n",
              "      <td>Drama</td>\n",
              "    </tr>\n",
              "    <tr>\n",
              "      <th>40</th>\n",
              "      <td>47</td>\n",
              "      <td>3147</td>\n",
              "      <td>5.0</td>\n",
              "      <td>1496205029</td>\n",
              "      <td>Green Mile, The (1999)</td>\n",
              "      <td>Crime|Drama</td>\n",
              "    </tr>\n",
              "    <tr>\n",
              "      <th>121</th>\n",
              "      <td>47</td>\n",
              "      <td>112552</td>\n",
              "      <td>5.0</td>\n",
              "      <td>1496205226</td>\n",
              "      <td>Whiplash (2014)</td>\n",
              "      <td>Drama</td>\n",
              "    </tr>\n",
              "    <tr>\n",
              "      <th>84</th>\n",
              "      <td>47</td>\n",
              "      <td>51931</td>\n",
              "      <td>5.0</td>\n",
              "      <td>1496205747</td>\n",
              "      <td>Reign Over Me (2007)</td>\n",
              "      <td>Drama</td>\n",
              "    </tr>\n",
              "    <tr>\n",
              "      <th>8</th>\n",
              "      <td>47</td>\n",
              "      <td>391</td>\n",
              "      <td>4.5</td>\n",
              "      <td>1496206564</td>\n",
              "      <td>Jason's Lyric (1994)</td>\n",
              "      <td>Crime|Drama</td>\n",
              "    </tr>\n",
              "    <tr>\n",
              "      <th>75</th>\n",
              "      <td>47</td>\n",
              "      <td>33166</td>\n",
              "      <td>4.5</td>\n",
              "      <td>1496206497</td>\n",
              "      <td>Crash (2004)</td>\n",
              "      <td>Crime|Drama</td>\n",
              "    </tr>\n",
              "    <tr>\n",
              "      <th>102</th>\n",
              "      <td>47</td>\n",
              "      <td>84152</td>\n",
              "      <td>4.5</td>\n",
              "      <td>1496208763</td>\n",
              "      <td>Limitless (2011)</td>\n",
              "      <td>Sci-Fi|Thriller</td>\n",
              "    </tr>\n",
              "    <tr>\n",
              "      <th>7</th>\n",
              "      <td>47</td>\n",
              "      <td>356</td>\n",
              "      <td>4.5</td>\n",
              "      <td>1496206696</td>\n",
              "      <td>Forrest Gump (1994)</td>\n",
              "      <td>Comedy|Drama|Romance|War</td>\n",
              "    </tr>\n",
              "    <tr>\n",
              "      <th>89</th>\n",
              "      <td>47</td>\n",
              "      <td>63082</td>\n",
              "      <td>4.0</td>\n",
              "      <td>1496205289</td>\n",
              "      <td>Slumdog Millionaire (2008)</td>\n",
              "      <td>Crime|Drama|Romance</td>\n",
              "    </tr>\n",
              "  </tbody>\n",
              "</table>\n",
              "</div>"
            ],
            "text/plain": [
              "     user_id  movie_id  rating   timestamp                       title  \\\n",
              "123       47    112804     5.0  1496205128            I Origins (2014)   \n",
              "79        47     47423     5.0  1496205761          Half Nelson (2006)   \n",
              "40        47      3147     5.0  1496205029      Green Mile, The (1999)   \n",
              "121       47    112552     5.0  1496205226             Whiplash (2014)   \n",
              "84        47     51931     5.0  1496205747        Reign Over Me (2007)   \n",
              "8         47       391     4.5  1496206564        Jason's Lyric (1994)   \n",
              "75        47     33166     4.5  1496206497                Crash (2004)   \n",
              "102       47     84152     4.5  1496208763            Limitless (2011)   \n",
              "7         47       356     4.5  1496206696         Forrest Gump (1994)   \n",
              "89        47     63082     4.0  1496205289  Slumdog Millionaire (2008)   \n",
              "\n",
              "                       genres  \n",
              "123              Drama|Sci-Fi  \n",
              "79                      Drama  \n",
              "40                Crime|Drama  \n",
              "121                     Drama  \n",
              "84                      Drama  \n",
              "8                 Crime|Drama  \n",
              "75                Crime|Drama  \n",
              "102           Sci-Fi|Thriller  \n",
              "7    Comedy|Drama|Romance|War  \n",
              "89        Crime|Drama|Romance  "
            ]
          },
          "metadata": {
            "tags": []
          },
          "execution_count": 197
        }
      ]
    },
    {
      "cell_type": "markdown",
      "metadata": {
        "id": "GkU5V0ZgDAKX",
        "colab_type": "text"
      },
      "source": [
        "### Предсказания на основе тензорной факторизации дают нам более точное представление о жанровых предпочтениях юзера"
      ]
    },
    {
      "cell_type": "code",
      "metadata": {
        "id": "7bruygtBDAKY",
        "colab_type": "code",
        "colab": {},
        "outputId": "502a3425-ade5-450d-cf05-d54bc6785ff2"
      },
      "source": [
        "predictions"
      ],
      "execution_count": 0,
      "outputs": [
        {
          "output_type": "execute_result",
          "data": {
            "text/html": [
              "<div>\n",
              "<style scoped>\n",
              "    .dataframe tbody tr th:only-of-type {\n",
              "        vertical-align: middle;\n",
              "    }\n",
              "\n",
              "    .dataframe tbody tr th {\n",
              "        vertical-align: top;\n",
              "    }\n",
              "\n",
              "    .dataframe thead th {\n",
              "        text-align: right;\n",
              "    }\n",
              "</style>\n",
              "<table border=\"1\" class=\"dataframe\">\n",
              "  <thead>\n",
              "    <tr style=\"text-align: right;\">\n",
              "      <th></th>\n",
              "      <th>movie_id</th>\n",
              "      <th>title</th>\n",
              "      <th>genres</th>\n",
              "    </tr>\n",
              "  </thead>\n",
              "  <tbody>\n",
              "    <tr>\n",
              "      <th>8868</th>\n",
              "      <td>139655</td>\n",
              "      <td>Goodnight Mommy (Ich seh ich seh) (2014)</td>\n",
              "      <td>Drama|Fantasy|Horror|Thriller</td>\n",
              "    </tr>\n",
              "    <tr>\n",
              "      <th>2210</th>\n",
              "      <td>2987</td>\n",
              "      <td>Who Framed Roger Rabbit? (1988)</td>\n",
              "      <td>Adventure|Animation|Children|Comedy|Crime|Fant...</td>\n",
              "    </tr>\n",
              "    <tr>\n",
              "      <th>8994</th>\n",
              "      <td>146244</td>\n",
              "      <td>Dil To Pagal Hai (1997)</td>\n",
              "      <td>Comedy|Drama|Romance</td>\n",
              "    </tr>\n",
              "    <tr>\n",
              "      <th>8886</th>\n",
              "      <td>140359</td>\n",
              "      <td>Doctor Who: The Waters of Mars (2009)</td>\n",
              "      <td>Adventure|Children|Sci-Fi</td>\n",
              "    </tr>\n",
              "    <tr>\n",
              "      <th>5022</th>\n",
              "      <td>8016</td>\n",
              "      <td>Getaway, The (1972)</td>\n",
              "      <td>Action|Crime|Drama|Thriller</td>\n",
              "    </tr>\n",
              "    <tr>\n",
              "      <th>8905</th>\n",
              "      <td>141422</td>\n",
              "      <td>Suffragette (2015)</td>\n",
              "      <td>Drama</td>\n",
              "    </tr>\n",
              "    <tr>\n",
              "      <th>9268</th>\n",
              "      <td>165075</td>\n",
              "      <td>London Town (2016)</td>\n",
              "      <td>Drama</td>\n",
              "    </tr>\n",
              "    <tr>\n",
              "      <th>9032</th>\n",
              "      <td>148671</td>\n",
              "      <td>Saw (2003)</td>\n",
              "      <td>Crime|Horror</td>\n",
              "    </tr>\n",
              "    <tr>\n",
              "      <th>4692</th>\n",
              "      <td>7083</td>\n",
              "      <td>Sweet Dreams (1985)</td>\n",
              "      <td>Drama</td>\n",
              "    </tr>\n",
              "    <tr>\n",
              "      <th>7850</th>\n",
              "      <td>96084</td>\n",
              "      <td>Hands Over the City (Le mani sulla cittГ ) (1963)</td>\n",
              "      <td>Drama</td>\n",
              "    </tr>\n",
              "  </tbody>\n",
              "</table>\n",
              "</div>"
            ],
            "text/plain": [
              "      movie_id                                              title  \\\n",
              "8868    139655           Goodnight Mommy (Ich seh ich seh) (2014)   \n",
              "2210      2987                    Who Framed Roger Rabbit? (1988)   \n",
              "8994    146244                            Dil To Pagal Hai (1997)   \n",
              "8886    140359              Doctor Who: The Waters of Mars (2009)   \n",
              "5022      8016                                Getaway, The (1972)   \n",
              "8905    141422                                 Suffragette (2015)   \n",
              "9268    165075                                 London Town (2016)   \n",
              "9032    148671                                         Saw (2003)   \n",
              "4692      7083                                Sweet Dreams (1985)   \n",
              "7850     96084  Hands Over the City (Le mani sulla cittГ ) (1963)   \n",
              "\n",
              "                                                 genres  \n",
              "8868                      Drama|Fantasy|Horror|Thriller  \n",
              "2210  Adventure|Animation|Children|Comedy|Crime|Fant...  \n",
              "8994                               Comedy|Drama|Romance  \n",
              "8886                          Adventure|Children|Sci-Fi  \n",
              "5022                        Action|Crime|Drama|Thriller  \n",
              "8905                                              Drama  \n",
              "9268                                              Drama  \n",
              "9032                                       Crime|Horror  \n",
              "4692                                              Drama  \n",
              "7850                                              Drama  "
            ]
          },
          "metadata": {
            "tags": []
          },
          "execution_count": 199
        }
      ]
    },
    {
      "cell_type": "code",
      "metadata": {
        "id": "FpHkaS1nDAKZ",
        "colab_type": "code",
        "colab": {},
        "outputId": "82a7df23-7838-4f9e-c512-856d41c7cc58"
      },
      "source": [
        "# количество оценок \n",
        "df_RateCount = pd.DataFrame(df.groupby('movie_id', as_index = False)['rating'].count()\n",
        "                              .rename(columns={'rating' : 'RateCount'}))\n",
        "df_RateCount.sort_values('RateCount',ascending=False).head(5)"
      ],
      "execution_count": 0,
      "outputs": [
        {
          "output_type": "execute_result",
          "data": {
            "text/html": [
              "<div>\n",
              "<style scoped>\n",
              "    .dataframe tbody tr th:only-of-type {\n",
              "        vertical-align: middle;\n",
              "    }\n",
              "\n",
              "    .dataframe tbody tr th {\n",
              "        vertical-align: top;\n",
              "    }\n",
              "\n",
              "    .dataframe thead th {\n",
              "        text-align: right;\n",
              "    }\n",
              "</style>\n",
              "<table border=\"1\" class=\"dataframe\">\n",
              "  <thead>\n",
              "    <tr style=\"text-align: right;\">\n",
              "      <th></th>\n",
              "      <th>movie_id</th>\n",
              "      <th>RateCount</th>\n",
              "    </tr>\n",
              "  </thead>\n",
              "  <tbody>\n",
              "    <tr>\n",
              "      <th>314</th>\n",
              "      <td>356</td>\n",
              "      <td>329</td>\n",
              "    </tr>\n",
              "    <tr>\n",
              "      <th>277</th>\n",
              "      <td>318</td>\n",
              "      <td>317</td>\n",
              "    </tr>\n",
              "    <tr>\n",
              "      <th>257</th>\n",
              "      <td>296</td>\n",
              "      <td>307</td>\n",
              "    </tr>\n",
              "    <tr>\n",
              "      <th>510</th>\n",
              "      <td>593</td>\n",
              "      <td>279</td>\n",
              "    </tr>\n",
              "    <tr>\n",
              "      <th>1938</th>\n",
              "      <td>2571</td>\n",
              "      <td>278</td>\n",
              "    </tr>\n",
              "  </tbody>\n",
              "</table>\n",
              "</div>"
            ],
            "text/plain": [
              "      movie_id  RateCount\n",
              "314        356        329\n",
              "277        318        317\n",
              "257        296        307\n",
              "510        593        279\n",
              "1938      2571        278"
            ]
          },
          "metadata": {
            "tags": []
          },
          "execution_count": 200
        }
      ]
    },
    {
      "cell_type": "code",
      "metadata": {
        "id": "hbRsf6ykDAKa",
        "colab_type": "code",
        "colab": {},
        "outputId": "d492b2a2-f063-4e76-e749-e16c105573bc"
      },
      "source": [
        "df_RateMean = pd.DataFrame(df.groupby('movie_id', as_index = False)['rating'].mean()\n",
        "                              .rename(columns={'rating' : 'RateMean'}))\n",
        "df_RateMean.sort_values('RateMean',ascending=False).head(5)"
      ],
      "execution_count": 0,
      "outputs": [
        {
          "output_type": "execute_result",
          "data": {
            "text/html": [
              "<div>\n",
              "<style scoped>\n",
              "    .dataframe tbody tr th:only-of-type {\n",
              "        vertical-align: middle;\n",
              "    }\n",
              "\n",
              "    .dataframe tbody tr th {\n",
              "        vertical-align: top;\n",
              "    }\n",
              "\n",
              "    .dataframe thead th {\n",
              "        text-align: right;\n",
              "    }\n",
              "</style>\n",
              "<table border=\"1\" class=\"dataframe\">\n",
              "  <thead>\n",
              "    <tr style=\"text-align: right;\">\n",
              "      <th></th>\n",
              "      <th>movie_id</th>\n",
              "      <th>RateMean</th>\n",
              "    </tr>\n",
              "  </thead>\n",
              "  <tbody>\n",
              "    <tr>\n",
              "      <th>7617</th>\n",
              "      <td>87834</td>\n",
              "      <td>5.0</td>\n",
              "    </tr>\n",
              "    <tr>\n",
              "      <th>8917</th>\n",
              "      <td>136359</td>\n",
              "      <td>5.0</td>\n",
              "    </tr>\n",
              "    <tr>\n",
              "      <th>2232</th>\n",
              "      <td>2969</td>\n",
              "      <td>5.0</td>\n",
              "    </tr>\n",
              "    <tr>\n",
              "      <th>8854</th>\n",
              "      <td>134004</td>\n",
              "      <td>5.0</td>\n",
              "    </tr>\n",
              "    <tr>\n",
              "      <th>4759</th>\n",
              "      <td>7096</td>\n",
              "      <td>5.0</td>\n",
              "    </tr>\n",
              "  </tbody>\n",
              "</table>\n",
              "</div>"
            ],
            "text/plain": [
              "      movie_id  RateMean\n",
              "7617     87834       5.0\n",
              "8917    136359       5.0\n",
              "2232      2969       5.0\n",
              "8854    134004       5.0\n",
              "4759      7096       5.0"
            ]
          },
          "metadata": {
            "tags": []
          },
          "execution_count": 201
        }
      ]
    },
    {
      "cell_type": "code",
      "metadata": {
        "id": "STb9nR0jDAKb",
        "colab_type": "code",
        "colab": {},
        "outputId": "e92d309e-e772-41df-a676-22aeb032bea6"
      },
      "source": [
        "df_movie_rate = pd.merge(df_RateCount,df_RateMean, on='movie_id')\n",
        "df_movie_rate = df_movie_rate.sort_values('RateCount',ascending=False)\n",
        "df_movie_rate.head(10)"
      ],
      "execution_count": 0,
      "outputs": [
        {
          "output_type": "execute_result",
          "data": {
            "text/html": [
              "<div>\n",
              "<style scoped>\n",
              "    .dataframe tbody tr th:only-of-type {\n",
              "        vertical-align: middle;\n",
              "    }\n",
              "\n",
              "    .dataframe tbody tr th {\n",
              "        vertical-align: top;\n",
              "    }\n",
              "\n",
              "    .dataframe thead th {\n",
              "        text-align: right;\n",
              "    }\n",
              "</style>\n",
              "<table border=\"1\" class=\"dataframe\">\n",
              "  <thead>\n",
              "    <tr style=\"text-align: right;\">\n",
              "      <th></th>\n",
              "      <th>movie_id</th>\n",
              "      <th>RateCount</th>\n",
              "      <th>RateMean</th>\n",
              "    </tr>\n",
              "  </thead>\n",
              "  <tbody>\n",
              "    <tr>\n",
              "      <th>314</th>\n",
              "      <td>356</td>\n",
              "      <td>329</td>\n",
              "      <td>4.164134</td>\n",
              "    </tr>\n",
              "    <tr>\n",
              "      <th>277</th>\n",
              "      <td>318</td>\n",
              "      <td>317</td>\n",
              "      <td>4.429022</td>\n",
              "    </tr>\n",
              "    <tr>\n",
              "      <th>257</th>\n",
              "      <td>296</td>\n",
              "      <td>307</td>\n",
              "      <td>4.197068</td>\n",
              "    </tr>\n",
              "    <tr>\n",
              "      <th>510</th>\n",
              "      <td>593</td>\n",
              "      <td>279</td>\n",
              "      <td>4.161290</td>\n",
              "    </tr>\n",
              "    <tr>\n",
              "      <th>1938</th>\n",
              "      <td>2571</td>\n",
              "      <td>278</td>\n",
              "      <td>4.192446</td>\n",
              "    </tr>\n",
              "    <tr>\n",
              "      <th>224</th>\n",
              "      <td>260</td>\n",
              "      <td>251</td>\n",
              "      <td>4.231076</td>\n",
              "    </tr>\n",
              "    <tr>\n",
              "      <th>418</th>\n",
              "      <td>480</td>\n",
              "      <td>238</td>\n",
              "      <td>3.750000</td>\n",
              "    </tr>\n",
              "    <tr>\n",
              "      <th>97</th>\n",
              "      <td>110</td>\n",
              "      <td>237</td>\n",
              "      <td>4.031646</td>\n",
              "    </tr>\n",
              "    <tr>\n",
              "      <th>507</th>\n",
              "      <td>589</td>\n",
              "      <td>224</td>\n",
              "      <td>3.970982</td>\n",
              "    </tr>\n",
              "    <tr>\n",
              "      <th>461</th>\n",
              "      <td>527</td>\n",
              "      <td>220</td>\n",
              "      <td>4.225000</td>\n",
              "    </tr>\n",
              "  </tbody>\n",
              "</table>\n",
              "</div>"
            ],
            "text/plain": [
              "      movie_id  RateCount  RateMean\n",
              "314        356        329  4.164134\n",
              "277        318        317  4.429022\n",
              "257        296        307  4.197068\n",
              "510        593        279  4.161290\n",
              "1938      2571        278  4.192446\n",
              "224        260        251  4.231076\n",
              "418        480        238  3.750000\n",
              "97         110        237  4.031646\n",
              "507        589        224  3.970982\n",
              "461        527        220  4.225000"
            ]
          },
          "metadata": {
            "tags": []
          },
          "execution_count": 202
        }
      ]
    },
    {
      "cell_type": "code",
      "metadata": {
        "id": "r3k94L22DAKc",
        "colab_type": "code",
        "colab": {}
      },
      "source": [
        "y = df_movie_rate['movie_id'].iloc[:10].values\n",
        "y_pred = predictions['movie_id'].values\n",
        "gids = np.zeros(len(y))"
      ],
      "execution_count": 0,
      "outputs": []
    },
    {
      "cell_type": "code",
      "metadata": {
        "id": "LurEBIahDAKd",
        "colab_type": "code",
        "colab": {}
      },
      "source": [
        "ltr_metrics = [MeanPrecision(),\n",
        "               MeanPrecision(3),\n",
        "               MeanPrecision(1),\n",
        "               MeanAveragePrecision(),\n",
        "               MeanAveragePrecision(3),\n",
        "               MeanAveragePrecision(1),\n",
        "               MPR(),\n",
        "               MPR(3),\n",
        "               MPR(1)\n",
        "               ]"
      ],
      "execution_count": 0,
      "outputs": []
    },
    {
      "cell_type": "markdown",
      "metadata": {
        "id": "n5B6vRxzDAKe",
        "colab_type": "text"
      },
      "source": [
        "#### Метрики для тензорной факторизации"
      ]
    },
    {
      "cell_type": "code",
      "metadata": {
        "id": "PG35HqT_DAKe",
        "colab_type": "code",
        "colab": {},
        "outputId": "4ad8e976-7cc9-4f4c-acdc-035bafa9135b"
      },
      "source": [
        "for metric in ltr_metrics:\n",
        "    print(metric, metric(y, y_pred, gids))"
      ],
      "execution_count": 0,
      "outputs": [
        {
          "output_type": "stream",
          "text": [
            "mean_precision@10 610.0\n",
            "mean_precision@3 295.3333333333333\n",
            "mean_precision@1 480.0\n",
            "mean_average_precision@10 432.9940873015873\n",
            "mean_average_precision@3 356.77777777777777\n",
            "mean_average_precision@1 480.0\n",
            "mean_percintale_rank@10 1.0\n",
            "mean_percintale_rank@3 1.0\n",
            "mean_percintale_rank@1 1.0\n"
          ],
          "name": "stdout"
        }
      ]
    },
    {
      "cell_type": "markdown",
      "metadata": {
        "id": "jKjbCtalDAKf",
        "colab_type": "text"
      },
      "source": [
        "#### Метрики для SVD факторизации"
      ]
    },
    {
      "cell_type": "code",
      "metadata": {
        "id": "kLHpVHQDDAKg",
        "colab_type": "code",
        "colab": {},
        "outputId": "1765725b-f193-46e7-8040-d7f55df388bd"
      },
      "source": [
        "for metric in ltr_metrics:\n",
        "    print(metric, metric(y, y_pred, gids))"
      ],
      "execution_count": 0,
      "outputs": [
        {
          "output_type": "stream",
          "text": [
            "mean_precision@10 610.0\n",
            "mean_precision@3 430.6666666666667\n",
            "mean_precision@1 593.0\n",
            "mean_average_precision@10 431.2927777777778\n",
            "mean_average_precision@3 458.3888888888889\n",
            "mean_average_precision@1 593.0\n",
            "mean_percintale_rank@10 1.0\n",
            "mean_percintale_rank@3 1.0\n",
            "mean_percintale_rank@1 1.0\n"
          ],
          "name": "stdout"
        }
      ]
    }
  ]
}