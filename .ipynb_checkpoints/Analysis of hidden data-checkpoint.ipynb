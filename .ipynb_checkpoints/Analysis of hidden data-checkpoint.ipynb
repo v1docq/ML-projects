{
 "cells": [
  {
   "cell_type": "code",
   "execution_count": 1,
   "metadata": {
    "colab": {},
    "colab_type": "code",
    "id": "LVEqvm2ksHjH"
   },
   "outputs": [],
   "source": [
    "# Загрузим все нужные библиотеки\n",
    "import pandas as pd\n",
    "import numpy as np\n",
    "import matplotlib\n",
    "import matplotlib.pyplot as plt\n",
    "import json\n",
    "from scipy import stats\n",
    "from sklearn.linear_model import LinearRegression\n",
    "from sklearn.preprocessing import StandardScaler\n",
    "from sklearn.model_selection import train_test_split\n",
    "import seaborn as sb\n",
    "matplotlib.style.use('ggplot')\n",
    "%matplotlib inline"
   ]
  },
  {
   "cell_type": "markdown",
   "metadata": {
    "colab_type": "text",
    "id": "Rl8we8t-sHjP"
   },
   "source": [
    "# 1. Построение выборки."
   ]
  },
  {
   "cell_type": "markdown",
   "metadata": {
    "colab_type": "text",
    "id": "Ikalr46hsHjR"
   },
   "source": [
    "## 1.1. Загрузка и преобразование  JSON файла в DataFrame"
   ]
  },
  {
   "cell_type": "code",
   "execution_count": 2,
   "metadata": {},
   "outputs": [],
   "source": [
    "with open('./test_data.json', 'r', encoding='utf-8') as test_data: #открываем файл на чтение\n",
    "    data = json.load(test_data) #загружаем из файла данные в словарь data"
   ]
  },
  {
   "cell_type": "code",
   "execution_count": 3,
   "metadata": {},
   "outputs": [
    {
     "data": {
      "text/plain": [
       "1000"
      ]
     },
     "execution_count": 3,
     "metadata": {},
     "output_type": "execute_result"
    }
   ],
   "source": [
    "len(data)"
   ]
  },
  {
   "cell_type": "code",
   "execution_count": 4,
   "metadata": {},
   "outputs": [],
   "source": [
    "train = pd.DataFrame.from_dict(data, orient='index')\n",
    "train.reset_index(level=0, inplace=True)"
   ]
  },
  {
   "cell_type": "code",
   "execution_count": 5,
   "metadata": {},
   "outputs": [],
   "source": [
    "columns_of_valuables = list(train['valuables'][0].keys())"
   ]
  },
  {
   "cell_type": "code",
   "execution_count": 6,
   "metadata": {},
   "outputs": [],
   "source": [
    "#извлекаем значения и ключи из переменой valuables\n",
    "train[columns_of_valuables] = pd.DataFrame([x for x in train['valuables']])"
   ]
  },
  {
   "cell_type": "code",
   "execution_count": 7,
   "metadata": {},
   "outputs": [],
   "source": [
    "#извлекаем длину списка айди номеров как доп/признак\n",
    "train['num_of_ids'] =  train['ids'].str.len()"
   ]
  },
  {
   "cell_type": "code",
   "execution_count": 8,
   "metadata": {},
   "outputs": [
    {
     "data": {
      "text/html": [
       "<div>\n",
       "<style scoped>\n",
       "    .dataframe tbody tr th:only-of-type {\n",
       "        vertical-align: middle;\n",
       "    }\n",
       "\n",
       "    .dataframe tbody tr th {\n",
       "        vertical-align: top;\n",
       "    }\n",
       "\n",
       "    .dataframe thead th {\n",
       "        text-align: right;\n",
       "    }\n",
       "</style>\n",
       "<table border=\"1\" class=\"dataframe\">\n",
       "  <thead>\n",
       "    <tr style=\"text-align: right;\">\n",
       "      <th></th>\n",
       "      <th>index</th>\n",
       "      <th>name</th>\n",
       "      <th>type</th>\n",
       "      <th>valuables</th>\n",
       "      <th>ids</th>\n",
       "      <th>IIIL</th>\n",
       "      <th>TEWR</th>\n",
       "      <th>OXXH</th>\n",
       "      <th>VX3D</th>\n",
       "      <th>KFRH</th>\n",
       "      <th>7SOM</th>\n",
       "      <th>PXOF</th>\n",
       "      <th>FJ1D</th>\n",
       "      <th>VWVH</th>\n",
       "      <th>I6EI</th>\n",
       "      <th>num_of_ids</th>\n",
       "    </tr>\n",
       "  </thead>\n",
       "  <tbody>\n",
       "    <tr>\n",
       "      <th>0</th>\n",
       "      <td>XIUVDG</td>\n",
       "      <td>BSBTTPSXZZ</td>\n",
       "      <td>PUB</td>\n",
       "      <td>{'IIIL': '824692535172', 'TEWR': '715872477993...</td>\n",
       "      <td>[82436511641, 681456763490, 54890800755, 20636...</td>\n",
       "      <td>824692535172</td>\n",
       "      <td>715872477993</td>\n",
       "      <td>448702519482</td>\n",
       "      <td>688232308261</td>\n",
       "      <td>963755105889</td>\n",
       "      <td>051914958020</td>\n",
       "      <td>None</td>\n",
       "      <td>715872477993963755105889</td>\n",
       "      <td>321455321455</td>\n",
       "      <td>HRVBHTXQ9WAJ</td>\n",
       "      <td>7</td>\n",
       "    </tr>\n",
       "    <tr>\n",
       "      <th>1</th>\n",
       "      <td>XGNPP4</td>\n",
       "      <td>IAUNMZBFGQ</td>\n",
       "      <td>PUB</td>\n",
       "      <td>{'IIIL': '090428460161', 'TEWR': '982941578826...</td>\n",
       "      <td>[41059625062, 84242272288, 85638989693, 465026...</td>\n",
       "      <td>090428460161</td>\n",
       "      <td>982941578826</td>\n",
       "      <td>475225904800</td>\n",
       "      <td>656069943198</td>\n",
       "      <td>543018710115</td>\n",
       "      <td>645171520762</td>\n",
       "      <td>None</td>\n",
       "      <td>982941578826543018710115</td>\n",
       "      <td>321455321455</td>\n",
       "      <td>5NI8FIN1C9AP</td>\n",
       "      <td>5</td>\n",
       "    </tr>\n",
       "    <tr>\n",
       "      <th>2</th>\n",
       "      <td>GEP038</td>\n",
       "      <td>INHOIGVEBR</td>\n",
       "      <td>GMT</td>\n",
       "      <td>{'IIIL': '235315869998', 'TEWR': '222778627162...</td>\n",
       "      <td>[]</td>\n",
       "      <td>235315869998</td>\n",
       "      <td>222778627162</td>\n",
       "      <td>322259635907</td>\n",
       "      <td>429253912104</td>\n",
       "      <td>161706749398</td>\n",
       "      <td>831061756164</td>\n",
       "      <td>None</td>\n",
       "      <td>222778627162161706749398</td>\n",
       "      <td>321455321455</td>\n",
       "      <td>IUTX6X8PZDIZ</td>\n",
       "      <td>0</td>\n",
       "    </tr>\n",
       "    <tr>\n",
       "      <th>3</th>\n",
       "      <td>TD7HOA</td>\n",
       "      <td>HHVRAAJEFH</td>\n",
       "      <td>PRI</td>\n",
       "      <td>{'IIIL': '716663700017', 'TEWR': '938693195068...</td>\n",
       "      <td>[80183634806]</td>\n",
       "      <td>716663700017</td>\n",
       "      <td>938693195068</td>\n",
       "      <td>233986498055</td>\n",
       "      <td>909725477446</td>\n",
       "      <td>230316286125</td>\n",
       "      <td>770527344032</td>\n",
       "      <td>None</td>\n",
       "      <td>938693195068230316286125</td>\n",
       "      <td>321455321455</td>\n",
       "      <td>VM05P1QV1U8Q</td>\n",
       "      <td>1</td>\n",
       "    </tr>\n",
       "    <tr>\n",
       "      <th>4</th>\n",
       "      <td>BTGE2W</td>\n",
       "      <td>PRHXGACKCV</td>\n",
       "      <td>PUB</td>\n",
       "      <td>{'IIIL': '014199440865', 'TEWR': '295356897104...</td>\n",
       "      <td>[724773925757, 925841213848, 76539464352, 7367...</td>\n",
       "      <td>014199440865</td>\n",
       "      <td>295356897104</td>\n",
       "      <td>231884004956</td>\n",
       "      <td>052350628781</td>\n",
       "      <td>921275169613</td>\n",
       "      <td>905344679649</td>\n",
       "      <td>None</td>\n",
       "      <td>295356897104921275169613</td>\n",
       "      <td>321455321455</td>\n",
       "      <td>67WHP7ACYWCO</td>\n",
       "      <td>12</td>\n",
       "    </tr>\n",
       "    <tr>\n",
       "      <th>...</th>\n",
       "      <td>...</td>\n",
       "      <td>...</td>\n",
       "      <td>...</td>\n",
       "      <td>...</td>\n",
       "      <td>...</td>\n",
       "      <td>...</td>\n",
       "      <td>...</td>\n",
       "      <td>...</td>\n",
       "      <td>...</td>\n",
       "      <td>...</td>\n",
       "      <td>...</td>\n",
       "      <td>...</td>\n",
       "      <td>...</td>\n",
       "      <td>...</td>\n",
       "      <td>...</td>\n",
       "      <td>...</td>\n",
       "    </tr>\n",
       "    <tr>\n",
       "      <th>995</th>\n",
       "      <td>4QD5DS</td>\n",
       "      <td>VDFEWCASRK</td>\n",
       "      <td>SOC</td>\n",
       "      <td>{'IIIL': '713084565675', 'TEWR': '646878728943...</td>\n",
       "      <td>[847932522331, 57654589222, 594131242082, 2682...</td>\n",
       "      <td>713084565675</td>\n",
       "      <td>646878728943</td>\n",
       "      <td>163183523749</td>\n",
       "      <td>456677163060</td>\n",
       "      <td>958412174666</td>\n",
       "      <td>383961820412</td>\n",
       "      <td>None</td>\n",
       "      <td>646878728943958412174666</td>\n",
       "      <td>321455321455</td>\n",
       "      <td>FWBMKPUCD6LV</td>\n",
       "      <td>10</td>\n",
       "    </tr>\n",
       "    <tr>\n",
       "      <th>996</th>\n",
       "      <td>TSQ3NB</td>\n",
       "      <td>ABMTXUIIWA</td>\n",
       "      <td>SOC</td>\n",
       "      <td>{'IIIL': '317674999357', 'TEWR': '903907088405...</td>\n",
       "      <td>[44387293478, 483354289591, 81685598484, 91661...</td>\n",
       "      <td>317674999357</td>\n",
       "      <td>903907088405</td>\n",
       "      <td>097074519771</td>\n",
       "      <td>370307548162</td>\n",
       "      <td>429234591084</td>\n",
       "      <td>683339876634</td>\n",
       "      <td>None</td>\n",
       "      <td>903907088405429234591084</td>\n",
       "      <td>321455321455</td>\n",
       "      <td>VOAHAPDTVJMD</td>\n",
       "      <td>4</td>\n",
       "    </tr>\n",
       "    <tr>\n",
       "      <th>997</th>\n",
       "      <td>NXYR5S</td>\n",
       "      <td>OHMCMMLMBX</td>\n",
       "      <td>GMT</td>\n",
       "      <td>{'IIIL': '537584525962', 'TEWR': '558153367035...</td>\n",
       "      <td>[815839800781, 39072394038, 107549170385, 7851...</td>\n",
       "      <td>537584525962</td>\n",
       "      <td>558153367035</td>\n",
       "      <td>729316635601</td>\n",
       "      <td>916554729825</td>\n",
       "      <td>070357044048</td>\n",
       "      <td>502654795539</td>\n",
       "      <td>None</td>\n",
       "      <td>558153367035070357044048</td>\n",
       "      <td>321455321455</td>\n",
       "      <td>S8I958900G4X</td>\n",
       "      <td>10</td>\n",
       "    </tr>\n",
       "    <tr>\n",
       "      <th>998</th>\n",
       "      <td>XGL0MX</td>\n",
       "      <td>WSATNVKSOO</td>\n",
       "      <td>SOC</td>\n",
       "      <td>{'IIIL': '737357940622', 'TEWR': '132189783475...</td>\n",
       "      <td>[262892369608]</td>\n",
       "      <td>737357940622</td>\n",
       "      <td>132189783475</td>\n",
       "      <td>246116740353</td>\n",
       "      <td>479288120977</td>\n",
       "      <td>433422668646</td>\n",
       "      <td>143390127977</td>\n",
       "      <td>None</td>\n",
       "      <td>132189783475433422668646</td>\n",
       "      <td>321455321455</td>\n",
       "      <td>SY5R8NYC5WR3</td>\n",
       "      <td>1</td>\n",
       "    </tr>\n",
       "    <tr>\n",
       "      <th>999</th>\n",
       "      <td>VDQ5MK</td>\n",
       "      <td>PFZZXONVQV</td>\n",
       "      <td>GMT</td>\n",
       "      <td>{'IIIL': '545835658676', 'TEWR': '977486366666...</td>\n",
       "      <td>[902745709295, 348744088681, 341077120184, 549...</td>\n",
       "      <td>545835658676</td>\n",
       "      <td>977486366666</td>\n",
       "      <td>148310135399</td>\n",
       "      <td>653303376017</td>\n",
       "      <td>915128882221</td>\n",
       "      <td>022886645079</td>\n",
       "      <td>None</td>\n",
       "      <td>977486366666915128882221</td>\n",
       "      <td>321455321455</td>\n",
       "      <td>1GEPTP2KS25F</td>\n",
       "      <td>12</td>\n",
       "    </tr>\n",
       "  </tbody>\n",
       "</table>\n",
       "<p>1000 rows × 16 columns</p>\n",
       "</div>"
      ],
      "text/plain": [
       "      index        name type  \\\n",
       "0    XIUVDG  BSBTTPSXZZ  PUB   \n",
       "1    XGNPP4  IAUNMZBFGQ  PUB   \n",
       "2    GEP038  INHOIGVEBR  GMT   \n",
       "3    TD7HOA  HHVRAAJEFH  PRI   \n",
       "4    BTGE2W  PRHXGACKCV  PUB   \n",
       "..      ...         ...  ...   \n",
       "995  4QD5DS  VDFEWCASRK  SOC   \n",
       "996  TSQ3NB  ABMTXUIIWA  SOC   \n",
       "997  NXYR5S  OHMCMMLMBX  GMT   \n",
       "998  XGL0MX  WSATNVKSOO  SOC   \n",
       "999  VDQ5MK  PFZZXONVQV  GMT   \n",
       "\n",
       "                                             valuables  \\\n",
       "0    {'IIIL': '824692535172', 'TEWR': '715872477993...   \n",
       "1    {'IIIL': '090428460161', 'TEWR': '982941578826...   \n",
       "2    {'IIIL': '235315869998', 'TEWR': '222778627162...   \n",
       "3    {'IIIL': '716663700017', 'TEWR': '938693195068...   \n",
       "4    {'IIIL': '014199440865', 'TEWR': '295356897104...   \n",
       "..                                                 ...   \n",
       "995  {'IIIL': '713084565675', 'TEWR': '646878728943...   \n",
       "996  {'IIIL': '317674999357', 'TEWR': '903907088405...   \n",
       "997  {'IIIL': '537584525962', 'TEWR': '558153367035...   \n",
       "998  {'IIIL': '737357940622', 'TEWR': '132189783475...   \n",
       "999  {'IIIL': '545835658676', 'TEWR': '977486366666...   \n",
       "\n",
       "                                                   ids          IIIL  \\\n",
       "0    [82436511641, 681456763490, 54890800755, 20636...  824692535172   \n",
       "1    [41059625062, 84242272288, 85638989693, 465026...  090428460161   \n",
       "2                                                   []  235315869998   \n",
       "3                                        [80183634806]  716663700017   \n",
       "4    [724773925757, 925841213848, 76539464352, 7367...  014199440865   \n",
       "..                                                 ...           ...   \n",
       "995  [847932522331, 57654589222, 594131242082, 2682...  713084565675   \n",
       "996  [44387293478, 483354289591, 81685598484, 91661...  317674999357   \n",
       "997  [815839800781, 39072394038, 107549170385, 7851...  537584525962   \n",
       "998                                     [262892369608]  737357940622   \n",
       "999  [902745709295, 348744088681, 341077120184, 549...  545835658676   \n",
       "\n",
       "             TEWR          OXXH          VX3D          KFRH          7SOM  \\\n",
       "0    715872477993  448702519482  688232308261  963755105889  051914958020   \n",
       "1    982941578826  475225904800  656069943198  543018710115  645171520762   \n",
       "2    222778627162  322259635907  429253912104  161706749398  831061756164   \n",
       "3    938693195068  233986498055  909725477446  230316286125  770527344032   \n",
       "4    295356897104  231884004956  052350628781  921275169613  905344679649   \n",
       "..            ...           ...           ...           ...           ...   \n",
       "995  646878728943  163183523749  456677163060  958412174666  383961820412   \n",
       "996  903907088405  097074519771  370307548162  429234591084  683339876634   \n",
       "997  558153367035  729316635601  916554729825  070357044048  502654795539   \n",
       "998  132189783475  246116740353  479288120977  433422668646  143390127977   \n",
       "999  977486366666  148310135399  653303376017  915128882221  022886645079   \n",
       "\n",
       "     PXOF                      FJ1D          VWVH          I6EI  num_of_ids  \n",
       "0    None  715872477993963755105889  321455321455  HRVBHTXQ9WAJ           7  \n",
       "1    None  982941578826543018710115  321455321455  5NI8FIN1C9AP           5  \n",
       "2    None  222778627162161706749398  321455321455  IUTX6X8PZDIZ           0  \n",
       "3    None  938693195068230316286125  321455321455  VM05P1QV1U8Q           1  \n",
       "4    None  295356897104921275169613  321455321455  67WHP7ACYWCO          12  \n",
       "..    ...                       ...           ...           ...         ...  \n",
       "995  None  646878728943958412174666  321455321455  FWBMKPUCD6LV          10  \n",
       "996  None  903907088405429234591084  321455321455  VOAHAPDTVJMD           4  \n",
       "997  None  558153367035070357044048  321455321455  S8I958900G4X          10  \n",
       "998  None  132189783475433422668646  321455321455  SY5R8NYC5WR3           1  \n",
       "999  None  977486366666915128882221  321455321455  1GEPTP2KS25F          12  \n",
       "\n",
       "[1000 rows x 16 columns]"
      ]
     },
     "execution_count": 8,
     "metadata": {},
     "output_type": "execute_result"
    }
   ],
   "source": [
    "train"
   ]
  },
  {
   "cell_type": "code",
   "execution_count": 9,
   "metadata": {},
   "outputs": [
    {
     "name": "stdout",
     "output_type": "stream",
     "text": [
      "<class 'pandas.core.frame.DataFrame'>\n",
      "RangeIndex: 1000 entries, 0 to 999\n",
      "Data columns (total 16 columns):\n",
      "index         1000 non-null object\n",
      "name          1000 non-null object\n",
      "type          1000 non-null object\n",
      "valuables     1000 non-null object\n",
      "ids           1000 non-null object\n",
      "IIIL          1000 non-null object\n",
      "TEWR          1000 non-null object\n",
      "OXXH          1000 non-null object\n",
      "VX3D          1000 non-null object\n",
      "KFRH          1000 non-null object\n",
      "7SOM          1000 non-null object\n",
      "PXOF          0 non-null object\n",
      "FJ1D          1000 non-null object\n",
      "VWVH          1000 non-null object\n",
      "I6EI          1000 non-null object\n",
      "num_of_ids    1000 non-null int64\n",
      "dtypes: int64(1), object(15)\n",
      "memory usage: 125.1+ KB\n"
     ]
    }
   ],
   "source": [
    "#типы данных в таблице\n",
    "train.info()"
   ]
  },
  {
   "cell_type": "code",
   "execution_count": 10,
   "metadata": {},
   "outputs": [],
   "source": [
    "#типы данных в таблице\n",
    "train.to_csv('./test_data.csv',sep='|',index=False)"
   ]
  },
  {
   "cell_type": "code",
   "execution_count": 11,
   "metadata": {},
   "outputs": [],
   "source": [
    "#удаляем данные ненужные для дальнейшого анализа\n",
    "col_to_drop = ['valuables','ids']"
   ]
  },
  {
   "cell_type": "code",
   "execution_count": 12,
   "metadata": {},
   "outputs": [],
   "source": [
    "df = train[train.columns.drop(col_to_drop)]"
   ]
  },
  {
   "cell_type": "markdown",
   "metadata": {},
   "source": [
    "### Стандартизируем переменные"
   ]
  },
  {
   "cell_type": "code",
   "execution_count": 13,
   "metadata": {},
   "outputs": [],
   "source": [
    "from sklearn.preprocessing import MinMaxScaler\n",
    "scaler = MinMaxScaler()\n",
    "df_scaled = df.copy()"
   ]
  },
  {
   "cell_type": "code",
   "execution_count": 14,
   "metadata": {
    "scrolled": false
   },
   "outputs": [],
   "source": [
    "df_scaled[['IIIL','TEWR','OXXH','VX3D','KFRH','7SOM','FJ1D','VWVH']] = scaler.fit_transform(df_scaled[['IIIL','TEWR','OXXH','VX3D','KFRH','7SOM','FJ1D','VWVH']])\n",
    "df_scaled[['IIIL','TEWR','OXXH','VX3D','KFRH','7SOM','FJ1D','VWVH','num_of_ids']]=df_scaled[['IIIL','TEWR','OXXH','VX3D','KFRH','7SOM','FJ1D','VWVH','num_of_ids']].astype(float)"
   ]
  },
  {
   "cell_type": "code",
   "execution_count": 15,
   "metadata": {
    "scrolled": false
   },
   "outputs": [
    {
     "data": {
      "text/html": [
       "<div>\n",
       "<style scoped>\n",
       "    .dataframe tbody tr th:only-of-type {\n",
       "        vertical-align: middle;\n",
       "    }\n",
       "\n",
       "    .dataframe tbody tr th {\n",
       "        vertical-align: top;\n",
       "    }\n",
       "\n",
       "    .dataframe thead th {\n",
       "        text-align: right;\n",
       "    }\n",
       "</style>\n",
       "<table border=\"1\" class=\"dataframe\">\n",
       "  <thead>\n",
       "    <tr style=\"text-align: right;\">\n",
       "      <th></th>\n",
       "      <th>index</th>\n",
       "      <th>name</th>\n",
       "      <th>type</th>\n",
       "      <th>IIIL</th>\n",
       "      <th>TEWR</th>\n",
       "      <th>OXXH</th>\n",
       "      <th>VX3D</th>\n",
       "      <th>KFRH</th>\n",
       "      <th>7SOM</th>\n",
       "      <th>PXOF</th>\n",
       "      <th>FJ1D</th>\n",
       "      <th>VWVH</th>\n",
       "      <th>I6EI</th>\n",
       "      <th>num_of_ids</th>\n",
       "    </tr>\n",
       "  </thead>\n",
       "  <tbody>\n",
       "    <tr>\n",
       "      <th>0</th>\n",
       "      <td>XIUVDG</td>\n",
       "      <td>BSBTTPSXZZ</td>\n",
       "      <td>PUB</td>\n",
       "      <td>0.825369</td>\n",
       "      <td>0.717778</td>\n",
       "      <td>0.447991</td>\n",
       "      <td>0.688078</td>\n",
       "      <td>0.966762</td>\n",
       "      <td>0.049625</td>\n",
       "      <td>None</td>\n",
       "      <td>0.717778</td>\n",
       "      <td>0.0</td>\n",
       "      <td>HRVBHTXQ9WAJ</td>\n",
       "      <td>7.0</td>\n",
       "    </tr>\n",
       "    <tr>\n",
       "      <th>1</th>\n",
       "      <td>XGNPP4</td>\n",
       "      <td>IAUNMZBFGQ</td>\n",
       "      <td>PUB</td>\n",
       "      <td>0.090445</td>\n",
       "      <td>0.985627</td>\n",
       "      <td>0.474572</td>\n",
       "      <td>0.655899</td>\n",
       "      <td>0.543712</td>\n",
       "      <td>0.645079</td>\n",
       "      <td>None</td>\n",
       "      <td>0.985627</td>\n",
       "      <td>0.0</td>\n",
       "      <td>5NI8FIN1C9AP</td>\n",
       "      <td>5.0</td>\n",
       "    </tr>\n",
       "    <tr>\n",
       "      <th>2</th>\n",
       "      <td>GEP038</td>\n",
       "      <td>INHOIGVEBR</td>\n",
       "      <td>GMT</td>\n",
       "      <td>0.235462</td>\n",
       "      <td>0.223244</td>\n",
       "      <td>0.321274</td>\n",
       "      <td>0.428968</td>\n",
       "      <td>0.160302</td>\n",
       "      <td>0.831657</td>\n",
       "      <td>None</td>\n",
       "      <td>0.223244</td>\n",
       "      <td>0.0</td>\n",
       "      <td>IUTX6X8PZDIZ</td>\n",
       "      <td>0.0</td>\n",
       "    </tr>\n",
       "    <tr>\n",
       "      <th>3</th>\n",
       "      <td>TD7HOA</td>\n",
       "      <td>HHVRAAJEFH</td>\n",
       "      <td>PRI</td>\n",
       "      <td>0.717243</td>\n",
       "      <td>0.941249</td>\n",
       "      <td>0.232809</td>\n",
       "      <td>0.909683</td>\n",
       "      <td>0.229289</td>\n",
       "      <td>0.770899</td>\n",
       "      <td>None</td>\n",
       "      <td>0.941249</td>\n",
       "      <td>0.0</td>\n",
       "      <td>VM05P1QV1U8Q</td>\n",
       "      <td>1.0</td>\n",
       "    </tr>\n",
       "    <tr>\n",
       "      <th>4</th>\n",
       "      <td>BTGE2W</td>\n",
       "      <td>PRHXGACKCV</td>\n",
       "      <td>PUB</td>\n",
       "      <td>0.014147</td>\n",
       "      <td>0.296034</td>\n",
       "      <td>0.230702</td>\n",
       "      <td>0.051874</td>\n",
       "      <td>0.924049</td>\n",
       "      <td>0.906215</td>\n",
       "      <td>None</td>\n",
       "      <td>0.296034</td>\n",
       "      <td>0.0</td>\n",
       "      <td>67WHP7ACYWCO</td>\n",
       "      <td>12.0</td>\n",
       "    </tr>\n",
       "    <tr>\n",
       "      <th>...</th>\n",
       "      <td>...</td>\n",
       "      <td>...</td>\n",
       "      <td>...</td>\n",
       "      <td>...</td>\n",
       "      <td>...</td>\n",
       "      <td>...</td>\n",
       "      <td>...</td>\n",
       "      <td>...</td>\n",
       "      <td>...</td>\n",
       "      <td>...</td>\n",
       "      <td>...</td>\n",
       "      <td>...</td>\n",
       "      <td>...</td>\n",
       "      <td>...</td>\n",
       "    </tr>\n",
       "    <tr>\n",
       "      <th>995</th>\n",
       "      <td>4QD5DS</td>\n",
       "      <td>VDFEWCASRK</td>\n",
       "      <td>SOC</td>\n",
       "      <td>0.713661</td>\n",
       "      <td>0.648583</td>\n",
       "      <td>0.161853</td>\n",
       "      <td>0.456405</td>\n",
       "      <td>0.961390</td>\n",
       "      <td>0.382902</td>\n",
       "      <td>None</td>\n",
       "      <td>0.648583</td>\n",
       "      <td>0.0</td>\n",
       "      <td>FWBMKPUCD6LV</td>\n",
       "      <td>10.0</td>\n",
       "    </tr>\n",
       "    <tr>\n",
       "      <th>996</th>\n",
       "      <td>TSQ3NB</td>\n",
       "      <td>ABMTXUIIWA</td>\n",
       "      <td>SOC</td>\n",
       "      <td>0.317896</td>\n",
       "      <td>0.906362</td>\n",
       "      <td>0.095601</td>\n",
       "      <td>0.369992</td>\n",
       "      <td>0.429302</td>\n",
       "      <td>0.683388</td>\n",
       "      <td>None</td>\n",
       "      <td>0.906362</td>\n",
       "      <td>0.0</td>\n",
       "      <td>VOAHAPDTVJMD</td>\n",
       "      <td>4.0</td>\n",
       "    </tr>\n",
       "    <tr>\n",
       "      <th>997</th>\n",
       "      <td>NXYR5S</td>\n",
       "      <td>OHMCMMLMBX</td>\n",
       "      <td>GMT</td>\n",
       "      <td>0.538003</td>\n",
       "      <td>0.559598</td>\n",
       "      <td>0.729214</td>\n",
       "      <td>0.916516</td>\n",
       "      <td>0.068450</td>\n",
       "      <td>0.502034</td>\n",
       "      <td>None</td>\n",
       "      <td>0.559598</td>\n",
       "      <td>0.0</td>\n",
       "      <td>S8I958900G4X</td>\n",
       "      <td>10.0</td>\n",
       "    </tr>\n",
       "    <tr>\n",
       "      <th>998</th>\n",
       "      <td>XGL0MX</td>\n",
       "      <td>WSATNVKSOO</td>\n",
       "      <td>SOC</td>\n",
       "      <td>0.737956</td>\n",
       "      <td>0.132391</td>\n",
       "      <td>0.244966</td>\n",
       "      <td>0.479028</td>\n",
       "      <td>0.433513</td>\n",
       "      <td>0.141439</td>\n",
       "      <td>None</td>\n",
       "      <td>0.132391</td>\n",
       "      <td>0.0</td>\n",
       "      <td>SY5R8NYC5WR3</td>\n",
       "      <td>1.0</td>\n",
       "    </tr>\n",
       "    <tr>\n",
       "      <th>999</th>\n",
       "      <td>VDQ5MK</td>\n",
       "      <td>PFZZXONVQV</td>\n",
       "      <td>GMT</td>\n",
       "      <td>0.546262</td>\n",
       "      <td>0.980156</td>\n",
       "      <td>0.146947</td>\n",
       "      <td>0.653131</td>\n",
       "      <td>0.917869</td>\n",
       "      <td>0.020489</td>\n",
       "      <td>None</td>\n",
       "      <td>0.980156</td>\n",
       "      <td>0.0</td>\n",
       "      <td>1GEPTP2KS25F</td>\n",
       "      <td>12.0</td>\n",
       "    </tr>\n",
       "  </tbody>\n",
       "</table>\n",
       "<p>1000 rows × 14 columns</p>\n",
       "</div>"
      ],
      "text/plain": [
       "      index        name type      IIIL      TEWR      OXXH      VX3D  \\\n",
       "0    XIUVDG  BSBTTPSXZZ  PUB  0.825369  0.717778  0.447991  0.688078   \n",
       "1    XGNPP4  IAUNMZBFGQ  PUB  0.090445  0.985627  0.474572  0.655899   \n",
       "2    GEP038  INHOIGVEBR  GMT  0.235462  0.223244  0.321274  0.428968   \n",
       "3    TD7HOA  HHVRAAJEFH  PRI  0.717243  0.941249  0.232809  0.909683   \n",
       "4    BTGE2W  PRHXGACKCV  PUB  0.014147  0.296034  0.230702  0.051874   \n",
       "..      ...         ...  ...       ...       ...       ...       ...   \n",
       "995  4QD5DS  VDFEWCASRK  SOC  0.713661  0.648583  0.161853  0.456405   \n",
       "996  TSQ3NB  ABMTXUIIWA  SOC  0.317896  0.906362  0.095601  0.369992   \n",
       "997  NXYR5S  OHMCMMLMBX  GMT  0.538003  0.559598  0.729214  0.916516   \n",
       "998  XGL0MX  WSATNVKSOO  SOC  0.737956  0.132391  0.244966  0.479028   \n",
       "999  VDQ5MK  PFZZXONVQV  GMT  0.546262  0.980156  0.146947  0.653131   \n",
       "\n",
       "         KFRH      7SOM  PXOF      FJ1D  VWVH          I6EI  num_of_ids  \n",
       "0    0.966762  0.049625  None  0.717778   0.0  HRVBHTXQ9WAJ         7.0  \n",
       "1    0.543712  0.645079  None  0.985627   0.0  5NI8FIN1C9AP         5.0  \n",
       "2    0.160302  0.831657  None  0.223244   0.0  IUTX6X8PZDIZ         0.0  \n",
       "3    0.229289  0.770899  None  0.941249   0.0  VM05P1QV1U8Q         1.0  \n",
       "4    0.924049  0.906215  None  0.296034   0.0  67WHP7ACYWCO        12.0  \n",
       "..        ...       ...   ...       ...   ...           ...         ...  \n",
       "995  0.961390  0.382902  None  0.648583   0.0  FWBMKPUCD6LV        10.0  \n",
       "996  0.429302  0.683388  None  0.906362   0.0  VOAHAPDTVJMD         4.0  \n",
       "997  0.068450  0.502034  None  0.559598   0.0  S8I958900G4X        10.0  \n",
       "998  0.433513  0.141439  None  0.132391   0.0  SY5R8NYC5WR3         1.0  \n",
       "999  0.917869  0.020489  None  0.980156   0.0  1GEPTP2KS25F        12.0  \n",
       "\n",
       "[1000 rows x 14 columns]"
      ]
     },
     "execution_count": 15,
     "metadata": {},
     "output_type": "execute_result"
    }
   ],
   "source": [
    "df_scaled"
   ]
  },
  {
   "cell_type": "code",
   "execution_count": 21,
   "metadata": {},
   "outputs": [
    {
     "name": "stdout",
     "output_type": "stream",
     "text": [
      "<class 'pandas.core.frame.DataFrame'>\n",
      "RangeIndex: 1000 entries, 0 to 999\n",
      "Data columns (total 14 columns):\n",
      "index         1000 non-null object\n",
      "name          1000 non-null object\n",
      "type          1000 non-null object\n",
      "IIIL          1000 non-null float64\n",
      "TEWR          1000 non-null float64\n",
      "OXXH          1000 non-null float64\n",
      "VX3D          1000 non-null float64\n",
      "KFRH          1000 non-null float64\n",
      "7SOM          1000 non-null float64\n",
      "PXOF          0 non-null object\n",
      "FJ1D          1000 non-null float64\n",
      "VWVH          1000 non-null float64\n",
      "I6EI          1000 non-null object\n",
      "num_of_ids    1000 non-null float64\n",
      "dtypes: float64(9), object(5)\n",
      "memory usage: 109.5+ KB\n"
     ]
    }
   ],
   "source": [
    "df_scaled.info()"
   ]
  },
  {
   "cell_type": "markdown",
   "metadata": {},
   "source": [
    "### Визуализация"
   ]
  },
  {
   "cell_type": "code",
   "execution_count": 22,
   "metadata": {},
   "outputs": [],
   "source": [
    "from facets_overview.generic_feature_statistics_generator import GenericFeatureStatisticsGenerator\n",
    "import base64\n",
    "gfsg = GenericFeatureStatisticsGenerator()\n",
    "proto = gfsg.ProtoFromDataFrames([{'name': 'train', 'table': df_scaled}])\n",
    "protostr = base64.b64encode(proto.SerializeToString()).decode(\"utf-8\")"
   ]
  },
  {
   "cell_type": "code",
   "execution_count": 23,
   "metadata": {},
   "outputs": [
    {
     "data": {
      "text/html": [
       "\n",
       "        <script src=\"https://cdnjs.cloudflare.com/ajax/libs/webcomponentsjs/1.3.3/webcomponents-lite.js\"></script>\n",
       "        <link rel=\"import\" href=\"https://raw.githubusercontent.com/PAIR-code/facets/1.0.0/facets-dist/facets-jupyter.html\" >\n",
       "        <facets-overview id=\"elem\"></facets-overview>\n",
       "        <script>\n",
       "          document.querySelector(\"#elem\").protoInput = \"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\";\n",
       "        </script>"
      ],
      "text/plain": [
       "<IPython.core.display.HTML object>"
      ]
     },
     "metadata": {},
     "output_type": "display_data"
    }
   ],
   "source": [
    "from IPython.core.display import display, HTML\n",
    "\n",
    "HTML_TEMPLATE = \"\"\"\n",
    "        <script src=\"https://cdnjs.cloudflare.com/ajax/libs/webcomponentsjs/1.3.3/webcomponents-lite.js\"></script>\n",
    "        <link rel=\"import\" href=\"https://raw.githubusercontent.com/PAIR-code/facets/1.0.0/facets-dist/facets-jupyter.html\" >\n",
    "        <facets-overview id=\"elem\"></facets-overview>\n",
    "        <script>\n",
    "          document.querySelector(\"#elem\").protoInput = \"{protostr}\";\n",
    "        </script>\"\"\"\n",
    "html = HTML_TEMPLATE.format(protostr=protostr)\n",
    "display(HTML(html))"
   ]
  },
  {
   "cell_type": "code",
   "execution_count": 19,
   "metadata": {},
   "outputs": [
    {
     "data": {
      "image/png": "[encoded data removed]",
      "text/plain": [
       "<Figure size 1080x720 with 2 Axes>"
      ]
     },
     "metadata": {
      "needs_background": "light"
     },
     "output_type": "display_data"
    }
   ],
   "source": [
    "plt.figure(figsize=(15,10))\n",
    "sb.heatmap(df_scaled.corr(),annot=True,cmap='viridis')\n",
    "plt.title('Корелляция между признаками',fontsize=16)\n",
    "plt.xticks(rotation = 90)\n",
    "plt.show()"
   ]
  },
  {
   "cell_type": "code",
   "execution_count": 28,
   "metadata": {},
   "outputs": [
    {
     "data": {
      "text/html": [
       "<div>\n",
       "<style scoped>\n",
       "    .dataframe tbody tr th:only-of-type {\n",
       "        vertical-align: middle;\n",
       "    }\n",
       "\n",
       "    .dataframe tbody tr th {\n",
       "        vertical-align: top;\n",
       "    }\n",
       "\n",
       "    .dataframe thead th {\n",
       "        text-align: right;\n",
       "    }\n",
       "</style>\n",
       "<table border=\"1\" class=\"dataframe\">\n",
       "  <thead>\n",
       "    <tr style=\"text-align: right;\">\n",
       "      <th></th>\n",
       "      <th>type</th>\n",
       "      <th>Sum_of_ids</th>\n",
       "    </tr>\n",
       "  </thead>\n",
       "  <tbody>\n",
       "    <tr>\n",
       "      <th>0</th>\n",
       "      <td>GMT</td>\n",
       "      <td>1522.0</td>\n",
       "    </tr>\n",
       "    <tr>\n",
       "      <th>1</th>\n",
       "      <td>PRI</td>\n",
       "      <td>1756.0</td>\n",
       "    </tr>\n",
       "    <tr>\n",
       "      <th>2</th>\n",
       "      <td>PUB</td>\n",
       "      <td>1680.0</td>\n",
       "    </tr>\n",
       "    <tr>\n",
       "      <th>3</th>\n",
       "      <td>SOC</td>\n",
       "      <td>1663.0</td>\n",
       "    </tr>\n",
       "  </tbody>\n",
       "</table>\n",
       "</div>"
      ],
      "text/plain": [
       "  type  Sum_of_ids\n",
       "0  GMT      1522.0\n",
       "1  PRI      1756.0\n",
       "2  PUB      1680.0\n",
       "3  SOC      1663.0"
      ]
     },
     "execution_count": 28,
     "metadata": {},
     "output_type": "execute_result"
    }
   ],
   "source": [
    "# распределение количества номеров id в зависимости от типа группы\n",
    "df_distrib_of_ids= pd.DataFrame(df_scaled.groupby('type', as_index = False)['num_of_ids'].sum()\n",
    "                         .rename(columns={'num_of_ids': 'Sum_of_ids'}))\n",
    "df_distrib_of_ids"
   ]
  },
  {
   "cell_type": "markdown",
   "metadata": {},
   "source": [
    "# Выводы EDA\n",
    "\n",
    "Поскольку мы не знаем какие у нас в итоге данные закодированны в каждом столбце, мне кажется разумным рассмотреть в этом случае и задачу классификации и задачу регрессии.\n",
    "\n",
    "1) признак 'VWVH' состоит только из одного значения поэтому для нашего анализа мы его отбросим.\n",
    "\n",
    "2) признак 'FJ1D' является дубликатом признака 'TEWR' поэтому для нашего анализа мы его отбросим.\n",
    "\n",
    "3) признак 'PXOF' полностью состоит из пропущенных значений поэтому для нашего анализа мы его отбросим.\n",
    "\n",
    "4) У нас присутствует 4 класса 'SOC', 'FRI', 'PUB', 'GMT'. Они сбалансированны между собой, поэтому никакого семплирования на не понадобиться. Будем решать классическую задачу мульти-label классификации.\n",
    "\n",
    "5) Мультиколлинеарность можно проверить с помощью ковариационной матрицы. При вычислении матрицы двумерной корреляции Пирсона между всеми независимыми переменными величина коэффициентов корреляции должна быть меньше 0,5.Приведенная выше ковариационная тепловая карта показывает, что мультиколлинеарность в данных отсутсвует.\n",
    "\n",
    "6) Среднее, стандартное отклонение и медиана вещественных признаков ['IIIL','TEWR','OXXH','VX3D','KFRH','7SOM'] дают нам понять что их распределения схожи между собой. (конечно можно провести полноценные статистические тесты на равенство средних и прочее, но мне кажется здесь не стоит такой цели)\n",
    "\n",
    "7) Поскольку смысл признака 'I6EI' мне остался непонятен и распределение количества id по группам более-менее одинаковое, то идей как дальшее ее использовать для анализа особо нет\n",
    "\n"
   ]
  },
  {
   "cell_type": "markdown",
   "metadata": {},
   "source": [
    "### Формируем датасет для построения классификатора"
   ]
  },
  {
   "cell_type": "code",
   "execution_count": 257,
   "metadata": {},
   "outputs": [],
   "source": [
    "df_classification = df_scaled[['type','IIIL','TEWR','OXXH','VX3D','KFRH','7SOM']]"
   ]
  },
  {
   "cell_type": "code",
   "execution_count": 258,
   "metadata": {},
   "outputs": [
    {
     "data": {
      "text/html": [
       "<div>\n",
       "<style scoped>\n",
       "    .dataframe tbody tr th:only-of-type {\n",
       "        vertical-align: middle;\n",
       "    }\n",
       "\n",
       "    .dataframe tbody tr th {\n",
       "        vertical-align: top;\n",
       "    }\n",
       "\n",
       "    .dataframe thead th {\n",
       "        text-align: right;\n",
       "    }\n",
       "</style>\n",
       "<table border=\"1\" class=\"dataframe\">\n",
       "  <thead>\n",
       "    <tr style=\"text-align: right;\">\n",
       "      <th></th>\n",
       "      <th>type</th>\n",
       "      <th>IIIL</th>\n",
       "      <th>TEWR</th>\n",
       "      <th>OXXH</th>\n",
       "      <th>VX3D</th>\n",
       "      <th>KFRH</th>\n",
       "      <th>7SOM</th>\n",
       "    </tr>\n",
       "  </thead>\n",
       "  <tbody>\n",
       "    <tr>\n",
       "      <th>0</th>\n",
       "      <td>PUB</td>\n",
       "      <td>0.825369</td>\n",
       "      <td>0.717778</td>\n",
       "      <td>0.447991</td>\n",
       "      <td>0.688078</td>\n",
       "      <td>0.966762</td>\n",
       "      <td>0.049625</td>\n",
       "    </tr>\n",
       "    <tr>\n",
       "      <th>1</th>\n",
       "      <td>PUB</td>\n",
       "      <td>0.090445</td>\n",
       "      <td>0.985627</td>\n",
       "      <td>0.474572</td>\n",
       "      <td>0.655899</td>\n",
       "      <td>0.543712</td>\n",
       "      <td>0.645079</td>\n",
       "    </tr>\n",
       "    <tr>\n",
       "      <th>2</th>\n",
       "      <td>GMT</td>\n",
       "      <td>0.235462</td>\n",
       "      <td>0.223244</td>\n",
       "      <td>0.321274</td>\n",
       "      <td>0.428968</td>\n",
       "      <td>0.160302</td>\n",
       "      <td>0.831657</td>\n",
       "    </tr>\n",
       "    <tr>\n",
       "      <th>3</th>\n",
       "      <td>PRI</td>\n",
       "      <td>0.717243</td>\n",
       "      <td>0.941249</td>\n",
       "      <td>0.232809</td>\n",
       "      <td>0.909683</td>\n",
       "      <td>0.229289</td>\n",
       "      <td>0.770899</td>\n",
       "    </tr>\n",
       "    <tr>\n",
       "      <th>4</th>\n",
       "      <td>PUB</td>\n",
       "      <td>0.014147</td>\n",
       "      <td>0.296034</td>\n",
       "      <td>0.230702</td>\n",
       "      <td>0.051874</td>\n",
       "      <td>0.924049</td>\n",
       "      <td>0.906215</td>\n",
       "    </tr>\n",
       "    <tr>\n",
       "      <th>...</th>\n",
       "      <td>...</td>\n",
       "      <td>...</td>\n",
       "      <td>...</td>\n",
       "      <td>...</td>\n",
       "      <td>...</td>\n",
       "      <td>...</td>\n",
       "      <td>...</td>\n",
       "    </tr>\n",
       "    <tr>\n",
       "      <th>995</th>\n",
       "      <td>SOC</td>\n",
       "      <td>0.713661</td>\n",
       "      <td>0.648583</td>\n",
       "      <td>0.161853</td>\n",
       "      <td>0.456405</td>\n",
       "      <td>0.961390</td>\n",
       "      <td>0.382902</td>\n",
       "    </tr>\n",
       "    <tr>\n",
       "      <th>996</th>\n",
       "      <td>SOC</td>\n",
       "      <td>0.317896</td>\n",
       "      <td>0.906362</td>\n",
       "      <td>0.095601</td>\n",
       "      <td>0.369992</td>\n",
       "      <td>0.429302</td>\n",
       "      <td>0.683388</td>\n",
       "    </tr>\n",
       "    <tr>\n",
       "      <th>997</th>\n",
       "      <td>GMT</td>\n",
       "      <td>0.538003</td>\n",
       "      <td>0.559598</td>\n",
       "      <td>0.729214</td>\n",
       "      <td>0.916516</td>\n",
       "      <td>0.068450</td>\n",
       "      <td>0.502034</td>\n",
       "    </tr>\n",
       "    <tr>\n",
       "      <th>998</th>\n",
       "      <td>SOC</td>\n",
       "      <td>0.737956</td>\n",
       "      <td>0.132391</td>\n",
       "      <td>0.244966</td>\n",
       "      <td>0.479028</td>\n",
       "      <td>0.433513</td>\n",
       "      <td>0.141439</td>\n",
       "    </tr>\n",
       "    <tr>\n",
       "      <th>999</th>\n",
       "      <td>GMT</td>\n",
       "      <td>0.546262</td>\n",
       "      <td>0.980156</td>\n",
       "      <td>0.146947</td>\n",
       "      <td>0.653131</td>\n",
       "      <td>0.917869</td>\n",
       "      <td>0.020489</td>\n",
       "    </tr>\n",
       "  </tbody>\n",
       "</table>\n",
       "<p>1000 rows × 7 columns</p>\n",
       "</div>"
      ],
      "text/plain": [
       "    type      IIIL      TEWR      OXXH      VX3D      KFRH      7SOM\n",
       "0    PUB  0.825369  0.717778  0.447991  0.688078  0.966762  0.049625\n",
       "1    PUB  0.090445  0.985627  0.474572  0.655899  0.543712  0.645079\n",
       "2    GMT  0.235462  0.223244  0.321274  0.428968  0.160302  0.831657\n",
       "3    PRI  0.717243  0.941249  0.232809  0.909683  0.229289  0.770899\n",
       "4    PUB  0.014147  0.296034  0.230702  0.051874  0.924049  0.906215\n",
       "..   ...       ...       ...       ...       ...       ...       ...\n",
       "995  SOC  0.713661  0.648583  0.161853  0.456405  0.961390  0.382902\n",
       "996  SOC  0.317896  0.906362  0.095601  0.369992  0.429302  0.683388\n",
       "997  GMT  0.538003  0.559598  0.729214  0.916516  0.068450  0.502034\n",
       "998  SOC  0.737956  0.132391  0.244966  0.479028  0.433513  0.141439\n",
       "999  GMT  0.546262  0.980156  0.146947  0.653131  0.917869  0.020489\n",
       "\n",
       "[1000 rows x 7 columns]"
      ]
     },
     "execution_count": 258,
     "metadata": {},
     "output_type": "execute_result"
    }
   ],
   "source": [
    "df_classification"
   ]
  },
  {
   "cell_type": "markdown",
   "metadata": {},
   "source": [
    "# 2. Построение классификатора."
   ]
  },
  {
   "cell_type": "markdown",
   "metadata": {},
   "source": [
    "#### 2.1. Логистическая регрессия"
   ]
  },
  {
   "cell_type": "code",
   "execution_count": 241,
   "metadata": {},
   "outputs": [],
   "source": [
    "from sklearn.linear_model import LogisticRegression\n",
    "from sklearn.model_selection import cross_validate, StratifiedKFold, train_test_split, GridSearchCV\n",
    "from sklearn.preprocessing import OneHotEncoder, StandardScaler, MinMaxScaler, RobustScaler\n",
    "from sklearn.metrics import classification_report, f1_score, make_scorer,roc_curve, auc"
   ]
  },
  {
   "cell_type": "code",
   "execution_count": 29,
   "metadata": {},
   "outputs": [],
   "source": [
    "#введем две функции: одна запускает работу классификатора, а другая выводит его метрики\n",
    "def evaluate_model(train, val, tr_y, val_y, classificator, show_report):\n",
    "    classificator.fit(train, tr_y)\n",
    "    pred_val = classificator.predict(val)\n",
    "    pred_train = classificator.predict(train)\n",
    "    \n",
    "    if show_report:\n",
    "        show_classification_report(tr_y, pred_train, \"Train data\")\n",
    "        show_classification_report(val_y, pred_val, \"Test data\")\n",
    "   \n",
    "    return (pred_train, pred_val, classificator)\n",
    "\n",
    "def show_classification_report(true_values, predict_values, title):\n",
    "    print(title)\n",
    "    print(classification_report(true_values, predict_values))\n"
   ]
  },
  {
   "cell_type": "code",
   "execution_count": 248,
   "metadata": {},
   "outputs": [],
   "source": [
    "#делим данные на тренировочный и тестовый набор\n",
    "x_train, x_test, y_train, y_test = train_test_split(df_classification.drop('type', axis=1), \n",
    "                                                    df_classification['type'], test_size=0.25, shuffle=True, stratify  =  df_classification['type'])"
   ]
  },
  {
   "cell_type": "code",
   "execution_count": 31,
   "metadata": {},
   "outputs": [],
   "source": [
    "#определяем параметры нашего классификатора\n",
    "classificator = LogisticRegression(multi_class='multinomial', solver='lbfgs', \n",
    "                                   penalty='l2', C=0.05, random_state=42, n_jobs=-1)"
   ]
  },
  {
   "cell_type": "code",
   "execution_count": 32,
   "metadata": {},
   "outputs": [
    {
     "name": "stdout",
     "output_type": "stream",
     "text": [
      "Train data\n",
      "              precision    recall  f1-score   support\n",
      "\n",
      "         GMT       0.32      0.20      0.24       179\n",
      "         PRI       0.28      0.20      0.23       190\n",
      "         PUB       0.29      0.26      0.27       187\n",
      "         SOC       0.31      0.53      0.39       194\n",
      "\n",
      "    accuracy                           0.30       750\n",
      "   macro avg       0.30      0.30      0.28       750\n",
      "weighted avg       0.30      0.30      0.28       750\n",
      "\n",
      "Test data\n",
      "              precision    recall  f1-score   support\n",
      "\n",
      "         GMT       0.18      0.10      0.13        60\n",
      "         PRI       0.29      0.22      0.25        63\n",
      "         PUB       0.26      0.23      0.24        62\n",
      "         SOC       0.28      0.49      0.36        65\n",
      "\n",
      "    accuracy                           0.26       250\n",
      "   macro avg       0.25      0.26      0.24       250\n",
      "weighted avg       0.25      0.26      0.25       250\n",
      "\n"
     ]
    }
   ],
   "source": [
    "#вычисляем результат работы классификатора\n",
    "_= evaluate_model(x_train, x_test, y_train, y_test, classificator, True)"
   ]
  },
  {
   "cell_type": "code",
   "execution_count": 46,
   "metadata": {},
   "outputs": [],
   "source": [
    "#запускаем кросс-валидацию для подбора гиперпараметров\n",
    "cl = LogisticRegression(multi_class='multinomial', solver='lbfgs', \n",
    "                                   penalty='l2', max_iter=100, random_state=42, n_jobs=-1)\n",
    "tuned_parameters = {'C': [0.01, 0.05, 0.1, 0.5, 5, 10, 50, 100,200,400,1000]}\n",
    "my_scorer = make_scorer(f1_score, average='macro')\n",
    "scv = StratifiedKFold(n_splits=5, shuffle=True, random_state=42)\n",
    "\n",
    "clf = GridSearchCV(cl, tuned_parameters,\n",
    "                   scoring=my_scorer, cv=scv, verbose=2)\n",
    "\n",
    "%%time\n",
    "clf.fit(x_train, y_train)"
   ]
  },
  {
   "cell_type": "code",
   "execution_count": 49,
   "metadata": {},
   "outputs": [
    {
     "data": {
      "text/plain": [
       "{'C': 5}"
      ]
     },
     "execution_count": 49,
     "metadata": {},
     "output_type": "execute_result"
    }
   ],
   "source": [
    "#лучшее значение гиперпараметра"
   ]
  },
  {
   "cell_type": "code",
   "execution_count": 50,
   "metadata": {},
   "outputs": [],
   "source": [
    "#пересчитываем\n",
    "classificator = LogisticRegression(multi_class='multinomial', solver='lbfgs', \n",
    "                                   penalty='l2', C=5, random_state=42, n_jobs=-1)"
   ]
  },
  {
   "cell_type": "code",
   "execution_count": 52,
   "metadata": {},
   "outputs": [
    {
     "name": "stdout",
     "output_type": "stream",
     "text": [
      "Train data\n",
      "              precision    recall  f1-score   support\n",
      "\n",
      "         GMT       0.32      0.31      0.31       179\n",
      "         PRI       0.29      0.18      0.22       190\n",
      "         PUB       0.28      0.27      0.27       187\n",
      "         SOC       0.31      0.44      0.37       194\n",
      "\n",
      "    accuracy                           0.30       750\n",
      "   macro avg       0.30      0.30      0.29       750\n",
      "weighted avg       0.30      0.30      0.29       750\n",
      "\n",
      "Test data\n",
      "              precision    recall  f1-score   support\n",
      "\n",
      "         GMT       0.18      0.17      0.17        60\n",
      "         PRI       0.36      0.24      0.29        63\n",
      "         PUB       0.28      0.24      0.26        62\n",
      "         SOC       0.28      0.43      0.34        65\n",
      "\n",
      "    accuracy                           0.27       250\n",
      "   macro avg       0.27      0.27      0.26       250\n",
      "weighted avg       0.28      0.27      0.27       250\n",
      "\n"
     ]
    }
   ],
   "source": [
    "#пересчитываем\n",
    "_= evaluate_model(x_train, x_test, y_train, y_test, classificator, True)"
   ]
  },
  {
   "cell_type": "markdown",
   "metadata": {},
   "source": [
    "#### Feature importance analysis"
   ]
  },
  {
   "cell_type": "code",
   "execution_count": 77,
   "metadata": {
    "scrolled": true
   },
   "outputs": [
    {
     "data": {
      "text/html": [
       "<div>\n",
       "<style scoped>\n",
       "    .dataframe tbody tr th:only-of-type {\n",
       "        vertical-align: middle;\n",
       "    }\n",
       "\n",
       "    .dataframe tbody tr th {\n",
       "        vertical-align: top;\n",
       "    }\n",
       "\n",
       "    .dataframe thead th {\n",
       "        text-align: right;\n",
       "    }\n",
       "</style>\n",
       "<table border=\"1\" class=\"dataframe\">\n",
       "  <thead>\n",
       "    <tr style=\"text-align: right;\">\n",
       "      <th></th>\n",
       "      <th>index</th>\n",
       "      <th>0</th>\n",
       "      <th>1</th>\n",
       "      <th>2</th>\n",
       "      <th>3</th>\n",
       "    </tr>\n",
       "  </thead>\n",
       "  <tbody>\n",
       "    <tr>\n",
       "      <th>0</th>\n",
       "      <td>IIIL</td>\n",
       "      <td>0.192323</td>\n",
       "      <td>-0.002866</td>\n",
       "      <td>0.011133</td>\n",
       "      <td>-0.200590</td>\n",
       "    </tr>\n",
       "    <tr>\n",
       "      <th>1</th>\n",
       "      <td>TEWR</td>\n",
       "      <td>0.334009</td>\n",
       "      <td>-0.034456</td>\n",
       "      <td>-0.209151</td>\n",
       "      <td>-0.090402</td>\n",
       "    </tr>\n",
       "    <tr>\n",
       "      <th>2</th>\n",
       "      <td>OXXH</td>\n",
       "      <td>0.080005</td>\n",
       "      <td>0.149612</td>\n",
       "      <td>0.243219</td>\n",
       "      <td>-0.472836</td>\n",
       "    </tr>\n",
       "    <tr>\n",
       "      <th>3</th>\n",
       "      <td>VX3D</td>\n",
       "      <td>0.272346</td>\n",
       "      <td>-0.161478</td>\n",
       "      <td>0.332860</td>\n",
       "      <td>-0.443728</td>\n",
       "    </tr>\n",
       "    <tr>\n",
       "      <th>4</th>\n",
       "      <td>KFRH</td>\n",
       "      <td>-0.061987</td>\n",
       "      <td>0.179646</td>\n",
       "      <td>-0.064918</td>\n",
       "      <td>-0.052741</td>\n",
       "    </tr>\n",
       "    <tr>\n",
       "      <th>5</th>\n",
       "      <td>7SOM</td>\n",
       "      <td>-0.550167</td>\n",
       "      <td>-0.100411</td>\n",
       "      <td>0.274891</td>\n",
       "      <td>0.375687</td>\n",
       "    </tr>\n",
       "  </tbody>\n",
       "</table>\n",
       "</div>"
      ],
      "text/plain": [
       "  index         0         1         2         3\n",
       "0  IIIL  0.192323 -0.002866  0.011133 -0.200590\n",
       "1  TEWR  0.334009 -0.034456 -0.209151 -0.090402\n",
       "2  OXXH  0.080005  0.149612  0.243219 -0.472836\n",
       "3  VX3D  0.272346 -0.161478  0.332860 -0.443728\n",
       "4  KFRH -0.061987  0.179646 -0.064918 -0.052741\n",
       "5  7SOM -0.550167 -0.100411  0.274891  0.375687"
      ]
     },
     "execution_count": 77,
     "metadata": {},
     "output_type": "execute_result"
    }
   ],
   "source": [
    "coef_df = pd.DataFrame(clf.best_estimator_.coef_, columns=list(x_train.columns))\n",
    "coef_df = coef_df.T.reset_index()\n",
    "coef_df"
   ]
  },
  {
   "cell_type": "code",
   "execution_count": 67,
   "metadata": {
    "scrolled": false
   },
   "outputs": [
    {
     "data": {
      "text/plain": [
       "<matplotlib.axes._subplots.AxesSubplot at 0x25d9d6217b8>"
      ]
     },
     "execution_count": 67,
     "metadata": {},
     "output_type": "execute_result"
    },
    {
     "data": {
      "image/png": "[encoded data removed]",
      "text/plain": [
       "<Figure size 720x1440 with 1 Axes>"
      ]
     },
     "metadata": {
      "needs_background": "light"
     },
     "output_type": "display_data"
    }
   ],
   "source": [
    "plt.figure(figsize=(10, 20))\n",
    "sb.barplot(y='index', x=0, data=coef_df, alpha=0.8)"
   ]
  }
 ],
 "metadata": {
  "colab": {
   "name": "Copy of vk_task_v3.ipynb",
   "provenance": [
    {
     "file_id": "https://github.com/maximkeremet/vk_eda/blob/master/vk_task_v3.ipynb",
     "timestamp": 1572187709315
    }
   ]
  },
  "kernelspec": {
   "display_name": "Python 3",
   "language": "python",
   "name": "python3"
  },
  "language_info": {
   "codemirror_mode": {
    "name": "ipython",
    "version": 3
   },
   "file_extension": ".py",
   "mimetype": "text/x-python",
   "name": "python",
   "nbconvert_exporter": "python",
   "pygments_lexer": "ipython3",
   "version": "3.7.0"
  }
 },
 "nbformat": 4,
 "nbformat_minor": 1
}
