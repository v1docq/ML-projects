{
 "cells": [
  {
   "cell_type": "code",
   "execution_count": 1,
   "metadata": {
    "colab": {},
    "colab_type": "code",
    "id": "5K9Uj4cIwDuv"
   },
   "outputs": [],
   "source": [
    "import pandas as pd\n",
    "import numpy as np\n",
    "import matplotlib.pyplot as plt\n",
    "import datetime\n",
    "from collections import defaultdict"
   ]
  },
  {
   "cell_type": "markdown",
   "metadata": {
    "colab_type": "text",
    "id": "oAoWD2_PwcMh"
   },
   "source": [
    "Task 1: Exploratory analysis (5 points).\n",
    "\n",
    "Perform EDA:\n",
    "- number of users\n",
    "- number of items\n",
    "- number of tags\n",
    "- number of ratings\n",
    "- summary statistics of number of ratings per user (mean, median, quantiles)\n",
    "- rating sparcity\n",
    "- summary statistics of number of tags per use"
   ]
  },
  {
   "cell_type": "markdown",
   "metadata": {
    "colab_type": "text",
    "id": "VBzSSxgG3RD4"
   },
   "source": [
    "### Загружаем датасеты"
   ]
  },
  {
   "cell_type": "code",
   "execution_count": 2,
   "metadata": {},
   "outputs": [
    {
     "name": "stdout",
     "output_type": "stream",
     "text": [
      "Downloading movielens data...\n",
      "Done. Dataset contains:\n",
      "b'943 users\\n1682 items\\n100000 ratings\\n'\n"
     ]
    }
   ],
   "source": [
    "print(\"Downloading movielens data...\")\n",
    "import zipfile\n",
    "import urllib.request\n",
    "\n",
    "urllib.request.urlretrieve(\"http://files.grouplens.org/datasets/movielens/ml-100k.zip\", \"movielens.zip\")\n",
    "zip_ref = zipfile.ZipFile('movielens.zip', \"r\")\n",
    "zip_ref.extractall()\n",
    "print(\"Done. Dataset contains:\")\n",
    "print(zip_ref.read('ml-100k/u.info'))"
   ]
  },
  {
   "cell_type": "code",
   "execution_count": 3,
   "metadata": {},
   "outputs": [],
   "source": [
    "# Load each data set (users, movies, and ratings).\n",
    "users_cols = ['user_id', 'age', 'sex', 'occupation', 'zip_code']\n",
    "users = pd.read_csv(\n",
    "    'ml-100k/u.user', sep='|', names=users_cols, encoding='latin-1')\n",
    "\n",
    "ratings_cols = ['user_id', 'movie_id', 'rating', 'unix_timestamp']\n",
    "ratings = pd.read_csv(\n",
    "    'ml-100k/u.data', sep='\\t', names=ratings_cols, encoding='latin-1')\n",
    "\n",
    "# The movies file contains a binary feature for each genre.\n",
    "genre_cols = [\n",
    "    \"genre_unknown\", \"Action\", \"Adventure\", \"Animation\", \"Children\", \"Comedy\",\n",
    "    \"Crime\", \"Documentary\", \"Drama\", \"Fantasy\", \"Film-Noir\", \"Horror\",\n",
    "    \"Musical\", \"Mystery\", \"Romance\", \"Sci-Fi\", \"Thriller\", \"War\", \"Western\"\n",
    "]\n",
    "movies_cols = [\n",
    "    'movie_id', 'title', 'release_date', \"video_release_date\", \"imdb_url\"] + genre_cols\n",
    "\n",
    "movies = pd.read_csv(\n",
    "    'ml-100k/u.item', sep='|', names=movies_cols, encoding='latin-1')"
   ]
  },
  {
   "cell_type": "markdown",
   "metadata": {},
   "source": [
    "### Предпроцесинг данных.Создание жанровых категорий."
   ]
  },
  {
   "cell_type": "code",
   "execution_count": 4,
   "metadata": {},
   "outputs": [],
   "source": [
    "users[\"user_id\"] = users[\"user_id\"].apply(lambda x: float(x))\n",
    "movies[\"movie_id\"] = movies[\"movie_id\"].apply(lambda x: float(x))\n",
    "movies[\"year\"] = movies['release_date'].apply(lambda x: str(x).split('-')[-1])\n",
    "ratings[\"movie_id\"] = ratings[\"movie_id\"].apply(lambda x: float(x))\n",
    "ratings[\"user_id\"] = ratings[\"user_id\"].apply(lambda x: float(x))\n",
    "ratings[\"rating\"] = ratings[\"rating\"].apply(lambda x: float(x))"
   ]
  },
  {
   "cell_type": "code",
   "execution_count": 5,
   "metadata": {},
   "outputs": [
    {
     "data": {
      "text/html": [
       "<div>\n",
       "<style scoped>\n",
       "    .dataframe tbody tr th:only-of-type {\n",
       "        vertical-align: middle;\n",
       "    }\n",
       "\n",
       "    .dataframe tbody tr th {\n",
       "        vertical-align: top;\n",
       "    }\n",
       "\n",
       "    .dataframe thead th {\n",
       "        text-align: right;\n",
       "    }\n",
       "</style>\n",
       "<table border=\"1\" class=\"dataframe\">\n",
       "  <thead>\n",
       "    <tr style=\"text-align: right;\">\n",
       "      <th></th>\n",
       "      <th>user_id</th>\n",
       "      <th>movie_id</th>\n",
       "      <th>rating</th>\n",
       "      <th>unix_timestamp</th>\n",
       "      <th>date</th>\n",
       "    </tr>\n",
       "  </thead>\n",
       "  <tbody>\n",
       "    <tr>\n",
       "      <th>0</th>\n",
       "      <td>196.0</td>\n",
       "      <td>242.0</td>\n",
       "      <td>3.0</td>\n",
       "      <td>1997-12-04 18:55:49</td>\n",
       "      <td>1997-12-04 18:55:49</td>\n",
       "    </tr>\n",
       "    <tr>\n",
       "      <th>1</th>\n",
       "      <td>186.0</td>\n",
       "      <td>302.0</td>\n",
       "      <td>3.0</td>\n",
       "      <td>1998-04-04 22:22:22</td>\n",
       "      <td>1998-04-04 22:22:22</td>\n",
       "    </tr>\n",
       "    <tr>\n",
       "      <th>2</th>\n",
       "      <td>22.0</td>\n",
       "      <td>377.0</td>\n",
       "      <td>1.0</td>\n",
       "      <td>1997-11-07 10:18:36</td>\n",
       "      <td>1997-11-07 10:18:36</td>\n",
       "    </tr>\n",
       "    <tr>\n",
       "      <th>3</th>\n",
       "      <td>244.0</td>\n",
       "      <td>51.0</td>\n",
       "      <td>2.0</td>\n",
       "      <td>1997-11-27 08:02:03</td>\n",
       "      <td>1997-11-27 08:02:03</td>\n",
       "    </tr>\n",
       "    <tr>\n",
       "      <th>4</th>\n",
       "      <td>166.0</td>\n",
       "      <td>346.0</td>\n",
       "      <td>1.0</td>\n",
       "      <td>1998-02-02 08:33:16</td>\n",
       "      <td>1998-02-02 08:33:16</td>\n",
       "    </tr>\n",
       "  </tbody>\n",
       "</table>\n",
       "</div>"
      ],
      "text/plain": [
       "   user_id  movie_id  rating       unix_timestamp                 date\n",
       "0    196.0     242.0     3.0  1997-12-04 18:55:49  1997-12-04 18:55:49\n",
       "1    186.0     302.0     3.0  1998-04-04 22:22:22  1998-04-04 22:22:22\n",
       "2     22.0     377.0     1.0  1997-11-07 10:18:36  1997-11-07 10:18:36\n",
       "3    244.0      51.0     2.0  1997-11-27 08:02:03  1997-11-27 08:02:03\n",
       "4    166.0     346.0     1.0  1998-02-02 08:33:16  1998-02-02 08:33:16"
      ]
     },
     "execution_count": 5,
     "metadata": {},
     "output_type": "execute_result"
    }
   ],
   "source": [
    "ratings['unix_timestamp'] = ratings['unix_timestamp'].apply(lambda x: datetime.datetime.fromtimestamp(x).strftime('%Y-%m-%d %H:%M:%S'))\n",
    "ratings['unix_timestamp'].astype('datetime64[ns]')\n",
    "ratings['date'] = ratings['unix_timestamp']\n",
    "ratings.head()"
   ]
  },
  {
   "cell_type": "code",
   "execution_count": 6,
   "metadata": {},
   "outputs": [],
   "source": [
    "#Количество фильмов с установленным жанром\n",
    "genre_occurences = movies[genre_cols].sum().to_dict()"
   ]
  },
  {
   "cell_type": "code",
   "execution_count": 7,
   "metadata": {},
   "outputs": [],
   "source": [
    "def mark_genres(movies, genres):\n",
    "    def get_random_genre(gs):\n",
    "        active = [genre for genre, g in zip(genres, gs) if g==1]\n",
    "        if len(active) == 0:\n",
    "            return 'Other'\n",
    "        return np.random.choice(active)\n",
    "    def get_all_genres(gs):\n",
    "        active = [genre for genre, g in zip(genres, gs) if g==1]\n",
    "        if len(active) == 0:\n",
    "            return 'Other'\n",
    "        return '-'.join(active)\n",
    "    movies['genre'] = [\n",
    "        get_random_genre(gs) for gs in zip(*[movies[genre] for genre in genres])]\n",
    "    movies['all_genres'] = [\n",
    "        get_all_genres(gs) for gs in zip(*[movies[genre] for genre in genres])]\n",
    "\n",
    "mark_genres(movies, genre_cols)"
   ]
  },
  {
   "cell_type": "code",
   "execution_count": 8,
   "metadata": {},
   "outputs": [],
   "source": [
    "df = ratings.merge(movies, on='movie_id').merge(users, on='user_id')"
   ]
  },
  {
   "cell_type": "code",
   "execution_count": 9,
   "metadata": {},
   "outputs": [],
   "source": [
    "df.drop(['year','release_date','video_release_date','imdb_url', 'age', 'sex', 'occupation','zip_code'], inplace = True, axis = 1)"
   ]
  },
  {
   "cell_type": "code",
   "execution_count": 10,
   "metadata": {},
   "outputs": [
    {
     "data": {
      "text/html": [
       "<div>\n",
       "<style scoped>\n",
       "    .dataframe tbody tr th:only-of-type {\n",
       "        vertical-align: middle;\n",
       "    }\n",
       "\n",
       "    .dataframe tbody tr th {\n",
       "        vertical-align: top;\n",
       "    }\n",
       "\n",
       "    .dataframe thead th {\n",
       "        text-align: right;\n",
       "    }\n",
       "</style>\n",
       "<table border=\"1\" class=\"dataframe\">\n",
       "  <thead>\n",
       "    <tr style=\"text-align: right;\">\n",
       "      <th></th>\n",
       "      <th>user_id</th>\n",
       "      <th>movie_id</th>\n",
       "      <th>rating</th>\n",
       "      <th>unix_timestamp</th>\n",
       "      <th>date</th>\n",
       "      <th>title</th>\n",
       "      <th>genre_unknown</th>\n",
       "      <th>Action</th>\n",
       "      <th>Adventure</th>\n",
       "      <th>Animation</th>\n",
       "      <th>...</th>\n",
       "      <th>Horror</th>\n",
       "      <th>Musical</th>\n",
       "      <th>Mystery</th>\n",
       "      <th>Romance</th>\n",
       "      <th>Sci-Fi</th>\n",
       "      <th>Thriller</th>\n",
       "      <th>War</th>\n",
       "      <th>Western</th>\n",
       "      <th>genre</th>\n",
       "      <th>all_genres</th>\n",
       "    </tr>\n",
       "  </thead>\n",
       "  <tbody>\n",
       "    <tr>\n",
       "      <th>0</th>\n",
       "      <td>196.0</td>\n",
       "      <td>242.0</td>\n",
       "      <td>3.0</td>\n",
       "      <td>1997-12-04 18:55:49</td>\n",
       "      <td>1997-12-04 18:55:49</td>\n",
       "      <td>Kolya (1996)</td>\n",
       "      <td>0</td>\n",
       "      <td>0</td>\n",
       "      <td>0</td>\n",
       "      <td>0</td>\n",
       "      <td>...</td>\n",
       "      <td>0</td>\n",
       "      <td>0</td>\n",
       "      <td>0</td>\n",
       "      <td>0</td>\n",
       "      <td>0</td>\n",
       "      <td>0</td>\n",
       "      <td>0</td>\n",
       "      <td>0</td>\n",
       "      <td>Comedy</td>\n",
       "      <td>Comedy</td>\n",
       "    </tr>\n",
       "    <tr>\n",
       "      <th>1</th>\n",
       "      <td>196.0</td>\n",
       "      <td>257.0</td>\n",
       "      <td>2.0</td>\n",
       "      <td>1997-12-04 19:06:17</td>\n",
       "      <td>1997-12-04 19:06:17</td>\n",
       "      <td>Men in Black (1997)</td>\n",
       "      <td>0</td>\n",
       "      <td>1</td>\n",
       "      <td>1</td>\n",
       "      <td>0</td>\n",
       "      <td>...</td>\n",
       "      <td>0</td>\n",
       "      <td>0</td>\n",
       "      <td>0</td>\n",
       "      <td>0</td>\n",
       "      <td>1</td>\n",
       "      <td>0</td>\n",
       "      <td>0</td>\n",
       "      <td>0</td>\n",
       "      <td>Action</td>\n",
       "      <td>Action-Adventure-Comedy-Sci-Fi</td>\n",
       "    </tr>\n",
       "    <tr>\n",
       "      <th>2</th>\n",
       "      <td>196.0</td>\n",
       "      <td>111.0</td>\n",
       "      <td>4.0</td>\n",
       "      <td>1997-12-04 19:09:53</td>\n",
       "      <td>1997-12-04 19:09:53</td>\n",
       "      <td>Truth About Cats &amp; Dogs, The (1996)</td>\n",
       "      <td>0</td>\n",
       "      <td>0</td>\n",
       "      <td>0</td>\n",
       "      <td>0</td>\n",
       "      <td>...</td>\n",
       "      <td>0</td>\n",
       "      <td>0</td>\n",
       "      <td>0</td>\n",
       "      <td>1</td>\n",
       "      <td>0</td>\n",
       "      <td>0</td>\n",
       "      <td>0</td>\n",
       "      <td>0</td>\n",
       "      <td>Romance</td>\n",
       "      <td>Comedy-Romance</td>\n",
       "    </tr>\n",
       "    <tr>\n",
       "      <th>3</th>\n",
       "      <td>196.0</td>\n",
       "      <td>25.0</td>\n",
       "      <td>4.0</td>\n",
       "      <td>1997-12-04 19:12:35</td>\n",
       "      <td>1997-12-04 19:12:35</td>\n",
       "      <td>Birdcage, The (1996)</td>\n",
       "      <td>0</td>\n",
       "      <td>0</td>\n",
       "      <td>0</td>\n",
       "      <td>0</td>\n",
       "      <td>...</td>\n",
       "      <td>0</td>\n",
       "      <td>0</td>\n",
       "      <td>0</td>\n",
       "      <td>0</td>\n",
       "      <td>0</td>\n",
       "      <td>0</td>\n",
       "      <td>0</td>\n",
       "      <td>0</td>\n",
       "      <td>Comedy</td>\n",
       "      <td>Comedy</td>\n",
       "    </tr>\n",
       "    <tr>\n",
       "      <th>4</th>\n",
       "      <td>196.0</td>\n",
       "      <td>382.0</td>\n",
       "      <td>4.0</td>\n",
       "      <td>1997-12-04 19:10:43</td>\n",
       "      <td>1997-12-04 19:10:43</td>\n",
       "      <td>Adventures of Priscilla, Queen of the Desert, ...</td>\n",
       "      <td>0</td>\n",
       "      <td>0</td>\n",
       "      <td>0</td>\n",
       "      <td>0</td>\n",
       "      <td>...</td>\n",
       "      <td>0</td>\n",
       "      <td>0</td>\n",
       "      <td>0</td>\n",
       "      <td>0</td>\n",
       "      <td>0</td>\n",
       "      <td>0</td>\n",
       "      <td>0</td>\n",
       "      <td>0</td>\n",
       "      <td>Drama</td>\n",
       "      <td>Comedy-Drama</td>\n",
       "    </tr>\n",
       "  </tbody>\n",
       "</table>\n",
       "<p>5 rows × 27 columns</p>\n",
       "</div>"
      ],
      "text/plain": [
       "   user_id  movie_id  rating       unix_timestamp                 date  \\\n",
       "0    196.0     242.0     3.0  1997-12-04 18:55:49  1997-12-04 18:55:49   \n",
       "1    196.0     257.0     2.0  1997-12-04 19:06:17  1997-12-04 19:06:17   \n",
       "2    196.0     111.0     4.0  1997-12-04 19:09:53  1997-12-04 19:09:53   \n",
       "3    196.0      25.0     4.0  1997-12-04 19:12:35  1997-12-04 19:12:35   \n",
       "4    196.0     382.0     4.0  1997-12-04 19:10:43  1997-12-04 19:10:43   \n",
       "\n",
       "                                               title  genre_unknown  Action  \\\n",
       "0                                       Kolya (1996)              0       0   \n",
       "1                                Men in Black (1997)              0       1   \n",
       "2                Truth About Cats & Dogs, The (1996)              0       0   \n",
       "3                               Birdcage, The (1996)              0       0   \n",
       "4  Adventures of Priscilla, Queen of the Desert, ...              0       0   \n",
       "\n",
       "   Adventure  Animation  ...  Horror  Musical  Mystery  Romance  Sci-Fi  \\\n",
       "0          0          0  ...       0        0        0        0       0   \n",
       "1          1          0  ...       0        0        0        0       1   \n",
       "2          0          0  ...       0        0        0        1       0   \n",
       "3          0          0  ...       0        0        0        0       0   \n",
       "4          0          0  ...       0        0        0        0       0   \n",
       "\n",
       "   Thriller  War  Western    genre                      all_genres  \n",
       "0         0    0        0   Comedy                          Comedy  \n",
       "1         0    0        0   Action  Action-Adventure-Comedy-Sci-Fi  \n",
       "2         0    0        0  Romance                  Comedy-Romance  \n",
       "3         0    0        0   Comedy                          Comedy  \n",
       "4         0    0        0    Drama                    Comedy-Drama  \n",
       "\n",
       "[5 rows x 27 columns]"
      ]
     },
     "execution_count": 10,
     "metadata": {},
     "output_type": "execute_result"
    }
   ],
   "source": [
    "df.head()"
   ]
  },
  {
   "cell_type": "code",
   "execution_count": 11,
   "metadata": {},
   "outputs": [
    {
     "name": "stdout",
     "output_type": "stream",
     "text": [
      "<class 'pandas.core.frame.DataFrame'>\n",
      "Int64Index: 100000 entries, 0 to 99999\n",
      "Data columns (total 27 columns):\n",
      "user_id           100000 non-null float64\n",
      "movie_id          100000 non-null float64\n",
      "rating            100000 non-null float64\n",
      "unix_timestamp    100000 non-null object\n",
      "date              100000 non-null object\n",
      "title             100000 non-null object\n",
      "genre_unknown     100000 non-null int64\n",
      "Action            100000 non-null int64\n",
      "Adventure         100000 non-null int64\n",
      "Animation         100000 non-null int64\n",
      "Children          100000 non-null int64\n",
      "Comedy            100000 non-null int64\n",
      "Crime             100000 non-null int64\n",
      "Documentary       100000 non-null int64\n",
      "Drama             100000 non-null int64\n",
      "Fantasy           100000 non-null int64\n",
      "Film-Noir         100000 non-null int64\n",
      "Horror            100000 non-null int64\n",
      "Musical           100000 non-null int64\n",
      "Mystery           100000 non-null int64\n",
      "Romance           100000 non-null int64\n",
      "Sci-Fi            100000 non-null int64\n",
      "Thriller          100000 non-null int64\n",
      "War               100000 non-null int64\n",
      "Western           100000 non-null int64\n",
      "genre             100000 non-null object\n",
      "all_genres        100000 non-null object\n",
      "dtypes: float64(3), int64(19), object(5)\n",
      "memory usage: 21.4+ MB\n"
     ]
    }
   ],
   "source": [
    "df.info()"
   ]
  },
  {
   "cell_type": "markdown",
   "metadata": {
    "colab_type": "text",
    "id": "ho8mCITH3aGJ"
   },
   "source": [
    "### Проверяем на наличие пропущенных значений"
   ]
  },
  {
   "cell_type": "code",
   "execution_count": 12,
   "metadata": {
    "colab": {},
    "colab_type": "code",
    "id": "I8hQc7yawGQQ",
    "outputId": "67ca5f67-65df-4fae-eb97-f90e828064c0"
   },
   "outputs": [
    {
     "name": "stdout",
     "output_type": "stream",
     "text": [
      "Number of movies Null values:  movie_id                 0\n",
      "title                    0\n",
      "release_date             1\n",
      "video_release_date    1682\n",
      "imdb_url                 3\n",
      "genre_unknown            0\n",
      "Action                   0\n",
      "Adventure                0\n",
      "Animation                0\n",
      "Children                 0\n",
      "Comedy                   0\n",
      "Crime                    0\n",
      "Documentary              0\n",
      "Drama                    0\n",
      "Fantasy                  0\n",
      "Film-Noir                0\n",
      "Horror                   0\n",
      "Musical                  0\n",
      "Mystery                  0\n",
      "Romance                  0\n",
      "Sci-Fi                   0\n",
      "Thriller                 0\n",
      "War                      0\n",
      "Western                  0\n",
      "year                     0\n",
      "genre                    0\n",
      "all_genres               0\n",
      "dtype: int64\n",
      "Number of ratings Null values:  user_id           0\n",
      "movie_id          0\n",
      "rating            0\n",
      "unix_timestamp    0\n",
      "date              0\n",
      "dtype: int64\n"
     ]
    }
   ],
   "source": [
    "print (\"Number of movies Null values: \", movies.isnull().sum())\n",
    "print (\"Number of ratings Null values: \", ratings.isnull().sum())"
   ]
  },
  {
   "cell_type": "code",
   "execution_count": 13,
   "metadata": {
    "colab": {},
    "colab_type": "code",
    "id": "w9eGJk2xwGSw",
    "outputId": "8692b663-935c-405b-d3b0-f4dc24a43b2a"
   },
   "outputs": [
    {
     "name": "stdout",
     "output_type": "stream",
     "text": [
      "Number of movies Null values:  movie_id              0\n",
      "title                 0\n",
      "release_date          0\n",
      "video_release_date    0\n",
      "imdb_url              0\n",
      "genre_unknown         0\n",
      "Action                0\n",
      "Adventure             0\n",
      "Animation             0\n",
      "Children              0\n",
      "Comedy                0\n",
      "Crime                 0\n",
      "Documentary           0\n",
      "Drama                 0\n",
      "Fantasy               0\n",
      "Film-Noir             0\n",
      "Horror                0\n",
      "Musical               0\n",
      "Mystery               0\n",
      "Romance               0\n",
      "Sci-Fi                0\n",
      "Thriller              0\n",
      "War                   0\n",
      "Western               0\n",
      "year                  0\n",
      "genre                 0\n",
      "all_genres            0\n",
      "dtype: int64\n"
     ]
    }
   ],
   "source": [
    "movies.dropna(inplace=True)\n",
    "print (\"Number of movies Null values: \", movies.isnull().sum())"
   ]
  },
  {
   "cell_type": "markdown",
   "metadata": {
    "colab_type": "text",
    "id": "9rYByUtF3nK0"
   },
   "source": [
    "### Создаем саб-сеты для визуализации"
   ]
  },
  {
   "cell_type": "code",
   "execution_count": 14,
   "metadata": {
    "colab": {},
    "colab_type": "code",
    "id": "9X1vJ8Ojz0F9",
    "outputId": "b658d6f6-2a6d-4a18-d107-785b3097e23c"
   },
   "outputs": [
    {
     "data": {
      "text/plain": [
       "21201"
      ]
     },
     "execution_count": 14,
     "metadata": {},
     "output_type": "execute_result"
    }
   ],
   "source": [
    "df[df['rating'] >= 4.5]['movie_id'].count() # Фильмы с рейтингом 4,5 или выше"
   ]
  },
  {
   "cell_type": "code",
   "execution_count": 15,
   "metadata": {
    "colab": {},
    "colab_type": "code",
    "id": "Zi9lrvVpz0I9",
    "outputId": "b778657d-2d54-447a-945d-0faf6b6222cf"
   },
   "outputs": [
    {
     "data": {
      "text/plain": [
       "0.21201"
      ]
     },
     "execution_count": 15,
     "metadata": {},
     "output_type": "execute_result"
    }
   ],
   "source": [
    "df[df['rating'] >= 4.5]['movie_id'].count() / ratings['rating'].count() # Процент фильмов с рейтингом 4,5 или выше"
   ]
  },
  {
   "cell_type": "code",
   "execution_count": 16,
   "metadata": {
    "colab": {},
    "colab_type": "code",
    "id": "1EC39V6Kz0MF",
    "outputId": "3323af29-e14a-4b29-eac0-17011d0fef44"
   },
   "outputs": [
    {
     "data": {
      "text/plain": [
       "21201"
      ]
     },
     "execution_count": 16,
     "metadata": {},
     "output_type": "execute_result"
    }
   ],
   "source": [
    "df[df['rating'] == 5]['movie_id'].count() # Фильмы с рейтингом 5"
   ]
  },
  {
   "cell_type": "code",
   "execution_count": 17,
   "metadata": {
    "colab": {},
    "colab_type": "code",
    "id": "1dbHDlJpz0Om",
    "outputId": "d1c88601-47b4-4b4f-fa62-7eaf219a1498"
   },
   "outputs": [
    {
     "data": {
      "text/plain": [
       "0.21201"
      ]
     },
     "execution_count": 17,
     "metadata": {},
     "output_type": "execute_result"
    }
   ],
   "source": [
    "df[df['rating'] == 5]['movie_id'].count() / ratings['rating'].count() # Процент фильмов с рейтингом 5"
   ]
  },
  {
   "cell_type": "code",
   "execution_count": 18,
   "metadata": {
    "colab": {},
    "colab_type": "code",
    "id": "nySGiChQ1nom",
    "outputId": "bc9f6c4b-89e8-4037-a466-4fc9d958d6fb"
   },
   "outputs": [
    {
     "data": {
      "text/plain": [
       "title\n",
       "Star Wars (1977)             583\n",
       "Contact (1997)               509\n",
       "Fargo (1996)                 508\n",
       "Return of the Jedi (1983)    507\n",
       "Liar Liar (1997)             485\n",
       "Name: rating, dtype: int64"
      ]
     },
     "execution_count": 18,
     "metadata": {},
     "output_type": "execute_result"
    }
   ],
   "source": [
    "df.groupby('title')['rating'].count().sort_values(ascending=False).head() # Топ фильмов по рейтингу"
   ]
  },
  {
   "cell_type": "code",
   "execution_count": 257,
   "metadata": {
    "colab": {},
    "colab_type": "code",
    "id": "Uchg7jgU1nrb",
    "outputId": "b7db81d5-7274-40d3-8deb-f7b2d88be01c"
   },
   "outputs": [
    {
     "data": {
      "text/html": [
       "<div>\n",
       "<style scoped>\n",
       "    .dataframe tbody tr th:only-of-type {\n",
       "        vertical-align: middle;\n",
       "    }\n",
       "\n",
       "    .dataframe tbody tr th {\n",
       "        vertical-align: top;\n",
       "    }\n",
       "\n",
       "    .dataframe thead th {\n",
       "        text-align: right;\n",
       "    }\n",
       "</style>\n",
       "<table border=\"1\" class=\"dataframe\">\n",
       "  <thead>\n",
       "    <tr style=\"text-align: right;\">\n",
       "      <th></th>\n",
       "      <th>user_id</th>\n",
       "      <th>RateCount</th>\n",
       "    </tr>\n",
       "  </thead>\n",
       "  <tbody>\n",
       "    <tr>\n",
       "      <th>404</th>\n",
       "      <td>405.0</td>\n",
       "      <td>737</td>\n",
       "    </tr>\n",
       "    <tr>\n",
       "      <th>654</th>\n",
       "      <td>655.0</td>\n",
       "      <td>685</td>\n",
       "    </tr>\n",
       "    <tr>\n",
       "      <th>12</th>\n",
       "      <td>13.0</td>\n",
       "      <td>636</td>\n",
       "    </tr>\n",
       "    <tr>\n",
       "      <th>449</th>\n",
       "      <td>450.0</td>\n",
       "      <td>540</td>\n",
       "    </tr>\n",
       "    <tr>\n",
       "      <th>275</th>\n",
       "      <td>276.0</td>\n",
       "      <td>518</td>\n",
       "    </tr>\n",
       "  </tbody>\n",
       "</table>\n",
       "</div>"
      ],
      "text/plain": [
       "     user_id  RateCount\n",
       "404    405.0        737\n",
       "654    655.0        685\n",
       "12      13.0        636\n",
       "449    450.0        540\n",
       "275    276.0        518"
      ]
     },
     "execution_count": 257,
     "metadata": {},
     "output_type": "execute_result"
    }
   ],
   "source": [
    "# количество оценок \n",
    "df_RateCount = pd.DataFrame(df.groupby('user_id', as_index = False)['rating'].agg('count')\n",
    "                              .rename(columns={'rating' : 'RateCount'}))\n",
    "df_RateCount.sort_values('RateCount',ascending=False).head(5)"
   ]
  },
  {
   "cell_type": "code",
   "execution_count": 259,
   "metadata": {},
   "outputs": [
    {
     "data": {
      "text/plain": [
       "<bound method Series.mean of 0      272\n",
       "1       62\n",
       "2       54\n",
       "3       24\n",
       "4      175\n",
       "      ... \n",
       "938     49\n",
       "939    107\n",
       "940     22\n",
       "941     79\n",
       "942    168\n",
       "Name: RateCount, Length: 943, dtype: int64>"
      ]
     },
     "execution_count": 259,
     "metadata": {},
     "output_type": "execute_result"
    }
   ],
   "source": [
    "df_RateCount['RateCount'].mean"
   ]
  },
  {
   "cell_type": "code",
   "execution_count": 20,
   "metadata": {
    "colab": {},
    "colab_type": "code",
    "id": "eVXL8RCt1nu5",
    "outputId": "b07ab2ee-c62c-499f-f5a6-3771260715ab"
   },
   "outputs": [
    {
     "data": {
      "text/html": [
       "<div>\n",
       "<style scoped>\n",
       "    .dataframe tbody tr th:only-of-type {\n",
       "        vertical-align: middle;\n",
       "    }\n",
       "\n",
       "    .dataframe tbody tr th {\n",
       "        vertical-align: top;\n",
       "    }\n",
       "\n",
       "    .dataframe thead th {\n",
       "        text-align: right;\n",
       "    }\n",
       "</style>\n",
       "<table border=\"1\" class=\"dataframe\">\n",
       "  <thead>\n",
       "    <tr style=\"text-align: right;\">\n",
       "      <th></th>\n",
       "      <th>title</th>\n",
       "      <th>RateMean</th>\n",
       "    </tr>\n",
       "  </thead>\n",
       "  <tbody>\n",
       "    <tr>\n",
       "      <th>1472</th>\n",
       "      <td>They Made Me a Criminal (1939)</td>\n",
       "      <td>5.0</td>\n",
       "    </tr>\n",
       "    <tr>\n",
       "      <th>944</th>\n",
       "      <td>Marlene Dietrich: Shadow and Light (1996)</td>\n",
       "      <td>5.0</td>\n",
       "    </tr>\n",
       "    <tr>\n",
       "      <th>1273</th>\n",
       "      <td>Saint of Fort Washington, The (1993)</td>\n",
       "      <td>5.0</td>\n",
       "    </tr>\n",
       "    <tr>\n",
       "      <th>1359</th>\n",
       "      <td>Someone Else's America (1995)</td>\n",
       "      <td>5.0</td>\n",
       "    </tr>\n",
       "    <tr>\n",
       "      <th>1387</th>\n",
       "      <td>Star Kid (1997)</td>\n",
       "      <td>5.0</td>\n",
       "    </tr>\n",
       "  </tbody>\n",
       "</table>\n",
       "</div>"
      ],
      "text/plain": [
       "                                           title  RateMean\n",
       "1472              They Made Me a Criminal (1939)       5.0\n",
       "944   Marlene Dietrich: Shadow and Light (1996)        5.0\n",
       "1273        Saint of Fort Washington, The (1993)       5.0\n",
       "1359               Someone Else's America (1995)       5.0\n",
       "1387                             Star Kid (1997)       5.0"
      ]
     },
     "execution_count": 20,
     "metadata": {},
     "output_type": "execute_result"
    }
   ],
   "source": [
    "# средняя оценка фильма\n",
    "df_RateMean = pd.DataFrame(df.groupby('title', as_index = False)['rating'].agg('mean')\n",
    "                              .rename(columns={'rating' : 'RateMean'}))\n",
    "df_RateMean.sort_values('RateMean',ascending=False).head(5)"
   ]
  },
  {
   "cell_type": "code",
   "execution_count": 21,
   "metadata": {
    "colab": {},
    "colab_type": "code",
    "id": "R1IP8gH51nxY",
    "outputId": "d389311b-3a07-441e-f3b6-78b570182cf7"
   },
   "outputs": [
    {
     "data": {
      "text/html": [
       "<div>\n",
       "<style scoped>\n",
       "    .dataframe tbody tr th:only-of-type {\n",
       "        vertical-align: middle;\n",
       "    }\n",
       "\n",
       "    .dataframe tbody tr th {\n",
       "        vertical-align: top;\n",
       "    }\n",
       "\n",
       "    .dataframe thead th {\n",
       "        text-align: right;\n",
       "    }\n",
       "</style>\n",
       "<table border=\"1\" class=\"dataframe\">\n",
       "  <thead>\n",
       "    <tr style=\"text-align: right;\">\n",
       "      <th></th>\n",
       "      <th>title</th>\n",
       "      <th>RateCount</th>\n",
       "      <th>RateMean</th>\n",
       "    </tr>\n",
       "  </thead>\n",
       "  <tbody>\n",
       "    <tr>\n",
       "      <th>1398</th>\n",
       "      <td>Star Wars (1977)</td>\n",
       "      <td>583</td>\n",
       "      <td>4.358491</td>\n",
       "    </tr>\n",
       "    <tr>\n",
       "      <th>333</th>\n",
       "      <td>Contact (1997)</td>\n",
       "      <td>509</td>\n",
       "      <td>3.803536</td>\n",
       "    </tr>\n",
       "    <tr>\n",
       "      <th>498</th>\n",
       "      <td>Fargo (1996)</td>\n",
       "      <td>508</td>\n",
       "      <td>4.155512</td>\n",
       "    </tr>\n",
       "    <tr>\n",
       "      <th>1234</th>\n",
       "      <td>Return of the Jedi (1983)</td>\n",
       "      <td>507</td>\n",
       "      <td>4.007890</td>\n",
       "    </tr>\n",
       "    <tr>\n",
       "      <th>860</th>\n",
       "      <td>Liar Liar (1997)</td>\n",
       "      <td>485</td>\n",
       "      <td>3.156701</td>\n",
       "    </tr>\n",
       "  </tbody>\n",
       "</table>\n",
       "</div>"
      ],
      "text/plain": [
       "                          title  RateCount  RateMean\n",
       "1398           Star Wars (1977)        583  4.358491\n",
       "333              Contact (1997)        509  3.803536\n",
       "498                Fargo (1996)        508  4.155512\n",
       "1234  Return of the Jedi (1983)        507  4.007890\n",
       "860            Liar Liar (1997)        485  3.156701"
      ]
     },
     "execution_count": 21,
     "metadata": {},
     "output_type": "execute_result"
    }
   ],
   "source": [
    "# мержим саб-сеты\n",
    "df_movie_rate = pd.merge(df_RateCount,df_RateMean, on='title')\n",
    "df_movie_rate.sort_values('RateCount',ascending=False).head(5)"
   ]
  },
  {
   "cell_type": "code",
   "execution_count": 22,
   "metadata": {
    "colab": {},
    "colab_type": "code",
    "id": "Pvzdv33j1n0H",
    "outputId": "6053cb38-c2a5-4fa3-d2cd-480f1208bfb2"
   },
   "outputs": [
    {
     "data": {
      "text/html": [
       "<div>\n",
       "<style scoped>\n",
       "    .dataframe tbody tr th:only-of-type {\n",
       "        vertical-align: middle;\n",
       "    }\n",
       "\n",
       "    .dataframe tbody tr th {\n",
       "        vertical-align: top;\n",
       "    }\n",
       "\n",
       "    .dataframe thead th {\n",
       "        text-align: right;\n",
       "    }\n",
       "</style>\n",
       "<table border=\"1\" class=\"dataframe\">\n",
       "  <thead>\n",
       "    <tr style=\"text-align: right;\">\n",
       "      <th></th>\n",
       "      <th>rating</th>\n",
       "      <th>RateCount</th>\n",
       "    </tr>\n",
       "  </thead>\n",
       "  <tbody>\n",
       "    <tr>\n",
       "      <th>0</th>\n",
       "      <td>1.0</td>\n",
       "      <td>6110</td>\n",
       "    </tr>\n",
       "    <tr>\n",
       "      <th>1</th>\n",
       "      <td>2.0</td>\n",
       "      <td>11370</td>\n",
       "    </tr>\n",
       "    <tr>\n",
       "      <th>2</th>\n",
       "      <td>3.0</td>\n",
       "      <td>27145</td>\n",
       "    </tr>\n",
       "    <tr>\n",
       "      <th>3</th>\n",
       "      <td>4.0</td>\n",
       "      <td>34174</td>\n",
       "    </tr>\n",
       "    <tr>\n",
       "      <th>4</th>\n",
       "      <td>5.0</td>\n",
       "      <td>21201</td>\n",
       "    </tr>\n",
       "  </tbody>\n",
       "</table>\n",
       "</div>"
      ],
      "text/plain": [
       "   rating  RateCount\n",
       "0     1.0       6110\n",
       "1     2.0      11370\n",
       "2     3.0      27145\n",
       "3     4.0      34174\n",
       "4     5.0      21201"
      ]
     },
     "execution_count": 22,
     "metadata": {},
     "output_type": "execute_result"
    }
   ],
   "source": [
    "# распределение оценок по пользователям\n",
    "df_distrib_of_ratings= pd.DataFrame(ratings.groupby('rating', as_index = False)['user_id'].count()\n",
    "                         .rename(columns={'user_id' : 'RateCount'}))\n",
    "df_distrib_of_ratings.head(10)"
   ]
  },
  {
   "cell_type": "code",
   "execution_count": 23,
   "metadata": {
    "colab": {},
    "colab_type": "code",
    "id": "jud5PS1q1n3B",
    "outputId": "dee067a2-f8e9-4d5f-9ab4-3b71e9f4b2e0"
   },
   "outputs": [
    {
     "data": {
      "text/html": [
       "<div>\n",
       "<style scoped>\n",
       "    .dataframe tbody tr th:only-of-type {\n",
       "        vertical-align: middle;\n",
       "    }\n",
       "\n",
       "    .dataframe tbody tr th {\n",
       "        vertical-align: top;\n",
       "    }\n",
       "\n",
       "    .dataframe thead th {\n",
       "        text-align: right;\n",
       "    }\n",
       "</style>\n",
       "<table border=\"1\" class=\"dataframe\">\n",
       "  <thead>\n",
       "    <tr style=\"text-align: right;\">\n",
       "      <th></th>\n",
       "      <th>Total</th>\n",
       "    </tr>\n",
       "    <tr>\n",
       "      <th>user_id</th>\n",
       "      <th></th>\n",
       "    </tr>\n",
       "  </thead>\n",
       "  <tbody>\n",
       "    <tr>\n",
       "      <th>405.0</th>\n",
       "      <td>737</td>\n",
       "    </tr>\n",
       "    <tr>\n",
       "      <th>655.0</th>\n",
       "      <td>685</td>\n",
       "    </tr>\n",
       "    <tr>\n",
       "      <th>13.0</th>\n",
       "      <td>636</td>\n",
       "    </tr>\n",
       "    <tr>\n",
       "      <th>450.0</th>\n",
       "      <td>540</td>\n",
       "    </tr>\n",
       "    <tr>\n",
       "      <th>276.0</th>\n",
       "      <td>518</td>\n",
       "    </tr>\n",
       "  </tbody>\n",
       "</table>\n",
       "</div>"
      ],
      "text/plain": [
       "         Total\n",
       "user_id       \n",
       "405.0      737\n",
       "655.0      685\n",
       "13.0       636\n",
       "450.0      540\n",
       "276.0      518"
      ]
     },
     "execution_count": 23,
     "metadata": {},
     "output_type": "execute_result"
    }
   ],
   "source": [
    "# the users with most ratings\n",
    "users_rate = ratings[['user_id', 'movie_id']].groupby('user_id').count()\n",
    "users_rate = users_rate.rename(columns={'movie_id' : 'Total'})\n",
    "users_rate.sort_values('Total',ascending=False).head()"
   ]
  },
  {
   "cell_type": "code",
   "execution_count": 24,
   "metadata": {
    "colab": {},
    "colab_type": "code",
    "id": "nxYgC4qU1n_e",
    "outputId": "60085b8e-a5d8-4285-f8c3-b2c62ed081eb"
   },
   "outputs": [
    {
     "data": {
      "text/html": [
       "<div>\n",
       "<style scoped>\n",
       "    .dataframe tbody tr th:only-of-type {\n",
       "        vertical-align: middle;\n",
       "    }\n",
       "\n",
       "    .dataframe tbody tr th {\n",
       "        vertical-align: top;\n",
       "    }\n",
       "\n",
       "    .dataframe thead th {\n",
       "        text-align: right;\n",
       "    }\n",
       "</style>\n",
       "<table border=\"1\" class=\"dataframe\">\n",
       "  <thead>\n",
       "    <tr style=\"text-align: right;\">\n",
       "      <th></th>\n",
       "      <th>genre</th>\n",
       "      <th>Total ratings</th>\n",
       "    </tr>\n",
       "  </thead>\n",
       "  <tbody>\n",
       "    <tr>\n",
       "      <th>7</th>\n",
       "      <td>Drama</td>\n",
       "      <td>26189</td>\n",
       "    </tr>\n",
       "    <tr>\n",
       "      <th>4</th>\n",
       "      <td>Comedy</td>\n",
       "      <td>18342</td>\n",
       "    </tr>\n",
       "    <tr>\n",
       "      <th>0</th>\n",
       "      <td>Action</td>\n",
       "      <td>11131</td>\n",
       "    </tr>\n",
       "    <tr>\n",
       "      <th>13</th>\n",
       "      <td>Romance</td>\n",
       "      <td>9076</td>\n",
       "    </tr>\n",
       "    <tr>\n",
       "      <th>15</th>\n",
       "      <td>Thriller</td>\n",
       "      <td>5820</td>\n",
       "    </tr>\n",
       "    <tr>\n",
       "      <th>1</th>\n",
       "      <td>Adventure</td>\n",
       "      <td>5214</td>\n",
       "    </tr>\n",
       "    <tr>\n",
       "      <th>14</th>\n",
       "      <td>Sci-Fi</td>\n",
       "      <td>4647</td>\n",
       "    </tr>\n",
       "    <tr>\n",
       "      <th>5</th>\n",
       "      <td>Crime</td>\n",
       "      <td>3505</td>\n",
       "    </tr>\n",
       "    <tr>\n",
       "      <th>10</th>\n",
       "      <td>Horror</td>\n",
       "      <td>3279</td>\n",
       "    </tr>\n",
       "    <tr>\n",
       "      <th>12</th>\n",
       "      <td>Mystery</td>\n",
       "      <td>2875</td>\n",
       "    </tr>\n",
       "  </tbody>\n",
       "</table>\n",
       "</div>"
      ],
      "text/plain": [
       "        genre  Total ratings\n",
       "7       Drama          26189\n",
       "4      Comedy          18342\n",
       "0      Action          11131\n",
       "13    Romance           9076\n",
       "15   Thriller           5820\n",
       "1   Adventure           5214\n",
       "14     Sci-Fi           4647\n",
       "5       Crime           3505\n",
       "10     Horror           3279\n",
       "12    Mystery           2875"
      ]
     },
     "execution_count": 24,
     "metadata": {},
     "output_type": "execute_result"
    }
   ],
   "source": [
    "# наиболее популярные жанры\n",
    "MP_genre = df.groupby('genre', as_index = False)['user_id'].count()\n",
    "MP_genre = MP_genre.rename(columns={'user_id' : 'Total ratings'})\n",
    "MP_genre.sort_values('Total ratings',ascending=False).head(10)"
   ]
  },
  {
   "cell_type": "markdown",
   "metadata": {
    "colab_type": "text",
    "id": "vObooxcQ3o1F"
   },
   "source": [
    "### Визуализация"
   ]
  },
  {
   "cell_type": "code",
   "execution_count": 28,
   "metadata": {
    "colab": {},
    "colab_type": "code",
    "id": "ZscNF7SM1oH6"
   },
   "outputs": [],
   "source": [
    "plt.style.use('ggplot')\n",
    "\n",
    "import matplotlib.pyplot as plt\n",
    "import seaborn as sns\n",
    "sns.set_style('white')\n",
    "%matplotlib inline"
   ]
  },
  {
   "cell_type": "markdown",
   "metadata": {
    "colab_type": "text",
    "id": "Azgbh1dy5Nrl"
   },
   "source": [
    "#### Распределение оценок для количества фильмов (минимальное значение 50)"
   ]
  },
  {
   "cell_type": "code",
   "execution_count": 29,
   "metadata": {
    "colab": {},
    "colab_type": "code",
    "id": "47oV74b41oK9",
    "outputId": "d4183c3e-89d7-477a-bb12-8abd8f7cb080"
   },
   "outputs": [
    {
     "data": {
      "text/plain": [
       "Text(0,0.5,'Количество фильмов')"
      ]
     },
     "execution_count": 29,
     "metadata": {},
     "output_type": "execute_result"
    },
    {
     "data": {
      "image/png": "[encoded data removed]",
      "text/plain": [
       "<Figure size 864x432 with 1 Axes>"
      ]
     },
     "metadata": {
      "needs_background": "light"
     },
     "output_type": "display_data"
    }
   ],
   "source": [
    "plt.figure(figsize=(12,6))\n",
    "df_movie_rate[df_movie_rate['RateCount'] > 50]['RateCount'].hist(bins=100)\n",
    "plt.title('Количество оценок/количество фильмов')\n",
    "plt.xlabel('Количество оценок')\n",
    "plt.ylabel('Количество фильмов')"
   ]
  },
  {
   "cell_type": "markdown",
   "metadata": {
    "colab_type": "text",
    "id": "luFojZMR5QLl"
   },
   "source": [
    "#### Распределение шкалы оценок"
   ]
  },
  {
   "cell_type": "code",
   "execution_count": 30,
   "metadata": {
    "colab": {},
    "colab_type": "code",
    "id": "bxDFG_nz5M4-",
    "outputId": "da93f225-713f-4806-cd7e-d1f83d67cff0"
   },
   "outputs": [
    {
     "data": {
      "text/plain": [
       "<seaborn.axisgrid.JointGrid at 0x26c82751eb8>"
      ]
     },
     "execution_count": 30,
     "metadata": {},
     "output_type": "execute_result"
    },
    {
     "data": {
      "image/png": "[encoded data removed]",
      "text/plain": [
       "<Figure size 432x432 with 3 Axes>"
      ]
     },
     "metadata": {
      "needs_background": "light"
     },
     "output_type": "display_data"
    }
   ],
   "source": [
    "sns.jointplot(x='rating',y='RateCount',data=df_distrib_of_ratings,alpha=0.5)"
   ]
  },
  {
   "cell_type": "markdown",
   "metadata": {
    "colab_type": "text",
    "id": "jacDwvqM5ltg"
   },
   "source": [
    "#### Зависимость количества оценок от средней оценки"
   ]
  },
  {
   "cell_type": "code",
   "execution_count": 31,
   "metadata": {
    "colab": {},
    "colab_type": "code",
    "id": "azZvSpjo5M75",
    "outputId": "0e87dfd1-3add-4cc7-b9f8-5a79e1cb7a78"
   },
   "outputs": [
    {
     "data": {
      "text/plain": [
       "<seaborn.axisgrid.JointGrid at 0x26c8580b978>"
      ]
     },
     "execution_count": 31,
     "metadata": {},
     "output_type": "execute_result"
    },
    {
     "data": {
      "image/png": "[encoded data removed]",
      "text/plain": [
       "<Figure size 432x432 with 3 Axes>"
      ]
     },
     "metadata": {
      "needs_background": "light"
     },
     "output_type": "display_data"
    }
   ],
   "source": [
    "sns.jointplot(x='RateMean',y='RateCount',data= df_movie_rate,alpha=0.5)"
   ]
  },
  {
   "cell_type": "markdown",
   "metadata": {
    "colab_type": "text",
    "id": "rqgsQT225mlN"
   },
   "source": [
    "#### Количество оценок пользователей"
   ]
  },
  {
   "cell_type": "code",
   "execution_count": 32,
   "metadata": {
    "colab": {},
    "colab_type": "code",
    "id": "jYi1au3S5M-y",
    "outputId": "100b46fb-d1d6-4498-e67c-0be61fac63fb"
   },
   "outputs": [
    {
     "data": {
      "image/png": "[encoded data removed]",
      "text/plain": [
       "<Figure size 864x576 with 1 Axes>"
      ]
     },
     "metadata": {
      "needs_background": "light"
     },
     "output_type": "display_data"
    }
   ],
   "source": [
    "plt.figure(figsize=(12,8))\n",
    "users_rate['Total'].hist(bins=100, edgecolor='black', log=True)\n",
    "plt.title('Количество оценок пользователей')\n",
    "plt.xlabel('Число оценок')\n",
    "plt.ylabel('Число пользователей')\n",
    "plt.xlim(0,)\n",
    "plt.xticks(np.arange(0,1000,100))\n",
    "plt.show()"
   ]
  },
  {
   "cell_type": "markdown",
   "metadata": {
    "colab_type": "text",
    "id": "kqg2eme7z7-h"
   },
   "source": [
    "Выводы:\n",
    "1. Большая часть фильмов имеет менее 4000 оценок\n",
    "2. Пик развиия киноиндустрии пришелся на начало 90-х\n",
    "3. Большая часть оценок равна или больше 3\n",
    "4. Большое число оценок завышает рейтинг фильма\n",
    "5. Большая часть пользователей имеет диапозон от 0 до 200  оценок"
   ]
  },
  {
   "cell_type": "markdown",
   "metadata": {
    "colab_type": "text",
    "id": "nT3PLED4DAIW"
   },
   "source": [
    "### Metrics.Train/test split"
   ]
  },
  {
   "cell_type": "markdown",
   "metadata": {
    "colab_type": "text",
    "id": "gnVEAFRVwThC"
   },
   "source": [
    "Task 2: Evaluation metrics report (5 points)\n",
    "\n",
    "Implement evaluation metrics to assess recommender performance\n",
    "- MAP score\n",
    "- Precision@k\n",
    "- Mean percentage ranking"
   ]
  },
  {
   "cell_type": "markdown",
   "metadata": {},
   "source": [
    "### Функция для деления на тест и трейн"
   ]
  },
  {
   "cell_type": "code",
   "execution_count": 25,
   "metadata": {},
   "outputs": [],
   "source": [
    "def Split_DF(df, holdout_fraction=0.1):\n",
    "    data =  df.sort_values(['date'])\n",
    "    train = data[:(len(df.index)-int(len(df.index)*holdout_fraction))]\n",
    "    test = data[(len(df.index)-int(len(df.index)*holdout_fraction)):]\n",
    "    return train, test"
   ]
  },
  {
   "cell_type": "markdown",
   "metadata": {},
   "source": [
    "### Метрики для оценки качества системы"
   ]
  },
  {
   "cell_type": "code",
   "execution_count": 391,
   "metadata": {},
   "outputs": [],
   "source": [
    "def precision(actual, predicted, k):\n",
    "    try:\n",
    "        act_set = set(actual[:k])\n",
    "        pred_set = set(predicted[:k])\n",
    "        result = len(act_set & pred_set) / float(min(k, len(act_set)))\n",
    "    except ZeroDivisionError:\n",
    "        result = 0\n",
    "        \n",
    "    return result\n",
    "\n",
    "def average_precision_at_k(actual, predicted, k=10):\n",
    "\n",
    "    if len(predicted)>k:\n",
    "        predicted = predicted[:k]\n",
    "        \n",
    "    score = 0.0\n",
    "    num_hits = 0.0\n",
    "\n",
    "    for i,p in enumerate(predicted):\n",
    "        if p in actual and p not in predicted[:i]:\n",
    "            num_hits += 1.0\n",
    "            score += num_hits / (i+1.0)    \n",
    "    try:        \n",
    "        result = score / float(min(k, len(actual)))\n",
    "    except ZeroDivisionError:\n",
    "        result = 0\n",
    "    \n",
    "    if len(actual)<k:\n",
    "        result = score / float(min(k, len(actual)))\n",
    "        \n",
    "    return result\n",
    "\n",
    "def mean_average_precision_at_k(actual, predicted, k=10):\n",
    "\n",
    "    return np.mean([apk(a,p,k) for a,p in zip(actual, predicted)])\n",
    "\n",
    "\n",
    "def PR(actual, predicted, k):\n",
    "    \n",
    "    if len(predicted)>k:\n",
    "        predicted = predicted[:k]\n",
    "    \n",
    "    if len(actual)>k:\n",
    "        actual = actual[:k] \n",
    "    \n",
    "    score = 0.0\n",
    "    \n",
    "    for pred_values, rank in zip(predicted, range(len(predicted))):\n",
    "        if pred_values in actual and pred_values in predicted:\n",
    "            score += (rank+1.0) / (len(predicted))\n",
    "                                  \n",
    "    result = score / float(min(k, len(actual)))                             \n",
    "                                 \n",
    "    return score "
   ]
  },
  {
   "cell_type": "code",
   "execution_count": 405,
   "metadata": {},
   "outputs": [],
   "source": [
    "def calculate_metrics( preds, test, k):\n",
    "        users =  preds['user_id'].values.tolist()\n",
    "        actuals_items = []\n",
    "        preds_items = []\n",
    "        prec =[]\n",
    "        apak = []\n",
    "        percantage = []\n",
    "        \n",
    "        for i in users:\n",
    "            actual = test[test['user_id']== i].sort_values('rating', ascending= False)['movie_id'].tolist()\n",
    "            pred = preds[preds['user_id']== i]['predictions'].values[0]\n",
    "            actuals_items.append(actual)\n",
    "            preds_items.append(pred)\n",
    "            prec.append(precision(actual,pred,k))\n",
    "            apak.append(average_precision_at_k(actual,pred,k))\n",
    "        \n",
    "        df_metrics = pd.DataFrame({'user_id': users,\n",
    "                                   'actual': actuals_items,\n",
    "                                   'predictions': preds_items,\n",
    "                                   'precission': prec,\n",
    "                                   'ap@k': apak}, \n",
    "                                    columns = ['user_id','actual','predictions', 'precission' , 'ap@k'])\n",
    "        \n",
    "        for i in df_metrics['user_id'].values.tolist():\n",
    "            actual = df_metrics[df_metrics['user_id']== i]['actual'].values[0]\n",
    "            preds = df_metrics[df_metrics['user_id']== i]['predictions'].values[0]\n",
    "            pr_rank = PR(actual,preds,k)\n",
    "            percantage.append(pr_rank)\n",
    "        \n",
    "        df_metrics['PR']=percantage\n",
    "        \n",
    "        return df_metrics"
   ]
  },
  {
   "cell_type": "code",
   "execution_count": 66,
   "metadata": {},
   "outputs": [],
   "source": [
    "class MPRecommender(object):\n",
    "    def __init__(self, user_field='user_id', item_field='movie_id', number_of_films=10):\n",
    "        self.user_field = user_field\n",
    "        self.item_field = item_field\n",
    "        self.number_of_films = number_of_films\n",
    "\n",
    "    \n",
    "    def fit(self, train):\n",
    "        popularity_recs = train[self.item_field].value_counts().head(self.number_of_films).index.tolist()\n",
    "        recs = []\n",
    "        user_list = train[self.user_field].values.tolist()\n",
    "        for user in user_list:\n",
    "            actual = train[train[self.user_field] == user].sort_values('rating',ascending=False)[self.item_field].values\n",
    "            pop_predictions = popularity_recs\n",
    "            cleaned_preds = [x for x in pop_predictions if x not in actual]\n",
    "            recs.append(cleaned_preds)\n",
    "            \n",
    "        train['pop_predictions'] = recs\n",
    "    \n",
    "        self.train_result = train\n",
    "        \n",
    "        return train\n",
    "\n",
    "    def predict(self, user_subset):\n",
    "        df_predict= self.train_result[self.train_result[self.user_field].isin(user_subset)]\n",
    "        df_predict = df_predict.drop_duplicates(subset=['user_id'], keep='first', inplace=False)\n",
    "        users = []\n",
    "        predictions = []\n",
    "\n",
    "        for user in user_subset:\n",
    "            try:\n",
    "                preds = df_predict[df_predict[self.user_field] == user ]['pop_predictions'].tolist()[0]\n",
    "            except IndexError:\n",
    "                preds = []\n",
    "            users.append(user)\n",
    "            predictions.append(preds)\n",
    "            \n",
    "        df_preds = pd.DataFrame({'user_id': users,\n",
    "                                'predictions': predictions}, \n",
    "                                columns = ['user_id','predictions'])\n",
    "        \n",
    "        df_preds = df_preds[df_preds['predictions'].map(lambda d: len(d)) > 0]\n",
    "        \n",
    "        \n",
    "        return df_preds\n"
   ]
  },
  {
   "cell_type": "code",
   "execution_count": 395,
   "metadata": {},
   "outputs": [],
   "source": [
    "train, test = Split_DF(df_copy, holdout_fraction=0.25)"
   ]
  },
  {
   "cell_type": "code",
   "execution_count": 283,
   "metadata": {},
   "outputs": [],
   "source": [
    "user_subset = list(set(test['user_id'].values.tolist()))"
   ]
  },
  {
   "cell_type": "code",
   "execution_count": 284,
   "metadata": {},
   "outputs": [],
   "source": [
    "min_k = df_RateCount[df_RateCount['user_id'].isin(user_subset)]\n",
    "min_k = round(min_k['RateCount'].mean())"
   ]
  },
  {
   "cell_type": "code",
   "execution_count": 285,
   "metadata": {},
   "outputs": [
    {
     "data": {
      "text/plain": [
       "126"
      ]
     },
     "execution_count": 285,
     "metadata": {},
     "output_type": "execute_result"
    }
   ],
   "source": [
    "min_k"
   ]
  },
  {
   "cell_type": "code",
   "execution_count": 67,
   "metadata": {},
   "outputs": [],
   "source": [
    "model_MPR = MPRecommender(user_field='user_id', item_field='movie_id', number_of_films = min_k )"
   ]
  },
  {
   "cell_type": "code",
   "execution_count": 70,
   "metadata": {},
   "outputs": [],
   "source": [
    "trained = model_MPR.fit(train)"
   ]
  },
  {
   "cell_type": "code",
   "execution_count": 71,
   "metadata": {},
   "outputs": [],
   "source": [
    "predictions = model_MPR.predict(user_subset)"
   ]
  },
  {
   "cell_type": "code",
   "execution_count": 396,
   "metadata": {},
   "outputs": [
    {
     "data": {
      "text/html": [
       "<div>\n",
       "<style scoped>\n",
       "    .dataframe tbody tr th:only-of-type {\n",
       "        vertical-align: middle;\n",
       "    }\n",
       "\n",
       "    .dataframe tbody tr th {\n",
       "        vertical-align: top;\n",
       "    }\n",
       "\n",
       "    .dataframe thead th {\n",
       "        text-align: right;\n",
       "    }\n",
       "</style>\n",
       "<table border=\"1\" class=\"dataframe\">\n",
       "  <thead>\n",
       "    <tr style=\"text-align: right;\">\n",
       "      <th></th>\n",
       "      <th>user_id</th>\n",
       "      <th>predictions</th>\n",
       "    </tr>\n",
       "  </thead>\n",
       "  <tbody>\n",
       "    <tr>\n",
       "      <th>0</th>\n",
       "      <td>1.0</td>\n",
       "      <td>[294.0, 288.0, 286.0, 405.0, 300.0, 423.0, 276...</td>\n",
       "    </tr>\n",
       "    <tr>\n",
       "      <th>6</th>\n",
       "      <td>13.0</td>\n",
       "      <td>[151.0, 15.0, 257.0, 742.0, 125.0, 186.0, 269....</td>\n",
       "    </tr>\n",
       "    <tr>\n",
       "      <th>7</th>\n",
       "      <td>14.0</td>\n",
       "      <td>[50.0, 181.0, 294.0, 258.0, 1.0, 286.0, 174.0,...</td>\n",
       "    </tr>\n",
       "    <tr>\n",
       "      <th>8</th>\n",
       "      <td>23.0</td>\n",
       "      <td>[288.0, 121.0, 286.0, 127.0, 237.0, 117.0, 300...</td>\n",
       "    </tr>\n",
       "    <tr>\n",
       "      <th>17</th>\n",
       "      <td>43.0</td>\n",
       "      <td>[288.0, 195.0, 748.0, 22.0, 96.0, 176.0, 183.0...</td>\n",
       "    </tr>\n",
       "    <tr>\n",
       "      <th>...</th>\n",
       "      <td>...</td>\n",
       "      <td>...</td>\n",
       "    </tr>\n",
       "    <tr>\n",
       "      <th>345</th>\n",
       "      <td>894.0</td>\n",
       "      <td>[181.0, 294.0, 174.0, 127.0, 56.0, 98.0, 222.0...</td>\n",
       "    </tr>\n",
       "    <tr>\n",
       "      <th>350</th>\n",
       "      <td>913.0</td>\n",
       "      <td>[294.0, 258.0, 121.0, 286.0, 405.0, 300.0, 257...</td>\n",
       "    </tr>\n",
       "    <tr>\n",
       "      <th>354</th>\n",
       "      <td>924.0</td>\n",
       "      <td>[294.0, 237.0, 98.0, 222.0, 405.0, 204.0, 151....</td>\n",
       "    </tr>\n",
       "    <tr>\n",
       "      <th>360</th>\n",
       "      <td>940.0</td>\n",
       "      <td>[1.0, 288.0, 121.0, 127.0, 237.0, 117.0, 222.0...</td>\n",
       "    </tr>\n",
       "    <tr>\n",
       "      <th>362</th>\n",
       "      <td>943.0</td>\n",
       "      <td>[294.0, 258.0, 1.0, 288.0, 286.0, 7.0, 237.0, ...</td>\n",
       "    </tr>\n",
       "  </tbody>\n",
       "</table>\n",
       "<p>128 rows × 2 columns</p>\n",
       "</div>"
      ],
      "text/plain": [
       "     user_id                                        predictions\n",
       "0        1.0  [294.0, 288.0, 286.0, 405.0, 300.0, 423.0, 276...\n",
       "6       13.0  [151.0, 15.0, 257.0, 742.0, 125.0, 186.0, 269....\n",
       "7       14.0  [50.0, 181.0, 294.0, 258.0, 1.0, 286.0, 174.0,...\n",
       "8       23.0  [288.0, 121.0, 286.0, 127.0, 237.0, 117.0, 300...\n",
       "17      43.0  [288.0, 195.0, 748.0, 22.0, 96.0, 176.0, 183.0...\n",
       "..       ...                                                ...\n",
       "345    894.0  [181.0, 294.0, 174.0, 127.0, 56.0, 98.0, 222.0...\n",
       "350    913.0  [294.0, 258.0, 121.0, 286.0, 405.0, 300.0, 257...\n",
       "354    924.0  [294.0, 237.0, 98.0, 222.0, 405.0, 204.0, 151....\n",
       "360    940.0  [1.0, 288.0, 121.0, 127.0, 237.0, 117.0, 222.0...\n",
       "362    943.0  [294.0, 258.0, 1.0, 288.0, 286.0, 7.0, 237.0, ...\n",
       "\n",
       "[128 rows x 2 columns]"
      ]
     },
     "execution_count": 396,
     "metadata": {},
     "output_type": "execute_result"
    }
   ],
   "source": [
    "predictions"
   ]
  },
  {
   "cell_type": "code",
   "execution_count": 406,
   "metadata": {},
   "outputs": [],
   "source": [
    "get_preds= calculate_metrics(predictions, test,  k=10)"
   ]
  },
  {
   "cell_type": "code",
   "execution_count": 407,
   "metadata": {},
   "outputs": [
    {
     "data": {
      "text/html": [
       "<div>\n",
       "<style scoped>\n",
       "    .dataframe tbody tr th:only-of-type {\n",
       "        vertical-align: middle;\n",
       "    }\n",
       "\n",
       "    .dataframe tbody tr th {\n",
       "        vertical-align: top;\n",
       "    }\n",
       "\n",
       "    .dataframe thead th {\n",
       "        text-align: right;\n",
       "    }\n",
       "</style>\n",
       "<table border=\"1\" class=\"dataframe\">\n",
       "  <thead>\n",
       "    <tr style=\"text-align: right;\">\n",
       "      <th></th>\n",
       "      <th>user_id</th>\n",
       "      <th>actual</th>\n",
       "      <th>predictions</th>\n",
       "      <th>precission</th>\n",
       "      <th>ap@k</th>\n",
       "      <th>PR</th>\n",
       "    </tr>\n",
       "  </thead>\n",
       "  <tbody>\n",
       "    <tr>\n",
       "      <th>0</th>\n",
       "      <td>1.0</td>\n",
       "      <td>[270.0, 32.0, 242.0, 111.0, 171.0, 209.0, 256....</td>\n",
       "      <td>[294.0, 288.0, 286.0, 405.0, 300.0, 423.0, 276...</td>\n",
       "      <td>0.100000</td>\n",
       "      <td>0.010000</td>\n",
       "      <td>1.0</td>\n",
       "    </tr>\n",
       "    <tr>\n",
       "      <th>1</th>\n",
       "      <td>13.0</td>\n",
       "      <td>[900.0, 909.0, 915.0, 896.0, 691.0, 694.0, 917...</td>\n",
       "      <td>[151.0, 15.0, 257.0, 742.0, 125.0, 186.0, 269....</td>\n",
       "      <td>0.100000</td>\n",
       "      <td>0.045238</td>\n",
       "      <td>0.6</td>\n",
       "    </tr>\n",
       "    <tr>\n",
       "      <th>2</th>\n",
       "      <td>14.0</td>\n",
       "      <td>[181.0, 921.0, 213.0, 525.0, 50.0, 509.0, 172....</td>\n",
       "      <td>[50.0, 181.0, 294.0, 258.0, 1.0, 286.0, 174.0,...</td>\n",
       "      <td>0.200000</td>\n",
       "      <td>0.282857</td>\n",
       "      <td>0.3</td>\n",
       "    </tr>\n",
       "    <tr>\n",
       "      <th>3</th>\n",
       "      <td>23.0</td>\n",
       "      <td>[257.0]</td>\n",
       "      <td>[288.0, 121.0, 286.0, 127.0, 237.0, 117.0, 300...</td>\n",
       "      <td>0.000000</td>\n",
       "      <td>0.000000</td>\n",
       "      <td>0.0</td>\n",
       "    </tr>\n",
       "    <tr>\n",
       "      <th>4</th>\n",
       "      <td>43.0</td>\n",
       "      <td>[316.0, 354.0, 124.0, 1052.0]</td>\n",
       "      <td>[288.0, 195.0, 748.0, 22.0, 96.0, 176.0, 183.0...</td>\n",
       "      <td>0.000000</td>\n",
       "      <td>0.000000</td>\n",
       "      <td>0.0</td>\n",
       "    </tr>\n",
       "    <tr>\n",
       "      <th>...</th>\n",
       "      <td>...</td>\n",
       "      <td>...</td>\n",
       "      <td>...</td>\n",
       "      <td>...</td>\n",
       "      <td>...</td>\n",
       "      <td>...</td>\n",
       "    </tr>\n",
       "    <tr>\n",
       "      <th>123</th>\n",
       "      <td>894.0</td>\n",
       "      <td>[903.0, 316.0, 1592.0, 904.0, 752.0, 1313.0, 6...</td>\n",
       "      <td>[181.0, 294.0, 174.0, 127.0, 56.0, 98.0, 222.0...</td>\n",
       "      <td>0.000000</td>\n",
       "      <td>0.000000</td>\n",
       "      <td>0.0</td>\n",
       "    </tr>\n",
       "    <tr>\n",
       "      <th>124</th>\n",
       "      <td>913.0</td>\n",
       "      <td>[258.0]</td>\n",
       "      <td>[294.0, 258.0, 121.0, 286.0, 405.0, 300.0, 257...</td>\n",
       "      <td>1.000000</td>\n",
       "      <td>0.500000</td>\n",
       "      <td>0.2</td>\n",
       "    </tr>\n",
       "    <tr>\n",
       "      <th>125</th>\n",
       "      <td>924.0</td>\n",
       "      <td>[275.0, 237.0, 129.0, 1149.0, 273.0, 408.0, 27...</td>\n",
       "      <td>[294.0, 237.0, 98.0, 222.0, 405.0, 204.0, 151....</td>\n",
       "      <td>0.142857</td>\n",
       "      <td>0.071429</td>\n",
       "      <td>0.2</td>\n",
       "    </tr>\n",
       "    <tr>\n",
       "      <th>126</th>\n",
       "      <td>940.0</td>\n",
       "      <td>[354.0, 316.0, 873.0, 879.0, 355.0]</td>\n",
       "      <td>[1.0, 288.0, 121.0, 127.0, 237.0, 117.0, 222.0...</td>\n",
       "      <td>0.000000</td>\n",
       "      <td>0.000000</td>\n",
       "      <td>0.0</td>\n",
       "    </tr>\n",
       "    <tr>\n",
       "      <th>127</th>\n",
       "      <td>943.0</td>\n",
       "      <td>[69.0, 233.0, 187.0, 196.0, 194.0, 184.0, 56.0...</td>\n",
       "      <td>[294.0, 258.0, 1.0, 288.0, 286.0, 7.0, 237.0, ...</td>\n",
       "      <td>0.100000</td>\n",
       "      <td>0.072619</td>\n",
       "      <td>0.8</td>\n",
       "    </tr>\n",
       "  </tbody>\n",
       "</table>\n",
       "<p>128 rows × 6 columns</p>\n",
       "</div>"
      ],
      "text/plain": [
       "     user_id                                             actual  \\\n",
       "0        1.0  [270.0, 32.0, 242.0, 111.0, 171.0, 209.0, 256....   \n",
       "1       13.0  [900.0, 909.0, 915.0, 896.0, 691.0, 694.0, 917...   \n",
       "2       14.0  [181.0, 921.0, 213.0, 525.0, 50.0, 509.0, 172....   \n",
       "3       23.0                                            [257.0]   \n",
       "4       43.0                      [316.0, 354.0, 124.0, 1052.0]   \n",
       "..       ...                                                ...   \n",
       "123    894.0  [903.0, 316.0, 1592.0, 904.0, 752.0, 1313.0, 6...   \n",
       "124    913.0                                            [258.0]   \n",
       "125    924.0  [275.0, 237.0, 129.0, 1149.0, 273.0, 408.0, 27...   \n",
       "126    940.0                [354.0, 316.0, 873.0, 879.0, 355.0]   \n",
       "127    943.0  [69.0, 233.0, 187.0, 196.0, 194.0, 184.0, 56.0...   \n",
       "\n",
       "                                           predictions  precission      ap@k  \\\n",
       "0    [294.0, 288.0, 286.0, 405.0, 300.0, 423.0, 276...    0.100000  0.010000   \n",
       "1    [151.0, 15.0, 257.0, 742.0, 125.0, 186.0, 269....    0.100000  0.045238   \n",
       "2    [50.0, 181.0, 294.0, 258.0, 1.0, 286.0, 174.0,...    0.200000  0.282857   \n",
       "3    [288.0, 121.0, 286.0, 127.0, 237.0, 117.0, 300...    0.000000  0.000000   \n",
       "4    [288.0, 195.0, 748.0, 22.0, 96.0, 176.0, 183.0...    0.000000  0.000000   \n",
       "..                                                 ...         ...       ...   \n",
       "123  [181.0, 294.0, 174.0, 127.0, 56.0, 98.0, 222.0...    0.000000  0.000000   \n",
       "124  [294.0, 258.0, 121.0, 286.0, 405.0, 300.0, 257...    1.000000  0.500000   \n",
       "125  [294.0, 237.0, 98.0, 222.0, 405.0, 204.0, 151....    0.142857  0.071429   \n",
       "126  [1.0, 288.0, 121.0, 127.0, 237.0, 117.0, 222.0...    0.000000  0.000000   \n",
       "127  [294.0, 258.0, 1.0, 288.0, 286.0, 7.0, 237.0, ...    0.100000  0.072619   \n",
       "\n",
       "      PR  \n",
       "0    1.0  \n",
       "1    0.6  \n",
       "2    0.3  \n",
       "3    0.0  \n",
       "4    0.0  \n",
       "..   ...  \n",
       "123  0.0  \n",
       "124  0.2  \n",
       "125  0.2  \n",
       "126  0.0  \n",
       "127  0.8  \n",
       "\n",
       "[128 rows x 6 columns]"
      ]
     },
     "execution_count": 407,
     "metadata": {},
     "output_type": "execute_result"
    }
   ],
   "source": [
    "get_preds"
   ]
  },
  {
   "cell_type": "code",
   "execution_count": 408,
   "metadata": {},
   "outputs": [],
   "source": [
    "MP = get_preds['precission'].mean()\n",
    "MAPAK = get_preds['ap@k'].mean()\n",
    "MPR = get_preds['PR'].mean()"
   ]
  },
  {
   "cell_type": "code",
   "execution_count": 410,
   "metadata": {},
   "outputs": [
    {
     "data": {
      "text/plain": [
       "0.07370721726190474"
      ]
     },
     "execution_count": 410,
     "metadata": {},
     "output_type": "execute_result"
    }
   ],
   "source": [
    "MP"
   ]
  },
  {
   "cell_type": "code",
   "execution_count": 411,
   "metadata": {},
   "outputs": [
    {
     "data": {
      "text/plain": [
       "0.0945583767361111"
      ]
     },
     "execution_count": 411,
     "metadata": {},
     "output_type": "execute_result"
    }
   ],
   "source": [
    "MAPAK"
   ]
  },
  {
   "cell_type": "code",
   "execution_count": 409,
   "metadata": {},
   "outputs": [
    {
     "data": {
      "text/plain": [
       "0.32187499999999997"
      ]
     },
     "execution_count": 409,
     "metadata": {},
     "output_type": "execute_result"
    }
   ],
   "source": [
    "MPR"
   ]
  },
  {
   "cell_type": "markdown",
   "metadata": {},
   "source": [
    "#### Метрики MP Recommender\n",
    "- mean precission - 0,074\n",
    "- mean average precisiion at k - 0,095\n",
    "- mean percantage rank - 0,321"
   ]
  },
  {
   "cell_type": "markdown",
   "metadata": {},
   "source": [
    "## SVD factorization"
   ]
  },
  {
   "cell_type": "markdown",
   "metadata": {
    "colab_type": "text",
    "id": "ckg8gsV-DAJU"
   },
   "source": [
    "#### Collaborative filtering using sklearn surprise lib"
   ]
  },
  {
   "cell_type": "code",
   "execution_count": 97,
   "metadata": {
    "colab": {},
    "colab_type": "code",
    "id": "_uddAqNi0A2L"
   },
   "outputs": [],
   "source": [
    "#!pip install scikit-surprise\n",
    "from surprise import Reader\n",
    "from surprise import Dataset\n",
    "import io\n",
    "from surprise.model_selection import cross_validate\n",
    "from surprise import NormalPredictor\n",
    "from surprise import KNNBasic\n",
    "from surprise import KNNBaseline\n",
    "from surprise import SVD\n",
    "from surprise import BaselineOnly\n",
    "from surprise import SVDpp\n",
    "from surprise import CoClustering\n",
    "from surprise.accuracy import rmse\n",
    "from surprise import accuracy\n",
    "from surprise.model_selection import train_test_split\n",
    "from surprise.model_selection import GridSearchCV"
   ]
  },
  {
   "cell_type": "code",
   "execution_count": 102,
   "metadata": {
    "colab": {},
    "colab_type": "code",
    "id": "SsX6jfMMDAJm"
   },
   "outputs": [],
   "source": [
    "class Matrix_Recomender(object):\n",
    "    def __init__(self, user_field='user_id', item_field='movie_id', number_of_ratings=5):\n",
    "        self.user_field = user_field\n",
    "        self.item_field = item_field\n",
    "        self.number_of_ratings = number_of_ratings\n",
    "    \n",
    "    def _preprocessing(self,movie_df):\n",
    "        movie_df = movie_df.iloc[:,0:5]\n",
    "        \n",
    "        min_item_clicks = self.number_of_ratings\n",
    "        filter_items = movie_df [self.item_field].value_counts() > min_item_clicks\n",
    "        filter_items = filter_items[filter_items].index.tolist()\n",
    "\n",
    "        min_user_clicks = self.number_of_ratings\n",
    "        filter_users = movie_df [self.user_field ].value_counts() > min_user_clicks\n",
    "        filter_users = filter_users[filter_users].index.tolist()\n",
    "\n",
    "        df_filtered = movie_df [(movie_df [self.item_field].isin(filter_items)) & (movie_df [self.user_field].isin(filter_users))]\n",
    "        data =  df_filtered.sort_values(['date'])\n",
    "\n",
    "        print('Размер оригинального сета:\\t{}'.format(movie_df.shape))\n",
    "        print('Размер очищенного сета:\\t{}'.format(df_filtered.shape))\n",
    "        \n",
    "        return data\n",
    "      \n",
    "    def _reader(self, data):\n",
    "        reader = Reader(rating_scale=(1, 5))\n",
    "        sup_data = Dataset.load_from_df(data[['user_id', 'movie_id', 'rating']], reader)\n",
    "        \n",
    "        return sup_data\n",
    "        \n",
    "    def best_of_algo(self,df):\n",
    "        \n",
    "        data = self._preprocessing(df)\n",
    "        sup_data = self._reader(data)\n",
    "        benchmark = []\n",
    "        \n",
    "        for algo in [SVD(),SVDpp(), KNNBaseline(), KNNBasic(), BaselineOnly(), NormalPredictor(), CoClustering()]:\n",
    "\n",
    "            print('Начало кросс-валидации для {}'.format(algo))\n",
    "            results = cross_validate(algo, sup_data, measures=['RMSE'], cv=5, verbose=False)\n",
    "\n",
    "            tmp = pd.DataFrame.from_dict(results).mean(axis=0)\n",
    "            tmp = tmp.append(pd.Series([str(algo).split(' ')[0].split('.')[-1]], index=['Algorithm']))\n",
    "            benchmark.append(tmp)\n",
    "            \n",
    "        surprise_results = pd.DataFrame(benchmark).set_index('Algorithm').sort_values('test_rmse')\n",
    "        \n",
    "        return surprise_results\n",
    "\n",
    "    def GS(self, algo_name, param_grid, metrics, folds, data):\n",
    "        \n",
    "\n",
    "        gs = GridSearchCV(algo_name, param_grid, measures = metrics,  cv = folds)\n",
    "        \n",
    "        gs.fit(data)\n",
    "\n",
    "        # best RMSE score\n",
    "        print(gs.best_score['rmse'])\n",
    "\n",
    "        # combination of parameters that gave the best RMSE score\n",
    "        print(gs.best_params['rmse'])\n",
    "        \n",
    "        return gs.best_params['rmse']\n",
    "        \n",
    "\n",
    "    \n",
    "    def fit(self, train, best_algo_name, params):\n",
    "        \n",
    "        self.data_train = self._preprocessing(train)\n",
    "        self.trainset = self._reader(self.data_train).build_full_trainset()\n",
    "        algo = best_algo_name(n_factors = params[0],  \n",
    "                   n_epochs = params[1], \n",
    "                   lr_all = params[2], \n",
    "                   reg_all = params[3])\n",
    "        \n",
    "        \n",
    "        #сохраняем зафиченные алгоритм\n",
    "        self.fit_result = algo.fit(self.trainset)\n",
    "        \n",
    "        return self.fit_result\n",
    "\n",
    "    def predict(self, user_subset, k=3):\n",
    "        \n",
    "        #делаем предсказания для юзеров из трейна\n",
    "        testset = self.trainset.build_anti_testset()\n",
    "        \n",
    "        #делаем предсказания для юзеров\n",
    "        predictions = self.fit_result.test(testset)\n",
    "        \n",
    "        df = self._get_all_predictions(predictions,  user_subset, k)\n",
    "\n",
    "        \n",
    "        return df\n",
    "    \n",
    "    def _get_all_predictions(self, predictions, user_subset, k=3):\n",
    "\n",
    "        top_n = defaultdict(list)\n",
    "        recommended_movie_ids=[]\n",
    "        batch_movie_ids=[]\n",
    "        user_id_list = []\n",
    "        recs = []\n",
    "        num_of_k = np.arange(0, k)\n",
    "\n",
    "        #достаем предсказания для юзеров из трейна\n",
    "        for uid, iid, true_r, est, _ in predictions:\n",
    "            top_n[uid].append((iid, est))\n",
    "            \n",
    "        #достаем только топ-к фильмов  \n",
    "        for uid, user_ratings in top_n.items():\n",
    "            user_ratings.sort(key=lambda x: x[1], reverse=True)\n",
    "            top_n[uid] = user_ratings[:k]\n",
    "            \n",
    "        #переводим в датафрейм\n",
    "        tmp = pd.DataFrame.from_dict(top_n)\n",
    "        tmp_transpose = tmp.transpose()\n",
    "        tmp_transpose[self.user_field]=tmp_transpose.index\n",
    "        \n",
    "        #смотрим для каких юзеров у нас есть предсказания\n",
    "        for user_id in user_subset:\n",
    "            if user_id not in tmp_transpose[self.user_field].values.tolist():\n",
    "                print('Пользователь с ID номер ' + str(user_id) + ' не имеет рекомендаций')\n",
    "            else:\n",
    "                user_id_list.append(user_id)\n",
    "                \n",
    "        #обертка для перевода в новый датафрейм            \n",
    "        for user_id in user_id_list:\n",
    "            for k in num_of_k:\n",
    "                results = tmp_transpose[tmp_transpose[self.user_field] == user_id].values.tolist()\n",
    "                batch_movie_ids.append(results[0][k][0])\n",
    "     \n",
    "        start = np.arange(0,len(batch_movie_ids),k)\n",
    "        end = np.arange(k,len(batch_movie_ids)+k,k)\n",
    "        \n",
    "        #обертка для перевода в новый датафрейм \n",
    "        for z, j in zip(start, end):\n",
    "            movie_subset = batch_movie_ids[z:j]\n",
    "            recommended_movie_ids.append(movie_subset)\n",
    "            \n",
    "        #убираем из предсказаний просмотренные фильмы\n",
    "        for user, count in zip(user_id_list, range(len(user_id_list))):\n",
    "            actual = self.data_train[self.data_train[self.user_field] == user].sort_values('rating',ascending=False)[self.item_field].values.tolist()\n",
    "            pop_predictions = recommended_movie_ids[count]\n",
    "            cleaned_preds = [x for x in pop_predictions if x not in actual]\n",
    "            recs.append(cleaned_preds)\n",
    "            \n",
    "        \n",
    "        df = pd.DataFrame({'user_id': user_id_list,\n",
    "                               'predictions': recs}, \n",
    "                                columns = ['user_id', 'predictions'])       \n",
    "\n",
    "        \n",
    "        return df\n"
   ]
  },
  {
   "cell_type": "code",
   "execution_count": 103,
   "metadata": {},
   "outputs": [],
   "source": [
    "model_SVD = Matrix_Recomender(user_field='user_id', item_field='movie_id', number_of_ratings=5)"
   ]
  },
  {
   "cell_type": "code",
   "execution_count": 51,
   "metadata": {
    "scrolled": true
   },
   "outputs": [
    {
     "name": "stdout",
     "output_type": "stream",
     "text": [
      "Размер оригинального сета:\t(100000, 5)\n",
      "Размер очищенного сета:\t(97623, 5)\n",
      "Начало кросс-валидации для <surprise.prediction_algorithms.matrix_factorization.SVD object at 0x0000020FAD92D898>\n",
      "Начало кросс-валидации для <surprise.prediction_algorithms.matrix_factorization.SVDpp object at 0x0000020FAD92D6A0>\n",
      "Начало кросс-валидации для <surprise.prediction_algorithms.knns.KNNBaseline object at 0x0000020FAD92D7F0>\n",
      "Estimating biases using als...\n",
      "Computing the msd similarity matrix...\n",
      "Done computing similarity matrix.\n",
      "Estimating biases using als...\n",
      "Computing the msd similarity matrix...\n",
      "Done computing similarity matrix.\n",
      "Estimating biases using als...\n",
      "Computing the msd similarity matrix...\n",
      "Done computing similarity matrix.\n",
      "Estimating biases using als...\n",
      "Computing the msd similarity matrix...\n",
      "Done computing similarity matrix.\n",
      "Estimating biases using als...\n",
      "Computing the msd similarity matrix...\n",
      "Done computing similarity matrix.\n",
      "Начало кросс-валидации для <surprise.prediction_algorithms.knns.KNNBasic object at 0x0000020FAD92D828>\n",
      "Computing the msd similarity matrix...\n",
      "Done computing similarity matrix.\n",
      "Computing the msd similarity matrix...\n",
      "Done computing similarity matrix.\n",
      "Computing the msd similarity matrix...\n",
      "Done computing similarity matrix.\n",
      "Computing the msd similarity matrix...\n",
      "Done computing similarity matrix.\n",
      "Computing the msd similarity matrix...\n",
      "Done computing similarity matrix.\n",
      "Начало кросс-валидации для <surprise.prediction_algorithms.baseline_only.BaselineOnly object at 0x0000020FAD92D630>\n",
      "Estimating biases using als...\n",
      "Estimating biases using als...\n",
      "Estimating biases using als...\n",
      "Estimating biases using als...\n",
      "Estimating biases using als...\n",
      "Начало кросс-валидации для <surprise.prediction_algorithms.random_pred.NormalPredictor object at 0x0000020FAD92D7B8>\n",
      "Начало кросс-валидации для <surprise.prediction_algorithms.co_clustering.CoClustering object at 0x0000020FAD92D748>\n"
     ]
    }
   ],
   "source": [
    "best = model_SVD.best_of_algo(df)"
   ]
  },
  {
   "cell_type": "code",
   "execution_count": 52,
   "metadata": {
    "scrolled": true
   },
   "outputs": [
    {
     "data": {
      "text/html": [
       "<div>\n",
       "<style scoped>\n",
       "    .dataframe tbody tr th:only-of-type {\n",
       "        vertical-align: middle;\n",
       "    }\n",
       "\n",
       "    .dataframe tbody tr th {\n",
       "        vertical-align: top;\n",
       "    }\n",
       "\n",
       "    .dataframe thead th {\n",
       "        text-align: right;\n",
       "    }\n",
       "</style>\n",
       "<table border=\"1\" class=\"dataframe\">\n",
       "  <thead>\n",
       "    <tr style=\"text-align: right;\">\n",
       "      <th></th>\n",
       "      <th>test_rmse</th>\n",
       "      <th>fit_time</th>\n",
       "      <th>test_time</th>\n",
       "    </tr>\n",
       "    <tr>\n",
       "      <th>Algorithm</th>\n",
       "      <th></th>\n",
       "      <th></th>\n",
       "      <th></th>\n",
       "    </tr>\n",
       "  </thead>\n",
       "  <tbody>\n",
       "    <tr>\n",
       "      <th>SVDpp</th>\n",
       "      <td>0.915619</td>\n",
       "      <td>150.145385</td>\n",
       "      <td>3.071409</td>\n",
       "    </tr>\n",
       "    <tr>\n",
       "      <th>KNNBaseline</th>\n",
       "      <td>0.925674</td>\n",
       "      <td>0.777766</td>\n",
       "      <td>3.999478</td>\n",
       "    </tr>\n",
       "    <tr>\n",
       "      <th>SVD</th>\n",
       "      <td>0.933436</td>\n",
       "      <td>4.665604</td>\n",
       "      <td>0.268506</td>\n",
       "    </tr>\n",
       "    <tr>\n",
       "      <th>BaselineOnly</th>\n",
       "      <td>0.940315</td>\n",
       "      <td>0.205793</td>\n",
       "      <td>0.115866</td>\n",
       "    </tr>\n",
       "    <tr>\n",
       "      <th>CoClustering</th>\n",
       "      <td>0.950778</td>\n",
       "      <td>1.944917</td>\n",
       "      <td>0.119329</td>\n",
       "    </tr>\n",
       "    <tr>\n",
       "      <th>KNNBasic</th>\n",
       "      <td>0.967432</td>\n",
       "      <td>0.531007</td>\n",
       "      <td>3.234957</td>\n",
       "    </tr>\n",
       "    <tr>\n",
       "      <th>NormalPredictor</th>\n",
       "      <td>1.507241</td>\n",
       "      <td>0.128700</td>\n",
       "      <td>0.144448</td>\n",
       "    </tr>\n",
       "  </tbody>\n",
       "</table>\n",
       "</div>"
      ],
      "text/plain": [
       "                 test_rmse    fit_time  test_time\n",
       "Algorithm                                        \n",
       "SVDpp             0.915619  150.145385   3.071409\n",
       "KNNBaseline       0.925674    0.777766   3.999478\n",
       "SVD               0.933436    4.665604   0.268506\n",
       "BaselineOnly      0.940315    0.205793   0.115866\n",
       "CoClustering      0.950778    1.944917   0.119329\n",
       "KNNBasic          0.967432    0.531007   3.234957\n",
       "NormalPredictor   1.507241    0.128700   0.144448"
      ]
     },
     "execution_count": 52,
     "metadata": {},
     "output_type": "execute_result"
    }
   ],
   "source": [
    "best"
   ]
  },
  {
   "cell_type": "markdown",
   "metadata": {},
   "source": [
    "#### Как видно первые три места делят SVDpp KNN и SVD\n",
    "- почему следует выбрать SVD:\n",
    "- Время на обучение у SVDpp самое большое и отклик у SVDpp тоже довольно долгий. В условиях когда у нас будет большой поток\n",
    "  обращения к алгоритму, например через API, это может привести к зависаниям и сбою системы.\n",
    "- Время на обучение у KNN самое маленькое в призовой тройке,а отклик самый долгий. Отметаем по той же причине.\n",
    "- SVD хоть и учится сравнительно дольше , но в десятки раз быстрее выдает предсказания. Выбираем свд"
   ]
  },
  {
   "cell_type": "code",
   "execution_count": null,
   "metadata": {},
   "outputs": [],
   "source": [
    "param_grid = {'n_factors':[20,40,80,120,160,200,240], \n",
    "              'n_epochs': [10,15,20,40,60,80,100], \n",
    "              'lr_all': [0.002, 0.004, 0.006, 0.008 , 0.01, 0.012, 0.015],\n",
    "              'reg_all': [0.2, 0.4, 0.6, 0.8, 0.1, 0.12, 0.15]}\n",
    "metrics=['rmse', 'mae']\n",
    "folds = 5"
   ]
  },
  {
   "cell_type": "code",
   "execution_count": null,
   "metadata": {},
   "outputs": [],
   "source": [
    "gs = Matrix_Recomender.GS(SVD,param_grid,metrics,folds,sup_data)"
   ]
  },
  {
   "cell_type": "markdown",
   "metadata": {},
   "source": [
    "#### Обучаем модель и делаем предсказания"
   ]
  },
  {
   "cell_type": "code",
   "execution_count": 104,
   "metadata": {},
   "outputs": [],
   "source": [
    "best_params = [220, 100, 0.01, 0.2]"
   ]
  },
  {
   "cell_type": "code",
   "execution_count": 105,
   "metadata": {},
   "outputs": [],
   "source": [
    "user_subset = list(set(test['user_id'].values.tolist()))"
   ]
  },
  {
   "cell_type": "code",
   "execution_count": 107,
   "metadata": {},
   "outputs": [
    {
     "name": "stdout",
     "output_type": "stream",
     "text": [
      "Размер оригинального сета:\t(75000, 5)\n",
      "Размер очищенного сета:\t(73986, 5)\n"
     ]
    }
   ],
   "source": [
    "fit_d = model_SVD.fit(train, SVD, best_params)"
   ]
  },
  {
   "cell_type": "code",
   "execution_count": 108,
   "metadata": {},
   "outputs": [
    {
     "name": "stdout",
     "output_type": "stream",
     "text": [
      "Пользователь с ID номер 2.0 не имеет рекомендаций\n",
      "Пользователь с ID номер 3.0 не имеет рекомендаций\n",
      "Пользователь с ID номер 4.0 не имеет рекомендаций\n",
      "Пользователь с ID номер 7.0 не имеет рекомендаций\n",
      "Пользователь с ID номер 11.0 не имеет рекомендаций\n",
      "Пользователь с ID номер 26.0 не имеет рекомендаций\n",
      "Пользователь с ID номер 27.0 не имеет рекомендаций\n",
      "Пользователь с ID номер 33.0 не имеет рекомендаций\n",
      "Пользователь с ID номер 34.0 не имеет рекомендаций\n",
      "Пользователь с ID номер 38.0 не имеет рекомендаций\n",
      "Пользователь с ID номер 39.0 не имеет рекомендаций\n",
      "Пользователь с ID номер 40.0 не имеет рекомендаций\n",
      "Пользователь с ID номер 41.0 не имеет рекомендаций\n",
      "Пользователь с ID номер 56.0 не имеет рекомендаций\n",
      "Пользователь с ID номер 61.0 не имеет рекомендаций\n",
      "Пользователь с ID номер 73.0 не имеет рекомендаций\n",
      "Пользователь с ID номер 74.0 не имеет рекомендаций\n",
      "Пользователь с ID номер 79.0 не имеет рекомендаций\n",
      "Пользователь с ID номер 88.0 не имеет рекомендаций\n",
      "Пользователь с ID номер 90.0 не имеет рекомендаций\n",
      "Пользователь с ID номер 91.0 не имеет рекомендаций\n",
      "Пользователь с ID номер 93.0 не имеет рекомендаций\n",
      "Пользователь с ID номер 100.0 не имеет рекомендаций\n",
      "Пользователь с ID номер 104.0 не имеет рекомендаций\n",
      "Пользователь с ID номер 105.0 не имеет рекомендаций\n",
      "Пользователь с ID номер 107.0 не имеет рекомендаций\n",
      "Пользователь с ID номер 111.0 не имеет рекомендаций\n",
      "Пользователь с ID номер 120.0 не имеет рекомендаций\n",
      "Пользователь с ID номер 121.0 не имеет рекомендаций\n",
      "Пользователь с ID номер 124.0 не имеет рекомендаций\n",
      "Пользователь с ID номер 132.0 не имеет рекомендаций\n",
      "Пользователь с ID номер 133.0 не имеет рекомендаций\n",
      "Пользователь с ID номер 134.0 не имеет рекомендаций\n",
      "Пользователь с ID номер 142.0 не имеет рекомендаций\n",
      "Пользователь с ID номер 143.0 не имеет рекомендаций\n",
      "Пользователь с ID номер 146.0 не имеет рекомендаций\n",
      "Пользователь с ID номер 161.0 не имеет рекомендаций\n",
      "Пользователь с ID номер 163.0 не имеет рекомендаций\n",
      "Пользователь с ID номер 164.0 не имеет рекомендаций\n",
      "Пользователь с ID номер 167.0 не имеет рекомендаций\n",
      "Пользователь с ID номер 169.0 не имеет рекомендаций\n",
      "Пользователь с ID номер 171.0 не имеет рекомендаций\n",
      "Пользователь с ID номер 179.0 не имеет рекомендаций\n",
      "Пользователь с ID номер 183.0 не имеет рекомендаций\n",
      "Пользователь с ID номер 184.0 не имеет рекомендаций\n",
      "Пользователь с ID номер 189.0 не имеет рекомендаций\n",
      "Пользователь с ID номер 190.0 не имеет рекомендаций\n",
      "Пользователь с ID номер 191.0 не имеет рекомендаций\n",
      "Пользователь с ID номер 193.0 не имеет рекомендаций\n",
      "Пользователь с ID номер 197.0 не имеет рекомендаций\n",
      "Пользователь с ID номер 204.0 не имеет рекомендаций\n",
      "Пользователь с ID номер 205.0 не имеет рекомендаций\n",
      "Пользователь с ID номер 214.0 не имеет рекомендаций\n",
      "Пользователь с ID номер 215.0 не имеет рекомендаций\n",
      "Пользователь с ID номер 217.0 не имеет рекомендаций\n",
      "Пользователь с ID номер 219.0 не имеет рекомендаций\n",
      "Пользователь с ID номер 223.0 не имеет рекомендаций\n",
      "Пользователь с ID номер 228.0 не имеет рекомендаций\n",
      "Пользователь с ID номер 229.0 не имеет рекомендаций\n",
      "Пользователь с ID номер 234.0 не имеет рекомендаций\n",
      "Пользователь с ID номер 235.0 не имеет рекомендаций\n",
      "Пользователь с ID номер 236.0 не имеет рекомендаций\n",
      "Пользователь с ID номер 239.0 не имеет рекомендаций\n",
      "Пользователь с ID номер 245.0 не имеет рекомендаций\n",
      "Пользователь с ID номер 247.0 не имеет рекомендаций\n",
      "Пользователь с ID номер 252.0 не имеет рекомендаций\n",
      "Пользователь с ID номер 253.0 не имеет рекомендаций\n",
      "Пользователь с ID номер 260.0 не имеет рекомендаций\n",
      "Пользователь с ID номер 261.0 не имеет рекомендаций\n",
      "Пользователь с ID номер 263.0 не имеет рекомендаций\n",
      "Пользователь с ID номер 266.0 не имеет рекомендаций\n",
      "Пользователь с ID номер 269.0 не имеет рекомендаций\n",
      "Пользователь с ID номер 273.0 не имеет рекомендаций\n",
      "Пользователь с ID номер 278.0 не имеет рекомендаций\n",
      "Пользователь с ID номер 280.0 не имеет рекомендаций\n",
      "Пользователь с ID номер 285.0 не имеет рекомендаций\n",
      "Пользователь с ID номер 293.0 не имеет рекомендаций\n",
      "Пользователь с ID номер 312.0 не имеет рекомендаций\n",
      "Пользователь с ID номер 313.0 не имеет рекомендаций\n",
      "Пользователь с ID номер 317.0 не имеет рекомендаций\n",
      "Пользователь с ID номер 325.0 не имеет рекомендаций\n",
      "Пользователь с ID номер 329.0 не имеет рекомендаций\n",
      "Пользователь с ID номер 333.0 не имеет рекомендаций\n",
      "Пользователь с ID номер 334.0 не имеет рекомендаций\n",
      "Пользователь с ID номер 335.0 не имеет рекомендаций\n",
      "Пользователь с ID номер 339.0 не имеет рекомендаций\n",
      "Пользователь с ID номер 341.0 не имеет рекомендаций\n",
      "Пользователь с ID номер 353.0 не имеет рекомендаций\n",
      "Пользователь с ID номер 354.0 не имеет рекомендаций\n",
      "Пользователь с ID номер 356.0 не имеет рекомендаций\n",
      "Пользователь с ID номер 358.0 не имеет рекомендаций\n",
      "Пользователь с ID номер 363.0 не имеет рекомендаций\n",
      "Пользователь с ID номер 365.0 не имеет рекомендаций\n",
      "Пользователь с ID номер 366.0 не имеет рекомендаций\n",
      "Пользователь с ID номер 368.0 не имеет рекомендаций\n",
      "Пользователь с ID номер 369.0 не имеет рекомендаций\n",
      "Пользователь с ID номер 377.0 не имеет рекомендаций\n",
      "Пользователь с ID номер 381.0 не имеет рекомендаций\n",
      "Пользователь с ID номер 383.0 не имеет рекомендаций\n",
      "Пользователь с ID номер 384.0 не имеет рекомендаций\n",
      "Пользователь с ID номер 392.0 не имеет рекомендаций\n",
      "Пользователь с ID номер 401.0 не имеет рекомендаций\n",
      "Пользователь с ID номер 408.0 не имеет рекомендаций\n",
      "Пользователь с ID номер 410.0 не имеет рекомендаций\n",
      "Пользователь с ID номер 411.0 не имеет рекомендаций\n",
      "Пользователь с ID номер 418.0 не имеет рекомендаций\n",
      "Пользователь с ID номер 420.0 не имеет рекомендаций\n",
      "Пользователь с ID номер 421.0 не имеет рекомендаций\n",
      "Пользователь с ID номер 423.0 не имеет рекомендаций\n",
      "Пользователь с ID номер 432.0 не имеет рекомендаций\n",
      "Пользователь с ID номер 440.0 не имеет рекомендаций\n",
      "Пользователь с ID номер 441.0 не имеет рекомендаций\n",
      "Пользователь с ID номер 444.0 не имеет рекомендаций\n",
      "Пользователь с ID номер 445.0 не имеет рекомендаций\n",
      "Пользователь с ID номер 448.0 не имеет рекомендаций\n",
      "Пользователь с ID номер 466.0 не имеет рекомендаций\n",
      "Пользователь с ID номер 471.0 не имеет рекомендаций\n",
      "Пользователь с ID номер 475.0 не имеет рекомендаций\n",
      "Пользователь с ID номер 478.0 не имеет рекомендаций\n",
      "Пользователь с ID номер 480.0 не имеет рекомендаций\n",
      "Пользователь с ID номер 485.0 не имеет рекомендаций\n",
      "Пользователь с ID номер 488.0 не имеет рекомендаций\n",
      "Пользователь с ID номер 489.0 не имеет рекомендаций\n",
      "Пользователь с ID номер 491.0 не имеет рекомендаций\n",
      "Пользователь с ID номер 495.0 не имеет рекомендаций\n",
      "Пользователь с ID номер 505.0 не имеет рекомендаций\n",
      "Пользователь с ID номер 507.0 не имеет рекомендаций\n",
      "Пользователь с ID номер 511.0 не имеет рекомендаций\n",
      "Пользователь с ID номер 512.0 не имеет рекомендаций\n",
      "Пользователь с ID номер 516.0 не имеет рекомендаций\n",
      "Пользователь с ID номер 517.0 не имеет рекомендаций\n",
      "Пользователь с ID номер 547.0 не имеет рекомендаций\n",
      "Пользователь с ID номер 548.0 не имеет рекомендаций\n",
      "Пользователь с ID номер 551.0 не имеет рекомендаций\n",
      "Пользователь с ID номер 559.0 не имеет рекомендаций\n",
      "Пользователь с ID номер 564.0 не имеет рекомендаций\n",
      "Пользователь с ID номер 565.0 не имеет рекомендаций\n",
      "Пользователь с ID номер 574.0 не имеет рекомендаций\n",
      "Пользователь с ID номер 585.0 не имеет рекомендаций\n",
      "Пользователь с ID номер 587.0 не имеет рекомендаций\n",
      "Пользователь с ID номер 588.0 не имеет рекомендаций\n",
      "Пользователь с ID номер 591.0 не имеет рекомендаций\n",
      "Пользователь с ID номер 600.0 не имеет рекомендаций\n",
      "Пользователь с ID номер 602.0 не имеет рекомендаций\n",
      "Пользователь с ID номер 603.0 не имеет рекомендаций\n",
      "Пользователь с ID номер 610.0 не имеет рекомендаций\n",
      "Пользователь с ID номер 611.0 не имеет рекомендаций\n",
      "Пользователь с ID номер 613.0 не имеет рекомендаций\n",
      "Пользователь с ID номер 616.0 не имеет рекомендаций\n",
      "Пользователь с ID номер 618.0 не имеет рекомендаций\n",
      "Пользователь с ID номер 620.0 не имеет рекомендаций\n",
      "Пользователь с ID номер 623.0 не имеет рекомендаций\n",
      "Пользователь с ID номер 625.0 не имеет рекомендаций\n",
      "Пользователь с ID номер 631.0 не имеет рекомендаций\n",
      "Пользователь с ID номер 636.0 не имеет рекомендаций\n",
      "Пользователь с ID номер 639.0 не имеет рекомендаций\n",
      "Пользователь с ID номер 643.0 не имеет рекомендаций\n",
      "Пользователь с ID номер 644.0 не имеет рекомендаций\n",
      "Пользователь с ID номер 645.0 не имеет рекомендаций\n",
      "Пользователь с ID номер 646.0 не имеет рекомендаций\n",
      "Пользователь с ID номер 649.0 не имеет рекомендаций\n",
      "Пользователь с ID номер 650.0 не имеет рекомендаций\n",
      "Пользователь с ID номер 656.0 не имеет рекомендаций\n",
      "Пользователь с ID номер 659.0 не имеет рекомендаций\n",
      "Пользователь с ID номер 660.0 не имеет рекомендаций\n",
      "Пользователь с ID номер 663.0 не имеет рекомендаций\n",
      "Пользователь с ID номер 667.0 не имеет рекомендаций\n",
      "Пользователь с ID номер 669.0 не имеет рекомендаций\n",
      "Пользователь с ID номер 673.0 не имеет рекомендаций\n",
      "Пользователь с ID номер 675.0 не имеет рекомендаций\n",
      "Пользователь с ID номер 676.0 не имеет рекомендаций\n",
      "Пользователь с ID номер 682.0 не имеет рекомендаций\n",
      "Пользователь с ID номер 683.0 не имеет рекомендаций\n",
      "Пользователь с ID номер 695.0 не имеет рекомендаций\n",
      "Пользователь с ID номер 701.0 не имеет рекомендаций\n",
      "Пользователь с ID номер 704.0 не имеет рекомендаций\n",
      "Пользователь с ID номер 713.0 не имеет рекомендаций\n",
      "Пользователь с ID номер 714.0 не имеет рекомендаций\n",
      "Пользователь с ID номер 720.0 не имеет рекомендаций\n",
      "Пользователь с ID номер 722.0 не имеет рекомендаций\n",
      "Пользователь с ID номер 726.0 не имеет рекомендаций\n",
      "Пользователь с ID номер 729.0 не имеет рекомендаций\n",
      "Пользователь с ID номер 734.0 не имеет рекомендаций\n",
      "Пользователь с ID номер 741.0 не имеет рекомендаций\n",
      "Пользователь с ID номер 747.0 не имеет рекомендаций\n",
      "Пользователь с ID номер 752.0 не имеет рекомендаций\n",
      "Пользователь с ID номер 753.0 не имеет рекомендаций\n",
      "Пользователь с ID номер 757.0 не имеет рекомендаций\n",
      "Пользователь с ID номер 766.0 не имеет рекомендаций\n",
      "Пользователь с ID номер 767.0 не имеет рекомендаций\n",
      "Пользователь с ID номер 773.0 не имеет рекомендаций\n",
      "Пользователь с ID номер 774.0 не имеет рекомендаций\n",
      "Пользователь с ID номер 775.0 не имеет рекомендаций\n",
      "Пользователь с ID номер 776.0 не имеет рекомендаций\n",
      "Пользователь с ID номер 778.0 не имеет рекомендаций\n",
      "Пользователь с ID номер 780.0 не имеет рекомендаций\n",
      "Пользователь с ID номер 782.0 не имеет рекомендаций\n",
      "Пользователь с ID номер 784.0 не имеет рекомендаций\n",
      "Пользователь с ID номер 787.0 не имеет рекомендаций\n",
      "Пользователь с ID номер 794.0 не имеет рекомендаций\n",
      "Пользователь с ID номер 796.0 не имеет рекомендаций\n",
      "Пользователь с ID номер 801.0 не имеет рекомендаций\n",
      "Пользователь с ID номер 807.0 не имеет рекомендаций\n",
      "Пользователь с ID номер 809.0 не имеет рекомендаций\n",
      "Пользователь с ID номер 816.0 не имеет рекомендаций\n",
      "Пользователь с ID номер 818.0 не имеет рекомендаций\n",
      "Пользователь с ID номер 822.0 не имеет рекомендаций\n",
      "Пользователь с ID номер 828.0 не имеет рекомендаций\n",
      "Пользователь с ID номер 830.0 не имеет рекомендаций\n",
      "Пользователь с ID номер 831.0 не имеет рекомендаций\n",
      "Пользователь с ID номер 834.0 не имеет рекомендаций\n",
      "Пользователь с ID номер 835.0 не имеет рекомендаций\n",
      "Пользователь с ID номер 840.0 не имеет рекомендаций\n",
      "Пользователь с ID номер 841.0 не имеет рекомендаций\n",
      "Пользователь с ID номер 842.0 не имеет рекомендаций\n",
      "Пользователь с ID номер 852.0 не имеет рекомендаций\n",
      "Пользователь с ID номер 856.0 не имеет рекомендаций\n",
      "Пользователь с ID номер 863.0 не имеет рекомендаций\n",
      "Пользователь с ID номер 866.0 не имеет рекомендаций\n",
      "Пользователь с ID номер 872.0 не имеет рекомендаций\n",
      "Пользователь с ID номер 873.0 не имеет рекомендаций\n",
      "Пользователь с ID номер 874.0 не имеет рекомендаций\n",
      "Пользователь с ID номер 883.0 не имеет рекомендаций\n",
      "Пользователь с ID номер 898.0 не имеет рекомендаций\n",
      "Пользователь с ID номер 903.0 не имеет рекомендаций\n",
      "Пользователь с ID номер 909.0 не имеет рекомендаций\n",
      "Пользователь с ID номер 911.0 не имеет рекомендаций\n",
      "Пользователь с ID номер 915.0 не имеет рекомендаций\n",
      "Пользователь с ID номер 918.0 не имеет рекомендаций\n",
      "Пользователь с ID номер 922.0 не имеет рекомендаций\n",
      "Пользователь с ID номер 926.0 не имеет рекомендаций\n",
      "Пользователь с ID номер 931.0 не имеет рекомендаций\n",
      "Пользователь с ID номер 932.0 не имеет рекомендаций\n",
      "Пользователь с ID номер 934.0 не имеет рекомендаций\n",
      "Пользователь с ID номер 938.0 не имеет рекомендаций\n",
      "Пользователь с ID номер 942.0 не имеет рекомендаций\n"
     ]
    }
   ],
   "source": [
    "predictions_svd = model_SVD.predict(user_subset=user_subset, k=10)"
   ]
  },
  {
   "cell_type": "code",
   "execution_count": 109,
   "metadata": {},
   "outputs": [
    {
     "data": {
      "text/html": [
       "<div>\n",
       "<style scoped>\n",
       "    .dataframe tbody tr th:only-of-type {\n",
       "        vertical-align: middle;\n",
       "    }\n",
       "\n",
       "    .dataframe tbody tr th {\n",
       "        vertical-align: top;\n",
       "    }\n",
       "\n",
       "    .dataframe thead th {\n",
       "        text-align: right;\n",
       "    }\n",
       "</style>\n",
       "<table border=\"1\" class=\"dataframe\">\n",
       "  <thead>\n",
       "    <tr style=\"text-align: right;\">\n",
       "      <th></th>\n",
       "      <th>user_id</th>\n",
       "      <th>predictions</th>\n",
       "    </tr>\n",
       "  </thead>\n",
       "  <tbody>\n",
       "    <tr>\n",
       "      <th>0</th>\n",
       "      <td>1.0</td>\n",
       "      <td>[408.0, 483.0, 603.0, 285.0, 313.0, 316.0, 318...</td>\n",
       "    </tr>\n",
       "    <tr>\n",
       "      <th>1</th>\n",
       "      <td>13.0</td>\n",
       "      <td>[408.0, 113.0, 169.0, 114.0, 963.0, 1251.0, 11...</td>\n",
       "    </tr>\n",
       "    <tr>\n",
       "      <th>2</th>\n",
       "      <td>14.0</td>\n",
       "      <td>[479.0, 251.0, 113.0, 313.0, 169.0, 64.0, 483....</td>\n",
       "    </tr>\n",
       "    <tr>\n",
       "      <th>3</th>\n",
       "      <td>23.0</td>\n",
       "      <td>[272.0, 12.0, 169.0, 113.0, 64.0, 114.0, 313.0...</td>\n",
       "    </tr>\n",
       "    <tr>\n",
       "      <th>4</th>\n",
       "      <td>43.0</td>\n",
       "      <td>[316.0, 113.0, 483.0, 316.0, 603.0, 963.0]</td>\n",
       "    </tr>\n",
       "    <tr>\n",
       "      <th>...</th>\n",
       "      <td>...</td>\n",
       "      <td>...</td>\n",
       "    </tr>\n",
       "    <tr>\n",
       "      <th>122</th>\n",
       "      <td>894.0</td>\n",
       "      <td>[64.0, 22.0, 316.0, 408.0]</td>\n",
       "    </tr>\n",
       "    <tr>\n",
       "      <th>123</th>\n",
       "      <td>913.0</td>\n",
       "      <td>[1251.0, 272.0, 113.0, 313.0]</td>\n",
       "    </tr>\n",
       "    <tr>\n",
       "      <th>124</th>\n",
       "      <td>924.0</td>\n",
       "      <td>[603.0, 316.0, 408.0, 169.0, 113.0, 483.0]</td>\n",
       "    </tr>\n",
       "    <tr>\n",
       "      <th>125</th>\n",
       "      <td>940.0</td>\n",
       "      <td>[64.0, 127.0, 603.0, 114.0, 408.0, 113.0, 169....</td>\n",
       "    </tr>\n",
       "    <tr>\n",
       "      <th>126</th>\n",
       "      <td>943.0</td>\n",
       "      <td>[483.0, 318.0, 12.0, 603.0, 316.0, 114.0, 408....</td>\n",
       "    </tr>\n",
       "  </tbody>\n",
       "</table>\n",
       "<p>127 rows × 2 columns</p>\n",
       "</div>"
      ],
      "text/plain": [
       "     user_id                                        predictions\n",
       "0        1.0  [408.0, 483.0, 603.0, 285.0, 313.0, 316.0, 318...\n",
       "1       13.0  [408.0, 113.0, 169.0, 114.0, 963.0, 1251.0, 11...\n",
       "2       14.0  [479.0, 251.0, 113.0, 313.0, 169.0, 64.0, 483....\n",
       "3       23.0  [272.0, 12.0, 169.0, 113.0, 64.0, 114.0, 313.0...\n",
       "4       43.0         [316.0, 113.0, 483.0, 316.0, 603.0, 963.0]\n",
       "..       ...                                                ...\n",
       "122    894.0                         [64.0, 22.0, 316.0, 408.0]\n",
       "123    913.0                      [1251.0, 272.0, 113.0, 313.0]\n",
       "124    924.0         [603.0, 316.0, 408.0, 169.0, 113.0, 483.0]\n",
       "125    940.0  [64.0, 127.0, 603.0, 114.0, 408.0, 113.0, 169....\n",
       "126    943.0  [483.0, 318.0, 12.0, 603.0, 316.0, 114.0, 408....\n",
       "\n",
       "[127 rows x 2 columns]"
      ]
     },
     "execution_count": 109,
     "metadata": {},
     "output_type": "execute_result"
    }
   ],
   "source": [
    "predictions_svd"
   ]
  },
  {
   "cell_type": "code",
   "execution_count": 412,
   "metadata": {},
   "outputs": [],
   "source": [
    "Svd_preds = calculate_metrics(predictions_svd, test, k=10)"
   ]
  },
  {
   "cell_type": "code",
   "execution_count": 413,
   "metadata": {},
   "outputs": [
    {
     "data": {
      "text/html": [
       "<div>\n",
       "<style scoped>\n",
       "    .dataframe tbody tr th:only-of-type {\n",
       "        vertical-align: middle;\n",
       "    }\n",
       "\n",
       "    .dataframe tbody tr th {\n",
       "        vertical-align: top;\n",
       "    }\n",
       "\n",
       "    .dataframe thead th {\n",
       "        text-align: right;\n",
       "    }\n",
       "</style>\n",
       "<table border=\"1\" class=\"dataframe\">\n",
       "  <thead>\n",
       "    <tr style=\"text-align: right;\">\n",
       "      <th></th>\n",
       "      <th>user_id</th>\n",
       "      <th>actual</th>\n",
       "      <th>predictions</th>\n",
       "      <th>precission</th>\n",
       "      <th>ap@k</th>\n",
       "      <th>PR</th>\n",
       "    </tr>\n",
       "  </thead>\n",
       "  <tbody>\n",
       "    <tr>\n",
       "      <th>0</th>\n",
       "      <td>1.0</td>\n",
       "      <td>[270.0, 32.0, 242.0, 111.0, 171.0, 209.0, 256....</td>\n",
       "      <td>[408.0, 483.0, 603.0, 285.0, 313.0, 316.0, 318...</td>\n",
       "      <td>0.000000</td>\n",
       "      <td>0.000000</td>\n",
       "      <td>0.000000</td>\n",
       "    </tr>\n",
       "    <tr>\n",
       "      <th>1</th>\n",
       "      <td>13.0</td>\n",
       "      <td>[900.0, 909.0, 915.0, 896.0, 691.0, 694.0, 917...</td>\n",
       "      <td>[408.0, 113.0, 169.0, 114.0, 963.0, 1251.0, 11...</td>\n",
       "      <td>0.000000</td>\n",
       "      <td>0.000000</td>\n",
       "      <td>0.000000</td>\n",
       "    </tr>\n",
       "    <tr>\n",
       "      <th>2</th>\n",
       "      <td>14.0</td>\n",
       "      <td>[181.0, 921.0, 213.0, 525.0, 50.0, 509.0, 172....</td>\n",
       "      <td>[479.0, 251.0, 113.0, 313.0, 169.0, 64.0, 483....</td>\n",
       "      <td>0.000000</td>\n",
       "      <td>0.025000</td>\n",
       "      <td>0.000000</td>\n",
       "    </tr>\n",
       "    <tr>\n",
       "      <th>3</th>\n",
       "      <td>23.0</td>\n",
       "      <td>[257.0]</td>\n",
       "      <td>[272.0, 12.0, 169.0, 113.0, 64.0, 114.0, 313.0...</td>\n",
       "      <td>0.000000</td>\n",
       "      <td>0.000000</td>\n",
       "      <td>0.000000</td>\n",
       "    </tr>\n",
       "    <tr>\n",
       "      <th>4</th>\n",
       "      <td>43.0</td>\n",
       "      <td>[316.0, 354.0, 124.0, 1052.0]</td>\n",
       "      <td>[316.0, 113.0, 483.0, 316.0, 603.0, 963.0]</td>\n",
       "      <td>0.250000</td>\n",
       "      <td>0.250000</td>\n",
       "      <td>0.833333</td>\n",
       "    </tr>\n",
       "    <tr>\n",
       "      <th>...</th>\n",
       "      <td>...</td>\n",
       "      <td>...</td>\n",
       "      <td>...</td>\n",
       "      <td>...</td>\n",
       "      <td>...</td>\n",
       "      <td>...</td>\n",
       "    </tr>\n",
       "    <tr>\n",
       "      <th>122</th>\n",
       "      <td>894.0</td>\n",
       "      <td>[903.0, 316.0, 1592.0, 904.0, 752.0, 1313.0, 6...</td>\n",
       "      <td>[64.0, 22.0, 316.0, 408.0]</td>\n",
       "      <td>0.100000</td>\n",
       "      <td>0.033333</td>\n",
       "      <td>0.750000</td>\n",
       "    </tr>\n",
       "    <tr>\n",
       "      <th>123</th>\n",
       "      <td>913.0</td>\n",
       "      <td>[258.0]</td>\n",
       "      <td>[1251.0, 272.0, 113.0, 313.0]</td>\n",
       "      <td>0.000000</td>\n",
       "      <td>0.000000</td>\n",
       "      <td>0.000000</td>\n",
       "    </tr>\n",
       "    <tr>\n",
       "      <th>124</th>\n",
       "      <td>924.0</td>\n",
       "      <td>[275.0, 237.0, 129.0, 1149.0, 273.0, 408.0, 27...</td>\n",
       "      <td>[603.0, 316.0, 408.0, 169.0, 113.0, 483.0]</td>\n",
       "      <td>0.142857</td>\n",
       "      <td>0.047619</td>\n",
       "      <td>0.500000</td>\n",
       "    </tr>\n",
       "    <tr>\n",
       "      <th>125</th>\n",
       "      <td>940.0</td>\n",
       "      <td>[354.0, 316.0, 873.0, 879.0, 355.0]</td>\n",
       "      <td>[64.0, 127.0, 603.0, 114.0, 408.0, 113.0, 169....</td>\n",
       "      <td>0.000000</td>\n",
       "      <td>0.000000</td>\n",
       "      <td>0.000000</td>\n",
       "    </tr>\n",
       "    <tr>\n",
       "      <th>126</th>\n",
       "      <td>943.0</td>\n",
       "      <td>[69.0, 233.0, 187.0, 196.0, 194.0, 184.0, 56.0...</td>\n",
       "      <td>[483.0, 318.0, 12.0, 603.0, 316.0, 114.0, 408....</td>\n",
       "      <td>0.100000</td>\n",
       "      <td>0.116667</td>\n",
       "      <td>0.333333</td>\n",
       "    </tr>\n",
       "  </tbody>\n",
       "</table>\n",
       "<p>127 rows × 6 columns</p>\n",
       "</div>"
      ],
      "text/plain": [
       "     user_id                                             actual  \\\n",
       "0        1.0  [270.0, 32.0, 242.0, 111.0, 171.0, 209.0, 256....   \n",
       "1       13.0  [900.0, 909.0, 915.0, 896.0, 691.0, 694.0, 917...   \n",
       "2       14.0  [181.0, 921.0, 213.0, 525.0, 50.0, 509.0, 172....   \n",
       "3       23.0                                            [257.0]   \n",
       "4       43.0                      [316.0, 354.0, 124.0, 1052.0]   \n",
       "..       ...                                                ...   \n",
       "122    894.0  [903.0, 316.0, 1592.0, 904.0, 752.0, 1313.0, 6...   \n",
       "123    913.0                                            [258.0]   \n",
       "124    924.0  [275.0, 237.0, 129.0, 1149.0, 273.0, 408.0, 27...   \n",
       "125    940.0                [354.0, 316.0, 873.0, 879.0, 355.0]   \n",
       "126    943.0  [69.0, 233.0, 187.0, 196.0, 194.0, 184.0, 56.0...   \n",
       "\n",
       "                                           predictions  precission      ap@k  \\\n",
       "0    [408.0, 483.0, 603.0, 285.0, 313.0, 316.0, 318...    0.000000  0.000000   \n",
       "1    [408.0, 113.0, 169.0, 114.0, 963.0, 1251.0, 11...    0.000000  0.000000   \n",
       "2    [479.0, 251.0, 113.0, 313.0, 169.0, 64.0, 483....    0.000000  0.025000   \n",
       "3    [272.0, 12.0, 169.0, 113.0, 64.0, 114.0, 313.0...    0.000000  0.000000   \n",
       "4           [316.0, 113.0, 483.0, 316.0, 603.0, 963.0]    0.250000  0.250000   \n",
       "..                                                 ...         ...       ...   \n",
       "122                         [64.0, 22.0, 316.0, 408.0]    0.100000  0.033333   \n",
       "123                      [1251.0, 272.0, 113.0, 313.0]    0.000000  0.000000   \n",
       "124         [603.0, 316.0, 408.0, 169.0, 113.0, 483.0]    0.142857  0.047619   \n",
       "125  [64.0, 127.0, 603.0, 114.0, 408.0, 113.0, 169....    0.000000  0.000000   \n",
       "126  [483.0, 318.0, 12.0, 603.0, 316.0, 114.0, 408....    0.100000  0.116667   \n",
       "\n",
       "           PR  \n",
       "0    0.000000  \n",
       "1    0.000000  \n",
       "2    0.000000  \n",
       "3    0.000000  \n",
       "4    0.833333  \n",
       "..        ...  \n",
       "122  0.750000  \n",
       "123  0.000000  \n",
       "124  0.500000  \n",
       "125  0.000000  \n",
       "126  0.333333  \n",
       "\n",
       "[127 rows x 6 columns]"
      ]
     },
     "execution_count": 413,
     "metadata": {},
     "output_type": "execute_result"
    }
   ],
   "source": [
    "Svd_preds"
   ]
  },
  {
   "cell_type": "code",
   "execution_count": 414,
   "metadata": {},
   "outputs": [],
   "source": [
    "MP = Svd_preds['precission'].mean()\n",
    "MAPAK = Svd_preds['ap@k'].mean()\n",
    "MPR = Svd_preds['PR'].mean()"
   ]
  },
  {
   "cell_type": "code",
   "execution_count": 315,
   "metadata": {},
   "outputs": [
    {
     "data": {
      "text/plain": [
       "0.054599425071866"
      ]
     },
     "execution_count": 315,
     "metadata": {},
     "output_type": "execute_result"
    }
   ],
   "source": [
    "MP"
   ]
  },
  {
   "cell_type": "code",
   "execution_count": 316,
   "metadata": {},
   "outputs": [
    {
     "data": {
      "text/plain": [
       "0.03811190267883181"
      ]
     },
     "execution_count": 316,
     "metadata": {},
     "output_type": "execute_result"
    }
   ],
   "source": [
    "MAPAK"
   ]
  },
  {
   "cell_type": "code",
   "execution_count": 415,
   "metadata": {},
   "outputs": [
    {
     "data": {
      "text/plain": [
       "0.22251281089863764"
      ]
     },
     "execution_count": 415,
     "metadata": {},
     "output_type": "execute_result"
    }
   ],
   "source": [
    "MPR"
   ]
  },
  {
   "cell_type": "markdown",
   "metadata": {},
   "source": [
    "#### Метрики SVD Recommender\n",
    "- mean precission - 0,054\n",
    "- mean average precisiion at k - 0,038\n",
    "- mean percantage rank - 0,225"
   ]
  },
  {
   "cell_type": "markdown",
   "metadata": {
    "colab_type": "text",
    "id": "fnxHunimDAJw"
   },
   "source": [
    "### Tenzor factorization"
   ]
  },
  {
   "cell_type": "code",
   "execution_count": 115,
   "metadata": {
    "colab": {},
    "colab_type": "code",
    "id": "tDf-nWojDAJw"
   },
   "outputs": [],
   "source": [
    "import tensorly as tl\n",
    "from tensorly.decomposition import parafac\n",
    "from sklearn.preprocessing import LabelEncoder\n",
    "from tensorly.metrics.regression import RMSE "
   ]
  },
  {
   "cell_type": "code",
   "execution_count": 244,
   "metadata": {},
   "outputs": [],
   "source": [
    "class Tenzor_Recomender(object):\n",
    "    def __init__(self, user_field='user_id', item_field='movie_id', values_field='rating'):\n",
    "        self.user_field = user_field\n",
    "        self.item_field = item_field\n",
    "        self.values_field = values_field\n",
    "\n",
    "    def _preproccesing(self, movie_df):\n",
    "        self.train = movie_df\n",
    "        self.R_users_film =  movie_df.pivot(index = self.user_field , columns=self.item_field , values = self.values_field ).fillna(0)\n",
    "        genre_df = movie_df.drop_duplicates(subset=self.item_field , keep='first', inplace=False).sort_values(self.item_field , ascending = True)\n",
    "        genre_df.set_index(self.item_field, inplace=True)\n",
    "        genre_df = genre_df.iloc[:,5:24]\n",
    "        genre_df= genre_df.transpose()        \n",
    "    \n",
    "        R1 = self.R_users_film.as_matrix()\n",
    "        R2 = genre_df.as_matrix()\n",
    "        \n",
    "        slices = []\n",
    "        k = np.arange(R1.shape[0])\n",
    "        \n",
    "        for i in k:\n",
    "            NEW=R1[i]*R2\n",
    "            slices.append(NEW)\n",
    "\n",
    "        tensor = np.array(slices)\n",
    "        \n",
    "        res = tl.tensor(tensor.reshape((tensor.shape[0] , tensor.shape[1], tensor.shape[2])))\n",
    "        \n",
    "        return res \n",
    "        \n",
    "    def fit(self,movie_df, ranks):\n",
    "        \n",
    "        res = self._preproccesing(movie_df)\n",
    "        w_list = []\n",
    "        f_list = []\n",
    "        n_rank = ranks \n",
    "        \n",
    "        for i in n_rank:\n",
    "            weights, factors = parafac(res, rank=i)\n",
    "            w_list.append(weights)\n",
    "            f_list.append(factors)\n",
    "            \n",
    "        self.best_tensor = self._restore_tensor(w_list,f_list, res)    \n",
    "        \n",
    "        return  \n",
    "    \n",
    "    \n",
    "    def _restore_tensor(self,  w_list, f_list, res):          \n",
    "        restore = []\n",
    "        error_list = []\n",
    "\n",
    "        for w, f in zip(w_list,f_list):\n",
    "            full_tensor = tl.kruskal_to_tensor((w, f))\n",
    "            restore.append(full_tensor)\n",
    "        \n",
    "        for i in restore:\n",
    "            error = tl.metrics.regression.RMSE (res,i)\n",
    "            error_list.append(error)\n",
    "    \n",
    "        best_tensor = restore[error_list.index(min(error_list))]\n",
    "        \n",
    "        return best_tensor\n",
    "    \n",
    "    def predict(self,user_subset,k):          \n",
    "         \n",
    "        user_list, film_scores = self._get_matrix(k)\n",
    "        user_list_pred = [x for x in user_subset if x in user_list] \n",
    "        \n",
    "        df_tensor = pd.DataFrame({'user_id': user_list,\n",
    "                        'predictions': film_scores} ,\n",
    "                        columns = ['user_id','predictions'])\n",
    "        \n",
    "        df_tensor = df_tensor[df_tensor['user_id'].isin(user_list_pred)]\n",
    "        \n",
    "        return df_tensor\n",
    "    \n",
    "    def _get_matrix(self, k):\n",
    "        pred_ratings_df = pd.DataFrame(tl.unfold(self.best_tensor, mode=2))\n",
    "        user_list = self.R_users_film.index.tolist()\n",
    "        film_scores = []\n",
    "        \n",
    "        start = np.arange(0,len(np.arange(self.best_tensor.shape[0]*self.best_tensor.shape[1])),self.best_tensor.shape[1])\n",
    "        end = np.arange(self.best_tensor.shape[1],len(np.arange(self.best_tensor.shape[0]*self.best_tensor.shape[1]))+self.best_tensor.shape[1],self.best_tensor.shape[1])\n",
    "\n",
    "        for user,i,j in zip(user_list, start, end):\n",
    "            user_score = pred_ratings_df.iloc[:, i:j]\n",
    "            user_score['score'] = user_score.mean(axis=1)\n",
    "            rec_movies = user_score.sort_values('score',ascending=False).head(k).index.values.tolist()\n",
    "            actual = self.train[self.train[self.user_field] == user].sort_values('rating',ascending=False)[self.item_field].values.tolist()\n",
    "            cleaned_preds = [x for x in rec_movies if x not in actual]\n",
    "            film_scores.append(cleaned_preds)\n",
    "        \n",
    "        return user_list, film_scores\n",
    "\n"
   ]
  },
  {
   "cell_type": "code",
   "execution_count": 270,
   "metadata": {},
   "outputs": [],
   "source": [
    "model_Tenzor = Tenzor_Recomender(user_field='user_id', item_field='movie_id', values_field='rating')"
   ]
  },
  {
   "cell_type": "code",
   "execution_count": 271,
   "metadata": {},
   "outputs": [],
   "source": [
    "ranks = [18]"
   ]
  },
  {
   "cell_type": "code",
   "execution_count": 272,
   "metadata": {},
   "outputs": [],
   "source": [
    "train, test = Split_DF(df_copy, holdout_fraction=0.25)"
   ]
  },
  {
   "cell_type": "code",
   "execution_count": 273,
   "metadata": {},
   "outputs": [
    {
     "name": "stderr",
     "output_type": "stream",
     "text": [
      "D:\\anaconda\\lib\\site-packages\\ipykernel_launcher.py:15: FutureWarning: Method .as_matrix will be removed in a future version. Use .values instead.\n",
      "  from ipykernel import kernelapp as app\n",
      "D:\\anaconda\\lib\\site-packages\\ipykernel_launcher.py:16: FutureWarning: Method .as_matrix will be removed in a future version. Use .values instead.\n",
      "  app.launch_new_instance()\n"
     ]
    }
   ],
   "source": [
    "tensor_fit = model_Tenzor.fit(train, ranks)"
   ]
  },
  {
   "cell_type": "code",
   "execution_count": 418,
   "metadata": {},
   "outputs": [
    {
     "name": "stderr",
     "output_type": "stream",
     "text": [
      "D:\\anaconda\\lib\\site-packages\\ipykernel_launcher.py:87: SettingWithCopyWarning: \n",
      "A value is trying to be set on a copy of a slice from a DataFrame.\n",
      "Try using .loc[row_indexer,col_indexer] = value instead\n",
      "\n",
      "See the caveats in the documentation: http://pandas.pydata.org/pandas-docs/stable/user_guide/indexing.html#returning-a-view-versus-a-copy\n"
     ]
    }
   ],
   "source": [
    "preds = model_Tenzor.predict(user_subset=user_subset, k=min_k)"
   ]
  },
  {
   "cell_type": "code",
   "execution_count": 419,
   "metadata": {},
   "outputs": [
    {
     "data": {
      "text/html": [
       "<div>\n",
       "<style scoped>\n",
       "    .dataframe tbody tr th:only-of-type {\n",
       "        vertical-align: middle;\n",
       "    }\n",
       "\n",
       "    .dataframe tbody tr th {\n",
       "        vertical-align: top;\n",
       "    }\n",
       "\n",
       "    .dataframe thead th {\n",
       "        text-align: right;\n",
       "    }\n",
       "</style>\n",
       "<table border=\"1\" class=\"dataframe\">\n",
       "  <thead>\n",
       "    <tr style=\"text-align: right;\">\n",
       "      <th></th>\n",
       "      <th>user_id</th>\n",
       "      <th>predictions</th>\n",
       "    </tr>\n",
       "  </thead>\n",
       "  <tbody>\n",
       "    <tr>\n",
       "      <th>0</th>\n",
       "      <td>1.0</td>\n",
       "      <td>[171, 256, 384, 402, 652, 209, 0, 482, 567, 43...</td>\n",
       "    </tr>\n",
       "    <tr>\n",
       "      <th>7</th>\n",
       "      <td>13.0</td>\n",
       "      <td>[171, 126, 422, 134, 0, 131, 186, 587, 81, 3, ...</td>\n",
       "    </tr>\n",
       "    <tr>\n",
       "      <th>8</th>\n",
       "      <td>14.0</td>\n",
       "      <td>[99, 126, 203, 256, 55, 193, 257, 6, 172, 0, 2...</td>\n",
       "    </tr>\n",
       "    <tr>\n",
       "      <th>17</th>\n",
       "      <td>23.0</td>\n",
       "      <td>[49, 180, 94, 587, 182, 0, 81, 422, 221, 431, ...</td>\n",
       "    </tr>\n",
       "    <tr>\n",
       "      <th>29</th>\n",
       "      <td>43.0</td>\n",
       "      <td>[180, 171, 0, 94, 422, 256, 116, 150, 99, 384,...</td>\n",
       "    </tr>\n",
       "    <tr>\n",
       "      <th>...</th>\n",
       "      <td>...</td>\n",
       "      <td>...</td>\n",
       "    </tr>\n",
       "    <tr>\n",
       "      <th>671</th>\n",
       "      <td>894.0</td>\n",
       "      <td>[301, 99, 274, 49, 267, 128, 180, 123, 282, 6,...</td>\n",
       "    </tr>\n",
       "    <tr>\n",
       "      <th>686</th>\n",
       "      <td>913.0</td>\n",
       "      <td>[49, 182, 194, 94, 134, 422, 70, 126, 587, 0, ...</td>\n",
       "    </tr>\n",
       "    <tr>\n",
       "      <th>694</th>\n",
       "      <td>924.0</td>\n",
       "      <td>[49, 180, 171, 99, 175, 194, 126, 95, 227, 21,...</td>\n",
       "    </tr>\n",
       "    <tr>\n",
       "      <th>705</th>\n",
       "      <td>940.0</td>\n",
       "      <td>[49, 180, 175, 99, 182, 203, 257, 6, 185, 327,...</td>\n",
       "    </tr>\n",
       "    <tr>\n",
       "      <th>707</th>\n",
       "      <td>943.0</td>\n",
       "      <td>[49, 180, 126, 256, 116, 171, 99, 120, 221, 40...</td>\n",
       "    </tr>\n",
       "  </tbody>\n",
       "</table>\n",
       "<p>128 rows × 2 columns</p>\n",
       "</div>"
      ],
      "text/plain": [
       "     user_id                                        predictions\n",
       "0        1.0  [171, 256, 384, 402, 652, 209, 0, 482, 567, 43...\n",
       "7       13.0  [171, 126, 422, 134, 0, 131, 186, 587, 81, 3, ...\n",
       "8       14.0  [99, 126, 203, 256, 55, 193, 257, 6, 172, 0, 2...\n",
       "17      23.0  [49, 180, 94, 587, 182, 0, 81, 422, 221, 431, ...\n",
       "29      43.0  [180, 171, 0, 94, 422, 256, 116, 150, 99, 384,...\n",
       "..       ...                                                ...\n",
       "671    894.0  [301, 99, 274, 49, 267, 128, 180, 123, 282, 6,...\n",
       "686    913.0  [49, 182, 194, 94, 134, 422, 70, 126, 587, 0, ...\n",
       "694    924.0  [49, 180, 171, 99, 175, 194, 126, 95, 227, 21,...\n",
       "705    940.0  [49, 180, 175, 99, 182, 203, 257, 6, 185, 327,...\n",
       "707    943.0  [49, 180, 126, 256, 116, 171, 99, 120, 221, 40...\n",
       "\n",
       "[128 rows x 2 columns]"
      ]
     },
     "execution_count": 419,
     "metadata": {},
     "output_type": "execute_result"
    }
   ],
   "source": [
    "preds"
   ]
  },
  {
   "cell_type": "code",
   "execution_count": 420,
   "metadata": {},
   "outputs": [],
   "source": [
    "Tenzor_preds = calculate_metrics(preds, test, k=10)"
   ]
  },
  {
   "cell_type": "code",
   "execution_count": 421,
   "metadata": {},
   "outputs": [
    {
     "data": {
      "text/html": [
       "<div>\n",
       "<style scoped>\n",
       "    .dataframe tbody tr th:only-of-type {\n",
       "        vertical-align: middle;\n",
       "    }\n",
       "\n",
       "    .dataframe tbody tr th {\n",
       "        vertical-align: top;\n",
       "    }\n",
       "\n",
       "    .dataframe thead th {\n",
       "        text-align: right;\n",
       "    }\n",
       "</style>\n",
       "<table border=\"1\" class=\"dataframe\">\n",
       "  <thead>\n",
       "    <tr style=\"text-align: right;\">\n",
       "      <th></th>\n",
       "      <th>user_id</th>\n",
       "      <th>actual</th>\n",
       "      <th>predictions</th>\n",
       "      <th>precission</th>\n",
       "      <th>ap@k</th>\n",
       "      <th>PR</th>\n",
       "    </tr>\n",
       "  </thead>\n",
       "  <tbody>\n",
       "    <tr>\n",
       "      <th>0</th>\n",
       "      <td>1.0</td>\n",
       "      <td>[270.0, 32.0, 242.0, 111.0, 171.0, 209.0, 256....</td>\n",
       "      <td>[171, 256, 384, 402, 652, 209, 0, 482, 567, 43...</td>\n",
       "      <td>0.3</td>\n",
       "      <td>0.250000</td>\n",
       "      <td>0.9</td>\n",
       "    </tr>\n",
       "    <tr>\n",
       "      <th>1</th>\n",
       "      <td>13.0</td>\n",
       "      <td>[900.0, 909.0, 915.0, 896.0, 691.0, 694.0, 917...</td>\n",
       "      <td>[171, 126, 422, 134, 0, 131, 186, 587, 81, 3, ...</td>\n",
       "      <td>0.1</td>\n",
       "      <td>0.014286</td>\n",
       "      <td>0.7</td>\n",
       "    </tr>\n",
       "    <tr>\n",
       "      <th>2</th>\n",
       "      <td>14.0</td>\n",
       "      <td>[181.0, 921.0, 213.0, 525.0, 50.0, 509.0, 172....</td>\n",
       "      <td>[99, 126, 203, 256, 55, 193, 257, 6, 172, 0, 2...</td>\n",
       "      <td>0.1</td>\n",
       "      <td>0.011111</td>\n",
       "      <td>0.9</td>\n",
       "    </tr>\n",
       "    <tr>\n",
       "      <th>3</th>\n",
       "      <td>23.0</td>\n",
       "      <td>[257.0]</td>\n",
       "      <td>[49, 180, 94, 587, 182, 0, 81, 422, 221, 431, ...</td>\n",
       "      <td>0.0</td>\n",
       "      <td>0.000000</td>\n",
       "      <td>0.0</td>\n",
       "    </tr>\n",
       "    <tr>\n",
       "      <th>4</th>\n",
       "      <td>43.0</td>\n",
       "      <td>[316.0, 354.0, 124.0, 1052.0]</td>\n",
       "      <td>[180, 171, 0, 94, 422, 256, 116, 150, 99, 384,...</td>\n",
       "      <td>0.0</td>\n",
       "      <td>0.000000</td>\n",
       "      <td>0.0</td>\n",
       "    </tr>\n",
       "    <tr>\n",
       "      <th>...</th>\n",
       "      <td>...</td>\n",
       "      <td>...</td>\n",
       "      <td>...</td>\n",
       "      <td>...</td>\n",
       "      <td>...</td>\n",
       "      <td>...</td>\n",
       "    </tr>\n",
       "    <tr>\n",
       "      <th>123</th>\n",
       "      <td>894.0</td>\n",
       "      <td>[903.0, 316.0, 1592.0, 904.0, 752.0, 1313.0, 6...</td>\n",
       "      <td>[301, 99, 274, 49, 267, 128, 180, 123, 282, 6,...</td>\n",
       "      <td>0.0</td>\n",
       "      <td>0.000000</td>\n",
       "      <td>0.0</td>\n",
       "    </tr>\n",
       "    <tr>\n",
       "      <th>124</th>\n",
       "      <td>913.0</td>\n",
       "      <td>[258.0]</td>\n",
       "      <td>[49, 182, 194, 94, 134, 422, 70, 126, 587, 0, ...</td>\n",
       "      <td>0.0</td>\n",
       "      <td>0.000000</td>\n",
       "      <td>0.0</td>\n",
       "    </tr>\n",
       "    <tr>\n",
       "      <th>125</th>\n",
       "      <td>924.0</td>\n",
       "      <td>[275.0, 237.0, 129.0, 1149.0, 273.0, 408.0, 27...</td>\n",
       "      <td>[49, 180, 171, 99, 175, 194, 126, 95, 227, 21,...</td>\n",
       "      <td>0.0</td>\n",
       "      <td>0.000000</td>\n",
       "      <td>0.0</td>\n",
       "    </tr>\n",
       "    <tr>\n",
       "      <th>126</th>\n",
       "      <td>940.0</td>\n",
       "      <td>[354.0, 316.0, 873.0, 879.0, 355.0]</td>\n",
       "      <td>[49, 180, 175, 99, 182, 203, 257, 6, 185, 327,...</td>\n",
       "      <td>0.0</td>\n",
       "      <td>0.000000</td>\n",
       "      <td>0.0</td>\n",
       "    </tr>\n",
       "    <tr>\n",
       "      <th>127</th>\n",
       "      <td>943.0</td>\n",
       "      <td>[69.0, 233.0, 187.0, 196.0, 194.0, 184.0, 56.0...</td>\n",
       "      <td>[49, 180, 126, 256, 116, 171, 99, 120, 221, 40...</td>\n",
       "      <td>0.0</td>\n",
       "      <td>0.000000</td>\n",
       "      <td>0.0</td>\n",
       "    </tr>\n",
       "  </tbody>\n",
       "</table>\n",
       "<p>128 rows × 6 columns</p>\n",
       "</div>"
      ],
      "text/plain": [
       "     user_id                                             actual  \\\n",
       "0        1.0  [270.0, 32.0, 242.0, 111.0, 171.0, 209.0, 256....   \n",
       "1       13.0  [900.0, 909.0, 915.0, 896.0, 691.0, 694.0, 917...   \n",
       "2       14.0  [181.0, 921.0, 213.0, 525.0, 50.0, 509.0, 172....   \n",
       "3       23.0                                            [257.0]   \n",
       "4       43.0                      [316.0, 354.0, 124.0, 1052.0]   \n",
       "..       ...                                                ...   \n",
       "123    894.0  [903.0, 316.0, 1592.0, 904.0, 752.0, 1313.0, 6...   \n",
       "124    913.0                                            [258.0]   \n",
       "125    924.0  [275.0, 237.0, 129.0, 1149.0, 273.0, 408.0, 27...   \n",
       "126    940.0                [354.0, 316.0, 873.0, 879.0, 355.0]   \n",
       "127    943.0  [69.0, 233.0, 187.0, 196.0, 194.0, 184.0, 56.0...   \n",
       "\n",
       "                                           predictions  precission      ap@k  \\\n",
       "0    [171, 256, 384, 402, 652, 209, 0, 482, 567, 43...         0.3  0.250000   \n",
       "1    [171, 126, 422, 134, 0, 131, 186, 587, 81, 3, ...         0.1  0.014286   \n",
       "2    [99, 126, 203, 256, 55, 193, 257, 6, 172, 0, 2...         0.1  0.011111   \n",
       "3    [49, 180, 94, 587, 182, 0, 81, 422, 221, 431, ...         0.0  0.000000   \n",
       "4    [180, 171, 0, 94, 422, 256, 116, 150, 99, 384,...         0.0  0.000000   \n",
       "..                                                 ...         ...       ...   \n",
       "123  [301, 99, 274, 49, 267, 128, 180, 123, 282, 6,...         0.0  0.000000   \n",
       "124  [49, 182, 194, 94, 134, 422, 70, 126, 587, 0, ...         0.0  0.000000   \n",
       "125  [49, 180, 171, 99, 175, 194, 126, 95, 227, 21,...         0.0  0.000000   \n",
       "126  [49, 180, 175, 99, 182, 203, 257, 6, 185, 327,...         0.0  0.000000   \n",
       "127  [49, 180, 126, 256, 116, 171, 99, 120, 221, 40...         0.0  0.000000   \n",
       "\n",
       "      PR  \n",
       "0    0.9  \n",
       "1    0.7  \n",
       "2    0.9  \n",
       "3    0.0  \n",
       "4    0.0  \n",
       "..   ...  \n",
       "123  0.0  \n",
       "124  0.0  \n",
       "125  0.0  \n",
       "126  0.0  \n",
       "127  0.0  \n",
       "\n",
       "[128 rows x 6 columns]"
      ]
     },
     "execution_count": 421,
     "metadata": {},
     "output_type": "execute_result"
    }
   ],
   "source": [
    "Tenzor_preds "
   ]
  },
  {
   "cell_type": "code",
   "execution_count": 422,
   "metadata": {},
   "outputs": [],
   "source": [
    "MP = Tenzor_preds['precission'].mean()\n",
    "MAPAK = Tenzor_preds['ap@k'].mean()\n",
    "MPR = Tenzor_preds['PR'].mean()"
   ]
  },
  {
   "cell_type": "code",
   "execution_count": 423,
   "metadata": {},
   "outputs": [
    {
     "data": {
      "text/plain": [
       "0.02514880952380953"
      ]
     },
     "execution_count": 423,
     "metadata": {},
     "output_type": "execute_result"
    }
   ],
   "source": [
    "MP"
   ]
  },
  {
   "cell_type": "code",
   "execution_count": 424,
   "metadata": {},
   "outputs": [
    {
     "data": {
      "text/plain": [
       "0.02476500496031745"
      ]
     },
     "execution_count": 424,
     "metadata": {},
     "output_type": "execute_result"
    }
   ],
   "source": [
    "MAPAK"
   ]
  },
  {
   "cell_type": "code",
   "execution_count": 425,
   "metadata": {},
   "outputs": [
    {
     "data": {
      "text/plain": [
       "0.12499999999999999"
      ]
     },
     "execution_count": 425,
     "metadata": {},
     "output_type": "execute_result"
    }
   ],
   "source": [
    "MPR"
   ]
  },
  {
   "cell_type": "markdown",
   "metadata": {},
   "source": [
    "#### Метрики Tenzor Recommender\n",
    "- mean precission - 0,025\n",
    "- mean average precisiion at k - 0,025\n",
    "- mean percantage rank - 0,124"
   ]
  },
  {
   "cell_type": "markdown",
   "metadata": {},
   "source": [
    "# Выводы\n",
    "- Было реализовано три типа рекомендательной системы:Most Popular Recommender,Matrix Recommender,Tensor Recommender\n",
    "- Лучшие результаты по всем тремя метрикам показал Most Popular Recommender.\n",
    "- Использование рекомендательных систем на основе тензорной факторизации и матричной факторизации может быть обосновано в том случае если требуется получить представление о предполагаемых вкусах пользователя (user and item vector). Используя данные представления можно использовать либо user-based model либо item-based model подходы при построении рекомендаций\n",
    "- Использование тензорной факторизации позволяет получить дополнительнные признаковые пространства,  которые могут лучше характеризовать нашего пользователя .\n",
    "- Выбор типа системы зависит от решаемых задач и не может быть обусловлен только показателями метрик."
   ]
  }
 ],
 "metadata": {
  "colab": {
   "collapsed_sections": [],
   "name": "Movie Lens 100K.ipynb",
   "provenance": []
  },
  "kernelspec": {
   "display_name": "Python 3",
   "language": "python",
   "name": "python3"
  },
  "language_info": {
   "codemirror_mode": {
    "name": "ipython",
    "version": 3
   },
   "file_extension": ".py",
   "mimetype": "text/x-python",
   "name": "python",
   "nbconvert_exporter": "python",
   "pygments_lexer": "ipython3",
   "version": "3.7.0"
  }
 },
 "nbformat": 4,
 "nbformat_minor": 1
}
